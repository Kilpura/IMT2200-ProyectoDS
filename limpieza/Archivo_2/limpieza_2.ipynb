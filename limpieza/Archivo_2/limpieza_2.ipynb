{
 "cells": [
  {
   "cell_type": "code",
   "execution_count": 60,
   "id": "0985d437",
   "metadata": {},
   "outputs": [],
   "source": [
    "import pandas as pd\n",
    "import os\n",
    "import matplotlib.pyplot as plt\n",
    "import seaborn as sns\n",
    "import numpy as np\n",
    "import plotly.express as px\n",
    "import plotly.graph_objects as go\n",
    "from plotly.subplots import make_subplots"
   ]
  },
  {
   "cell_type": "code",
   "execution_count": 61,
   "id": "baa909eb",
   "metadata": {},
   "outputs": [],
   "source": [
    "\n",
    "def abrir_csv(path, **kwargs):\n",
    "    '''\n",
    "    Args:\n",
    "        path (str): Path relativo al archivo csv\n",
    "    Returns:\n",
    "        DataFrame\n",
    "    '''\n",
    "    df = pd.read_csv(path)\n",
    "    return df\n",
    "\n",
    "\n",
    "def guardar_en_csv(df_filtrado, nombre_archivo):\n",
    "    '''\n",
    "    Args:\n",
    "        df_filtrado: DataFrame con las columnas filtradas\n",
    "        nombre_archivo (str): nombre del archivo de salida en csv\n",
    "    '''\n",
    "\n",
    "    df_filtrado.to_csv(nombre_archivo, index=False)\n",
    "\n"
   ]
  },
  {
   "cell_type": "code",
   "execution_count": 62,
   "id": "b3d729b4",
   "metadata": {},
   "outputs": [
    {
     "data": {
      "application/vnd.microsoft.datawrangler.viewer.v0+json": {
       "columns": [
        {
         "name": "index",
         "rawType": "int64",
         "type": "integer"
        },
        {
         "name": "Employee_ID",
         "rawType": "int64",
         "type": "integer"
        },
        {
         "name": "Name",
         "rawType": "object",
         "type": "string"
        },
        {
         "name": "Age",
         "rawType": "int64",
         "type": "integer"
        },
        {
         "name": "Gender",
         "rawType": "object",
         "type": "string"
        },
        {
         "name": "Country",
         "rawType": "object",
         "type": "string"
        },
        {
         "name": "Job_Role",
         "rawType": "object",
         "type": "string"
        },
        {
         "name": "Experience_Years",
         "rawType": "float64",
         "type": "float"
        },
        {
         "name": "Work_Mode",
         "rawType": "object",
         "type": "string"
        },
        {
         "name": "Hours_Worked_Per_Week",
         "rawType": "float64",
         "type": "float"
        },
        {
         "name": "Productivity_Score",
         "rawType": "float64",
         "type": "float"
        },
        {
         "name": "Mental_Health_Status",
         "rawType": "object",
         "type": "string"
        },
        {
         "name": "Burnout_Score",
         "rawType": "int64",
         "type": "integer"
        },
        {
         "name": "Sleep_Hours_Per_Day",
         "rawType": "float64",
         "type": "float"
        },
        {
         "name": "Exercise_Frequency",
         "rawType": "object",
         "type": "string"
        },
        {
         "name": "Work_Life_Balance_Rating",
         "rawType": "float64",
         "type": "float"
        },
        {
         "name": "Has_Access_To_Therapist",
         "rawType": "bool",
         "type": "boolean"
        },
        {
         "name": "Willing_To_Return_Onsite",
         "rawType": "bool",
         "type": "boolean"
        },
        {
         "name": "Remote_Setup_Satisfaction",
         "rawType": "float64",
         "type": "float"
        },
        {
         "name": "Internet_Issues_Frequency",
         "rawType": "object",
         "type": "string"
        },
        {
         "name": "Team_Communication_Effectiveness",
         "rawType": "float64",
         "type": "float"
        }
       ],
       "ref": "b0bf6bf2-1002-41eb-8237-3559b8234bb2",
       "rows": [
        [
         "0",
         "1",
         "User_1",
         "28",
         "Female",
         "Canada",
         "QA Engineer",
         "5.4",
         "Onsite",
         "45.4",
         "6.6",
         "Poor",
         "44",
         "5.7",
         "Rarely",
         "7.5",
         "True",
         "False",
         "9.9",
         "Sometimes",
         "7.7"
        ],
        [
         "1",
         "2",
         "User_2",
         "41",
         "Prefer not to say",
         "Australia",
         "DevOps Engineer",
         "10.5",
         "Remote",
         "40.4",
         "8.4",
         "Good",
         "58",
         "5.1",
         "Daily",
         "8.6",
         "False",
         "True",
         "2.5",
         "Often",
         "9.0"
        ],
        [
         "2",
         "3",
         "User_3",
         "36",
         "Male",
         "Germany",
         "UI/UX Designer",
         "11.9",
         "Hybrid",
         "43.6",
         "6.6",
         "Good",
         "78",
         "6.1",
         "Never",
         "6.2",
         "False",
         "False",
         "9.1",
         "Often",
         "7.7"
        ],
        [
         "3",
         "4",
         "User_4",
         "32",
         "Prefer not to say",
         "Germany",
         "Product Manager",
         "15.6",
         "Hybrid",
         "41.3",
         "9.0",
         "Moderate",
         "71",
         "5.4",
         "Rarely",
         "8.5",
         "True",
         "True",
         "6.1",
         "Sometimes",
         "8.4"
        ],
        [
         "4",
         "5",
         "User_5",
         "29",
         "Male",
         "UK",
         "DevOps Engineer",
         "1.8",
         "Hybrid",
         "42.5",
         "6.9",
         "Poor",
         "69",
         "7.1",
         "Never",
         "6.0",
         "True",
         "True",
         "9.3",
         "Never",
         "4.7"
        ],
        [
         "5",
         "6",
         "User_6",
         "42",
         "Female",
         "Brazil",
         "QA Engineer",
         "19.9",
         "Remote",
         "45.0",
         "6.9",
         "Poor",
         "59",
         "8.6",
         "2-3x/Week",
         "2.5",
         "False",
         "False",
         "6.6",
         "Never",
         "8.5"
        ],
        [
         "6",
         "7",
         "User_7",
         "28",
         "Non-binary",
         "India",
         "QA Engineer",
         "9.9",
         "Hybrid",
         "37.9",
         "9.1",
         "Moderate",
         "87",
         "4.7",
         "Rarely",
         "5.2",
         "True",
         "False",
         "7.3",
         "Never",
         "2.6"
        ],
        [
         "7",
         "8",
         "User_8",
         "47",
         "Male",
         "India",
         "DevOps Engineer",
         "6.3",
         "Hybrid",
         "52.5",
         "5.8",
         "Moderate",
         "84",
         "4.5",
         "Never",
         "6.0",
         "True",
         "True",
         "6.4",
         "Never",
         "9.2"
        ],
        [
         "8",
         "9",
         "User_9",
         "40",
         "Prefer not to say",
         "Canada",
         "QA Engineer",
         "17.8",
         "Remote",
         "37.0",
         "3.9",
         "Poor",
         "18",
         "5.3",
         "Never",
         "7.8",
         "False",
         "False",
         "8.9",
         "Often",
         "6.4"
        ],
        [
         "9",
         "10",
         "User_10",
         "44",
         "Female",
         "UK",
         "DevOps Engineer",
         "15.2",
         "Onsite",
         "35.9",
         "3.2",
         "Good",
         "43",
         "7.6",
         "2-3x/Week",
         "2.9",
         "True",
         "False",
         "7.9",
         "Often",
         "8.5"
        ],
        [
         "10",
         "11",
         "User_11",
         "32",
         "Male",
         "USA",
         "Data Scientist",
         "19.1",
         "Remote",
         "47.8",
         "8.3",
         "Poor",
         "85",
         "7.0",
         "Never",
         "3.1",
         "False",
         "True",
         "6.2",
         "Sometimes",
         "5.6"
        ],
        [
         "11",
         "12",
         "User_12",
         "32",
         "Prefer not to say",
         "Canada",
         "DevOps Engineer",
         "7.3",
         "Hybrid",
         "46.0",
         "7.3",
         "Moderate",
         "44",
         "4.5",
         "Never",
         "4.1",
         "True",
         "True",
         "8.9",
         "Sometimes",
         "7.1"
        ],
        [
         "12",
         "13",
         "User_13",
         "45",
         "Prefer not to say",
         "UK",
         "DevOps Engineer",
         "11.5",
         "Hybrid",
         "45.1",
         "7.9",
         "Good",
         "10",
         "8.6",
         "2-3x/Week",
         "4.1",
         "False",
         "False",
         "4.0",
         "Often",
         "6.2"
        ],
        [
         "13",
         "14",
         "User_14",
         "42",
         "Prefer not to say",
         "Brazil",
         "QA Engineer",
         "11.9",
         "Remote",
         "45.1",
         "4.5",
         "Good",
         "49",
         "8.0",
         "Rarely",
         "7.9",
         "True",
         "True",
         "3.3",
         "Often",
         "7.9"
        ],
        [
         "14",
         "15",
         "User_15",
         "25",
         "Male",
         "Brazil",
         "QA Engineer",
         "19.6",
         "Onsite",
         "41.9",
         "4.0",
         "Moderate",
         "73",
         "4.1",
         "Never",
         "4.0",
         "True",
         "True",
         "3.3",
         "Never",
         "2.7"
        ],
        [
         "15",
         "16",
         "User_16",
         "29",
         "Male",
         "Brazil",
         "Developer",
         "2.4",
         "Hybrid",
         "37.5",
         "3.1",
         "Moderate",
         "31",
         "7.3",
         "Never",
         "7.1",
         "False",
         "True",
         "4.7",
         "Never",
         "2.5"
        ],
        [
         "16",
         "17",
         "User_17",
         "45",
         "Male",
         "Brazil",
         "Developer",
         "6.8",
         "Hybrid",
         "42.4",
         "5.5",
         "Moderate",
         "69",
         "7.9",
         "Never",
         "6.0",
         "True",
         "False",
         "3.9",
         "Sometimes",
         "4.0"
        ],
        [
         "17",
         "18",
         "User_18",
         "24",
         "Non-binary",
         "Brazil",
         "Data Scientist",
         "4.6",
         "Hybrid",
         "38.6",
         "7.1",
         "Poor",
         "73",
         "5.9",
         "Daily",
         "6.6",
         "False",
         "False",
         "9.4",
         "Often",
         "3.3"
        ],
        [
         "18",
         "19",
         "User_19",
         "43",
         "Male",
         "UK",
         "Developer",
         "6.1",
         "Remote",
         "46.9",
         "5.7",
         "Poor",
         "81",
         "4.3",
         "2-3x/Week",
         "8.7",
         "True",
         "True",
         "2.8",
         "Sometimes",
         "9.0"
        ],
        [
         "19",
         "20",
         "User_20",
         "42",
         "Male",
         "UK",
         "DevOps Engineer",
         "10.2",
         "Hybrid",
         "41.3",
         "6.1",
         "Good",
         "20",
         "4.4",
         "Daily",
         "5.2",
         "False",
         "False",
         "7.6",
         "Often",
         "3.8"
        ]
       ],
       "shape": {
        "columns": 20,
        "rows": 20
       }
      },
      "text/html": [
       "<div>\n",
       "<style scoped>\n",
       "    .dataframe tbody tr th:only-of-type {\n",
       "        vertical-align: middle;\n",
       "    }\n",
       "\n",
       "    .dataframe tbody tr th {\n",
       "        vertical-align: top;\n",
       "    }\n",
       "\n",
       "    .dataframe thead th {\n",
       "        text-align: right;\n",
       "    }\n",
       "</style>\n",
       "<table border=\"1\" class=\"dataframe\">\n",
       "  <thead>\n",
       "    <tr style=\"text-align: right;\">\n",
       "      <th></th>\n",
       "      <th>Employee_ID</th>\n",
       "      <th>Name</th>\n",
       "      <th>Age</th>\n",
       "      <th>Gender</th>\n",
       "      <th>Country</th>\n",
       "      <th>Job_Role</th>\n",
       "      <th>Experience_Years</th>\n",
       "      <th>Work_Mode</th>\n",
       "      <th>Hours_Worked_Per_Week</th>\n",
       "      <th>Productivity_Score</th>\n",
       "      <th>Mental_Health_Status</th>\n",
       "      <th>Burnout_Score</th>\n",
       "      <th>Sleep_Hours_Per_Day</th>\n",
       "      <th>Exercise_Frequency</th>\n",
       "      <th>Work_Life_Balance_Rating</th>\n",
       "      <th>Has_Access_To_Therapist</th>\n",
       "      <th>Willing_To_Return_Onsite</th>\n",
       "      <th>Remote_Setup_Satisfaction</th>\n",
       "      <th>Internet_Issues_Frequency</th>\n",
       "      <th>Team_Communication_Effectiveness</th>\n",
       "    </tr>\n",
       "  </thead>\n",
       "  <tbody>\n",
       "    <tr>\n",
       "      <th>0</th>\n",
       "      <td>1</td>\n",
       "      <td>User_1</td>\n",
       "      <td>28</td>\n",
       "      <td>Female</td>\n",
       "      <td>Canada</td>\n",
       "      <td>QA Engineer</td>\n",
       "      <td>5.4</td>\n",
       "      <td>Onsite</td>\n",
       "      <td>45.4</td>\n",
       "      <td>6.6</td>\n",
       "      <td>Poor</td>\n",
       "      <td>44</td>\n",
       "      <td>5.7</td>\n",
       "      <td>Rarely</td>\n",
       "      <td>7.5</td>\n",
       "      <td>True</td>\n",
       "      <td>False</td>\n",
       "      <td>9.9</td>\n",
       "      <td>Sometimes</td>\n",
       "      <td>7.7</td>\n",
       "    </tr>\n",
       "    <tr>\n",
       "      <th>1</th>\n",
       "      <td>2</td>\n",
       "      <td>User_2</td>\n",
       "      <td>41</td>\n",
       "      <td>Prefer not to say</td>\n",
       "      <td>Australia</td>\n",
       "      <td>DevOps Engineer</td>\n",
       "      <td>10.5</td>\n",
       "      <td>Remote</td>\n",
       "      <td>40.4</td>\n",
       "      <td>8.4</td>\n",
       "      <td>Good</td>\n",
       "      <td>58</td>\n",
       "      <td>5.1</td>\n",
       "      <td>Daily</td>\n",
       "      <td>8.6</td>\n",
       "      <td>False</td>\n",
       "      <td>True</td>\n",
       "      <td>2.5</td>\n",
       "      <td>Often</td>\n",
       "      <td>9.0</td>\n",
       "    </tr>\n",
       "    <tr>\n",
       "      <th>2</th>\n",
       "      <td>3</td>\n",
       "      <td>User_3</td>\n",
       "      <td>36</td>\n",
       "      <td>Male</td>\n",
       "      <td>Germany</td>\n",
       "      <td>UI/UX Designer</td>\n",
       "      <td>11.9</td>\n",
       "      <td>Hybrid</td>\n",
       "      <td>43.6</td>\n",
       "      <td>6.6</td>\n",
       "      <td>Good</td>\n",
       "      <td>78</td>\n",
       "      <td>6.1</td>\n",
       "      <td>Never</td>\n",
       "      <td>6.2</td>\n",
       "      <td>False</td>\n",
       "      <td>False</td>\n",
       "      <td>9.1</td>\n",
       "      <td>Often</td>\n",
       "      <td>7.7</td>\n",
       "    </tr>\n",
       "    <tr>\n",
       "      <th>3</th>\n",
       "      <td>4</td>\n",
       "      <td>User_4</td>\n",
       "      <td>32</td>\n",
       "      <td>Prefer not to say</td>\n",
       "      <td>Germany</td>\n",
       "      <td>Product Manager</td>\n",
       "      <td>15.6</td>\n",
       "      <td>Hybrid</td>\n",
       "      <td>41.3</td>\n",
       "      <td>9.0</td>\n",
       "      <td>Moderate</td>\n",
       "      <td>71</td>\n",
       "      <td>5.4</td>\n",
       "      <td>Rarely</td>\n",
       "      <td>8.5</td>\n",
       "      <td>True</td>\n",
       "      <td>True</td>\n",
       "      <td>6.1</td>\n",
       "      <td>Sometimes</td>\n",
       "      <td>8.4</td>\n",
       "    </tr>\n",
       "    <tr>\n",
       "      <th>4</th>\n",
       "      <td>5</td>\n",
       "      <td>User_5</td>\n",
       "      <td>29</td>\n",
       "      <td>Male</td>\n",
       "      <td>UK</td>\n",
       "      <td>DevOps Engineer</td>\n",
       "      <td>1.8</td>\n",
       "      <td>Hybrid</td>\n",
       "      <td>42.5</td>\n",
       "      <td>6.9</td>\n",
       "      <td>Poor</td>\n",
       "      <td>69</td>\n",
       "      <td>7.1</td>\n",
       "      <td>Never</td>\n",
       "      <td>6.0</td>\n",
       "      <td>True</td>\n",
       "      <td>True</td>\n",
       "      <td>9.3</td>\n",
       "      <td>Never</td>\n",
       "      <td>4.7</td>\n",
       "    </tr>\n",
       "    <tr>\n",
       "      <th>5</th>\n",
       "      <td>6</td>\n",
       "      <td>User_6</td>\n",
       "      <td>42</td>\n",
       "      <td>Female</td>\n",
       "      <td>Brazil</td>\n",
       "      <td>QA Engineer</td>\n",
       "      <td>19.9</td>\n",
       "      <td>Remote</td>\n",
       "      <td>45.0</td>\n",
       "      <td>6.9</td>\n",
       "      <td>Poor</td>\n",
       "      <td>59</td>\n",
       "      <td>8.6</td>\n",
       "      <td>2-3x/Week</td>\n",
       "      <td>2.5</td>\n",
       "      <td>False</td>\n",
       "      <td>False</td>\n",
       "      <td>6.6</td>\n",
       "      <td>Never</td>\n",
       "      <td>8.5</td>\n",
       "    </tr>\n",
       "    <tr>\n",
       "      <th>6</th>\n",
       "      <td>7</td>\n",
       "      <td>User_7</td>\n",
       "      <td>28</td>\n",
       "      <td>Non-binary</td>\n",
       "      <td>India</td>\n",
       "      <td>QA Engineer</td>\n",
       "      <td>9.9</td>\n",
       "      <td>Hybrid</td>\n",
       "      <td>37.9</td>\n",
       "      <td>9.1</td>\n",
       "      <td>Moderate</td>\n",
       "      <td>87</td>\n",
       "      <td>4.7</td>\n",
       "      <td>Rarely</td>\n",
       "      <td>5.2</td>\n",
       "      <td>True</td>\n",
       "      <td>False</td>\n",
       "      <td>7.3</td>\n",
       "      <td>Never</td>\n",
       "      <td>2.6</td>\n",
       "    </tr>\n",
       "    <tr>\n",
       "      <th>7</th>\n",
       "      <td>8</td>\n",
       "      <td>User_8</td>\n",
       "      <td>47</td>\n",
       "      <td>Male</td>\n",
       "      <td>India</td>\n",
       "      <td>DevOps Engineer</td>\n",
       "      <td>6.3</td>\n",
       "      <td>Hybrid</td>\n",
       "      <td>52.5</td>\n",
       "      <td>5.8</td>\n",
       "      <td>Moderate</td>\n",
       "      <td>84</td>\n",
       "      <td>4.5</td>\n",
       "      <td>Never</td>\n",
       "      <td>6.0</td>\n",
       "      <td>True</td>\n",
       "      <td>True</td>\n",
       "      <td>6.4</td>\n",
       "      <td>Never</td>\n",
       "      <td>9.2</td>\n",
       "    </tr>\n",
       "    <tr>\n",
       "      <th>8</th>\n",
       "      <td>9</td>\n",
       "      <td>User_9</td>\n",
       "      <td>40</td>\n",
       "      <td>Prefer not to say</td>\n",
       "      <td>Canada</td>\n",
       "      <td>QA Engineer</td>\n",
       "      <td>17.8</td>\n",
       "      <td>Remote</td>\n",
       "      <td>37.0</td>\n",
       "      <td>3.9</td>\n",
       "      <td>Poor</td>\n",
       "      <td>18</td>\n",
       "      <td>5.3</td>\n",
       "      <td>Never</td>\n",
       "      <td>7.8</td>\n",
       "      <td>False</td>\n",
       "      <td>False</td>\n",
       "      <td>8.9</td>\n",
       "      <td>Often</td>\n",
       "      <td>6.4</td>\n",
       "    </tr>\n",
       "    <tr>\n",
       "      <th>9</th>\n",
       "      <td>10</td>\n",
       "      <td>User_10</td>\n",
       "      <td>44</td>\n",
       "      <td>Female</td>\n",
       "      <td>UK</td>\n",
       "      <td>DevOps Engineer</td>\n",
       "      <td>15.2</td>\n",
       "      <td>Onsite</td>\n",
       "      <td>35.9</td>\n",
       "      <td>3.2</td>\n",
       "      <td>Good</td>\n",
       "      <td>43</td>\n",
       "      <td>7.6</td>\n",
       "      <td>2-3x/Week</td>\n",
       "      <td>2.9</td>\n",
       "      <td>True</td>\n",
       "      <td>False</td>\n",
       "      <td>7.9</td>\n",
       "      <td>Often</td>\n",
       "      <td>8.5</td>\n",
       "    </tr>\n",
       "    <tr>\n",
       "      <th>10</th>\n",
       "      <td>11</td>\n",
       "      <td>User_11</td>\n",
       "      <td>32</td>\n",
       "      <td>Male</td>\n",
       "      <td>USA</td>\n",
       "      <td>Data Scientist</td>\n",
       "      <td>19.1</td>\n",
       "      <td>Remote</td>\n",
       "      <td>47.8</td>\n",
       "      <td>8.3</td>\n",
       "      <td>Poor</td>\n",
       "      <td>85</td>\n",
       "      <td>7.0</td>\n",
       "      <td>Never</td>\n",
       "      <td>3.1</td>\n",
       "      <td>False</td>\n",
       "      <td>True</td>\n",
       "      <td>6.2</td>\n",
       "      <td>Sometimes</td>\n",
       "      <td>5.6</td>\n",
       "    </tr>\n",
       "    <tr>\n",
       "      <th>11</th>\n",
       "      <td>12</td>\n",
       "      <td>User_12</td>\n",
       "      <td>32</td>\n",
       "      <td>Prefer not to say</td>\n",
       "      <td>Canada</td>\n",
       "      <td>DevOps Engineer</td>\n",
       "      <td>7.3</td>\n",
       "      <td>Hybrid</td>\n",
       "      <td>46.0</td>\n",
       "      <td>7.3</td>\n",
       "      <td>Moderate</td>\n",
       "      <td>44</td>\n",
       "      <td>4.5</td>\n",
       "      <td>Never</td>\n",
       "      <td>4.1</td>\n",
       "      <td>True</td>\n",
       "      <td>True</td>\n",
       "      <td>8.9</td>\n",
       "      <td>Sometimes</td>\n",
       "      <td>7.1</td>\n",
       "    </tr>\n",
       "    <tr>\n",
       "      <th>12</th>\n",
       "      <td>13</td>\n",
       "      <td>User_13</td>\n",
       "      <td>45</td>\n",
       "      <td>Prefer not to say</td>\n",
       "      <td>UK</td>\n",
       "      <td>DevOps Engineer</td>\n",
       "      <td>11.5</td>\n",
       "      <td>Hybrid</td>\n",
       "      <td>45.1</td>\n",
       "      <td>7.9</td>\n",
       "      <td>Good</td>\n",
       "      <td>10</td>\n",
       "      <td>8.6</td>\n",
       "      <td>2-3x/Week</td>\n",
       "      <td>4.1</td>\n",
       "      <td>False</td>\n",
       "      <td>False</td>\n",
       "      <td>4.0</td>\n",
       "      <td>Often</td>\n",
       "      <td>6.2</td>\n",
       "    </tr>\n",
       "    <tr>\n",
       "      <th>13</th>\n",
       "      <td>14</td>\n",
       "      <td>User_14</td>\n",
       "      <td>42</td>\n",
       "      <td>Prefer not to say</td>\n",
       "      <td>Brazil</td>\n",
       "      <td>QA Engineer</td>\n",
       "      <td>11.9</td>\n",
       "      <td>Remote</td>\n",
       "      <td>45.1</td>\n",
       "      <td>4.5</td>\n",
       "      <td>Good</td>\n",
       "      <td>49</td>\n",
       "      <td>8.0</td>\n",
       "      <td>Rarely</td>\n",
       "      <td>7.9</td>\n",
       "      <td>True</td>\n",
       "      <td>True</td>\n",
       "      <td>3.3</td>\n",
       "      <td>Often</td>\n",
       "      <td>7.9</td>\n",
       "    </tr>\n",
       "    <tr>\n",
       "      <th>14</th>\n",
       "      <td>15</td>\n",
       "      <td>User_15</td>\n",
       "      <td>25</td>\n",
       "      <td>Male</td>\n",
       "      <td>Brazil</td>\n",
       "      <td>QA Engineer</td>\n",
       "      <td>19.6</td>\n",
       "      <td>Onsite</td>\n",
       "      <td>41.9</td>\n",
       "      <td>4.0</td>\n",
       "      <td>Moderate</td>\n",
       "      <td>73</td>\n",
       "      <td>4.1</td>\n",
       "      <td>Never</td>\n",
       "      <td>4.0</td>\n",
       "      <td>True</td>\n",
       "      <td>True</td>\n",
       "      <td>3.3</td>\n",
       "      <td>Never</td>\n",
       "      <td>2.7</td>\n",
       "    </tr>\n",
       "    <tr>\n",
       "      <th>15</th>\n",
       "      <td>16</td>\n",
       "      <td>User_16</td>\n",
       "      <td>29</td>\n",
       "      <td>Male</td>\n",
       "      <td>Brazil</td>\n",
       "      <td>Developer</td>\n",
       "      <td>2.4</td>\n",
       "      <td>Hybrid</td>\n",
       "      <td>37.5</td>\n",
       "      <td>3.1</td>\n",
       "      <td>Moderate</td>\n",
       "      <td>31</td>\n",
       "      <td>7.3</td>\n",
       "      <td>Never</td>\n",
       "      <td>7.1</td>\n",
       "      <td>False</td>\n",
       "      <td>True</td>\n",
       "      <td>4.7</td>\n",
       "      <td>Never</td>\n",
       "      <td>2.5</td>\n",
       "    </tr>\n",
       "    <tr>\n",
       "      <th>16</th>\n",
       "      <td>17</td>\n",
       "      <td>User_17</td>\n",
       "      <td>45</td>\n",
       "      <td>Male</td>\n",
       "      <td>Brazil</td>\n",
       "      <td>Developer</td>\n",
       "      <td>6.8</td>\n",
       "      <td>Hybrid</td>\n",
       "      <td>42.4</td>\n",
       "      <td>5.5</td>\n",
       "      <td>Moderate</td>\n",
       "      <td>69</td>\n",
       "      <td>7.9</td>\n",
       "      <td>Never</td>\n",
       "      <td>6.0</td>\n",
       "      <td>True</td>\n",
       "      <td>False</td>\n",
       "      <td>3.9</td>\n",
       "      <td>Sometimes</td>\n",
       "      <td>4.0</td>\n",
       "    </tr>\n",
       "    <tr>\n",
       "      <th>17</th>\n",
       "      <td>18</td>\n",
       "      <td>User_18</td>\n",
       "      <td>24</td>\n",
       "      <td>Non-binary</td>\n",
       "      <td>Brazil</td>\n",
       "      <td>Data Scientist</td>\n",
       "      <td>4.6</td>\n",
       "      <td>Hybrid</td>\n",
       "      <td>38.6</td>\n",
       "      <td>7.1</td>\n",
       "      <td>Poor</td>\n",
       "      <td>73</td>\n",
       "      <td>5.9</td>\n",
       "      <td>Daily</td>\n",
       "      <td>6.6</td>\n",
       "      <td>False</td>\n",
       "      <td>False</td>\n",
       "      <td>9.4</td>\n",
       "      <td>Often</td>\n",
       "      <td>3.3</td>\n",
       "    </tr>\n",
       "    <tr>\n",
       "      <th>18</th>\n",
       "      <td>19</td>\n",
       "      <td>User_19</td>\n",
       "      <td>43</td>\n",
       "      <td>Male</td>\n",
       "      <td>UK</td>\n",
       "      <td>Developer</td>\n",
       "      <td>6.1</td>\n",
       "      <td>Remote</td>\n",
       "      <td>46.9</td>\n",
       "      <td>5.7</td>\n",
       "      <td>Poor</td>\n",
       "      <td>81</td>\n",
       "      <td>4.3</td>\n",
       "      <td>2-3x/Week</td>\n",
       "      <td>8.7</td>\n",
       "      <td>True</td>\n",
       "      <td>True</td>\n",
       "      <td>2.8</td>\n",
       "      <td>Sometimes</td>\n",
       "      <td>9.0</td>\n",
       "    </tr>\n",
       "    <tr>\n",
       "      <th>19</th>\n",
       "      <td>20</td>\n",
       "      <td>User_20</td>\n",
       "      <td>42</td>\n",
       "      <td>Male</td>\n",
       "      <td>UK</td>\n",
       "      <td>DevOps Engineer</td>\n",
       "      <td>10.2</td>\n",
       "      <td>Hybrid</td>\n",
       "      <td>41.3</td>\n",
       "      <td>6.1</td>\n",
       "      <td>Good</td>\n",
       "      <td>20</td>\n",
       "      <td>4.4</td>\n",
       "      <td>Daily</td>\n",
       "      <td>5.2</td>\n",
       "      <td>False</td>\n",
       "      <td>False</td>\n",
       "      <td>7.6</td>\n",
       "      <td>Often</td>\n",
       "      <td>3.8</td>\n",
       "    </tr>\n",
       "  </tbody>\n",
       "</table>\n",
       "</div>"
      ],
      "text/plain": [
       "    Employee_ID     Name  Age             Gender    Country         Job_Role  \\\n",
       "0             1   User_1   28             Female     Canada      QA Engineer   \n",
       "1             2   User_2   41  Prefer not to say  Australia  DevOps Engineer   \n",
       "2             3   User_3   36               Male    Germany   UI/UX Designer   \n",
       "3             4   User_4   32  Prefer not to say    Germany  Product Manager   \n",
       "4             5   User_5   29               Male         UK  DevOps Engineer   \n",
       "5             6   User_6   42             Female     Brazil      QA Engineer   \n",
       "6             7   User_7   28         Non-binary      India      QA Engineer   \n",
       "7             8   User_8   47               Male      India  DevOps Engineer   \n",
       "8             9   User_9   40  Prefer not to say     Canada      QA Engineer   \n",
       "9            10  User_10   44             Female         UK  DevOps Engineer   \n",
       "10           11  User_11   32               Male        USA   Data Scientist   \n",
       "11           12  User_12   32  Prefer not to say     Canada  DevOps Engineer   \n",
       "12           13  User_13   45  Prefer not to say         UK  DevOps Engineer   \n",
       "13           14  User_14   42  Prefer not to say     Brazil      QA Engineer   \n",
       "14           15  User_15   25               Male     Brazil      QA Engineer   \n",
       "15           16  User_16   29               Male     Brazil        Developer   \n",
       "16           17  User_17   45               Male     Brazil        Developer   \n",
       "17           18  User_18   24         Non-binary     Brazil   Data Scientist   \n",
       "18           19  User_19   43               Male         UK        Developer   \n",
       "19           20  User_20   42               Male         UK  DevOps Engineer   \n",
       "\n",
       "    Experience_Years Work_Mode  Hours_Worked_Per_Week  Productivity_Score  \\\n",
       "0                5.4    Onsite                   45.4                 6.6   \n",
       "1               10.5    Remote                   40.4                 8.4   \n",
       "2               11.9    Hybrid                   43.6                 6.6   \n",
       "3               15.6    Hybrid                   41.3                 9.0   \n",
       "4                1.8    Hybrid                   42.5                 6.9   \n",
       "5               19.9    Remote                   45.0                 6.9   \n",
       "6                9.9    Hybrid                   37.9                 9.1   \n",
       "7                6.3    Hybrid                   52.5                 5.8   \n",
       "8               17.8    Remote                   37.0                 3.9   \n",
       "9               15.2    Onsite                   35.9                 3.2   \n",
       "10              19.1    Remote                   47.8                 8.3   \n",
       "11               7.3    Hybrid                   46.0                 7.3   \n",
       "12              11.5    Hybrid                   45.1                 7.9   \n",
       "13              11.9    Remote                   45.1                 4.5   \n",
       "14              19.6    Onsite                   41.9                 4.0   \n",
       "15               2.4    Hybrid                   37.5                 3.1   \n",
       "16               6.8    Hybrid                   42.4                 5.5   \n",
       "17               4.6    Hybrid                   38.6                 7.1   \n",
       "18               6.1    Remote                   46.9                 5.7   \n",
       "19              10.2    Hybrid                   41.3                 6.1   \n",
       "\n",
       "   Mental_Health_Status  Burnout_Score  Sleep_Hours_Per_Day  \\\n",
       "0                  Poor             44                  5.7   \n",
       "1                  Good             58                  5.1   \n",
       "2                  Good             78                  6.1   \n",
       "3              Moderate             71                  5.4   \n",
       "4                  Poor             69                  7.1   \n",
       "5                  Poor             59                  8.6   \n",
       "6              Moderate             87                  4.7   \n",
       "7              Moderate             84                  4.5   \n",
       "8                  Poor             18                  5.3   \n",
       "9                  Good             43                  7.6   \n",
       "10                 Poor             85                  7.0   \n",
       "11             Moderate             44                  4.5   \n",
       "12                 Good             10                  8.6   \n",
       "13                 Good             49                  8.0   \n",
       "14             Moderate             73                  4.1   \n",
       "15             Moderate             31                  7.3   \n",
       "16             Moderate             69                  7.9   \n",
       "17                 Poor             73                  5.9   \n",
       "18                 Poor             81                  4.3   \n",
       "19                 Good             20                  4.4   \n",
       "\n",
       "   Exercise_Frequency  Work_Life_Balance_Rating  Has_Access_To_Therapist  \\\n",
       "0              Rarely                       7.5                     True   \n",
       "1               Daily                       8.6                    False   \n",
       "2               Never                       6.2                    False   \n",
       "3              Rarely                       8.5                     True   \n",
       "4               Never                       6.0                     True   \n",
       "5           2-3x/Week                       2.5                    False   \n",
       "6              Rarely                       5.2                     True   \n",
       "7               Never                       6.0                     True   \n",
       "8               Never                       7.8                    False   \n",
       "9           2-3x/Week                       2.9                     True   \n",
       "10              Never                       3.1                    False   \n",
       "11              Never                       4.1                     True   \n",
       "12          2-3x/Week                       4.1                    False   \n",
       "13             Rarely                       7.9                     True   \n",
       "14              Never                       4.0                     True   \n",
       "15              Never                       7.1                    False   \n",
       "16              Never                       6.0                     True   \n",
       "17              Daily                       6.6                    False   \n",
       "18          2-3x/Week                       8.7                     True   \n",
       "19              Daily                       5.2                    False   \n",
       "\n",
       "    Willing_To_Return_Onsite  Remote_Setup_Satisfaction  \\\n",
       "0                      False                        9.9   \n",
       "1                       True                        2.5   \n",
       "2                      False                        9.1   \n",
       "3                       True                        6.1   \n",
       "4                       True                        9.3   \n",
       "5                      False                        6.6   \n",
       "6                      False                        7.3   \n",
       "7                       True                        6.4   \n",
       "8                      False                        8.9   \n",
       "9                      False                        7.9   \n",
       "10                      True                        6.2   \n",
       "11                      True                        8.9   \n",
       "12                     False                        4.0   \n",
       "13                      True                        3.3   \n",
       "14                      True                        3.3   \n",
       "15                      True                        4.7   \n",
       "16                     False                        3.9   \n",
       "17                     False                        9.4   \n",
       "18                      True                        2.8   \n",
       "19                     False                        7.6   \n",
       "\n",
       "   Internet_Issues_Frequency  Team_Communication_Effectiveness  \n",
       "0                  Sometimes                               7.7  \n",
       "1                      Often                               9.0  \n",
       "2                      Often                               7.7  \n",
       "3                  Sometimes                               8.4  \n",
       "4                      Never                               4.7  \n",
       "5                      Never                               8.5  \n",
       "6                      Never                               2.6  \n",
       "7                      Never                               9.2  \n",
       "8                      Often                               6.4  \n",
       "9                      Often                               8.5  \n",
       "10                 Sometimes                               5.6  \n",
       "11                 Sometimes                               7.1  \n",
       "12                     Often                               6.2  \n",
       "13                     Often                               7.9  \n",
       "14                     Never                               2.7  \n",
       "15                     Never                               2.5  \n",
       "16                 Sometimes                               4.0  \n",
       "17                     Often                               3.3  \n",
       "18                 Sometimes                               9.0  \n",
       "19                     Often                               3.8  "
      ]
     },
     "execution_count": 62,
     "metadata": {},
     "output_type": "execute_result"
    }
   ],
   "source": [
    "# Proyecto\\IMT2200-ProyectoDS\\data\\mental_health_remote_workers.csv\n",
    "\n",
    "path = os.path.join('../..', 'data', 'mental_health_remote_workers.csv')\n",
    "df = abrir_csv(path)\n",
    "df.head(20)"
   ]
  },
  {
   "cell_type": "code",
   "execution_count": 63,
   "id": "8e850ce8",
   "metadata": {},
   "outputs": [
    {
     "data": {
      "text/plain": [
       "Index(['Employee_ID', 'Name', 'Age', 'Gender', 'Country', 'Job_Role',\n",
       "       'Experience_Years', 'Work_Mode', 'Hours_Worked_Per_Week',\n",
       "       'Productivity_Score', 'Mental_Health_Status', 'Burnout_Score',\n",
       "       'Sleep_Hours_Per_Day', 'Exercise_Frequency', 'Work_Life_Balance_Rating',\n",
       "       'Has_Access_To_Therapist', 'Willing_To_Return_Onsite',\n",
       "       'Remote_Setup_Satisfaction', 'Internet_Issues_Frequency',\n",
       "       'Team_Communication_Effectiveness'],\n",
       "      dtype='object')"
      ]
     },
     "execution_count": 63,
     "metadata": {},
     "output_type": "execute_result"
    }
   ],
   "source": [
    "df.columns"
   ]
  },
  {
   "cell_type": "code",
   "execution_count": 64,
   "id": "c1dae5f6",
   "metadata": {},
   "outputs": [
    {
     "data": {
      "application/vnd.microsoft.datawrangler.viewer.v0+json": {
       "columns": [
        {
         "name": "index",
         "rawType": "int64",
         "type": "integer"
        },
        {
         "name": "Employee_ID",
         "rawType": "int64",
         "type": "integer"
        },
        {
         "name": "Name",
         "rawType": "object",
         "type": "string"
        },
        {
         "name": "Age",
         "rawType": "int64",
         "type": "integer"
        },
        {
         "name": "Country",
         "rawType": "object",
         "type": "string"
        },
        {
         "name": "Experience_Years",
         "rawType": "float64",
         "type": "float"
        },
        {
         "name": "Work_Mode",
         "rawType": "object",
         "type": "string"
        },
        {
         "name": "Mental_Health_Status",
         "rawType": "object",
         "type": "string"
        },
        {
         "name": "Burnout_Score",
         "rawType": "int64",
         "type": "integer"
        },
        {
         "name": "Sleep_Hours_Per_Day",
         "rawType": "float64",
         "type": "float"
        },
        {
         "name": "Work_Life_Balance_Rating",
         "rawType": "float64",
         "type": "float"
        },
        {
         "name": "Has_Access_To_Therapist",
         "rawType": "bool",
         "type": "boolean"
        },
        {
         "name": "Willing_To_Return_Onsite",
         "rawType": "bool",
         "type": "boolean"
        }
       ],
       "ref": "a26ef8a2-120a-42c6-9ba4-d6386996cdb2",
       "rows": [
        [
         "0",
         "1",
         "User_1",
         "28",
         "Canada",
         "5.4",
         "Onsite",
         "Poor",
         "44",
         "5.7",
         "7.5",
         "True",
         "False"
        ],
        [
         "1",
         "2",
         "User_2",
         "41",
         "Australia",
         "10.5",
         "Remote",
         "Good",
         "58",
         "5.1",
         "8.6",
         "False",
         "True"
        ],
        [
         "2",
         "3",
         "User_3",
         "36",
         "Germany",
         "11.9",
         "Hybrid",
         "Good",
         "78",
         "6.1",
         "6.2",
         "False",
         "False"
        ],
        [
         "3",
         "4",
         "User_4",
         "32",
         "Germany",
         "15.6",
         "Hybrid",
         "Moderate",
         "71",
         "5.4",
         "8.5",
         "True",
         "True"
        ],
        [
         "4",
         "5",
         "User_5",
         "29",
         "UK",
         "1.8",
         "Hybrid",
         "Poor",
         "69",
         "7.1",
         "6.0",
         "True",
         "True"
        ],
        [
         "5",
         "6",
         "User_6",
         "42",
         "Brazil",
         "19.9",
         "Remote",
         "Poor",
         "59",
         "8.6",
         "2.5",
         "False",
         "False"
        ],
        [
         "6",
         "7",
         "User_7",
         "28",
         "India",
         "9.9",
         "Hybrid",
         "Moderate",
         "87",
         "4.7",
         "5.2",
         "True",
         "False"
        ],
        [
         "7",
         "8",
         "User_8",
         "47",
         "India",
         "6.3",
         "Hybrid",
         "Moderate",
         "84",
         "4.5",
         "6.0",
         "True",
         "True"
        ],
        [
         "8",
         "9",
         "User_9",
         "40",
         "Canada",
         "17.8",
         "Remote",
         "Poor",
         "18",
         "5.3",
         "7.8",
         "False",
         "False"
        ],
        [
         "9",
         "10",
         "User_10",
         "44",
         "UK",
         "15.2",
         "Onsite",
         "Good",
         "43",
         "7.6",
         "2.9",
         "True",
         "False"
        ],
        [
         "10",
         "11",
         "User_11",
         "32",
         "USA",
         "19.1",
         "Remote",
         "Poor",
         "85",
         "7.0",
         "3.1",
         "False",
         "True"
        ],
        [
         "11",
         "12",
         "User_12",
         "32",
         "Canada",
         "7.3",
         "Hybrid",
         "Moderate",
         "44",
         "4.5",
         "4.1",
         "True",
         "True"
        ],
        [
         "12",
         "13",
         "User_13",
         "45",
         "UK",
         "11.5",
         "Hybrid",
         "Good",
         "10",
         "8.6",
         "4.1",
         "False",
         "False"
        ],
        [
         "13",
         "14",
         "User_14",
         "42",
         "Brazil",
         "11.9",
         "Remote",
         "Good",
         "49",
         "8.0",
         "7.9",
         "True",
         "True"
        ],
        [
         "14",
         "15",
         "User_15",
         "25",
         "Brazil",
         "19.6",
         "Onsite",
         "Moderate",
         "73",
         "4.1",
         "4.0",
         "True",
         "True"
        ],
        [
         "15",
         "16",
         "User_16",
         "29",
         "Brazil",
         "2.4",
         "Hybrid",
         "Moderate",
         "31",
         "7.3",
         "7.1",
         "False",
         "True"
        ],
        [
         "16",
         "17",
         "User_17",
         "45",
         "Brazil",
         "6.8",
         "Hybrid",
         "Moderate",
         "69",
         "7.9",
         "6.0",
         "True",
         "False"
        ],
        [
         "17",
         "18",
         "User_18",
         "24",
         "Brazil",
         "4.6",
         "Hybrid",
         "Poor",
         "73",
         "5.9",
         "6.6",
         "False",
         "False"
        ],
        [
         "18",
         "19",
         "User_19",
         "43",
         "UK",
         "6.1",
         "Remote",
         "Poor",
         "81",
         "4.3",
         "8.7",
         "True",
         "True"
        ],
        [
         "19",
         "20",
         "User_20",
         "42",
         "UK",
         "10.2",
         "Hybrid",
         "Good",
         "20",
         "4.4",
         "5.2",
         "False",
         "False"
        ]
       ],
       "shape": {
        "columns": 12,
        "rows": 20
       }
      },
      "text/html": [
       "<div>\n",
       "<style scoped>\n",
       "    .dataframe tbody tr th:only-of-type {\n",
       "        vertical-align: middle;\n",
       "    }\n",
       "\n",
       "    .dataframe tbody tr th {\n",
       "        vertical-align: top;\n",
       "    }\n",
       "\n",
       "    .dataframe thead th {\n",
       "        text-align: right;\n",
       "    }\n",
       "</style>\n",
       "<table border=\"1\" class=\"dataframe\">\n",
       "  <thead>\n",
       "    <tr style=\"text-align: right;\">\n",
       "      <th></th>\n",
       "      <th>Employee_ID</th>\n",
       "      <th>Name</th>\n",
       "      <th>Age</th>\n",
       "      <th>Country</th>\n",
       "      <th>Experience_Years</th>\n",
       "      <th>Work_Mode</th>\n",
       "      <th>Mental_Health_Status</th>\n",
       "      <th>Burnout_Score</th>\n",
       "      <th>Sleep_Hours_Per_Day</th>\n",
       "      <th>Work_Life_Balance_Rating</th>\n",
       "      <th>Has_Access_To_Therapist</th>\n",
       "      <th>Willing_To_Return_Onsite</th>\n",
       "    </tr>\n",
       "  </thead>\n",
       "  <tbody>\n",
       "    <tr>\n",
       "      <th>0</th>\n",
       "      <td>1</td>\n",
       "      <td>User_1</td>\n",
       "      <td>28</td>\n",
       "      <td>Canada</td>\n",
       "      <td>5.4</td>\n",
       "      <td>Onsite</td>\n",
       "      <td>Poor</td>\n",
       "      <td>44</td>\n",
       "      <td>5.7</td>\n",
       "      <td>7.5</td>\n",
       "      <td>True</td>\n",
       "      <td>False</td>\n",
       "    </tr>\n",
       "    <tr>\n",
       "      <th>1</th>\n",
       "      <td>2</td>\n",
       "      <td>User_2</td>\n",
       "      <td>41</td>\n",
       "      <td>Australia</td>\n",
       "      <td>10.5</td>\n",
       "      <td>Remote</td>\n",
       "      <td>Good</td>\n",
       "      <td>58</td>\n",
       "      <td>5.1</td>\n",
       "      <td>8.6</td>\n",
       "      <td>False</td>\n",
       "      <td>True</td>\n",
       "    </tr>\n",
       "    <tr>\n",
       "      <th>2</th>\n",
       "      <td>3</td>\n",
       "      <td>User_3</td>\n",
       "      <td>36</td>\n",
       "      <td>Germany</td>\n",
       "      <td>11.9</td>\n",
       "      <td>Hybrid</td>\n",
       "      <td>Good</td>\n",
       "      <td>78</td>\n",
       "      <td>6.1</td>\n",
       "      <td>6.2</td>\n",
       "      <td>False</td>\n",
       "      <td>False</td>\n",
       "    </tr>\n",
       "    <tr>\n",
       "      <th>3</th>\n",
       "      <td>4</td>\n",
       "      <td>User_4</td>\n",
       "      <td>32</td>\n",
       "      <td>Germany</td>\n",
       "      <td>15.6</td>\n",
       "      <td>Hybrid</td>\n",
       "      <td>Moderate</td>\n",
       "      <td>71</td>\n",
       "      <td>5.4</td>\n",
       "      <td>8.5</td>\n",
       "      <td>True</td>\n",
       "      <td>True</td>\n",
       "    </tr>\n",
       "    <tr>\n",
       "      <th>4</th>\n",
       "      <td>5</td>\n",
       "      <td>User_5</td>\n",
       "      <td>29</td>\n",
       "      <td>UK</td>\n",
       "      <td>1.8</td>\n",
       "      <td>Hybrid</td>\n",
       "      <td>Poor</td>\n",
       "      <td>69</td>\n",
       "      <td>7.1</td>\n",
       "      <td>6.0</td>\n",
       "      <td>True</td>\n",
       "      <td>True</td>\n",
       "    </tr>\n",
       "    <tr>\n",
       "      <th>5</th>\n",
       "      <td>6</td>\n",
       "      <td>User_6</td>\n",
       "      <td>42</td>\n",
       "      <td>Brazil</td>\n",
       "      <td>19.9</td>\n",
       "      <td>Remote</td>\n",
       "      <td>Poor</td>\n",
       "      <td>59</td>\n",
       "      <td>8.6</td>\n",
       "      <td>2.5</td>\n",
       "      <td>False</td>\n",
       "      <td>False</td>\n",
       "    </tr>\n",
       "    <tr>\n",
       "      <th>6</th>\n",
       "      <td>7</td>\n",
       "      <td>User_7</td>\n",
       "      <td>28</td>\n",
       "      <td>India</td>\n",
       "      <td>9.9</td>\n",
       "      <td>Hybrid</td>\n",
       "      <td>Moderate</td>\n",
       "      <td>87</td>\n",
       "      <td>4.7</td>\n",
       "      <td>5.2</td>\n",
       "      <td>True</td>\n",
       "      <td>False</td>\n",
       "    </tr>\n",
       "    <tr>\n",
       "      <th>7</th>\n",
       "      <td>8</td>\n",
       "      <td>User_8</td>\n",
       "      <td>47</td>\n",
       "      <td>India</td>\n",
       "      <td>6.3</td>\n",
       "      <td>Hybrid</td>\n",
       "      <td>Moderate</td>\n",
       "      <td>84</td>\n",
       "      <td>4.5</td>\n",
       "      <td>6.0</td>\n",
       "      <td>True</td>\n",
       "      <td>True</td>\n",
       "    </tr>\n",
       "    <tr>\n",
       "      <th>8</th>\n",
       "      <td>9</td>\n",
       "      <td>User_9</td>\n",
       "      <td>40</td>\n",
       "      <td>Canada</td>\n",
       "      <td>17.8</td>\n",
       "      <td>Remote</td>\n",
       "      <td>Poor</td>\n",
       "      <td>18</td>\n",
       "      <td>5.3</td>\n",
       "      <td>7.8</td>\n",
       "      <td>False</td>\n",
       "      <td>False</td>\n",
       "    </tr>\n",
       "    <tr>\n",
       "      <th>9</th>\n",
       "      <td>10</td>\n",
       "      <td>User_10</td>\n",
       "      <td>44</td>\n",
       "      <td>UK</td>\n",
       "      <td>15.2</td>\n",
       "      <td>Onsite</td>\n",
       "      <td>Good</td>\n",
       "      <td>43</td>\n",
       "      <td>7.6</td>\n",
       "      <td>2.9</td>\n",
       "      <td>True</td>\n",
       "      <td>False</td>\n",
       "    </tr>\n",
       "    <tr>\n",
       "      <th>10</th>\n",
       "      <td>11</td>\n",
       "      <td>User_11</td>\n",
       "      <td>32</td>\n",
       "      <td>USA</td>\n",
       "      <td>19.1</td>\n",
       "      <td>Remote</td>\n",
       "      <td>Poor</td>\n",
       "      <td>85</td>\n",
       "      <td>7.0</td>\n",
       "      <td>3.1</td>\n",
       "      <td>False</td>\n",
       "      <td>True</td>\n",
       "    </tr>\n",
       "    <tr>\n",
       "      <th>11</th>\n",
       "      <td>12</td>\n",
       "      <td>User_12</td>\n",
       "      <td>32</td>\n",
       "      <td>Canada</td>\n",
       "      <td>7.3</td>\n",
       "      <td>Hybrid</td>\n",
       "      <td>Moderate</td>\n",
       "      <td>44</td>\n",
       "      <td>4.5</td>\n",
       "      <td>4.1</td>\n",
       "      <td>True</td>\n",
       "      <td>True</td>\n",
       "    </tr>\n",
       "    <tr>\n",
       "      <th>12</th>\n",
       "      <td>13</td>\n",
       "      <td>User_13</td>\n",
       "      <td>45</td>\n",
       "      <td>UK</td>\n",
       "      <td>11.5</td>\n",
       "      <td>Hybrid</td>\n",
       "      <td>Good</td>\n",
       "      <td>10</td>\n",
       "      <td>8.6</td>\n",
       "      <td>4.1</td>\n",
       "      <td>False</td>\n",
       "      <td>False</td>\n",
       "    </tr>\n",
       "    <tr>\n",
       "      <th>13</th>\n",
       "      <td>14</td>\n",
       "      <td>User_14</td>\n",
       "      <td>42</td>\n",
       "      <td>Brazil</td>\n",
       "      <td>11.9</td>\n",
       "      <td>Remote</td>\n",
       "      <td>Good</td>\n",
       "      <td>49</td>\n",
       "      <td>8.0</td>\n",
       "      <td>7.9</td>\n",
       "      <td>True</td>\n",
       "      <td>True</td>\n",
       "    </tr>\n",
       "    <tr>\n",
       "      <th>14</th>\n",
       "      <td>15</td>\n",
       "      <td>User_15</td>\n",
       "      <td>25</td>\n",
       "      <td>Brazil</td>\n",
       "      <td>19.6</td>\n",
       "      <td>Onsite</td>\n",
       "      <td>Moderate</td>\n",
       "      <td>73</td>\n",
       "      <td>4.1</td>\n",
       "      <td>4.0</td>\n",
       "      <td>True</td>\n",
       "      <td>True</td>\n",
       "    </tr>\n",
       "    <tr>\n",
       "      <th>15</th>\n",
       "      <td>16</td>\n",
       "      <td>User_16</td>\n",
       "      <td>29</td>\n",
       "      <td>Brazil</td>\n",
       "      <td>2.4</td>\n",
       "      <td>Hybrid</td>\n",
       "      <td>Moderate</td>\n",
       "      <td>31</td>\n",
       "      <td>7.3</td>\n",
       "      <td>7.1</td>\n",
       "      <td>False</td>\n",
       "      <td>True</td>\n",
       "    </tr>\n",
       "    <tr>\n",
       "      <th>16</th>\n",
       "      <td>17</td>\n",
       "      <td>User_17</td>\n",
       "      <td>45</td>\n",
       "      <td>Brazil</td>\n",
       "      <td>6.8</td>\n",
       "      <td>Hybrid</td>\n",
       "      <td>Moderate</td>\n",
       "      <td>69</td>\n",
       "      <td>7.9</td>\n",
       "      <td>6.0</td>\n",
       "      <td>True</td>\n",
       "      <td>False</td>\n",
       "    </tr>\n",
       "    <tr>\n",
       "      <th>17</th>\n",
       "      <td>18</td>\n",
       "      <td>User_18</td>\n",
       "      <td>24</td>\n",
       "      <td>Brazil</td>\n",
       "      <td>4.6</td>\n",
       "      <td>Hybrid</td>\n",
       "      <td>Poor</td>\n",
       "      <td>73</td>\n",
       "      <td>5.9</td>\n",
       "      <td>6.6</td>\n",
       "      <td>False</td>\n",
       "      <td>False</td>\n",
       "    </tr>\n",
       "    <tr>\n",
       "      <th>18</th>\n",
       "      <td>19</td>\n",
       "      <td>User_19</td>\n",
       "      <td>43</td>\n",
       "      <td>UK</td>\n",
       "      <td>6.1</td>\n",
       "      <td>Remote</td>\n",
       "      <td>Poor</td>\n",
       "      <td>81</td>\n",
       "      <td>4.3</td>\n",
       "      <td>8.7</td>\n",
       "      <td>True</td>\n",
       "      <td>True</td>\n",
       "    </tr>\n",
       "    <tr>\n",
       "      <th>19</th>\n",
       "      <td>20</td>\n",
       "      <td>User_20</td>\n",
       "      <td>42</td>\n",
       "      <td>UK</td>\n",
       "      <td>10.2</td>\n",
       "      <td>Hybrid</td>\n",
       "      <td>Good</td>\n",
       "      <td>20</td>\n",
       "      <td>4.4</td>\n",
       "      <td>5.2</td>\n",
       "      <td>False</td>\n",
       "      <td>False</td>\n",
       "    </tr>\n",
       "  </tbody>\n",
       "</table>\n",
       "</div>"
      ],
      "text/plain": [
       "    Employee_ID     Name  Age    Country  Experience_Years Work_Mode  \\\n",
       "0             1   User_1   28     Canada               5.4    Onsite   \n",
       "1             2   User_2   41  Australia              10.5    Remote   \n",
       "2             3   User_3   36    Germany              11.9    Hybrid   \n",
       "3             4   User_4   32    Germany              15.6    Hybrid   \n",
       "4             5   User_5   29         UK               1.8    Hybrid   \n",
       "5             6   User_6   42     Brazil              19.9    Remote   \n",
       "6             7   User_7   28      India               9.9    Hybrid   \n",
       "7             8   User_8   47      India               6.3    Hybrid   \n",
       "8             9   User_9   40     Canada              17.8    Remote   \n",
       "9            10  User_10   44         UK              15.2    Onsite   \n",
       "10           11  User_11   32        USA              19.1    Remote   \n",
       "11           12  User_12   32     Canada               7.3    Hybrid   \n",
       "12           13  User_13   45         UK              11.5    Hybrid   \n",
       "13           14  User_14   42     Brazil              11.9    Remote   \n",
       "14           15  User_15   25     Brazil              19.6    Onsite   \n",
       "15           16  User_16   29     Brazil               2.4    Hybrid   \n",
       "16           17  User_17   45     Brazil               6.8    Hybrid   \n",
       "17           18  User_18   24     Brazil               4.6    Hybrid   \n",
       "18           19  User_19   43         UK               6.1    Remote   \n",
       "19           20  User_20   42         UK              10.2    Hybrid   \n",
       "\n",
       "   Mental_Health_Status  Burnout_Score  Sleep_Hours_Per_Day  \\\n",
       "0                  Poor             44                  5.7   \n",
       "1                  Good             58                  5.1   \n",
       "2                  Good             78                  6.1   \n",
       "3              Moderate             71                  5.4   \n",
       "4                  Poor             69                  7.1   \n",
       "5                  Poor             59                  8.6   \n",
       "6              Moderate             87                  4.7   \n",
       "7              Moderate             84                  4.5   \n",
       "8                  Poor             18                  5.3   \n",
       "9                  Good             43                  7.6   \n",
       "10                 Poor             85                  7.0   \n",
       "11             Moderate             44                  4.5   \n",
       "12                 Good             10                  8.6   \n",
       "13                 Good             49                  8.0   \n",
       "14             Moderate             73                  4.1   \n",
       "15             Moderate             31                  7.3   \n",
       "16             Moderate             69                  7.9   \n",
       "17                 Poor             73                  5.9   \n",
       "18                 Poor             81                  4.3   \n",
       "19                 Good             20                  4.4   \n",
       "\n",
       "    Work_Life_Balance_Rating  Has_Access_To_Therapist  \\\n",
       "0                        7.5                     True   \n",
       "1                        8.6                    False   \n",
       "2                        6.2                    False   \n",
       "3                        8.5                     True   \n",
       "4                        6.0                     True   \n",
       "5                        2.5                    False   \n",
       "6                        5.2                     True   \n",
       "7                        6.0                     True   \n",
       "8                        7.8                    False   \n",
       "9                        2.9                     True   \n",
       "10                       3.1                    False   \n",
       "11                       4.1                     True   \n",
       "12                       4.1                    False   \n",
       "13                       7.9                     True   \n",
       "14                       4.0                     True   \n",
       "15                       7.1                    False   \n",
       "16                       6.0                     True   \n",
       "17                       6.6                    False   \n",
       "18                       8.7                     True   \n",
       "19                       5.2                    False   \n",
       "\n",
       "    Willing_To_Return_Onsite  \n",
       "0                      False  \n",
       "1                       True  \n",
       "2                      False  \n",
       "3                       True  \n",
       "4                       True  \n",
       "5                      False  \n",
       "6                      False  \n",
       "7                       True  \n",
       "8                      False  \n",
       "9                      False  \n",
       "10                      True  \n",
       "11                      True  \n",
       "12                     False  \n",
       "13                      True  \n",
       "14                      True  \n",
       "15                      True  \n",
       "16                     False  \n",
       "17                     False  \n",
       "18                      True  \n",
       "19                     False  "
      ]
     },
     "execution_count": 64,
     "metadata": {},
     "output_type": "execute_result"
    }
   ],
   "source": [
    "columnas_a_eliminas = ['Exercise_Frequency', 'Job_Role', 'Gender', 'Internet_Issues_Frequency', 'Team_Communication_Effectiveness', 'Hours_Worked_Per_Week', 'Productivity_Score', 'Remote_Setup_Satisfaction']\n",
    "df = df.drop(columns=columnas_a_eliminas)\n",
    "df.head(20)"
   ]
  },
  {
   "cell_type": "code",
   "execution_count": 65,
   "id": "3a5d1cf4",
   "metadata": {},
   "outputs": [
    {
     "data": {
      "text/plain": [
       "Index(['Employee_ID', 'Name', 'Age', 'Country', 'Experience_Years',\n",
       "       'Work_Mode', 'Mental_Health_Status', 'Burnout_Score',\n",
       "       'Sleep_Hours_Per_Day', 'Work_Life_Balance_Rating',\n",
       "       'Has_Access_To_Therapist', 'Willing_To_Return_Onsite'],\n",
       "      dtype='object')"
      ]
     },
     "execution_count": 65,
     "metadata": {},
     "output_type": "execute_result"
    }
   ],
   "source": [
    "df.columns"
   ]
  },
  {
   "cell_type": "code",
   "execution_count": 66,
   "id": "21540015",
   "metadata": {},
   "outputs": [
    {
     "data": {
      "application/vnd.microsoft.datawrangler.viewer.v0+json": {
       "columns": [
        {
         "name": "index",
         "rawType": "int64",
         "type": "integer"
        },
        {
         "name": "ID_Empleado",
         "rawType": "int64",
         "type": "integer"
        },
        {
         "name": "Nombre",
         "rawType": "object",
         "type": "string"
        },
        {
         "name": "Edad",
         "rawType": "int64",
         "type": "integer"
        },
        {
         "name": "Pais",
         "rawType": "object",
         "type": "string"
        },
        {
         "name": "Años_Experiencia",
         "rawType": "float64",
         "type": "float"
        },
        {
         "name": "Modelo_de_Trabajo",
         "rawType": "object",
         "type": "string"
        },
        {
         "name": "Estado_de_Salud_Mental",
         "rawType": "object",
         "type": "string"
        },
        {
         "name": "Puntaje_de_Agobio",
         "rawType": "int64",
         "type": "integer"
        },
        {
         "name": "Horas_de_Sueño_Por_Día",
         "rawType": "float64",
         "type": "float"
        },
        {
         "name": "Calificación_de_Equilibrio_Trabajo_Vida",
         "rawType": "float64",
         "type": "float"
        },
        {
         "name": "Tiene_Acceso_a_Terapeuta",
         "rawType": "bool",
         "type": "boolean"
        },
        {
         "name": "Dispuesto_a_Regresar_Al_Sitio",
         "rawType": "bool",
         "type": "boolean"
        }
       ],
       "ref": "93d14aff-4e66-4525-9ec3-260b7651168e",
       "rows": [
        [
         "0",
         "1",
         "User_1",
         "28",
         "Canada",
         "5.4",
         "Onsite",
         "Poor",
         "44",
         "5.7",
         "7.5",
         "True",
         "False"
        ],
        [
         "1",
         "2",
         "User_2",
         "41",
         "Australia",
         "10.5",
         "Remote",
         "Good",
         "58",
         "5.1",
         "8.6",
         "False",
         "True"
        ],
        [
         "2",
         "3",
         "User_3",
         "36",
         "Germany",
         "11.9",
         "Hybrid",
         "Good",
         "78",
         "6.1",
         "6.2",
         "False",
         "False"
        ],
        [
         "3",
         "4",
         "User_4",
         "32",
         "Germany",
         "15.6",
         "Hybrid",
         "Moderate",
         "71",
         "5.4",
         "8.5",
         "True",
         "True"
        ],
        [
         "4",
         "5",
         "User_5",
         "29",
         "UK",
         "1.8",
         "Hybrid",
         "Poor",
         "69",
         "7.1",
         "6.0",
         "True",
         "True"
        ],
        [
         "5",
         "6",
         "User_6",
         "42",
         "Brazil",
         "19.9",
         "Remote",
         "Poor",
         "59",
         "8.6",
         "2.5",
         "False",
         "False"
        ],
        [
         "6",
         "7",
         "User_7",
         "28",
         "India",
         "9.9",
         "Hybrid",
         "Moderate",
         "87",
         "4.7",
         "5.2",
         "True",
         "False"
        ],
        [
         "7",
         "8",
         "User_8",
         "47",
         "India",
         "6.3",
         "Hybrid",
         "Moderate",
         "84",
         "4.5",
         "6.0",
         "True",
         "True"
        ],
        [
         "8",
         "9",
         "User_9",
         "40",
         "Canada",
         "17.8",
         "Remote",
         "Poor",
         "18",
         "5.3",
         "7.8",
         "False",
         "False"
        ],
        [
         "9",
         "10",
         "User_10",
         "44",
         "UK",
         "15.2",
         "Onsite",
         "Good",
         "43",
         "7.6",
         "2.9",
         "True",
         "False"
        ],
        [
         "10",
         "11",
         "User_11",
         "32",
         "USA",
         "19.1",
         "Remote",
         "Poor",
         "85",
         "7.0",
         "3.1",
         "False",
         "True"
        ],
        [
         "11",
         "12",
         "User_12",
         "32",
         "Canada",
         "7.3",
         "Hybrid",
         "Moderate",
         "44",
         "4.5",
         "4.1",
         "True",
         "True"
        ],
        [
         "12",
         "13",
         "User_13",
         "45",
         "UK",
         "11.5",
         "Hybrid",
         "Good",
         "10",
         "8.6",
         "4.1",
         "False",
         "False"
        ],
        [
         "13",
         "14",
         "User_14",
         "42",
         "Brazil",
         "11.9",
         "Remote",
         "Good",
         "49",
         "8.0",
         "7.9",
         "True",
         "True"
        ],
        [
         "14",
         "15",
         "User_15",
         "25",
         "Brazil",
         "19.6",
         "Onsite",
         "Moderate",
         "73",
         "4.1",
         "4.0",
         "True",
         "True"
        ],
        [
         "15",
         "16",
         "User_16",
         "29",
         "Brazil",
         "2.4",
         "Hybrid",
         "Moderate",
         "31",
         "7.3",
         "7.1",
         "False",
         "True"
        ],
        [
         "16",
         "17",
         "User_17",
         "45",
         "Brazil",
         "6.8",
         "Hybrid",
         "Moderate",
         "69",
         "7.9",
         "6.0",
         "True",
         "False"
        ],
        [
         "17",
         "18",
         "User_18",
         "24",
         "Brazil",
         "4.6",
         "Hybrid",
         "Poor",
         "73",
         "5.9",
         "6.6",
         "False",
         "False"
        ],
        [
         "18",
         "19",
         "User_19",
         "43",
         "UK",
         "6.1",
         "Remote",
         "Poor",
         "81",
         "4.3",
         "8.7",
         "True",
         "True"
        ],
        [
         "19",
         "20",
         "User_20",
         "42",
         "UK",
         "10.2",
         "Hybrid",
         "Good",
         "20",
         "4.4",
         "5.2",
         "False",
         "False"
        ],
        [
         "20",
         "21",
         "User_21",
         "23",
         "Germany",
         "8.1",
         "Onsite",
         "Moderate",
         "23",
         "4.5",
         "8.2",
         "False",
         "True"
        ],
        [
         "21",
         "22",
         "User_22",
         "45",
         "India",
         "8.5",
         "Hybrid",
         "Good",
         "69",
         "8.2",
         "5.4",
         "False",
         "False"
        ],
        [
         "22",
         "23",
         "User_23",
         "33",
         "Australia",
         "17.0",
         "Hybrid",
         "Good",
         "39",
         "8.6",
         "4.8",
         "False",
         "True"
        ],
        [
         "23",
         "24",
         "User_24",
         "27",
         "Brazil",
         "18.7",
         "Onsite",
         "Good",
         "44",
         "4.6",
         "9.7",
         "True",
         "True"
        ],
        [
         "24",
         "25",
         "User_25",
         "23",
         "USA",
         "2.3",
         "Hybrid",
         "Good",
         "46",
         "5.2",
         "3.5",
         "True",
         "False"
        ],
        [
         "25",
         "26",
         "User_26",
         "49",
         "Australia",
         "5.0",
         "Remote",
         "Moderate",
         "14",
         "4.8",
         "2.7",
         "False",
         "True"
        ],
        [
         "26",
         "27",
         "User_27",
         "42",
         "UK",
         "13.8",
         "Remote",
         "Good",
         "87",
         "4.9",
         "8.2",
         "False",
         "False"
        ],
        [
         "27",
         "28",
         "User_28",
         "22",
         "USA",
         "7.8",
         "Remote",
         "Moderate",
         "35",
         "8.2",
         "2.5",
         "False",
         "False"
        ],
        [
         "28",
         "29",
         "User_29",
         "33",
         "USA",
         "5.8",
         "Onsite",
         "Moderate",
         "71",
         "5.7",
         "8.7",
         "True",
         "True"
        ],
        [
         "29",
         "30",
         "User_30",
         "47",
         "USA",
         "6.6",
         "Hybrid",
         "Poor",
         "13",
         "5.6",
         "5.5",
         "True",
         "True"
        ],
        [
         "30",
         "31",
         "User_31",
         "43",
         "Germany",
         "7.1",
         "Remote",
         "Moderate",
         "51",
         "5.1",
         "9.3",
         "True",
         "False"
        ],
        [
         "31",
         "32",
         "User_32",
         "33",
         "UK",
         "17.1",
         "Onsite",
         "Poor",
         "27",
         "7.0",
         "7.8",
         "True",
         "True"
        ],
        [
         "32",
         "33",
         "User_33",
         "46",
         "USA",
         "3.6",
         "Hybrid",
         "Moderate",
         "49",
         "5.9",
         "6.9",
         "False",
         "True"
        ],
        [
         "33",
         "34",
         "User_34",
         "38",
         "Brazil",
         "14.5",
         "Onsite",
         "Moderate",
         "81",
         "7.7",
         "9.6",
         "False",
         "True"
        ],
        [
         "34",
         "35",
         "User_35",
         "48",
         "Canada",
         "11.5",
         "Remote",
         "Moderate",
         "48",
         "5.0",
         "5.2",
         "False",
         "True"
        ],
        [
         "35",
         "36",
         "User_36",
         "48",
         "USA",
         "6.6",
         "Remote",
         "Poor",
         "23",
         "7.9",
         "9.6",
         "True",
         "True"
        ],
        [
         "36",
         "37",
         "User_37",
         "31",
         "Germany",
         "9.0",
         "Remote",
         "Poor",
         "41",
         "7.0",
         "3.1",
         "True",
         "False"
        ],
        [
         "37",
         "38",
         "User_38",
         "49",
         "Australia",
         "5.9",
         "Onsite",
         "Good",
         "60",
         "4.6",
         "5.9",
         "True",
         "False"
        ],
        [
         "38",
         "39",
         "User_39",
         "49",
         "UK",
         "12.6",
         "Onsite",
         "Poor",
         "47",
         "6.1",
         "4.2",
         "False",
         "True"
        ],
        [
         "39",
         "40",
         "User_40",
         "37",
         "Germany",
         "2.6",
         "Remote",
         "Poor",
         "32",
         "8.3",
         "6.3",
         "False",
         "True"
        ],
        [
         "40",
         "41",
         "User_41",
         "36",
         "USA",
         "1.1",
         "Onsite",
         "Poor",
         "72",
         "8.6",
         "3.3",
         "True",
         "True"
        ],
        [
         "41",
         "42",
         "User_42",
         "36",
         "UK",
         "12.9",
         "Remote",
         "Poor",
         "24",
         "6.3",
         "8.7",
         "False",
         "False"
        ],
        [
         "42",
         "43",
         "User_43",
         "40",
         "Canada",
         "4.7",
         "Remote",
         "Good",
         "34",
         "6.4",
         "8.8",
         "True",
         "True"
        ],
        [
         "43",
         "44",
         "User_44",
         "33",
         "USA",
         "2.3",
         "Hybrid",
         "Poor",
         "26",
         "8.6",
         "9.6",
         "True",
         "False"
        ],
        [
         "44",
         "45",
         "User_45",
         "44",
         "Germany",
         "8.5",
         "Onsite",
         "Moderate",
         "75",
         "6.9",
         "3.2",
         "False",
         "False"
        ],
        [
         "45",
         "46",
         "User_46",
         "41",
         "India",
         "2.0",
         "Remote",
         "Moderate",
         "87",
         "4.2",
         "7.0",
         "True",
         "False"
        ],
        [
         "46",
         "47",
         "User_47",
         "46",
         "Brazil",
         "17.8",
         "Remote",
         "Poor",
         "62",
         "8.6",
         "5.8",
         "False",
         "True"
        ],
        [
         "47",
         "48",
         "User_48",
         "24",
         "Australia",
         "1.5",
         "Onsite",
         "Poor",
         "60",
         "5.2",
         "4.8",
         "True",
         "False"
        ],
        [
         "48",
         "49",
         "User_49",
         "26",
         "Germany",
         "12.0",
         "Hybrid",
         "Moderate",
         "48",
         "6.9",
         "4.8",
         "False",
         "True"
        ],
        [
         "49",
         "50",
         "User_50",
         "40",
         "UK",
         "9.3",
         "Hybrid",
         "Moderate",
         "60",
         "4.8",
         "5.3",
         "False",
         "False"
        ]
       ],
       "shape": {
        "columns": 12,
        "rows": 100
       }
      },
      "text/html": [
       "<div>\n",
       "<style scoped>\n",
       "    .dataframe tbody tr th:only-of-type {\n",
       "        vertical-align: middle;\n",
       "    }\n",
       "\n",
       "    .dataframe tbody tr th {\n",
       "        vertical-align: top;\n",
       "    }\n",
       "\n",
       "    .dataframe thead th {\n",
       "        text-align: right;\n",
       "    }\n",
       "</style>\n",
       "<table border=\"1\" class=\"dataframe\">\n",
       "  <thead>\n",
       "    <tr style=\"text-align: right;\">\n",
       "      <th></th>\n",
       "      <th>ID_Empleado</th>\n",
       "      <th>Nombre</th>\n",
       "      <th>Edad</th>\n",
       "      <th>Pais</th>\n",
       "      <th>Años_Experiencia</th>\n",
       "      <th>Modelo_de_Trabajo</th>\n",
       "      <th>Estado_de_Salud_Mental</th>\n",
       "      <th>Puntaje_de_Agobio</th>\n",
       "      <th>Horas_de_Sueño_Por_Día</th>\n",
       "      <th>Calificación_de_Equilibrio_Trabajo_Vida</th>\n",
       "      <th>Tiene_Acceso_a_Terapeuta</th>\n",
       "      <th>Dispuesto_a_Regresar_Al_Sitio</th>\n",
       "    </tr>\n",
       "  </thead>\n",
       "  <tbody>\n",
       "    <tr>\n",
       "      <th>0</th>\n",
       "      <td>1</td>\n",
       "      <td>User_1</td>\n",
       "      <td>28</td>\n",
       "      <td>Canada</td>\n",
       "      <td>5.4</td>\n",
       "      <td>Onsite</td>\n",
       "      <td>Poor</td>\n",
       "      <td>44</td>\n",
       "      <td>5.7</td>\n",
       "      <td>7.5</td>\n",
       "      <td>True</td>\n",
       "      <td>False</td>\n",
       "    </tr>\n",
       "    <tr>\n",
       "      <th>1</th>\n",
       "      <td>2</td>\n",
       "      <td>User_2</td>\n",
       "      <td>41</td>\n",
       "      <td>Australia</td>\n",
       "      <td>10.5</td>\n",
       "      <td>Remote</td>\n",
       "      <td>Good</td>\n",
       "      <td>58</td>\n",
       "      <td>5.1</td>\n",
       "      <td>8.6</td>\n",
       "      <td>False</td>\n",
       "      <td>True</td>\n",
       "    </tr>\n",
       "    <tr>\n",
       "      <th>2</th>\n",
       "      <td>3</td>\n",
       "      <td>User_3</td>\n",
       "      <td>36</td>\n",
       "      <td>Germany</td>\n",
       "      <td>11.9</td>\n",
       "      <td>Hybrid</td>\n",
       "      <td>Good</td>\n",
       "      <td>78</td>\n",
       "      <td>6.1</td>\n",
       "      <td>6.2</td>\n",
       "      <td>False</td>\n",
       "      <td>False</td>\n",
       "    </tr>\n",
       "    <tr>\n",
       "      <th>3</th>\n",
       "      <td>4</td>\n",
       "      <td>User_4</td>\n",
       "      <td>32</td>\n",
       "      <td>Germany</td>\n",
       "      <td>15.6</td>\n",
       "      <td>Hybrid</td>\n",
       "      <td>Moderate</td>\n",
       "      <td>71</td>\n",
       "      <td>5.4</td>\n",
       "      <td>8.5</td>\n",
       "      <td>True</td>\n",
       "      <td>True</td>\n",
       "    </tr>\n",
       "    <tr>\n",
       "      <th>4</th>\n",
       "      <td>5</td>\n",
       "      <td>User_5</td>\n",
       "      <td>29</td>\n",
       "      <td>UK</td>\n",
       "      <td>1.8</td>\n",
       "      <td>Hybrid</td>\n",
       "      <td>Poor</td>\n",
       "      <td>69</td>\n",
       "      <td>7.1</td>\n",
       "      <td>6.0</td>\n",
       "      <td>True</td>\n",
       "      <td>True</td>\n",
       "    </tr>\n",
       "    <tr>\n",
       "      <th>...</th>\n",
       "      <td>...</td>\n",
       "      <td>...</td>\n",
       "      <td>...</td>\n",
       "      <td>...</td>\n",
       "      <td>...</td>\n",
       "      <td>...</td>\n",
       "      <td>...</td>\n",
       "      <td>...</td>\n",
       "      <td>...</td>\n",
       "      <td>...</td>\n",
       "      <td>...</td>\n",
       "      <td>...</td>\n",
       "    </tr>\n",
       "    <tr>\n",
       "      <th>95</th>\n",
       "      <td>96</td>\n",
       "      <td>User_96</td>\n",
       "      <td>29</td>\n",
       "      <td>UK</td>\n",
       "      <td>11.8</td>\n",
       "      <td>Hybrid</td>\n",
       "      <td>Good</td>\n",
       "      <td>36</td>\n",
       "      <td>5.0</td>\n",
       "      <td>7.2</td>\n",
       "      <td>False</td>\n",
       "      <td>False</td>\n",
       "    </tr>\n",
       "    <tr>\n",
       "      <th>96</th>\n",
       "      <td>97</td>\n",
       "      <td>User_97</td>\n",
       "      <td>35</td>\n",
       "      <td>Germany</td>\n",
       "      <td>4.0</td>\n",
       "      <td>Remote</td>\n",
       "      <td>Good</td>\n",
       "      <td>78</td>\n",
       "      <td>6.5</td>\n",
       "      <td>4.9</td>\n",
       "      <td>True</td>\n",
       "      <td>False</td>\n",
       "    </tr>\n",
       "    <tr>\n",
       "      <th>97</th>\n",
       "      <td>98</td>\n",
       "      <td>User_98</td>\n",
       "      <td>44</td>\n",
       "      <td>Australia</td>\n",
       "      <td>3.3</td>\n",
       "      <td>Remote</td>\n",
       "      <td>Poor</td>\n",
       "      <td>29</td>\n",
       "      <td>7.0</td>\n",
       "      <td>6.5</td>\n",
       "      <td>False</td>\n",
       "      <td>True</td>\n",
       "    </tr>\n",
       "    <tr>\n",
       "      <th>98</th>\n",
       "      <td>99</td>\n",
       "      <td>User_99</td>\n",
       "      <td>49</td>\n",
       "      <td>USA</td>\n",
       "      <td>7.5</td>\n",
       "      <td>Hybrid</td>\n",
       "      <td>Poor</td>\n",
       "      <td>20</td>\n",
       "      <td>5.7</td>\n",
       "      <td>5.8</td>\n",
       "      <td>False</td>\n",
       "      <td>False</td>\n",
       "    </tr>\n",
       "    <tr>\n",
       "      <th>99</th>\n",
       "      <td>100</td>\n",
       "      <td>User_100</td>\n",
       "      <td>46</td>\n",
       "      <td>USA</td>\n",
       "      <td>2.7</td>\n",
       "      <td>Remote</td>\n",
       "      <td>Moderate</td>\n",
       "      <td>83</td>\n",
       "      <td>6.8</td>\n",
       "      <td>9.1</td>\n",
       "      <td>True</td>\n",
       "      <td>True</td>\n",
       "    </tr>\n",
       "  </tbody>\n",
       "</table>\n",
       "<p>100 rows × 12 columns</p>\n",
       "</div>"
      ],
      "text/plain": [
       "    ID_Empleado    Nombre  Edad       Pais  Años_Experiencia  \\\n",
       "0             1    User_1    28     Canada               5.4   \n",
       "1             2    User_2    41  Australia              10.5   \n",
       "2             3    User_3    36    Germany              11.9   \n",
       "3             4    User_4    32    Germany              15.6   \n",
       "4             5    User_5    29         UK               1.8   \n",
       "..          ...       ...   ...        ...               ...   \n",
       "95           96   User_96    29         UK              11.8   \n",
       "96           97   User_97    35    Germany               4.0   \n",
       "97           98   User_98    44  Australia               3.3   \n",
       "98           99   User_99    49        USA               7.5   \n",
       "99          100  User_100    46        USA               2.7   \n",
       "\n",
       "   Modelo_de_Trabajo Estado_de_Salud_Mental  Puntaje_de_Agobio  \\\n",
       "0             Onsite                   Poor                 44   \n",
       "1             Remote                   Good                 58   \n",
       "2             Hybrid                   Good                 78   \n",
       "3             Hybrid               Moderate                 71   \n",
       "4             Hybrid                   Poor                 69   \n",
       "..               ...                    ...                ...   \n",
       "95            Hybrid                   Good                 36   \n",
       "96            Remote                   Good                 78   \n",
       "97            Remote                   Poor                 29   \n",
       "98            Hybrid                   Poor                 20   \n",
       "99            Remote               Moderate                 83   \n",
       "\n",
       "    Horas_de_Sueño_Por_Día  Calificación_de_Equilibrio_Trabajo_Vida  \\\n",
       "0                      5.7                                      7.5   \n",
       "1                      5.1                                      8.6   \n",
       "2                      6.1                                      6.2   \n",
       "3                      5.4                                      8.5   \n",
       "4                      7.1                                      6.0   \n",
       "..                     ...                                      ...   \n",
       "95                     5.0                                      7.2   \n",
       "96                     6.5                                      4.9   \n",
       "97                     7.0                                      6.5   \n",
       "98                     5.7                                      5.8   \n",
       "99                     6.8                                      9.1   \n",
       "\n",
       "    Tiene_Acceso_a_Terapeuta  Dispuesto_a_Regresar_Al_Sitio  \n",
       "0                       True                          False  \n",
       "1                      False                           True  \n",
       "2                      False                          False  \n",
       "3                       True                           True  \n",
       "4                       True                           True  \n",
       "..                       ...                            ...  \n",
       "95                     False                          False  \n",
       "96                      True                          False  \n",
       "97                     False                           True  \n",
       "98                     False                          False  \n",
       "99                      True                           True  \n",
       "\n",
       "[100 rows x 12 columns]"
      ]
     },
     "execution_count": 66,
     "metadata": {},
     "output_type": "execute_result"
    }
   ],
   "source": [
    "# traducir columnas a español\n",
    "columnas_traducidas = {\n",
    "    'Employee_ID': 'ID_Empleado',\n",
    "    'Name' : 'Nombre',\n",
    "    'Age': 'Edad',\n",
    "    'Country': 'Pais',\n",
    "    'Experience_Years': 'Años_Experiencia',\n",
    "    'Work_Mode': 'Modelo_de_Trabajo',\n",
    "    'Mental_Health_Status': 'Estado_de_Salud_Mental',\n",
    "    'Burnout_Score': 'Puntaje_de_Agobio',\n",
    "    'Sleep_Hours_Per_Day': 'Horas_de_Sueño_Por_Día',\n",
    "    'Physical_Activity_Level': 'Nivel_de_Actividad_Física',    \n",
    "    'Work_Life_Balance_Rating': 'Calificación_de_Equilibrio_Trabajo_Vida',\n",
    "    'Has_Access_To_Therapist': 'Tiene_Acceso_a_Terapeuta',\n",
    "    'Willing_To_Return_Onsite': 'Dispuesto_a_Regresar_Al_Sitio',\n",
    "}\n",
    "\n",
    "df.rename(columns=columnas_traducidas, inplace=True)\n",
    "df\n"
   ]
  },
  {
   "cell_type": "markdown",
   "id": "0bb00564",
   "metadata": {},
   "source": [
    "Se eliminará la columna Nombre dado que son anonimos e identificados mediante 'User_x', por lo que es reiterativo mantenerlo si cada uno tiene un ID identificador."
   ]
  },
  {
   "cell_type": "code",
   "execution_count": 67,
   "id": "79a69276",
   "metadata": {},
   "outputs": [
    {
     "data": {
      "application/vnd.microsoft.datawrangler.viewer.v0+json": {
       "columns": [
        {
         "name": "index",
         "rawType": "int64",
         "type": "integer"
        },
        {
         "name": "ID_Empleado",
         "rawType": "int64",
         "type": "integer"
        },
        {
         "name": "Edad",
         "rawType": "int64",
         "type": "integer"
        },
        {
         "name": "Pais",
         "rawType": "object",
         "type": "string"
        },
        {
         "name": "Años_Experiencia",
         "rawType": "float64",
         "type": "float"
        },
        {
         "name": "Modelo_de_Trabajo",
         "rawType": "object",
         "type": "string"
        },
        {
         "name": "Estado_de_Salud_Mental",
         "rawType": "object",
         "type": "string"
        },
        {
         "name": "Puntaje_de_Agobio",
         "rawType": "int64",
         "type": "integer"
        },
        {
         "name": "Horas_de_Sueño_Por_Día",
         "rawType": "float64",
         "type": "float"
        },
        {
         "name": "Calificación_de_Equilibrio_Trabajo_Vida",
         "rawType": "float64",
         "type": "float"
        },
        {
         "name": "Tiene_Acceso_a_Terapeuta",
         "rawType": "bool",
         "type": "boolean"
        },
        {
         "name": "Dispuesto_a_Regresar_Al_Sitio",
         "rawType": "bool",
         "type": "boolean"
        }
       ],
       "ref": "dde2c9d2-8cc3-4abf-b809-d60360ece39a",
       "rows": [
        [
         "0",
         "1",
         "28",
         "Canada",
         "5.4",
         "Onsite",
         "Poor",
         "44",
         "5.7",
         "7.5",
         "True",
         "False"
        ],
        [
         "1",
         "2",
         "41",
         "Australia",
         "10.5",
         "Remote",
         "Good",
         "58",
         "5.1",
         "8.6",
         "False",
         "True"
        ],
        [
         "2",
         "3",
         "36",
         "Germany",
         "11.9",
         "Hybrid",
         "Good",
         "78",
         "6.1",
         "6.2",
         "False",
         "False"
        ],
        [
         "3",
         "4",
         "32",
         "Germany",
         "15.6",
         "Hybrid",
         "Moderate",
         "71",
         "5.4",
         "8.5",
         "True",
         "True"
        ],
        [
         "4",
         "5",
         "29",
         "UK",
         "1.8",
         "Hybrid",
         "Poor",
         "69",
         "7.1",
         "6.0",
         "True",
         "True"
        ],
        [
         "5",
         "6",
         "42",
         "Brazil",
         "19.9",
         "Remote",
         "Poor",
         "59",
         "8.6",
         "2.5",
         "False",
         "False"
        ],
        [
         "6",
         "7",
         "28",
         "India",
         "9.9",
         "Hybrid",
         "Moderate",
         "87",
         "4.7",
         "5.2",
         "True",
         "False"
        ],
        [
         "7",
         "8",
         "47",
         "India",
         "6.3",
         "Hybrid",
         "Moderate",
         "84",
         "4.5",
         "6.0",
         "True",
         "True"
        ],
        [
         "8",
         "9",
         "40",
         "Canada",
         "17.8",
         "Remote",
         "Poor",
         "18",
         "5.3",
         "7.8",
         "False",
         "False"
        ],
        [
         "9",
         "10",
         "44",
         "UK",
         "15.2",
         "Onsite",
         "Good",
         "43",
         "7.6",
         "2.9",
         "True",
         "False"
        ],
        [
         "10",
         "11",
         "32",
         "USA",
         "19.1",
         "Remote",
         "Poor",
         "85",
         "7.0",
         "3.1",
         "False",
         "True"
        ],
        [
         "11",
         "12",
         "32",
         "Canada",
         "7.3",
         "Hybrid",
         "Moderate",
         "44",
         "4.5",
         "4.1",
         "True",
         "True"
        ],
        [
         "12",
         "13",
         "45",
         "UK",
         "11.5",
         "Hybrid",
         "Good",
         "10",
         "8.6",
         "4.1",
         "False",
         "False"
        ],
        [
         "13",
         "14",
         "42",
         "Brazil",
         "11.9",
         "Remote",
         "Good",
         "49",
         "8.0",
         "7.9",
         "True",
         "True"
        ],
        [
         "14",
         "15",
         "25",
         "Brazil",
         "19.6",
         "Onsite",
         "Moderate",
         "73",
         "4.1",
         "4.0",
         "True",
         "True"
        ],
        [
         "15",
         "16",
         "29",
         "Brazil",
         "2.4",
         "Hybrid",
         "Moderate",
         "31",
         "7.3",
         "7.1",
         "False",
         "True"
        ],
        [
         "16",
         "17",
         "45",
         "Brazil",
         "6.8",
         "Hybrid",
         "Moderate",
         "69",
         "7.9",
         "6.0",
         "True",
         "False"
        ],
        [
         "17",
         "18",
         "24",
         "Brazil",
         "4.6",
         "Hybrid",
         "Poor",
         "73",
         "5.9",
         "6.6",
         "False",
         "False"
        ],
        [
         "18",
         "19",
         "43",
         "UK",
         "6.1",
         "Remote",
         "Poor",
         "81",
         "4.3",
         "8.7",
         "True",
         "True"
        ],
        [
         "19",
         "20",
         "42",
         "UK",
         "10.2",
         "Hybrid",
         "Good",
         "20",
         "4.4",
         "5.2",
         "False",
         "False"
        ],
        [
         "20",
         "21",
         "23",
         "Germany",
         "8.1",
         "Onsite",
         "Moderate",
         "23",
         "4.5",
         "8.2",
         "False",
         "True"
        ],
        [
         "21",
         "22",
         "45",
         "India",
         "8.5",
         "Hybrid",
         "Good",
         "69",
         "8.2",
         "5.4",
         "False",
         "False"
        ],
        [
         "22",
         "23",
         "33",
         "Australia",
         "17.0",
         "Hybrid",
         "Good",
         "39",
         "8.6",
         "4.8",
         "False",
         "True"
        ],
        [
         "23",
         "24",
         "27",
         "Brazil",
         "18.7",
         "Onsite",
         "Good",
         "44",
         "4.6",
         "9.7",
         "True",
         "True"
        ],
        [
         "24",
         "25",
         "23",
         "USA",
         "2.3",
         "Hybrid",
         "Good",
         "46",
         "5.2",
         "3.5",
         "True",
         "False"
        ],
        [
         "25",
         "26",
         "49",
         "Australia",
         "5.0",
         "Remote",
         "Moderate",
         "14",
         "4.8",
         "2.7",
         "False",
         "True"
        ],
        [
         "26",
         "27",
         "42",
         "UK",
         "13.8",
         "Remote",
         "Good",
         "87",
         "4.9",
         "8.2",
         "False",
         "False"
        ],
        [
         "27",
         "28",
         "22",
         "USA",
         "7.8",
         "Remote",
         "Moderate",
         "35",
         "8.2",
         "2.5",
         "False",
         "False"
        ],
        [
         "28",
         "29",
         "33",
         "USA",
         "5.8",
         "Onsite",
         "Moderate",
         "71",
         "5.7",
         "8.7",
         "True",
         "True"
        ],
        [
         "29",
         "30",
         "47",
         "USA",
         "6.6",
         "Hybrid",
         "Poor",
         "13",
         "5.6",
         "5.5",
         "True",
         "True"
        ],
        [
         "30",
         "31",
         "43",
         "Germany",
         "7.1",
         "Remote",
         "Moderate",
         "51",
         "5.1",
         "9.3",
         "True",
         "False"
        ],
        [
         "31",
         "32",
         "33",
         "UK",
         "17.1",
         "Onsite",
         "Poor",
         "27",
         "7.0",
         "7.8",
         "True",
         "True"
        ],
        [
         "32",
         "33",
         "46",
         "USA",
         "3.6",
         "Hybrid",
         "Moderate",
         "49",
         "5.9",
         "6.9",
         "False",
         "True"
        ],
        [
         "33",
         "34",
         "38",
         "Brazil",
         "14.5",
         "Onsite",
         "Moderate",
         "81",
         "7.7",
         "9.6",
         "False",
         "True"
        ],
        [
         "34",
         "35",
         "48",
         "Canada",
         "11.5",
         "Remote",
         "Moderate",
         "48",
         "5.0",
         "5.2",
         "False",
         "True"
        ],
        [
         "35",
         "36",
         "48",
         "USA",
         "6.6",
         "Remote",
         "Poor",
         "23",
         "7.9",
         "9.6",
         "True",
         "True"
        ],
        [
         "36",
         "37",
         "31",
         "Germany",
         "9.0",
         "Remote",
         "Poor",
         "41",
         "7.0",
         "3.1",
         "True",
         "False"
        ],
        [
         "37",
         "38",
         "49",
         "Australia",
         "5.9",
         "Onsite",
         "Good",
         "60",
         "4.6",
         "5.9",
         "True",
         "False"
        ],
        [
         "38",
         "39",
         "49",
         "UK",
         "12.6",
         "Onsite",
         "Poor",
         "47",
         "6.1",
         "4.2",
         "False",
         "True"
        ],
        [
         "39",
         "40",
         "37",
         "Germany",
         "2.6",
         "Remote",
         "Poor",
         "32",
         "8.3",
         "6.3",
         "False",
         "True"
        ],
        [
         "40",
         "41",
         "36",
         "USA",
         "1.1",
         "Onsite",
         "Poor",
         "72",
         "8.6",
         "3.3",
         "True",
         "True"
        ],
        [
         "41",
         "42",
         "36",
         "UK",
         "12.9",
         "Remote",
         "Poor",
         "24",
         "6.3",
         "8.7",
         "False",
         "False"
        ],
        [
         "42",
         "43",
         "40",
         "Canada",
         "4.7",
         "Remote",
         "Good",
         "34",
         "6.4",
         "8.8",
         "True",
         "True"
        ],
        [
         "43",
         "44",
         "33",
         "USA",
         "2.3",
         "Hybrid",
         "Poor",
         "26",
         "8.6",
         "9.6",
         "True",
         "False"
        ],
        [
         "44",
         "45",
         "44",
         "Germany",
         "8.5",
         "Onsite",
         "Moderate",
         "75",
         "6.9",
         "3.2",
         "False",
         "False"
        ],
        [
         "45",
         "46",
         "41",
         "India",
         "2.0",
         "Remote",
         "Moderate",
         "87",
         "4.2",
         "7.0",
         "True",
         "False"
        ],
        [
         "46",
         "47",
         "46",
         "Brazil",
         "17.8",
         "Remote",
         "Poor",
         "62",
         "8.6",
         "5.8",
         "False",
         "True"
        ],
        [
         "47",
         "48",
         "24",
         "Australia",
         "1.5",
         "Onsite",
         "Poor",
         "60",
         "5.2",
         "4.8",
         "True",
         "False"
        ],
        [
         "48",
         "49",
         "26",
         "Germany",
         "12.0",
         "Hybrid",
         "Moderate",
         "48",
         "6.9",
         "4.8",
         "False",
         "True"
        ],
        [
         "49",
         "50",
         "40",
         "UK",
         "9.3",
         "Hybrid",
         "Moderate",
         "60",
         "4.8",
         "5.3",
         "False",
         "False"
        ]
       ],
       "shape": {
        "columns": 11,
        "rows": 100
       }
      },
      "text/html": [
       "<div>\n",
       "<style scoped>\n",
       "    .dataframe tbody tr th:only-of-type {\n",
       "        vertical-align: middle;\n",
       "    }\n",
       "\n",
       "    .dataframe tbody tr th {\n",
       "        vertical-align: top;\n",
       "    }\n",
       "\n",
       "    .dataframe thead th {\n",
       "        text-align: right;\n",
       "    }\n",
       "</style>\n",
       "<table border=\"1\" class=\"dataframe\">\n",
       "  <thead>\n",
       "    <tr style=\"text-align: right;\">\n",
       "      <th></th>\n",
       "      <th>ID_Empleado</th>\n",
       "      <th>Edad</th>\n",
       "      <th>Pais</th>\n",
       "      <th>Años_Experiencia</th>\n",
       "      <th>Modelo_de_Trabajo</th>\n",
       "      <th>Estado_de_Salud_Mental</th>\n",
       "      <th>Puntaje_de_Agobio</th>\n",
       "      <th>Horas_de_Sueño_Por_Día</th>\n",
       "      <th>Calificación_de_Equilibrio_Trabajo_Vida</th>\n",
       "      <th>Tiene_Acceso_a_Terapeuta</th>\n",
       "      <th>Dispuesto_a_Regresar_Al_Sitio</th>\n",
       "    </tr>\n",
       "  </thead>\n",
       "  <tbody>\n",
       "    <tr>\n",
       "      <th>0</th>\n",
       "      <td>1</td>\n",
       "      <td>28</td>\n",
       "      <td>Canada</td>\n",
       "      <td>5.4</td>\n",
       "      <td>Onsite</td>\n",
       "      <td>Poor</td>\n",
       "      <td>44</td>\n",
       "      <td>5.7</td>\n",
       "      <td>7.5</td>\n",
       "      <td>True</td>\n",
       "      <td>False</td>\n",
       "    </tr>\n",
       "    <tr>\n",
       "      <th>1</th>\n",
       "      <td>2</td>\n",
       "      <td>41</td>\n",
       "      <td>Australia</td>\n",
       "      <td>10.5</td>\n",
       "      <td>Remote</td>\n",
       "      <td>Good</td>\n",
       "      <td>58</td>\n",
       "      <td>5.1</td>\n",
       "      <td>8.6</td>\n",
       "      <td>False</td>\n",
       "      <td>True</td>\n",
       "    </tr>\n",
       "    <tr>\n",
       "      <th>2</th>\n",
       "      <td>3</td>\n",
       "      <td>36</td>\n",
       "      <td>Germany</td>\n",
       "      <td>11.9</td>\n",
       "      <td>Hybrid</td>\n",
       "      <td>Good</td>\n",
       "      <td>78</td>\n",
       "      <td>6.1</td>\n",
       "      <td>6.2</td>\n",
       "      <td>False</td>\n",
       "      <td>False</td>\n",
       "    </tr>\n",
       "    <tr>\n",
       "      <th>3</th>\n",
       "      <td>4</td>\n",
       "      <td>32</td>\n",
       "      <td>Germany</td>\n",
       "      <td>15.6</td>\n",
       "      <td>Hybrid</td>\n",
       "      <td>Moderate</td>\n",
       "      <td>71</td>\n",
       "      <td>5.4</td>\n",
       "      <td>8.5</td>\n",
       "      <td>True</td>\n",
       "      <td>True</td>\n",
       "    </tr>\n",
       "    <tr>\n",
       "      <th>4</th>\n",
       "      <td>5</td>\n",
       "      <td>29</td>\n",
       "      <td>UK</td>\n",
       "      <td>1.8</td>\n",
       "      <td>Hybrid</td>\n",
       "      <td>Poor</td>\n",
       "      <td>69</td>\n",
       "      <td>7.1</td>\n",
       "      <td>6.0</td>\n",
       "      <td>True</td>\n",
       "      <td>True</td>\n",
       "    </tr>\n",
       "    <tr>\n",
       "      <th>...</th>\n",
       "      <td>...</td>\n",
       "      <td>...</td>\n",
       "      <td>...</td>\n",
       "      <td>...</td>\n",
       "      <td>...</td>\n",
       "      <td>...</td>\n",
       "      <td>...</td>\n",
       "      <td>...</td>\n",
       "      <td>...</td>\n",
       "      <td>...</td>\n",
       "      <td>...</td>\n",
       "    </tr>\n",
       "    <tr>\n",
       "      <th>95</th>\n",
       "      <td>96</td>\n",
       "      <td>29</td>\n",
       "      <td>UK</td>\n",
       "      <td>11.8</td>\n",
       "      <td>Hybrid</td>\n",
       "      <td>Good</td>\n",
       "      <td>36</td>\n",
       "      <td>5.0</td>\n",
       "      <td>7.2</td>\n",
       "      <td>False</td>\n",
       "      <td>False</td>\n",
       "    </tr>\n",
       "    <tr>\n",
       "      <th>96</th>\n",
       "      <td>97</td>\n",
       "      <td>35</td>\n",
       "      <td>Germany</td>\n",
       "      <td>4.0</td>\n",
       "      <td>Remote</td>\n",
       "      <td>Good</td>\n",
       "      <td>78</td>\n",
       "      <td>6.5</td>\n",
       "      <td>4.9</td>\n",
       "      <td>True</td>\n",
       "      <td>False</td>\n",
       "    </tr>\n",
       "    <tr>\n",
       "      <th>97</th>\n",
       "      <td>98</td>\n",
       "      <td>44</td>\n",
       "      <td>Australia</td>\n",
       "      <td>3.3</td>\n",
       "      <td>Remote</td>\n",
       "      <td>Poor</td>\n",
       "      <td>29</td>\n",
       "      <td>7.0</td>\n",
       "      <td>6.5</td>\n",
       "      <td>False</td>\n",
       "      <td>True</td>\n",
       "    </tr>\n",
       "    <tr>\n",
       "      <th>98</th>\n",
       "      <td>99</td>\n",
       "      <td>49</td>\n",
       "      <td>USA</td>\n",
       "      <td>7.5</td>\n",
       "      <td>Hybrid</td>\n",
       "      <td>Poor</td>\n",
       "      <td>20</td>\n",
       "      <td>5.7</td>\n",
       "      <td>5.8</td>\n",
       "      <td>False</td>\n",
       "      <td>False</td>\n",
       "    </tr>\n",
       "    <tr>\n",
       "      <th>99</th>\n",
       "      <td>100</td>\n",
       "      <td>46</td>\n",
       "      <td>USA</td>\n",
       "      <td>2.7</td>\n",
       "      <td>Remote</td>\n",
       "      <td>Moderate</td>\n",
       "      <td>83</td>\n",
       "      <td>6.8</td>\n",
       "      <td>9.1</td>\n",
       "      <td>True</td>\n",
       "      <td>True</td>\n",
       "    </tr>\n",
       "  </tbody>\n",
       "</table>\n",
       "<p>100 rows × 11 columns</p>\n",
       "</div>"
      ],
      "text/plain": [
       "    ID_Empleado  Edad       Pais  Años_Experiencia Modelo_de_Trabajo  \\\n",
       "0             1    28     Canada               5.4            Onsite   \n",
       "1             2    41  Australia              10.5            Remote   \n",
       "2             3    36    Germany              11.9            Hybrid   \n",
       "3             4    32    Germany              15.6            Hybrid   \n",
       "4             5    29         UK               1.8            Hybrid   \n",
       "..          ...   ...        ...               ...               ...   \n",
       "95           96    29         UK              11.8            Hybrid   \n",
       "96           97    35    Germany               4.0            Remote   \n",
       "97           98    44  Australia               3.3            Remote   \n",
       "98           99    49        USA               7.5            Hybrid   \n",
       "99          100    46        USA               2.7            Remote   \n",
       "\n",
       "   Estado_de_Salud_Mental  Puntaje_de_Agobio  Horas_de_Sueño_Por_Día  \\\n",
       "0                    Poor                 44                     5.7   \n",
       "1                    Good                 58                     5.1   \n",
       "2                    Good                 78                     6.1   \n",
       "3                Moderate                 71                     5.4   \n",
       "4                    Poor                 69                     7.1   \n",
       "..                    ...                ...                     ...   \n",
       "95                   Good                 36                     5.0   \n",
       "96                   Good                 78                     6.5   \n",
       "97                   Poor                 29                     7.0   \n",
       "98                   Poor                 20                     5.7   \n",
       "99               Moderate                 83                     6.8   \n",
       "\n",
       "    Calificación_de_Equilibrio_Trabajo_Vida  Tiene_Acceso_a_Terapeuta  \\\n",
       "0                                       7.5                      True   \n",
       "1                                       8.6                     False   \n",
       "2                                       6.2                     False   \n",
       "3                                       8.5                      True   \n",
       "4                                       6.0                      True   \n",
       "..                                      ...                       ...   \n",
       "95                                      7.2                     False   \n",
       "96                                      4.9                      True   \n",
       "97                                      6.5                     False   \n",
       "98                                      5.8                     False   \n",
       "99                                      9.1                      True   \n",
       "\n",
       "    Dispuesto_a_Regresar_Al_Sitio  \n",
       "0                           False  \n",
       "1                            True  \n",
       "2                           False  \n",
       "3                            True  \n",
       "4                            True  \n",
       "..                            ...  \n",
       "95                          False  \n",
       "96                          False  \n",
       "97                           True  \n",
       "98                          False  \n",
       "99                           True  \n",
       "\n",
       "[100 rows x 11 columns]"
      ]
     },
     "execution_count": 67,
     "metadata": {},
     "output_type": "execute_result"
    }
   ],
   "source": [
    "df = df.drop(columns='Nombre')\n",
    "df"
   ]
  },
  {
   "cell_type": "code",
   "execution_count": 68,
   "id": "fc0a87a4",
   "metadata": {},
   "outputs": [
    {
     "name": "stdout",
     "output_type": "stream",
     "text": [
      "<class 'pandas.core.frame.DataFrame'>\n",
      "RangeIndex: 100 entries, 0 to 99\n",
      "Data columns (total 11 columns):\n",
      " #   Column                                   Non-Null Count  Dtype  \n",
      "---  ------                                   --------------  -----  \n",
      " 0   ID_Empleado                              100 non-null    int64  \n",
      " 1   Edad                                     100 non-null    int64  \n",
      " 2   Pais                                     100 non-null    object \n",
      " 3   Años_Experiencia                         100 non-null    float64\n",
      " 4   Modelo_de_Trabajo                        100 non-null    object \n",
      " 5   Estado_de_Salud_Mental                   100 non-null    object \n",
      " 6   Puntaje_de_Agobio                        100 non-null    int64  \n",
      " 7   Horas_de_Sueño_Por_Día                   100 non-null    float64\n",
      " 8   Calificación_de_Equilibrio_Trabajo_Vida  100 non-null    float64\n",
      " 9   Tiene_Acceso_a_Terapeuta                 100 non-null    bool   \n",
      " 10  Dispuesto_a_Regresar_Al_Sitio            100 non-null    bool   \n",
      "dtypes: bool(2), float64(3), int64(3), object(3)\n",
      "memory usage: 7.4+ KB\n"
     ]
    }
   ],
   "source": [
    "df.info()"
   ]
  },
  {
   "cell_type": "code",
   "execution_count": 69,
   "id": "8db814ef",
   "metadata": {},
   "outputs": [
    {
     "data": {
      "application/vnd.microsoft.datawrangler.viewer.v0+json": {
       "columns": [
        {
         "name": "index",
         "rawType": "int64",
         "type": "integer"
        },
        {
         "name": "ID_Empleado",
         "rawType": "int64",
         "type": "integer"
        },
        {
         "name": "Edad",
         "rawType": "int64",
         "type": "integer"
        },
        {
         "name": "Pais",
         "rawType": "object",
         "type": "string"
        },
        {
         "name": "Años_Experiencia",
         "rawType": "float64",
         "type": "float"
        },
        {
         "name": "Modelo_de_Trabajo",
         "rawType": "object",
         "type": "string"
        },
        {
         "name": "Estado_de_Salud_Mental",
         "rawType": "object",
         "type": "string"
        },
        {
         "name": "Puntaje_de_Agobio",
         "rawType": "int64",
         "type": "integer"
        },
        {
         "name": "Horas_de_Sueño_Por_Día",
         "rawType": "float64",
         "type": "float"
        },
        {
         "name": "Calificación_de_Equilibrio_Trabajo_Vida",
         "rawType": "float64",
         "type": "float"
        },
        {
         "name": "Tiene_Acceso_a_Terapeuta",
         "rawType": "bool",
         "type": "boolean"
        },
        {
         "name": "Dispuesto_a_Regresar_Al_Sitio",
         "rawType": "bool",
         "type": "boolean"
        }
       ],
       "ref": "b60e00af-3ac5-4d12-a971-8e41563b1456",
       "rows": [
        [
         "0",
         "1",
         "28",
         "Canada",
         "5.4",
         "Onsite",
         "Poor",
         "44",
         "5.7",
         "7.5",
         "True",
         "False"
        ],
        [
         "1",
         "2",
         "41",
         "Australia",
         "10.5",
         "Remote",
         "Good",
         "58",
         "5.1",
         "8.6",
         "False",
         "True"
        ],
        [
         "2",
         "3",
         "36",
         "Germany",
         "11.9",
         "Hybrid",
         "Good",
         "78",
         "6.1",
         "6.2",
         "False",
         "False"
        ],
        [
         "3",
         "4",
         "32",
         "Germany",
         "15.6",
         "Hybrid",
         "Moderate",
         "71",
         "5.4",
         "8.5",
         "True",
         "True"
        ],
        [
         "4",
         "5",
         "29",
         "UK",
         "1.8",
         "Hybrid",
         "Poor",
         "69",
         "7.1",
         "6.0",
         "True",
         "True"
        ],
        [
         "5",
         "6",
         "42",
         "Brazil",
         "19.9",
         "Remote",
         "Poor",
         "59",
         "8.6",
         "2.5",
         "False",
         "False"
        ],
        [
         "6",
         "7",
         "28",
         "India",
         "9.9",
         "Hybrid",
         "Moderate",
         "87",
         "4.7",
         "5.2",
         "True",
         "False"
        ],
        [
         "7",
         "8",
         "47",
         "India",
         "6.3",
         "Hybrid",
         "Moderate",
         "84",
         "4.5",
         "6.0",
         "True",
         "True"
        ],
        [
         "8",
         "9",
         "40",
         "Canada",
         "17.8",
         "Remote",
         "Poor",
         "18",
         "5.3",
         "7.8",
         "False",
         "False"
        ],
        [
         "9",
         "10",
         "44",
         "UK",
         "15.2",
         "Onsite",
         "Good",
         "43",
         "7.6",
         "2.9",
         "True",
         "False"
        ],
        [
         "10",
         "11",
         "32",
         "USA",
         "19.1",
         "Remote",
         "Poor",
         "85",
         "7.0",
         "3.1",
         "False",
         "True"
        ],
        [
         "11",
         "12",
         "32",
         "Canada",
         "7.3",
         "Hybrid",
         "Moderate",
         "44",
         "4.5",
         "4.1",
         "True",
         "True"
        ],
        [
         "12",
         "13",
         "45",
         "UK",
         "11.5",
         "Hybrid",
         "Good",
         "10",
         "8.6",
         "4.1",
         "False",
         "False"
        ],
        [
         "13",
         "14",
         "42",
         "Brazil",
         "11.9",
         "Remote",
         "Good",
         "49",
         "8.0",
         "7.9",
         "True",
         "True"
        ],
        [
         "14",
         "15",
         "25",
         "Brazil",
         "19.6",
         "Onsite",
         "Moderate",
         "73",
         "4.1",
         "4.0",
         "True",
         "True"
        ],
        [
         "15",
         "16",
         "29",
         "Brazil",
         "2.4",
         "Hybrid",
         "Moderate",
         "31",
         "7.3",
         "7.1",
         "False",
         "True"
        ],
        [
         "16",
         "17",
         "45",
         "Brazil",
         "6.8",
         "Hybrid",
         "Moderate",
         "69",
         "7.9",
         "6.0",
         "True",
         "False"
        ],
        [
         "17",
         "18",
         "24",
         "Brazil",
         "4.6",
         "Hybrid",
         "Poor",
         "73",
         "5.9",
         "6.6",
         "False",
         "False"
        ],
        [
         "18",
         "19",
         "43",
         "UK",
         "6.1",
         "Remote",
         "Poor",
         "81",
         "4.3",
         "8.7",
         "True",
         "True"
        ],
        [
         "19",
         "20",
         "42",
         "UK",
         "10.2",
         "Hybrid",
         "Good",
         "20",
         "4.4",
         "5.2",
         "False",
         "False"
        ],
        [
         "20",
         "21",
         "23",
         "Germany",
         "8.1",
         "Onsite",
         "Moderate",
         "23",
         "4.5",
         "8.2",
         "False",
         "True"
        ],
        [
         "21",
         "22",
         "45",
         "India",
         "8.5",
         "Hybrid",
         "Good",
         "69",
         "8.2",
         "5.4",
         "False",
         "False"
        ],
        [
         "22",
         "23",
         "33",
         "Australia",
         "17.0",
         "Hybrid",
         "Good",
         "39",
         "8.6",
         "4.8",
         "False",
         "True"
        ],
        [
         "23",
         "24",
         "27",
         "Brazil",
         "18.7",
         "Onsite",
         "Good",
         "44",
         "4.6",
         "9.7",
         "True",
         "True"
        ],
        [
         "24",
         "25",
         "23",
         "USA",
         "2.3",
         "Hybrid",
         "Good",
         "46",
         "5.2",
         "3.5",
         "True",
         "False"
        ],
        [
         "25",
         "26",
         "49",
         "Australia",
         "5.0",
         "Remote",
         "Moderate",
         "14",
         "4.8",
         "2.7",
         "False",
         "True"
        ],
        [
         "26",
         "27",
         "42",
         "UK",
         "13.8",
         "Remote",
         "Good",
         "87",
         "4.9",
         "8.2",
         "False",
         "False"
        ],
        [
         "27",
         "28",
         "22",
         "USA",
         "7.8",
         "Remote",
         "Moderate",
         "35",
         "8.2",
         "2.5",
         "False",
         "False"
        ],
        [
         "28",
         "29",
         "33",
         "USA",
         "5.8",
         "Onsite",
         "Moderate",
         "71",
         "5.7",
         "8.7",
         "True",
         "True"
        ],
        [
         "29",
         "30",
         "47",
         "USA",
         "6.6",
         "Hybrid",
         "Poor",
         "13",
         "5.6",
         "5.5",
         "True",
         "True"
        ],
        [
         "30",
         "31",
         "43",
         "Germany",
         "7.1",
         "Remote",
         "Moderate",
         "51",
         "5.1",
         "9.3",
         "True",
         "False"
        ],
        [
         "31",
         "32",
         "33",
         "UK",
         "17.1",
         "Onsite",
         "Poor",
         "27",
         "7.0",
         "7.8",
         "True",
         "True"
        ],
        [
         "32",
         "33",
         "46",
         "USA",
         "3.6",
         "Hybrid",
         "Moderate",
         "49",
         "5.9",
         "6.9",
         "False",
         "True"
        ],
        [
         "33",
         "34",
         "38",
         "Brazil",
         "14.5",
         "Onsite",
         "Moderate",
         "81",
         "7.7",
         "9.6",
         "False",
         "True"
        ],
        [
         "34",
         "35",
         "48",
         "Canada",
         "11.5",
         "Remote",
         "Moderate",
         "48",
         "5.0",
         "5.2",
         "False",
         "True"
        ],
        [
         "35",
         "36",
         "48",
         "USA",
         "6.6",
         "Remote",
         "Poor",
         "23",
         "7.9",
         "9.6",
         "True",
         "True"
        ],
        [
         "36",
         "37",
         "31",
         "Germany",
         "9.0",
         "Remote",
         "Poor",
         "41",
         "7.0",
         "3.1",
         "True",
         "False"
        ],
        [
         "37",
         "38",
         "49",
         "Australia",
         "5.9",
         "Onsite",
         "Good",
         "60",
         "4.6",
         "5.9",
         "True",
         "False"
        ],
        [
         "38",
         "39",
         "49",
         "UK",
         "12.6",
         "Onsite",
         "Poor",
         "47",
         "6.1",
         "4.2",
         "False",
         "True"
        ],
        [
         "39",
         "40",
         "37",
         "Germany",
         "2.6",
         "Remote",
         "Poor",
         "32",
         "8.3",
         "6.3",
         "False",
         "True"
        ],
        [
         "40",
         "41",
         "36",
         "USA",
         "1.1",
         "Onsite",
         "Poor",
         "72",
         "8.6",
         "3.3",
         "True",
         "True"
        ],
        [
         "41",
         "42",
         "36",
         "UK",
         "12.9",
         "Remote",
         "Poor",
         "24",
         "6.3",
         "8.7",
         "False",
         "False"
        ],
        [
         "42",
         "43",
         "40",
         "Canada",
         "4.7",
         "Remote",
         "Good",
         "34",
         "6.4",
         "8.8",
         "True",
         "True"
        ],
        [
         "43",
         "44",
         "33",
         "USA",
         "2.3",
         "Hybrid",
         "Poor",
         "26",
         "8.6",
         "9.6",
         "True",
         "False"
        ],
        [
         "44",
         "45",
         "44",
         "Germany",
         "8.5",
         "Onsite",
         "Moderate",
         "75",
         "6.9",
         "3.2",
         "False",
         "False"
        ],
        [
         "45",
         "46",
         "41",
         "India",
         "2.0",
         "Remote",
         "Moderate",
         "87",
         "4.2",
         "7.0",
         "True",
         "False"
        ],
        [
         "46",
         "47",
         "46",
         "Brazil",
         "17.8",
         "Remote",
         "Poor",
         "62",
         "8.6",
         "5.8",
         "False",
         "True"
        ],
        [
         "47",
         "48",
         "24",
         "Australia",
         "1.5",
         "Onsite",
         "Poor",
         "60",
         "5.2",
         "4.8",
         "True",
         "False"
        ],
        [
         "48",
         "49",
         "26",
         "Germany",
         "12.0",
         "Hybrid",
         "Moderate",
         "48",
         "6.9",
         "4.8",
         "False",
         "True"
        ],
        [
         "49",
         "50",
         "40",
         "UK",
         "9.3",
         "Hybrid",
         "Moderate",
         "60",
         "4.8",
         "5.3",
         "False",
         "False"
        ]
       ],
       "shape": {
        "columns": 11,
        "rows": 100
       }
      },
      "text/html": [
       "<div>\n",
       "<style scoped>\n",
       "    .dataframe tbody tr th:only-of-type {\n",
       "        vertical-align: middle;\n",
       "    }\n",
       "\n",
       "    .dataframe tbody tr th {\n",
       "        vertical-align: top;\n",
       "    }\n",
       "\n",
       "    .dataframe thead th {\n",
       "        text-align: right;\n",
       "    }\n",
       "</style>\n",
       "<table border=\"1\" class=\"dataframe\">\n",
       "  <thead>\n",
       "    <tr style=\"text-align: right;\">\n",
       "      <th></th>\n",
       "      <th>ID_Empleado</th>\n",
       "      <th>Edad</th>\n",
       "      <th>Pais</th>\n",
       "      <th>Años_Experiencia</th>\n",
       "      <th>Modelo_de_Trabajo</th>\n",
       "      <th>Estado_de_Salud_Mental</th>\n",
       "      <th>Puntaje_de_Agobio</th>\n",
       "      <th>Horas_de_Sueño_Por_Día</th>\n",
       "      <th>Calificación_de_Equilibrio_Trabajo_Vida</th>\n",
       "      <th>Tiene_Acceso_a_Terapeuta</th>\n",
       "      <th>Dispuesto_a_Regresar_Al_Sitio</th>\n",
       "    </tr>\n",
       "  </thead>\n",
       "  <tbody>\n",
       "    <tr>\n",
       "      <th>0</th>\n",
       "      <td>1</td>\n",
       "      <td>28</td>\n",
       "      <td>Canada</td>\n",
       "      <td>5.4</td>\n",
       "      <td>Onsite</td>\n",
       "      <td>Poor</td>\n",
       "      <td>44</td>\n",
       "      <td>5.7</td>\n",
       "      <td>7.5</td>\n",
       "      <td>True</td>\n",
       "      <td>False</td>\n",
       "    </tr>\n",
       "    <tr>\n",
       "      <th>1</th>\n",
       "      <td>2</td>\n",
       "      <td>41</td>\n",
       "      <td>Australia</td>\n",
       "      <td>10.5</td>\n",
       "      <td>Remote</td>\n",
       "      <td>Good</td>\n",
       "      <td>58</td>\n",
       "      <td>5.1</td>\n",
       "      <td>8.6</td>\n",
       "      <td>False</td>\n",
       "      <td>True</td>\n",
       "    </tr>\n",
       "    <tr>\n",
       "      <th>2</th>\n",
       "      <td>3</td>\n",
       "      <td>36</td>\n",
       "      <td>Germany</td>\n",
       "      <td>11.9</td>\n",
       "      <td>Hybrid</td>\n",
       "      <td>Good</td>\n",
       "      <td>78</td>\n",
       "      <td>6.1</td>\n",
       "      <td>6.2</td>\n",
       "      <td>False</td>\n",
       "      <td>False</td>\n",
       "    </tr>\n",
       "    <tr>\n",
       "      <th>3</th>\n",
       "      <td>4</td>\n",
       "      <td>32</td>\n",
       "      <td>Germany</td>\n",
       "      <td>15.6</td>\n",
       "      <td>Hybrid</td>\n",
       "      <td>Moderate</td>\n",
       "      <td>71</td>\n",
       "      <td>5.4</td>\n",
       "      <td>8.5</td>\n",
       "      <td>True</td>\n",
       "      <td>True</td>\n",
       "    </tr>\n",
       "    <tr>\n",
       "      <th>4</th>\n",
       "      <td>5</td>\n",
       "      <td>29</td>\n",
       "      <td>UK</td>\n",
       "      <td>1.8</td>\n",
       "      <td>Hybrid</td>\n",
       "      <td>Poor</td>\n",
       "      <td>69</td>\n",
       "      <td>7.1</td>\n",
       "      <td>6.0</td>\n",
       "      <td>True</td>\n",
       "      <td>True</td>\n",
       "    </tr>\n",
       "    <tr>\n",
       "      <th>...</th>\n",
       "      <td>...</td>\n",
       "      <td>...</td>\n",
       "      <td>...</td>\n",
       "      <td>...</td>\n",
       "      <td>...</td>\n",
       "      <td>...</td>\n",
       "      <td>...</td>\n",
       "      <td>...</td>\n",
       "      <td>...</td>\n",
       "      <td>...</td>\n",
       "      <td>...</td>\n",
       "    </tr>\n",
       "    <tr>\n",
       "      <th>95</th>\n",
       "      <td>96</td>\n",
       "      <td>29</td>\n",
       "      <td>UK</td>\n",
       "      <td>11.8</td>\n",
       "      <td>Hybrid</td>\n",
       "      <td>Good</td>\n",
       "      <td>36</td>\n",
       "      <td>5.0</td>\n",
       "      <td>7.2</td>\n",
       "      <td>False</td>\n",
       "      <td>False</td>\n",
       "    </tr>\n",
       "    <tr>\n",
       "      <th>96</th>\n",
       "      <td>97</td>\n",
       "      <td>35</td>\n",
       "      <td>Germany</td>\n",
       "      <td>4.0</td>\n",
       "      <td>Remote</td>\n",
       "      <td>Good</td>\n",
       "      <td>78</td>\n",
       "      <td>6.5</td>\n",
       "      <td>4.9</td>\n",
       "      <td>True</td>\n",
       "      <td>False</td>\n",
       "    </tr>\n",
       "    <tr>\n",
       "      <th>97</th>\n",
       "      <td>98</td>\n",
       "      <td>44</td>\n",
       "      <td>Australia</td>\n",
       "      <td>3.3</td>\n",
       "      <td>Remote</td>\n",
       "      <td>Poor</td>\n",
       "      <td>29</td>\n",
       "      <td>7.0</td>\n",
       "      <td>6.5</td>\n",
       "      <td>False</td>\n",
       "      <td>True</td>\n",
       "    </tr>\n",
       "    <tr>\n",
       "      <th>98</th>\n",
       "      <td>99</td>\n",
       "      <td>49</td>\n",
       "      <td>USA</td>\n",
       "      <td>7.5</td>\n",
       "      <td>Hybrid</td>\n",
       "      <td>Poor</td>\n",
       "      <td>20</td>\n",
       "      <td>5.7</td>\n",
       "      <td>5.8</td>\n",
       "      <td>False</td>\n",
       "      <td>False</td>\n",
       "    </tr>\n",
       "    <tr>\n",
       "      <th>99</th>\n",
       "      <td>100</td>\n",
       "      <td>46</td>\n",
       "      <td>USA</td>\n",
       "      <td>2.7</td>\n",
       "      <td>Remote</td>\n",
       "      <td>Moderate</td>\n",
       "      <td>83</td>\n",
       "      <td>6.8</td>\n",
       "      <td>9.1</td>\n",
       "      <td>True</td>\n",
       "      <td>True</td>\n",
       "    </tr>\n",
       "  </tbody>\n",
       "</table>\n",
       "<p>100 rows × 11 columns</p>\n",
       "</div>"
      ],
      "text/plain": [
       "    ID_Empleado  Edad       Pais  Años_Experiencia Modelo_de_Trabajo  \\\n",
       "0             1    28     Canada               5.4            Onsite   \n",
       "1             2    41  Australia              10.5            Remote   \n",
       "2             3    36    Germany              11.9            Hybrid   \n",
       "3             4    32    Germany              15.6            Hybrid   \n",
       "4             5    29         UK               1.8            Hybrid   \n",
       "..          ...   ...        ...               ...               ...   \n",
       "95           96    29         UK              11.8            Hybrid   \n",
       "96           97    35    Germany               4.0            Remote   \n",
       "97           98    44  Australia               3.3            Remote   \n",
       "98           99    49        USA               7.5            Hybrid   \n",
       "99          100    46        USA               2.7            Remote   \n",
       "\n",
       "   Estado_de_Salud_Mental  Puntaje_de_Agobio  Horas_de_Sueño_Por_Día  \\\n",
       "0                    Poor                 44                     5.7   \n",
       "1                    Good                 58                     5.1   \n",
       "2                    Good                 78                     6.1   \n",
       "3                Moderate                 71                     5.4   \n",
       "4                    Poor                 69                     7.1   \n",
       "..                    ...                ...                     ...   \n",
       "95                   Good                 36                     5.0   \n",
       "96                   Good                 78                     6.5   \n",
       "97                   Poor                 29                     7.0   \n",
       "98                   Poor                 20                     5.7   \n",
       "99               Moderate                 83                     6.8   \n",
       "\n",
       "    Calificación_de_Equilibrio_Trabajo_Vida  Tiene_Acceso_a_Terapeuta  \\\n",
       "0                                       7.5                      True   \n",
       "1                                       8.6                     False   \n",
       "2                                       6.2                     False   \n",
       "3                                       8.5                      True   \n",
       "4                                       6.0                      True   \n",
       "..                                      ...                       ...   \n",
       "95                                      7.2                     False   \n",
       "96                                      4.9                      True   \n",
       "97                                      6.5                     False   \n",
       "98                                      5.8                     False   \n",
       "99                                      9.1                      True   \n",
       "\n",
       "    Dispuesto_a_Regresar_Al_Sitio  \n",
       "0                           False  \n",
       "1                            True  \n",
       "2                           False  \n",
       "3                            True  \n",
       "4                            True  \n",
       "..                            ...  \n",
       "95                          False  \n",
       "96                          False  \n",
       "97                           True  \n",
       "98                          False  \n",
       "99                           True  \n",
       "\n",
       "[100 rows x 11 columns]"
      ]
     },
     "execution_count": 69,
     "metadata": {},
     "output_type": "execute_result"
    }
   ],
   "source": [
    "# eliminas filas con valores nulos\n",
    "df.dropna(inplace=True)\n",
    "df"
   ]
  },
  {
   "cell_type": "code",
   "execution_count": 70,
   "id": "2e5f2a2b",
   "metadata": {},
   "outputs": [
    {
     "data": {
      "application/vnd.plotly.v1+json": {
       "config": {
        "plotlyServerURL": "https://plot.ly"
       },
       "data": [
        {
         "domain": {
          "x": [
           0,
           1
          ],
          "y": [
           0,
           1
          ]
         },
         "hovertemplate": "Estado_de_Salud_Mental=%{label}<extra></extra>",
         "labels": [
          "Poor",
          "Good",
          "Good",
          "Moderate",
          "Poor",
          "Poor",
          "Moderate",
          "Moderate",
          "Poor",
          "Good",
          "Poor",
          "Moderate",
          "Good",
          "Good",
          "Moderate",
          "Moderate",
          "Moderate",
          "Poor",
          "Poor",
          "Good",
          "Moderate",
          "Good",
          "Good",
          "Good",
          "Good",
          "Moderate",
          "Good",
          "Moderate",
          "Moderate",
          "Poor",
          "Moderate",
          "Poor",
          "Moderate",
          "Moderate",
          "Moderate",
          "Poor",
          "Poor",
          "Good",
          "Poor",
          "Poor",
          "Poor",
          "Poor",
          "Good",
          "Poor",
          "Moderate",
          "Moderate",
          "Poor",
          "Poor",
          "Moderate",
          "Moderate",
          "Good",
          "Moderate",
          "Moderate",
          "Poor",
          "Moderate",
          "Good",
          "Moderate",
          "Poor",
          "Poor",
          "Moderate",
          "Poor",
          "Good",
          "Good",
          "Moderate",
          "Moderate",
          "Moderate",
          "Poor",
          "Good",
          "Good",
          "Poor",
          "Good",
          "Moderate",
          "Moderate",
          "Moderate",
          "Good",
          "Moderate",
          "Poor",
          "Poor",
          "Good",
          "Poor",
          "Poor",
          "Good",
          "Moderate",
          "Moderate",
          "Moderate",
          "Good",
          "Poor",
          "Moderate",
          "Moderate",
          "Good",
          "Moderate",
          "Good",
          "Poor",
          "Good",
          "Good",
          "Good",
          "Good",
          "Poor",
          "Poor",
          "Moderate"
         ],
         "legendgroup": "",
         "name": "",
         "showlegend": true,
         "type": "pie"
        }
       ],
       "layout": {
        "legend": {
         "tracegroupgap": 0
        },
        "template": {
         "data": {
          "bar": [
           {
            "error_x": {
             "color": "#2a3f5f"
            },
            "error_y": {
             "color": "#2a3f5f"
            },
            "marker": {
             "line": {
              "color": "#E5ECF6",
              "width": 0.5
             },
             "pattern": {
              "fillmode": "overlay",
              "size": 10,
              "solidity": 0.2
             }
            },
            "type": "bar"
           }
          ],
          "barpolar": [
           {
            "marker": {
             "line": {
              "color": "#E5ECF6",
              "width": 0.5
             },
             "pattern": {
              "fillmode": "overlay",
              "size": 10,
              "solidity": 0.2
             }
            },
            "type": "barpolar"
           }
          ],
          "carpet": [
           {
            "aaxis": {
             "endlinecolor": "#2a3f5f",
             "gridcolor": "white",
             "linecolor": "white",
             "minorgridcolor": "white",
             "startlinecolor": "#2a3f5f"
            },
            "baxis": {
             "endlinecolor": "#2a3f5f",
             "gridcolor": "white",
             "linecolor": "white",
             "minorgridcolor": "white",
             "startlinecolor": "#2a3f5f"
            },
            "type": "carpet"
           }
          ],
          "choropleth": [
           {
            "colorbar": {
             "outlinewidth": 0,
             "ticks": ""
            },
            "type": "choropleth"
           }
          ],
          "contour": [
           {
            "colorbar": {
             "outlinewidth": 0,
             "ticks": ""
            },
            "colorscale": [
             [
              0,
              "#0d0887"
             ],
             [
              0.1111111111111111,
              "#46039f"
             ],
             [
              0.2222222222222222,
              "#7201a8"
             ],
             [
              0.3333333333333333,
              "#9c179e"
             ],
             [
              0.4444444444444444,
              "#bd3786"
             ],
             [
              0.5555555555555556,
              "#d8576b"
             ],
             [
              0.6666666666666666,
              "#ed7953"
             ],
             [
              0.7777777777777778,
              "#fb9f3a"
             ],
             [
              0.8888888888888888,
              "#fdca26"
             ],
             [
              1,
              "#f0f921"
             ]
            ],
            "type": "contour"
           }
          ],
          "contourcarpet": [
           {
            "colorbar": {
             "outlinewidth": 0,
             "ticks": ""
            },
            "type": "contourcarpet"
           }
          ],
          "heatmap": [
           {
            "colorbar": {
             "outlinewidth": 0,
             "ticks": ""
            },
            "colorscale": [
             [
              0,
              "#0d0887"
             ],
             [
              0.1111111111111111,
              "#46039f"
             ],
             [
              0.2222222222222222,
              "#7201a8"
             ],
             [
              0.3333333333333333,
              "#9c179e"
             ],
             [
              0.4444444444444444,
              "#bd3786"
             ],
             [
              0.5555555555555556,
              "#d8576b"
             ],
             [
              0.6666666666666666,
              "#ed7953"
             ],
             [
              0.7777777777777778,
              "#fb9f3a"
             ],
             [
              0.8888888888888888,
              "#fdca26"
             ],
             [
              1,
              "#f0f921"
             ]
            ],
            "type": "heatmap"
           }
          ],
          "histogram": [
           {
            "marker": {
             "pattern": {
              "fillmode": "overlay",
              "size": 10,
              "solidity": 0.2
             }
            },
            "type": "histogram"
           }
          ],
          "histogram2d": [
           {
            "colorbar": {
             "outlinewidth": 0,
             "ticks": ""
            },
            "colorscale": [
             [
              0,
              "#0d0887"
             ],
             [
              0.1111111111111111,
              "#46039f"
             ],
             [
              0.2222222222222222,
              "#7201a8"
             ],
             [
              0.3333333333333333,
              "#9c179e"
             ],
             [
              0.4444444444444444,
              "#bd3786"
             ],
             [
              0.5555555555555556,
              "#d8576b"
             ],
             [
              0.6666666666666666,
              "#ed7953"
             ],
             [
              0.7777777777777778,
              "#fb9f3a"
             ],
             [
              0.8888888888888888,
              "#fdca26"
             ],
             [
              1,
              "#f0f921"
             ]
            ],
            "type": "histogram2d"
           }
          ],
          "histogram2dcontour": [
           {
            "colorbar": {
             "outlinewidth": 0,
             "ticks": ""
            },
            "colorscale": [
             [
              0,
              "#0d0887"
             ],
             [
              0.1111111111111111,
              "#46039f"
             ],
             [
              0.2222222222222222,
              "#7201a8"
             ],
             [
              0.3333333333333333,
              "#9c179e"
             ],
             [
              0.4444444444444444,
              "#bd3786"
             ],
             [
              0.5555555555555556,
              "#d8576b"
             ],
             [
              0.6666666666666666,
              "#ed7953"
             ],
             [
              0.7777777777777778,
              "#fb9f3a"
             ],
             [
              0.8888888888888888,
              "#fdca26"
             ],
             [
              1,
              "#f0f921"
             ]
            ],
            "type": "histogram2dcontour"
           }
          ],
          "mesh3d": [
           {
            "colorbar": {
             "outlinewidth": 0,
             "ticks": ""
            },
            "type": "mesh3d"
           }
          ],
          "parcoords": [
           {
            "line": {
             "colorbar": {
              "outlinewidth": 0,
              "ticks": ""
             }
            },
            "type": "parcoords"
           }
          ],
          "pie": [
           {
            "automargin": true,
            "type": "pie"
           }
          ],
          "scatter": [
           {
            "fillpattern": {
             "fillmode": "overlay",
             "size": 10,
             "solidity": 0.2
            },
            "type": "scatter"
           }
          ],
          "scatter3d": [
           {
            "line": {
             "colorbar": {
              "outlinewidth": 0,
              "ticks": ""
             }
            },
            "marker": {
             "colorbar": {
              "outlinewidth": 0,
              "ticks": ""
             }
            },
            "type": "scatter3d"
           }
          ],
          "scattercarpet": [
           {
            "marker": {
             "colorbar": {
              "outlinewidth": 0,
              "ticks": ""
             }
            },
            "type": "scattercarpet"
           }
          ],
          "scattergeo": [
           {
            "marker": {
             "colorbar": {
              "outlinewidth": 0,
              "ticks": ""
             }
            },
            "type": "scattergeo"
           }
          ],
          "scattergl": [
           {
            "marker": {
             "colorbar": {
              "outlinewidth": 0,
              "ticks": ""
             }
            },
            "type": "scattergl"
           }
          ],
          "scattermap": [
           {
            "marker": {
             "colorbar": {
              "outlinewidth": 0,
              "ticks": ""
             }
            },
            "type": "scattermap"
           }
          ],
          "scattermapbox": [
           {
            "marker": {
             "colorbar": {
              "outlinewidth": 0,
              "ticks": ""
             }
            },
            "type": "scattermapbox"
           }
          ],
          "scatterpolar": [
           {
            "marker": {
             "colorbar": {
              "outlinewidth": 0,
              "ticks": ""
             }
            },
            "type": "scatterpolar"
           }
          ],
          "scatterpolargl": [
           {
            "marker": {
             "colorbar": {
              "outlinewidth": 0,
              "ticks": ""
             }
            },
            "type": "scatterpolargl"
           }
          ],
          "scatterternary": [
           {
            "marker": {
             "colorbar": {
              "outlinewidth": 0,
              "ticks": ""
             }
            },
            "type": "scatterternary"
           }
          ],
          "surface": [
           {
            "colorbar": {
             "outlinewidth": 0,
             "ticks": ""
            },
            "colorscale": [
             [
              0,
              "#0d0887"
             ],
             [
              0.1111111111111111,
              "#46039f"
             ],
             [
              0.2222222222222222,
              "#7201a8"
             ],
             [
              0.3333333333333333,
              "#9c179e"
             ],
             [
              0.4444444444444444,
              "#bd3786"
             ],
             [
              0.5555555555555556,
              "#d8576b"
             ],
             [
              0.6666666666666666,
              "#ed7953"
             ],
             [
              0.7777777777777778,
              "#fb9f3a"
             ],
             [
              0.8888888888888888,
              "#fdca26"
             ],
             [
              1,
              "#f0f921"
             ]
            ],
            "type": "surface"
           }
          ],
          "table": [
           {
            "cells": {
             "fill": {
              "color": "#EBF0F8"
             },
             "line": {
              "color": "white"
             }
            },
            "header": {
             "fill": {
              "color": "#C8D4E3"
             },
             "line": {
              "color": "white"
             }
            },
            "type": "table"
           }
          ]
         },
         "layout": {
          "annotationdefaults": {
           "arrowcolor": "#2a3f5f",
           "arrowhead": 0,
           "arrowwidth": 1
          },
          "autotypenumbers": "strict",
          "coloraxis": {
           "colorbar": {
            "outlinewidth": 0,
            "ticks": ""
           }
          },
          "colorscale": {
           "diverging": [
            [
             0,
             "#8e0152"
            ],
            [
             0.1,
             "#c51b7d"
            ],
            [
             0.2,
             "#de77ae"
            ],
            [
             0.3,
             "#f1b6da"
            ],
            [
             0.4,
             "#fde0ef"
            ],
            [
             0.5,
             "#f7f7f7"
            ],
            [
             0.6,
             "#e6f5d0"
            ],
            [
             0.7,
             "#b8e186"
            ],
            [
             0.8,
             "#7fbc41"
            ],
            [
             0.9,
             "#4d9221"
            ],
            [
             1,
             "#276419"
            ]
           ],
           "sequential": [
            [
             0,
             "#0d0887"
            ],
            [
             0.1111111111111111,
             "#46039f"
            ],
            [
             0.2222222222222222,
             "#7201a8"
            ],
            [
             0.3333333333333333,
             "#9c179e"
            ],
            [
             0.4444444444444444,
             "#bd3786"
            ],
            [
             0.5555555555555556,
             "#d8576b"
            ],
            [
             0.6666666666666666,
             "#ed7953"
            ],
            [
             0.7777777777777778,
             "#fb9f3a"
            ],
            [
             0.8888888888888888,
             "#fdca26"
            ],
            [
             1,
             "#f0f921"
            ]
           ],
           "sequentialminus": [
            [
             0,
             "#0d0887"
            ],
            [
             0.1111111111111111,
             "#46039f"
            ],
            [
             0.2222222222222222,
             "#7201a8"
            ],
            [
             0.3333333333333333,
             "#9c179e"
            ],
            [
             0.4444444444444444,
             "#bd3786"
            ],
            [
             0.5555555555555556,
             "#d8576b"
            ],
            [
             0.6666666666666666,
             "#ed7953"
            ],
            [
             0.7777777777777778,
             "#fb9f3a"
            ],
            [
             0.8888888888888888,
             "#fdca26"
            ],
            [
             1,
             "#f0f921"
            ]
           ]
          },
          "colorway": [
           "#636efa",
           "#EF553B",
           "#00cc96",
           "#ab63fa",
           "#FFA15A",
           "#19d3f3",
           "#FF6692",
           "#B6E880",
           "#FF97FF",
           "#FECB52"
          ],
          "font": {
           "color": "#2a3f5f"
          },
          "geo": {
           "bgcolor": "white",
           "lakecolor": "white",
           "landcolor": "#E5ECF6",
           "showlakes": true,
           "showland": true,
           "subunitcolor": "white"
          },
          "hoverlabel": {
           "align": "left"
          },
          "hovermode": "closest",
          "mapbox": {
           "style": "light"
          },
          "paper_bgcolor": "white",
          "plot_bgcolor": "#E5ECF6",
          "polar": {
           "angularaxis": {
            "gridcolor": "white",
            "linecolor": "white",
            "ticks": ""
           },
           "bgcolor": "#E5ECF6",
           "radialaxis": {
            "gridcolor": "white",
            "linecolor": "white",
            "ticks": ""
           }
          },
          "scene": {
           "xaxis": {
            "backgroundcolor": "#E5ECF6",
            "gridcolor": "white",
            "gridwidth": 2,
            "linecolor": "white",
            "showbackground": true,
            "ticks": "",
            "zerolinecolor": "white"
           },
           "yaxis": {
            "backgroundcolor": "#E5ECF6",
            "gridcolor": "white",
            "gridwidth": 2,
            "linecolor": "white",
            "showbackground": true,
            "ticks": "",
            "zerolinecolor": "white"
           },
           "zaxis": {
            "backgroundcolor": "#E5ECF6",
            "gridcolor": "white",
            "gridwidth": 2,
            "linecolor": "white",
            "showbackground": true,
            "ticks": "",
            "zerolinecolor": "white"
           }
          },
          "shapedefaults": {
           "line": {
            "color": "#2a3f5f"
           }
          },
          "ternary": {
           "aaxis": {
            "gridcolor": "white",
            "linecolor": "white",
            "ticks": ""
           },
           "baxis": {
            "gridcolor": "white",
            "linecolor": "white",
            "ticks": ""
           },
           "bgcolor": "#E5ECF6",
           "caxis": {
            "gridcolor": "white",
            "linecolor": "white",
            "ticks": ""
           }
          },
          "title": {
           "x": 0.05
          },
          "xaxis": {
           "automargin": true,
           "gridcolor": "white",
           "linecolor": "white",
           "ticks": "",
           "title": {
            "standoff": 15
           },
           "zerolinecolor": "white",
           "zerolinewidth": 2
          },
          "yaxis": {
           "automargin": true,
           "gridcolor": "white",
           "linecolor": "white",
           "ticks": "",
           "title": {
            "standoff": 15
           },
           "zerolinecolor": "white",
           "zerolinewidth": 2
          }
         }
        },
        "title": {
         "text": "Distribución del Estado de Salud Mental"
        }
       }
      }
     },
     "metadata": {},
     "output_type": "display_data"
    }
   ],
   "source": [
    "fig = px.pie(df, names = 'Estado_de_Salud_Mental', title='Distribución del Estado de Salud Mental')\n",
    "fig.show()"
   ]
  },
  {
   "cell_type": "code",
   "execution_count": 71,
   "id": "3b1fe177",
   "metadata": {},
   "outputs": [
    {
     "data": {
      "application/vnd.microsoft.datawrangler.viewer.v0+json": {
       "columns": [
        {
         "name": "index",
         "rawType": "int64",
         "type": "integer"
        },
        {
         "name": "Puntaje_de_Agobio",
         "rawType": "int64",
         "type": "integer"
        },
        {
         "name": "Horas_de_Sueño_Por_Día",
         "rawType": "float64",
         "type": "float"
        }
       ],
       "ref": "a19c14f3-00e1-44c6-bf95-55fdaf6b175c",
       "rows": [
        [
         "0",
         "44",
         "5.7"
        ],
        [
         "1",
         "58",
         "5.1"
        ],
        [
         "2",
         "78",
         "6.1"
        ],
        [
         "3",
         "71",
         "5.4"
        ],
        [
         "4",
         "69",
         "7.1"
        ],
        [
         "5",
         "59",
         "8.6"
        ],
        [
         "6",
         "87",
         "4.7"
        ],
        [
         "7",
         "84",
         "4.5"
        ],
        [
         "8",
         "18",
         "5.3"
        ],
        [
         "9",
         "43",
         "7.6"
        ],
        [
         "10",
         "85",
         "7.0"
        ],
        [
         "11",
         "44",
         "4.5"
        ],
        [
         "12",
         "10",
         "8.6"
        ],
        [
         "13",
         "49",
         "8.0"
        ],
        [
         "14",
         "73",
         "4.1"
        ],
        [
         "15",
         "31",
         "7.3"
        ],
        [
         "16",
         "69",
         "7.9"
        ],
        [
         "17",
         "73",
         "5.9"
        ],
        [
         "18",
         "81",
         "4.3"
        ],
        [
         "19",
         "20",
         "4.4"
        ],
        [
         "20",
         "23",
         "4.5"
        ],
        [
         "21",
         "69",
         "8.2"
        ],
        [
         "22",
         "39",
         "8.6"
        ],
        [
         "23",
         "44",
         "4.6"
        ],
        [
         "24",
         "46",
         "5.2"
        ],
        [
         "25",
         "14",
         "4.8"
        ],
        [
         "26",
         "87",
         "4.9"
        ],
        [
         "27",
         "35",
         "8.2"
        ],
        [
         "28",
         "71",
         "5.7"
        ],
        [
         "29",
         "13",
         "5.6"
        ],
        [
         "30",
         "51",
         "5.1"
        ],
        [
         "31",
         "27",
         "7.0"
        ],
        [
         "32",
         "49",
         "5.9"
        ],
        [
         "33",
         "81",
         "7.7"
        ],
        [
         "34",
         "48",
         "5.0"
        ],
        [
         "35",
         "23",
         "7.9"
        ],
        [
         "36",
         "41",
         "7.0"
        ],
        [
         "37",
         "60",
         "4.6"
        ],
        [
         "38",
         "47",
         "6.1"
        ],
        [
         "39",
         "32",
         "8.3"
        ],
        [
         "40",
         "72",
         "8.6"
        ],
        [
         "41",
         "24",
         "6.3"
        ],
        [
         "42",
         "34",
         "6.4"
        ],
        [
         "43",
         "26",
         "8.6"
        ],
        [
         "44",
         "75",
         "6.9"
        ],
        [
         "45",
         "87",
         "4.2"
        ],
        [
         "46",
         "62",
         "8.6"
        ],
        [
         "47",
         "60",
         "5.2"
        ],
        [
         "48",
         "48",
         "6.9"
        ],
        [
         "49",
         "60",
         "4.8"
        ]
       ],
       "shape": {
        "columns": 2,
        "rows": 100
       }
      },
      "text/html": [
       "<div>\n",
       "<style scoped>\n",
       "    .dataframe tbody tr th:only-of-type {\n",
       "        vertical-align: middle;\n",
       "    }\n",
       "\n",
       "    .dataframe tbody tr th {\n",
       "        vertical-align: top;\n",
       "    }\n",
       "\n",
       "    .dataframe thead th {\n",
       "        text-align: right;\n",
       "    }\n",
       "</style>\n",
       "<table border=\"1\" class=\"dataframe\">\n",
       "  <thead>\n",
       "    <tr style=\"text-align: right;\">\n",
       "      <th></th>\n",
       "      <th>Puntaje_de_Agobio</th>\n",
       "      <th>Horas_de_Sueño_Por_Día</th>\n",
       "    </tr>\n",
       "  </thead>\n",
       "  <tbody>\n",
       "    <tr>\n",
       "      <th>0</th>\n",
       "      <td>44</td>\n",
       "      <td>5.7</td>\n",
       "    </tr>\n",
       "    <tr>\n",
       "      <th>1</th>\n",
       "      <td>58</td>\n",
       "      <td>5.1</td>\n",
       "    </tr>\n",
       "    <tr>\n",
       "      <th>2</th>\n",
       "      <td>78</td>\n",
       "      <td>6.1</td>\n",
       "    </tr>\n",
       "    <tr>\n",
       "      <th>3</th>\n",
       "      <td>71</td>\n",
       "      <td>5.4</td>\n",
       "    </tr>\n",
       "    <tr>\n",
       "      <th>4</th>\n",
       "      <td>69</td>\n",
       "      <td>7.1</td>\n",
       "    </tr>\n",
       "    <tr>\n",
       "      <th>...</th>\n",
       "      <td>...</td>\n",
       "      <td>...</td>\n",
       "    </tr>\n",
       "    <tr>\n",
       "      <th>95</th>\n",
       "      <td>36</td>\n",
       "      <td>5.0</td>\n",
       "    </tr>\n",
       "    <tr>\n",
       "      <th>96</th>\n",
       "      <td>78</td>\n",
       "      <td>6.5</td>\n",
       "    </tr>\n",
       "    <tr>\n",
       "      <th>97</th>\n",
       "      <td>29</td>\n",
       "      <td>7.0</td>\n",
       "    </tr>\n",
       "    <tr>\n",
       "      <th>98</th>\n",
       "      <td>20</td>\n",
       "      <td>5.7</td>\n",
       "    </tr>\n",
       "    <tr>\n",
       "      <th>99</th>\n",
       "      <td>83</td>\n",
       "      <td>6.8</td>\n",
       "    </tr>\n",
       "  </tbody>\n",
       "</table>\n",
       "<p>100 rows × 2 columns</p>\n",
       "</div>"
      ],
      "text/plain": [
       "    Puntaje_de_Agobio  Horas_de_Sueño_Por_Día\n",
       "0                  44                     5.7\n",
       "1                  58                     5.1\n",
       "2                  78                     6.1\n",
       "3                  71                     5.4\n",
       "4                  69                     7.1\n",
       "..                ...                     ...\n",
       "95                 36                     5.0\n",
       "96                 78                     6.5\n",
       "97                 29                     7.0\n",
       "98                 20                     5.7\n",
       "99                 83                     6.8\n",
       "\n",
       "[100 rows x 2 columns]"
      ]
     },
     "execution_count": 71,
     "metadata": {},
     "output_type": "execute_result"
    }
   ],
   "source": [
    "df_ptj_sueño = df[['Puntaje_de_Agobio', 'Horas_de_Sueño_Por_Día']]\n",
    "df_ptj_sueño"
   ]
  },
  {
   "cell_type": "code",
   "execution_count": 72,
   "id": "dce348da",
   "metadata": {},
   "outputs": [
    {
     "data": {
      "application/vnd.plotly.v1+json": {
       "config": {
        "plotlyServerURL": "https://plot.ly"
       },
       "data": [
        {
         "alignmentgroup": "True",
         "bingroup": "x",
         "hovertemplate": "Modelo_de_Trabajo=Onsite<br>Estado_de_Salud_Mental=%{x}<br>count=%{y}<extra></extra>",
         "legendgroup": "Onsite",
         "marker": {
          "color": "#636efa",
          "pattern": {
           "shape": ""
          }
         },
         "name": "Onsite",
         "offsetgroup": "Onsite",
         "orientation": "v",
         "showlegend": true,
         "type": "histogram",
         "x": [
          "Poor",
          "Good",
          "Moderate",
          "Moderate",
          "Good",
          "Moderate",
          "Poor",
          "Moderate",
          "Good",
          "Poor",
          "Poor",
          "Moderate",
          "Poor",
          "Moderate",
          "Poor",
          "Moderate",
          "Moderate",
          "Moderate",
          "Good",
          "Poor",
          "Good",
          "Moderate",
          "Good",
          "Good",
          "Good",
          "Good"
         ],
         "xaxis": "x",
         "yaxis": "y"
        },
        {
         "alignmentgroup": "True",
         "bingroup": "x",
         "hovertemplate": "Modelo_de_Trabajo=Remote<br>Estado_de_Salud_Mental=%{x}<br>count=%{y}<extra></extra>",
         "legendgroup": "Remote",
         "marker": {
          "color": "#EF553B",
          "pattern": {
           "shape": ""
          }
         },
         "name": "Remote",
         "offsetgroup": "Remote",
         "orientation": "v",
         "showlegend": true,
         "type": "histogram",
         "x": [
          "Good",
          "Poor",
          "Poor",
          "Poor",
          "Good",
          "Poor",
          "Moderate",
          "Good",
          "Moderate",
          "Moderate",
          "Moderate",
          "Poor",
          "Poor",
          "Poor",
          "Poor",
          "Good",
          "Moderate",
          "Poor",
          "Good",
          "Good",
          "Poor",
          "Moderate",
          "Good",
          "Poor",
          "Moderate",
          "Moderate",
          "Moderate",
          "Good",
          "Moderate",
          "Poor",
          "Good",
          "Poor",
          "Moderate",
          "Moderate",
          "Moderate",
          "Moderate",
          "Poor",
          "Good",
          "Good",
          "Poor",
          "Moderate"
         ],
         "xaxis": "x",
         "yaxis": "y"
        },
        {
         "alignmentgroup": "True",
         "bingroup": "x",
         "hovertemplate": "Modelo_de_Trabajo=Hybrid<br>Estado_de_Salud_Mental=%{x}<br>count=%{y}<extra></extra>",
         "legendgroup": "Hybrid",
         "marker": {
          "color": "#00cc96",
          "pattern": {
           "shape": ""
          }
         },
         "name": "Hybrid",
         "offsetgroup": "Hybrid",
         "orientation": "v",
         "showlegend": true,
         "type": "histogram",
         "x": [
          "Good",
          "Moderate",
          "Poor",
          "Moderate",
          "Moderate",
          "Moderate",
          "Good",
          "Moderate",
          "Moderate",
          "Poor",
          "Good",
          "Good",
          "Good",
          "Good",
          "Poor",
          "Moderate",
          "Poor",
          "Moderate",
          "Moderate",
          "Moderate",
          "Moderate",
          "Poor",
          "Moderate",
          "Poor",
          "Good",
          "Good",
          "Poor",
          "Good",
          "Poor",
          "Moderate",
          "Poor",
          "Good",
          "Poor"
         ],
         "xaxis": "x",
         "yaxis": "y"
        }
       ],
       "layout": {
        "barmode": "group",
        "legend": {
         "title": {
          "text": "Modelo_de_Trabajo"
         },
         "tracegroupgap": 0
        },
        "template": {
         "data": {
          "bar": [
           {
            "error_x": {
             "color": "#2a3f5f"
            },
            "error_y": {
             "color": "#2a3f5f"
            },
            "marker": {
             "line": {
              "color": "#E5ECF6",
              "width": 0.5
             },
             "pattern": {
              "fillmode": "overlay",
              "size": 10,
              "solidity": 0.2
             }
            },
            "type": "bar"
           }
          ],
          "barpolar": [
           {
            "marker": {
             "line": {
              "color": "#E5ECF6",
              "width": 0.5
             },
             "pattern": {
              "fillmode": "overlay",
              "size": 10,
              "solidity": 0.2
             }
            },
            "type": "barpolar"
           }
          ],
          "carpet": [
           {
            "aaxis": {
             "endlinecolor": "#2a3f5f",
             "gridcolor": "white",
             "linecolor": "white",
             "minorgridcolor": "white",
             "startlinecolor": "#2a3f5f"
            },
            "baxis": {
             "endlinecolor": "#2a3f5f",
             "gridcolor": "white",
             "linecolor": "white",
             "minorgridcolor": "white",
             "startlinecolor": "#2a3f5f"
            },
            "type": "carpet"
           }
          ],
          "choropleth": [
           {
            "colorbar": {
             "outlinewidth": 0,
             "ticks": ""
            },
            "type": "choropleth"
           }
          ],
          "contour": [
           {
            "colorbar": {
             "outlinewidth": 0,
             "ticks": ""
            },
            "colorscale": [
             [
              0,
              "#0d0887"
             ],
             [
              0.1111111111111111,
              "#46039f"
             ],
             [
              0.2222222222222222,
              "#7201a8"
             ],
             [
              0.3333333333333333,
              "#9c179e"
             ],
             [
              0.4444444444444444,
              "#bd3786"
             ],
             [
              0.5555555555555556,
              "#d8576b"
             ],
             [
              0.6666666666666666,
              "#ed7953"
             ],
             [
              0.7777777777777778,
              "#fb9f3a"
             ],
             [
              0.8888888888888888,
              "#fdca26"
             ],
             [
              1,
              "#f0f921"
             ]
            ],
            "type": "contour"
           }
          ],
          "contourcarpet": [
           {
            "colorbar": {
             "outlinewidth": 0,
             "ticks": ""
            },
            "type": "contourcarpet"
           }
          ],
          "heatmap": [
           {
            "colorbar": {
             "outlinewidth": 0,
             "ticks": ""
            },
            "colorscale": [
             [
              0,
              "#0d0887"
             ],
             [
              0.1111111111111111,
              "#46039f"
             ],
             [
              0.2222222222222222,
              "#7201a8"
             ],
             [
              0.3333333333333333,
              "#9c179e"
             ],
             [
              0.4444444444444444,
              "#bd3786"
             ],
             [
              0.5555555555555556,
              "#d8576b"
             ],
             [
              0.6666666666666666,
              "#ed7953"
             ],
             [
              0.7777777777777778,
              "#fb9f3a"
             ],
             [
              0.8888888888888888,
              "#fdca26"
             ],
             [
              1,
              "#f0f921"
             ]
            ],
            "type": "heatmap"
           }
          ],
          "histogram": [
           {
            "marker": {
             "pattern": {
              "fillmode": "overlay",
              "size": 10,
              "solidity": 0.2
             }
            },
            "type": "histogram"
           }
          ],
          "histogram2d": [
           {
            "colorbar": {
             "outlinewidth": 0,
             "ticks": ""
            },
            "colorscale": [
             [
              0,
              "#0d0887"
             ],
             [
              0.1111111111111111,
              "#46039f"
             ],
             [
              0.2222222222222222,
              "#7201a8"
             ],
             [
              0.3333333333333333,
              "#9c179e"
             ],
             [
              0.4444444444444444,
              "#bd3786"
             ],
             [
              0.5555555555555556,
              "#d8576b"
             ],
             [
              0.6666666666666666,
              "#ed7953"
             ],
             [
              0.7777777777777778,
              "#fb9f3a"
             ],
             [
              0.8888888888888888,
              "#fdca26"
             ],
             [
              1,
              "#f0f921"
             ]
            ],
            "type": "histogram2d"
           }
          ],
          "histogram2dcontour": [
           {
            "colorbar": {
             "outlinewidth": 0,
             "ticks": ""
            },
            "colorscale": [
             [
              0,
              "#0d0887"
             ],
             [
              0.1111111111111111,
              "#46039f"
             ],
             [
              0.2222222222222222,
              "#7201a8"
             ],
             [
              0.3333333333333333,
              "#9c179e"
             ],
             [
              0.4444444444444444,
              "#bd3786"
             ],
             [
              0.5555555555555556,
              "#d8576b"
             ],
             [
              0.6666666666666666,
              "#ed7953"
             ],
             [
              0.7777777777777778,
              "#fb9f3a"
             ],
             [
              0.8888888888888888,
              "#fdca26"
             ],
             [
              1,
              "#f0f921"
             ]
            ],
            "type": "histogram2dcontour"
           }
          ],
          "mesh3d": [
           {
            "colorbar": {
             "outlinewidth": 0,
             "ticks": ""
            },
            "type": "mesh3d"
           }
          ],
          "parcoords": [
           {
            "line": {
             "colorbar": {
              "outlinewidth": 0,
              "ticks": ""
             }
            },
            "type": "parcoords"
           }
          ],
          "pie": [
           {
            "automargin": true,
            "type": "pie"
           }
          ],
          "scatter": [
           {
            "fillpattern": {
             "fillmode": "overlay",
             "size": 10,
             "solidity": 0.2
            },
            "type": "scatter"
           }
          ],
          "scatter3d": [
           {
            "line": {
             "colorbar": {
              "outlinewidth": 0,
              "ticks": ""
             }
            },
            "marker": {
             "colorbar": {
              "outlinewidth": 0,
              "ticks": ""
             }
            },
            "type": "scatter3d"
           }
          ],
          "scattercarpet": [
           {
            "marker": {
             "colorbar": {
              "outlinewidth": 0,
              "ticks": ""
             }
            },
            "type": "scattercarpet"
           }
          ],
          "scattergeo": [
           {
            "marker": {
             "colorbar": {
              "outlinewidth": 0,
              "ticks": ""
             }
            },
            "type": "scattergeo"
           }
          ],
          "scattergl": [
           {
            "marker": {
             "colorbar": {
              "outlinewidth": 0,
              "ticks": ""
             }
            },
            "type": "scattergl"
           }
          ],
          "scattermap": [
           {
            "marker": {
             "colorbar": {
              "outlinewidth": 0,
              "ticks": ""
             }
            },
            "type": "scattermap"
           }
          ],
          "scattermapbox": [
           {
            "marker": {
             "colorbar": {
              "outlinewidth": 0,
              "ticks": ""
             }
            },
            "type": "scattermapbox"
           }
          ],
          "scatterpolar": [
           {
            "marker": {
             "colorbar": {
              "outlinewidth": 0,
              "ticks": ""
             }
            },
            "type": "scatterpolar"
           }
          ],
          "scatterpolargl": [
           {
            "marker": {
             "colorbar": {
              "outlinewidth": 0,
              "ticks": ""
             }
            },
            "type": "scatterpolargl"
           }
          ],
          "scatterternary": [
           {
            "marker": {
             "colorbar": {
              "outlinewidth": 0,
              "ticks": ""
             }
            },
            "type": "scatterternary"
           }
          ],
          "surface": [
           {
            "colorbar": {
             "outlinewidth": 0,
             "ticks": ""
            },
            "colorscale": [
             [
              0,
              "#0d0887"
             ],
             [
              0.1111111111111111,
              "#46039f"
             ],
             [
              0.2222222222222222,
              "#7201a8"
             ],
             [
              0.3333333333333333,
              "#9c179e"
             ],
             [
              0.4444444444444444,
              "#bd3786"
             ],
             [
              0.5555555555555556,
              "#d8576b"
             ],
             [
              0.6666666666666666,
              "#ed7953"
             ],
             [
              0.7777777777777778,
              "#fb9f3a"
             ],
             [
              0.8888888888888888,
              "#fdca26"
             ],
             [
              1,
              "#f0f921"
             ]
            ],
            "type": "surface"
           }
          ],
          "table": [
           {
            "cells": {
             "fill": {
              "color": "#EBF0F8"
             },
             "line": {
              "color": "white"
             }
            },
            "header": {
             "fill": {
              "color": "#C8D4E3"
             },
             "line": {
              "color": "white"
             }
            },
            "type": "table"
           }
          ]
         },
         "layout": {
          "annotationdefaults": {
           "arrowcolor": "#2a3f5f",
           "arrowhead": 0,
           "arrowwidth": 1
          },
          "autotypenumbers": "strict",
          "coloraxis": {
           "colorbar": {
            "outlinewidth": 0,
            "ticks": ""
           }
          },
          "colorscale": {
           "diverging": [
            [
             0,
             "#8e0152"
            ],
            [
             0.1,
             "#c51b7d"
            ],
            [
             0.2,
             "#de77ae"
            ],
            [
             0.3,
             "#f1b6da"
            ],
            [
             0.4,
             "#fde0ef"
            ],
            [
             0.5,
             "#f7f7f7"
            ],
            [
             0.6,
             "#e6f5d0"
            ],
            [
             0.7,
             "#b8e186"
            ],
            [
             0.8,
             "#7fbc41"
            ],
            [
             0.9,
             "#4d9221"
            ],
            [
             1,
             "#276419"
            ]
           ],
           "sequential": [
            [
             0,
             "#0d0887"
            ],
            [
             0.1111111111111111,
             "#46039f"
            ],
            [
             0.2222222222222222,
             "#7201a8"
            ],
            [
             0.3333333333333333,
             "#9c179e"
            ],
            [
             0.4444444444444444,
             "#bd3786"
            ],
            [
             0.5555555555555556,
             "#d8576b"
            ],
            [
             0.6666666666666666,
             "#ed7953"
            ],
            [
             0.7777777777777778,
             "#fb9f3a"
            ],
            [
             0.8888888888888888,
             "#fdca26"
            ],
            [
             1,
             "#f0f921"
            ]
           ],
           "sequentialminus": [
            [
             0,
             "#0d0887"
            ],
            [
             0.1111111111111111,
             "#46039f"
            ],
            [
             0.2222222222222222,
             "#7201a8"
            ],
            [
             0.3333333333333333,
             "#9c179e"
            ],
            [
             0.4444444444444444,
             "#bd3786"
            ],
            [
             0.5555555555555556,
             "#d8576b"
            ],
            [
             0.6666666666666666,
             "#ed7953"
            ],
            [
             0.7777777777777778,
             "#fb9f3a"
            ],
            [
             0.8888888888888888,
             "#fdca26"
            ],
            [
             1,
             "#f0f921"
            ]
           ]
          },
          "colorway": [
           "#636efa",
           "#EF553B",
           "#00cc96",
           "#ab63fa",
           "#FFA15A",
           "#19d3f3",
           "#FF6692",
           "#B6E880",
           "#FF97FF",
           "#FECB52"
          ],
          "font": {
           "color": "#2a3f5f"
          },
          "geo": {
           "bgcolor": "white",
           "lakecolor": "white",
           "landcolor": "#E5ECF6",
           "showlakes": true,
           "showland": true,
           "subunitcolor": "white"
          },
          "hoverlabel": {
           "align": "left"
          },
          "hovermode": "closest",
          "mapbox": {
           "style": "light"
          },
          "paper_bgcolor": "white",
          "plot_bgcolor": "#E5ECF6",
          "polar": {
           "angularaxis": {
            "gridcolor": "white",
            "linecolor": "white",
            "ticks": ""
           },
           "bgcolor": "#E5ECF6",
           "radialaxis": {
            "gridcolor": "white",
            "linecolor": "white",
            "ticks": ""
           }
          },
          "scene": {
           "xaxis": {
            "backgroundcolor": "#E5ECF6",
            "gridcolor": "white",
            "gridwidth": 2,
            "linecolor": "white",
            "showbackground": true,
            "ticks": "",
            "zerolinecolor": "white"
           },
           "yaxis": {
            "backgroundcolor": "#E5ECF6",
            "gridcolor": "white",
            "gridwidth": 2,
            "linecolor": "white",
            "showbackground": true,
            "ticks": "",
            "zerolinecolor": "white"
           },
           "zaxis": {
            "backgroundcolor": "#E5ECF6",
            "gridcolor": "white",
            "gridwidth": 2,
            "linecolor": "white",
            "showbackground": true,
            "ticks": "",
            "zerolinecolor": "white"
           }
          },
          "shapedefaults": {
           "line": {
            "color": "#2a3f5f"
           }
          },
          "ternary": {
           "aaxis": {
            "gridcolor": "white",
            "linecolor": "white",
            "ticks": ""
           },
           "baxis": {
            "gridcolor": "white",
            "linecolor": "white",
            "ticks": ""
           },
           "bgcolor": "#E5ECF6",
           "caxis": {
            "gridcolor": "white",
            "linecolor": "white",
            "ticks": ""
           }
          },
          "title": {
           "x": 0.05
          },
          "xaxis": {
           "automargin": true,
           "gridcolor": "white",
           "linecolor": "white",
           "ticks": "",
           "title": {
            "standoff": 15
           },
           "zerolinecolor": "white",
           "zerolinewidth": 2
          },
          "yaxis": {
           "automargin": true,
           "gridcolor": "white",
           "linecolor": "white",
           "ticks": "",
           "title": {
            "standoff": 15
           },
           "zerolinecolor": "white",
           "zerolinewidth": 2
          }
         }
        },
        "title": {
         "text": "Distribución del estado de salud mental según modalidad de trabajo"
        },
        "xaxis": {
         "anchor": "y",
         "domain": [
          0,
          1
         ],
         "title": {
          "text": "Estado_de_Salud_Mental"
         }
        },
        "yaxis": {
         "anchor": "x",
         "domain": [
          0,
          1
         ],
         "title": {
          "text": "count"
         }
        }
       }
      }
     },
     "metadata": {},
     "output_type": "display_data"
    }
   ],
   "source": [
    "px.histogram(df, x='Estado_de_Salud_Mental', color='Modelo_de_Trabajo', barmode='group',\n",
    "              title='Distribución del estado de salud mental según modalidad de trabajo')"
   ]
  },
  {
   "cell_type": "code",
   "execution_count": 78,
   "id": "67679e1a",
   "metadata": {},
   "outputs": [
    {
     "data": {
      "image/png": "[encoded data removed]",
      "text/plain": [
       "<Figure size 600x400 with 1 Axes>"
      ]
     },
     "metadata": {},
     "output_type": "display_data"
    }
   ],
   "source": [
    "df.groupby('Modelo_de_Trabajo')['Puntaje_de_Agobio'].mean().plot(\n",
    "    kind='bar', color=['#6baed6','#74c476','#fd8d3c'], figsize=(6,4)\n",
    ")\n",
    "plt.title(\"Promedio de Agobio por Modalidad de Trabajo\")\n",
    "plt.ylabel(\"Puntaje de Agobio (estrés)\")\n",
    "plt.show()\n"
   ]
  }
 ],
 "metadata": {
  "kernelspec": {
   "display_name": "Python 3",
   "language": "python",
   "name": "python3"
  },
  "language_info": {
   "codemirror_mode": {
    "name": "ipython",
    "version": 3
   },
   "file_extension": ".py",
   "mimetype": "text/x-python",
   "name": "python",
   "nbconvert_exporter": "python",
   "pygments_lexer": "ipython3",
   "version": "3.13.7"
  }
 },
 "nbformat": 4,
 "nbformat_minor": 5
}
