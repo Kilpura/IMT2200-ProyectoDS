{
 "cells": [
  {
   "cell_type": "code",
   "execution_count": 117,
   "id": "382e1183",
   "metadata": {},
   "outputs": [],
   "source": [
    "import pandas as pd\n",
    "import os\n",
    "import matplotlib.pyplot as plt\n",
    "import seaborn as sns\n",
    "import numpy as np\n",
    "import plotly.express as px\n",
    "import plotly.graph_objects as go\n",
    "from plotly.subplots import make_subplots"
   ]
  },
  {
   "cell_type": "code",
   "execution_count": 97,
   "id": "6d9c52cd",
   "metadata": {},
   "outputs": [],
   "source": [
    "\n",
    "def abrir_csv(path, **kwargs):\n",
    "    '''\n",
    "    Args:\n",
    "        path (str): Path relativo al archivo csv\n",
    "    Returns:\n",
    "        DataFrame\n",
    "    '''\n",
    "    df = pd.read_csv(path)\n",
    "    return df\n",
    "\n",
    "\n",
    "def guardar_en_csv(df_filtrado, nombre_archivo):\n",
    "    '''\n",
    "    Args:\n",
    "        df_filtrado: DataFrame con las columnas filtradas\n",
    "        nombre_archivo (str): nombre del archivo de salida en csv\n",
    "    '''\n",
    "\n",
    "    df_filtrado.to_csv(nombre_archivo, index=False)\n",
    "\n"
   ]
  },
  {
   "cell_type": "code",
   "execution_count": 98,
   "id": "b169875e",
   "metadata": {},
   "outputs": [
    {
     "data": {
      "application/vnd.microsoft.datawrangler.viewer.v0+json": {
       "columns": [
        {
         "name": "index",
         "rawType": "int64",
         "type": "integer"
        },
        {
         "name": "Employee_ID",
         "rawType": "object",
         "type": "string"
        },
        {
         "name": "Age",
         "rawType": "int64",
         "type": "integer"
        },
        {
         "name": "Gender",
         "rawType": "object",
         "type": "string"
        },
        {
         "name": "Job_Role",
         "rawType": "object",
         "type": "string"
        },
        {
         "name": "Industry",
         "rawType": "object",
         "type": "string"
        },
        {
         "name": "Years_of_Experience",
         "rawType": "int64",
         "type": "integer"
        },
        {
         "name": "Work_Location",
         "rawType": "object",
         "type": "string"
        },
        {
         "name": "Hours_Worked_Per_Week",
         "rawType": "int64",
         "type": "integer"
        },
        {
         "name": "Number_of_Virtual_Meetings",
         "rawType": "int64",
         "type": "integer"
        },
        {
         "name": "Work_Life_Balance_Rating",
         "rawType": "int64",
         "type": "integer"
        },
        {
         "name": "Stress_Level",
         "rawType": "object",
         "type": "string"
        },
        {
         "name": "Mental_Health_Condition",
         "rawType": "object",
         "type": "unknown"
        },
        {
         "name": "Access_to_Mental_Health_Resources",
         "rawType": "object",
         "type": "string"
        },
        {
         "name": "Productivity_Change",
         "rawType": "object",
         "type": "string"
        },
        {
         "name": "Social_Isolation_Rating",
         "rawType": "int64",
         "type": "integer"
        },
        {
         "name": "Satisfaction_with_Remote_Work",
         "rawType": "object",
         "type": "string"
        },
        {
         "name": "Company_Support_for_Remote_Work",
         "rawType": "int64",
         "type": "integer"
        },
        {
         "name": "Physical_Activity",
         "rawType": "object",
         "type": "unknown"
        },
        {
         "name": "Sleep_Quality",
         "rawType": "object",
         "type": "string"
        },
        {
         "name": "Region",
         "rawType": "object",
         "type": "string"
        }
       ],
       "ref": "5bdff3ae-b52f-4ec1-8ab1-106ae0261a36",
       "rows": [
        [
         "0",
         "EMP0001",
         "32",
         "Non-binary",
         "HR",
         "Healthcare",
         "13",
         "Hybrid",
         "47",
         "7",
         "2",
         "Medium",
         "Depression",
         "No",
         "Decrease",
         "1",
         "Unsatisfied",
         "1",
         "Weekly",
         "Good",
         "Europe"
        ],
        [
         "1",
         "EMP0002",
         "40",
         "Female",
         "Data Scientist",
         "IT",
         "3",
         "Remote",
         "52",
         "4",
         "1",
         "Medium",
         "Anxiety",
         "No",
         "Increase",
         "3",
         "Satisfied",
         "2",
         "Weekly",
         "Good",
         "Asia"
        ],
        [
         "2",
         "EMP0003",
         "59",
         "Non-binary",
         "Software Engineer",
         "Education",
         "22",
         "Hybrid",
         "46",
         "11",
         "5",
         "Medium",
         "Anxiety",
         "No",
         "No Change",
         "4",
         "Unsatisfied",
         "5",
         null,
         "Poor",
         "North America"
        ],
        [
         "3",
         "EMP0004",
         "27",
         "Male",
         "Software Engineer",
         "Finance",
         "20",
         "Onsite",
         "32",
         "8",
         "4",
         "High",
         "Depression",
         "Yes",
         "Increase",
         "3",
         "Unsatisfied",
         "3",
         null,
         "Poor",
         "Europe"
        ],
        [
         "4",
         "EMP0005",
         "49",
         "Male",
         "Sales",
         "Consulting",
         "32",
         "Onsite",
         "35",
         "12",
         "2",
         "High",
         null,
         "Yes",
         "Decrease",
         "3",
         "Unsatisfied",
         "3",
         "Weekly",
         "Average",
         "North America"
        ],
        [
         "5",
         "EMP0006",
         "59",
         "Non-binary",
         "Sales",
         "IT",
         "31",
         "Hybrid",
         "39",
         "3",
         "4",
         "High",
         null,
         "No",
         "Increase",
         "5",
         "Unsatisfied",
         "1",
         null,
         "Average",
         "South America"
        ],
        [
         "6",
         "EMP0007",
         "31",
         "Prefer not to say",
         "Sales",
         "IT",
         "24",
         "Remote",
         "51",
         "7",
         "3",
         "Low",
         "Anxiety",
         "Yes",
         "Decrease",
         "5",
         "Neutral",
         "3",
         "Daily",
         "Poor",
         "Asia"
        ],
        [
         "7",
         "EMP0008",
         "42",
         "Non-binary",
         "Data Scientist",
         "Manufacturing",
         "6",
         "Onsite",
         "54",
         "7",
         "3",
         "Medium",
         "Depression",
         "No",
         "Decrease",
         "5",
         "Satisfied",
         "4",
         null,
         "Average",
         "North America"
        ],
        [
         "8",
         "EMP0009",
         "56",
         "Prefer not to say",
         "Data Scientist",
         "Healthcare",
         "9",
         "Hybrid",
         "24",
         "4",
         "2",
         "High",
         null,
         "Yes",
         "Decrease",
         "2",
         "Unsatisfied",
         "4",
         "Daily",
         "Poor",
         "Europe"
        ],
        [
         "9",
         "EMP0010",
         "30",
         "Female",
         "HR",
         "IT",
         "28",
         "Hybrid",
         "57",
         "6",
         "1",
         "Low",
         "Depression",
         "Yes",
         "Decrease",
         "2",
         "Neutral",
         "1",
         "Weekly",
         "Poor",
         "North America"
        ],
        [
         "10",
         "EMP0011",
         "33",
         "Non-binary",
         "Software Engineer",
         "Finance",
         "17",
         "Remote",
         "48",
         "3",
         "3",
         "High",
         null,
         "Yes",
         "Decrease",
         "4",
         "Satisfied",
         "2",
         "Weekly",
         "Average",
         "Oceania"
        ],
        [
         "11",
         "EMP0012",
         "47",
         "Female",
         "Marketing",
         "Consulting",
         "31",
         "Hybrid",
         "26",
         "12",
         "4",
         "Medium",
         null,
         "Yes",
         "No Change",
         "4",
         "Neutral",
         "3",
         "Weekly",
         "Poor",
         "Africa"
        ],
        [
         "12",
         "EMP0013",
         "40",
         "Female",
         "Marketing",
         "Consulting",
         "1",
         "Remote",
         "21",
         "7",
         "2",
         "High",
         "Depression",
         "Yes",
         "Decrease",
         "2",
         "Neutral",
         "1",
         "Weekly",
         "Good",
         "Europe"
        ],
        [
         "13",
         "EMP0014",
         "51",
         "Non-binary",
         "Designer",
         "Manufacturing",
         "5",
         "Hybrid",
         "45",
         "13",
         "1",
         "Low",
         "Anxiety",
         "No",
         "Decrease",
         "2",
         "Satisfied",
         "5",
         "Weekly",
         "Poor",
         "North America"
        ],
        [
         "14",
         "EMP0015",
         "36",
         "Prefer not to say",
         "Project Manager",
         "Retail",
         "23",
         "Remote",
         "59",
         "11",
         "3",
         "High",
         "Anxiety",
         "Yes",
         "Decrease",
         "5",
         "Neutral",
         "3",
         "Weekly",
         "Average",
         "Oceania"
        ],
        [
         "15",
         "EMP0016",
         "56",
         "Female",
         "Sales",
         "Healthcare",
         "13",
         "Remote",
         "44",
         "11",
         "4",
         "Low",
         "Anxiety",
         "No",
         "No Change",
         "5",
         "Satisfied",
         "4",
         "Weekly",
         "Average",
         "Africa"
        ],
        [
         "16",
         "EMP0017",
         "33",
         "Prefer not to say",
         "HR",
         "Education",
         "3",
         "Onsite",
         "52",
         "9",
         "2",
         "Medium",
         null,
         "No",
         "No Change",
         "1",
         "Satisfied",
         "1",
         "Weekly",
         "Good",
         "Africa"
        ],
        [
         "17",
         "EMP0018",
         "45",
         "Non-binary",
         "Data Scientist",
         "Consulting",
         "20",
         "Onsite",
         "37",
         "8",
         "3",
         "Low",
         "Burnout",
         "Yes",
         "Decrease",
         "5",
         "Neutral",
         "5",
         "Weekly",
         "Good",
         "Europe"
        ],
        [
         "18",
         "EMP0019",
         "49",
         "Non-binary",
         "Software Engineer",
         "IT",
         "30",
         "Remote",
         "36",
         "6",
         "1",
         "High",
         "Anxiety",
         "No",
         "No Change",
         "3",
         "Satisfied",
         "2",
         "Weekly",
         "Good",
         "Oceania"
        ],
        [
         "19",
         "EMP0020",
         "59",
         "Male",
         "Software Engineer",
         "Consulting",
         "13",
         "Remote",
         "59",
         "4",
         "3",
         "Medium",
         "Anxiety",
         "No",
         "Decrease",
         "4",
         "Neutral",
         "1",
         "Daily",
         "Average",
         "South America"
        ]
       ],
       "shape": {
        "columns": 20,
        "rows": 20
       }
      },
      "text/html": [
       "<div>\n",
       "<style scoped>\n",
       "    .dataframe tbody tr th:only-of-type {\n",
       "        vertical-align: middle;\n",
       "    }\n",
       "\n",
       "    .dataframe tbody tr th {\n",
       "        vertical-align: top;\n",
       "    }\n",
       "\n",
       "    .dataframe thead th {\n",
       "        text-align: right;\n",
       "    }\n",
       "</style>\n",
       "<table border=\"1\" class=\"dataframe\">\n",
       "  <thead>\n",
       "    <tr style=\"text-align: right;\">\n",
       "      <th></th>\n",
       "      <th>Employee_ID</th>\n",
       "      <th>Age</th>\n",
       "      <th>Gender</th>\n",
       "      <th>Job_Role</th>\n",
       "      <th>Industry</th>\n",
       "      <th>Years_of_Experience</th>\n",
       "      <th>Work_Location</th>\n",
       "      <th>Hours_Worked_Per_Week</th>\n",
       "      <th>Number_of_Virtual_Meetings</th>\n",
       "      <th>Work_Life_Balance_Rating</th>\n",
       "      <th>Stress_Level</th>\n",
       "      <th>Mental_Health_Condition</th>\n",
       "      <th>Access_to_Mental_Health_Resources</th>\n",
       "      <th>Productivity_Change</th>\n",
       "      <th>Social_Isolation_Rating</th>\n",
       "      <th>Satisfaction_with_Remote_Work</th>\n",
       "      <th>Company_Support_for_Remote_Work</th>\n",
       "      <th>Physical_Activity</th>\n",
       "      <th>Sleep_Quality</th>\n",
       "      <th>Region</th>\n",
       "    </tr>\n",
       "  </thead>\n",
       "  <tbody>\n",
       "    <tr>\n",
       "      <th>0</th>\n",
       "      <td>EMP0001</td>\n",
       "      <td>32</td>\n",
       "      <td>Non-binary</td>\n",
       "      <td>HR</td>\n",
       "      <td>Healthcare</td>\n",
       "      <td>13</td>\n",
       "      <td>Hybrid</td>\n",
       "      <td>47</td>\n",
       "      <td>7</td>\n",
       "      <td>2</td>\n",
       "      <td>Medium</td>\n",
       "      <td>Depression</td>\n",
       "      <td>No</td>\n",
       "      <td>Decrease</td>\n",
       "      <td>1</td>\n",
       "      <td>Unsatisfied</td>\n",
       "      <td>1</td>\n",
       "      <td>Weekly</td>\n",
       "      <td>Good</td>\n",
       "      <td>Europe</td>\n",
       "    </tr>\n",
       "    <tr>\n",
       "      <th>1</th>\n",
       "      <td>EMP0002</td>\n",
       "      <td>40</td>\n",
       "      <td>Female</td>\n",
       "      <td>Data Scientist</td>\n",
       "      <td>IT</td>\n",
       "      <td>3</td>\n",
       "      <td>Remote</td>\n",
       "      <td>52</td>\n",
       "      <td>4</td>\n",
       "      <td>1</td>\n",
       "      <td>Medium</td>\n",
       "      <td>Anxiety</td>\n",
       "      <td>No</td>\n",
       "      <td>Increase</td>\n",
       "      <td>3</td>\n",
       "      <td>Satisfied</td>\n",
       "      <td>2</td>\n",
       "      <td>Weekly</td>\n",
       "      <td>Good</td>\n",
       "      <td>Asia</td>\n",
       "    </tr>\n",
       "    <tr>\n",
       "      <th>2</th>\n",
       "      <td>EMP0003</td>\n",
       "      <td>59</td>\n",
       "      <td>Non-binary</td>\n",
       "      <td>Software Engineer</td>\n",
       "      <td>Education</td>\n",
       "      <td>22</td>\n",
       "      <td>Hybrid</td>\n",
       "      <td>46</td>\n",
       "      <td>11</td>\n",
       "      <td>5</td>\n",
       "      <td>Medium</td>\n",
       "      <td>Anxiety</td>\n",
       "      <td>No</td>\n",
       "      <td>No Change</td>\n",
       "      <td>4</td>\n",
       "      <td>Unsatisfied</td>\n",
       "      <td>5</td>\n",
       "      <td>NaN</td>\n",
       "      <td>Poor</td>\n",
       "      <td>North America</td>\n",
       "    </tr>\n",
       "    <tr>\n",
       "      <th>3</th>\n",
       "      <td>EMP0004</td>\n",
       "      <td>27</td>\n",
       "      <td>Male</td>\n",
       "      <td>Software Engineer</td>\n",
       "      <td>Finance</td>\n",
       "      <td>20</td>\n",
       "      <td>Onsite</td>\n",
       "      <td>32</td>\n",
       "      <td>8</td>\n",
       "      <td>4</td>\n",
       "      <td>High</td>\n",
       "      <td>Depression</td>\n",
       "      <td>Yes</td>\n",
       "      <td>Increase</td>\n",
       "      <td>3</td>\n",
       "      <td>Unsatisfied</td>\n",
       "      <td>3</td>\n",
       "      <td>NaN</td>\n",
       "      <td>Poor</td>\n",
       "      <td>Europe</td>\n",
       "    </tr>\n",
       "    <tr>\n",
       "      <th>4</th>\n",
       "      <td>EMP0005</td>\n",
       "      <td>49</td>\n",
       "      <td>Male</td>\n",
       "      <td>Sales</td>\n",
       "      <td>Consulting</td>\n",
       "      <td>32</td>\n",
       "      <td>Onsite</td>\n",
       "      <td>35</td>\n",
       "      <td>12</td>\n",
       "      <td>2</td>\n",
       "      <td>High</td>\n",
       "      <td>NaN</td>\n",
       "      <td>Yes</td>\n",
       "      <td>Decrease</td>\n",
       "      <td>3</td>\n",
       "      <td>Unsatisfied</td>\n",
       "      <td>3</td>\n",
       "      <td>Weekly</td>\n",
       "      <td>Average</td>\n",
       "      <td>North America</td>\n",
       "    </tr>\n",
       "    <tr>\n",
       "      <th>5</th>\n",
       "      <td>EMP0006</td>\n",
       "      <td>59</td>\n",
       "      <td>Non-binary</td>\n",
       "      <td>Sales</td>\n",
       "      <td>IT</td>\n",
       "      <td>31</td>\n",
       "      <td>Hybrid</td>\n",
       "      <td>39</td>\n",
       "      <td>3</td>\n",
       "      <td>4</td>\n",
       "      <td>High</td>\n",
       "      <td>NaN</td>\n",
       "      <td>No</td>\n",
       "      <td>Increase</td>\n",
       "      <td>5</td>\n",
       "      <td>Unsatisfied</td>\n",
       "      <td>1</td>\n",
       "      <td>NaN</td>\n",
       "      <td>Average</td>\n",
       "      <td>South America</td>\n",
       "    </tr>\n",
       "    <tr>\n",
       "      <th>6</th>\n",
       "      <td>EMP0007</td>\n",
       "      <td>31</td>\n",
       "      <td>Prefer not to say</td>\n",
       "      <td>Sales</td>\n",
       "      <td>IT</td>\n",
       "      <td>24</td>\n",
       "      <td>Remote</td>\n",
       "      <td>51</td>\n",
       "      <td>7</td>\n",
       "      <td>3</td>\n",
       "      <td>Low</td>\n",
       "      <td>Anxiety</td>\n",
       "      <td>Yes</td>\n",
       "      <td>Decrease</td>\n",
       "      <td>5</td>\n",
       "      <td>Neutral</td>\n",
       "      <td>3</td>\n",
       "      <td>Daily</td>\n",
       "      <td>Poor</td>\n",
       "      <td>Asia</td>\n",
       "    </tr>\n",
       "    <tr>\n",
       "      <th>7</th>\n",
       "      <td>EMP0008</td>\n",
       "      <td>42</td>\n",
       "      <td>Non-binary</td>\n",
       "      <td>Data Scientist</td>\n",
       "      <td>Manufacturing</td>\n",
       "      <td>6</td>\n",
       "      <td>Onsite</td>\n",
       "      <td>54</td>\n",
       "      <td>7</td>\n",
       "      <td>3</td>\n",
       "      <td>Medium</td>\n",
       "      <td>Depression</td>\n",
       "      <td>No</td>\n",
       "      <td>Decrease</td>\n",
       "      <td>5</td>\n",
       "      <td>Satisfied</td>\n",
       "      <td>4</td>\n",
       "      <td>NaN</td>\n",
       "      <td>Average</td>\n",
       "      <td>North America</td>\n",
       "    </tr>\n",
       "    <tr>\n",
       "      <th>8</th>\n",
       "      <td>EMP0009</td>\n",
       "      <td>56</td>\n",
       "      <td>Prefer not to say</td>\n",
       "      <td>Data Scientist</td>\n",
       "      <td>Healthcare</td>\n",
       "      <td>9</td>\n",
       "      <td>Hybrid</td>\n",
       "      <td>24</td>\n",
       "      <td>4</td>\n",
       "      <td>2</td>\n",
       "      <td>High</td>\n",
       "      <td>NaN</td>\n",
       "      <td>Yes</td>\n",
       "      <td>Decrease</td>\n",
       "      <td>2</td>\n",
       "      <td>Unsatisfied</td>\n",
       "      <td>4</td>\n",
       "      <td>Daily</td>\n",
       "      <td>Poor</td>\n",
       "      <td>Europe</td>\n",
       "    </tr>\n",
       "    <tr>\n",
       "      <th>9</th>\n",
       "      <td>EMP0010</td>\n",
       "      <td>30</td>\n",
       "      <td>Female</td>\n",
       "      <td>HR</td>\n",
       "      <td>IT</td>\n",
       "      <td>28</td>\n",
       "      <td>Hybrid</td>\n",
       "      <td>57</td>\n",
       "      <td>6</td>\n",
       "      <td>1</td>\n",
       "      <td>Low</td>\n",
       "      <td>Depression</td>\n",
       "      <td>Yes</td>\n",
       "      <td>Decrease</td>\n",
       "      <td>2</td>\n",
       "      <td>Neutral</td>\n",
       "      <td>1</td>\n",
       "      <td>Weekly</td>\n",
       "      <td>Poor</td>\n",
       "      <td>North America</td>\n",
       "    </tr>\n",
       "    <tr>\n",
       "      <th>10</th>\n",
       "      <td>EMP0011</td>\n",
       "      <td>33</td>\n",
       "      <td>Non-binary</td>\n",
       "      <td>Software Engineer</td>\n",
       "      <td>Finance</td>\n",
       "      <td>17</td>\n",
       "      <td>Remote</td>\n",
       "      <td>48</td>\n",
       "      <td>3</td>\n",
       "      <td>3</td>\n",
       "      <td>High</td>\n",
       "      <td>NaN</td>\n",
       "      <td>Yes</td>\n",
       "      <td>Decrease</td>\n",
       "      <td>4</td>\n",
       "      <td>Satisfied</td>\n",
       "      <td>2</td>\n",
       "      <td>Weekly</td>\n",
       "      <td>Average</td>\n",
       "      <td>Oceania</td>\n",
       "    </tr>\n",
       "    <tr>\n",
       "      <th>11</th>\n",
       "      <td>EMP0012</td>\n",
       "      <td>47</td>\n",
       "      <td>Female</td>\n",
       "      <td>Marketing</td>\n",
       "      <td>Consulting</td>\n",
       "      <td>31</td>\n",
       "      <td>Hybrid</td>\n",
       "      <td>26</td>\n",
       "      <td>12</td>\n",
       "      <td>4</td>\n",
       "      <td>Medium</td>\n",
       "      <td>NaN</td>\n",
       "      <td>Yes</td>\n",
       "      <td>No Change</td>\n",
       "      <td>4</td>\n",
       "      <td>Neutral</td>\n",
       "      <td>3</td>\n",
       "      <td>Weekly</td>\n",
       "      <td>Poor</td>\n",
       "      <td>Africa</td>\n",
       "    </tr>\n",
       "    <tr>\n",
       "      <th>12</th>\n",
       "      <td>EMP0013</td>\n",
       "      <td>40</td>\n",
       "      <td>Female</td>\n",
       "      <td>Marketing</td>\n",
       "      <td>Consulting</td>\n",
       "      <td>1</td>\n",
       "      <td>Remote</td>\n",
       "      <td>21</td>\n",
       "      <td>7</td>\n",
       "      <td>2</td>\n",
       "      <td>High</td>\n",
       "      <td>Depression</td>\n",
       "      <td>Yes</td>\n",
       "      <td>Decrease</td>\n",
       "      <td>2</td>\n",
       "      <td>Neutral</td>\n",
       "      <td>1</td>\n",
       "      <td>Weekly</td>\n",
       "      <td>Good</td>\n",
       "      <td>Europe</td>\n",
       "    </tr>\n",
       "    <tr>\n",
       "      <th>13</th>\n",
       "      <td>EMP0014</td>\n",
       "      <td>51</td>\n",
       "      <td>Non-binary</td>\n",
       "      <td>Designer</td>\n",
       "      <td>Manufacturing</td>\n",
       "      <td>5</td>\n",
       "      <td>Hybrid</td>\n",
       "      <td>45</td>\n",
       "      <td>13</td>\n",
       "      <td>1</td>\n",
       "      <td>Low</td>\n",
       "      <td>Anxiety</td>\n",
       "      <td>No</td>\n",
       "      <td>Decrease</td>\n",
       "      <td>2</td>\n",
       "      <td>Satisfied</td>\n",
       "      <td>5</td>\n",
       "      <td>Weekly</td>\n",
       "      <td>Poor</td>\n",
       "      <td>North America</td>\n",
       "    </tr>\n",
       "    <tr>\n",
       "      <th>14</th>\n",
       "      <td>EMP0015</td>\n",
       "      <td>36</td>\n",
       "      <td>Prefer not to say</td>\n",
       "      <td>Project Manager</td>\n",
       "      <td>Retail</td>\n",
       "      <td>23</td>\n",
       "      <td>Remote</td>\n",
       "      <td>59</td>\n",
       "      <td>11</td>\n",
       "      <td>3</td>\n",
       "      <td>High</td>\n",
       "      <td>Anxiety</td>\n",
       "      <td>Yes</td>\n",
       "      <td>Decrease</td>\n",
       "      <td>5</td>\n",
       "      <td>Neutral</td>\n",
       "      <td>3</td>\n",
       "      <td>Weekly</td>\n",
       "      <td>Average</td>\n",
       "      <td>Oceania</td>\n",
       "    </tr>\n",
       "    <tr>\n",
       "      <th>15</th>\n",
       "      <td>EMP0016</td>\n",
       "      <td>56</td>\n",
       "      <td>Female</td>\n",
       "      <td>Sales</td>\n",
       "      <td>Healthcare</td>\n",
       "      <td>13</td>\n",
       "      <td>Remote</td>\n",
       "      <td>44</td>\n",
       "      <td>11</td>\n",
       "      <td>4</td>\n",
       "      <td>Low</td>\n",
       "      <td>Anxiety</td>\n",
       "      <td>No</td>\n",
       "      <td>No Change</td>\n",
       "      <td>5</td>\n",
       "      <td>Satisfied</td>\n",
       "      <td>4</td>\n",
       "      <td>Weekly</td>\n",
       "      <td>Average</td>\n",
       "      <td>Africa</td>\n",
       "    </tr>\n",
       "    <tr>\n",
       "      <th>16</th>\n",
       "      <td>EMP0017</td>\n",
       "      <td>33</td>\n",
       "      <td>Prefer not to say</td>\n",
       "      <td>HR</td>\n",
       "      <td>Education</td>\n",
       "      <td>3</td>\n",
       "      <td>Onsite</td>\n",
       "      <td>52</td>\n",
       "      <td>9</td>\n",
       "      <td>2</td>\n",
       "      <td>Medium</td>\n",
       "      <td>NaN</td>\n",
       "      <td>No</td>\n",
       "      <td>No Change</td>\n",
       "      <td>1</td>\n",
       "      <td>Satisfied</td>\n",
       "      <td>1</td>\n",
       "      <td>Weekly</td>\n",
       "      <td>Good</td>\n",
       "      <td>Africa</td>\n",
       "    </tr>\n",
       "    <tr>\n",
       "      <th>17</th>\n",
       "      <td>EMP0018</td>\n",
       "      <td>45</td>\n",
       "      <td>Non-binary</td>\n",
       "      <td>Data Scientist</td>\n",
       "      <td>Consulting</td>\n",
       "      <td>20</td>\n",
       "      <td>Onsite</td>\n",
       "      <td>37</td>\n",
       "      <td>8</td>\n",
       "      <td>3</td>\n",
       "      <td>Low</td>\n",
       "      <td>Burnout</td>\n",
       "      <td>Yes</td>\n",
       "      <td>Decrease</td>\n",
       "      <td>5</td>\n",
       "      <td>Neutral</td>\n",
       "      <td>5</td>\n",
       "      <td>Weekly</td>\n",
       "      <td>Good</td>\n",
       "      <td>Europe</td>\n",
       "    </tr>\n",
       "    <tr>\n",
       "      <th>18</th>\n",
       "      <td>EMP0019</td>\n",
       "      <td>49</td>\n",
       "      <td>Non-binary</td>\n",
       "      <td>Software Engineer</td>\n",
       "      <td>IT</td>\n",
       "      <td>30</td>\n",
       "      <td>Remote</td>\n",
       "      <td>36</td>\n",
       "      <td>6</td>\n",
       "      <td>1</td>\n",
       "      <td>High</td>\n",
       "      <td>Anxiety</td>\n",
       "      <td>No</td>\n",
       "      <td>No Change</td>\n",
       "      <td>3</td>\n",
       "      <td>Satisfied</td>\n",
       "      <td>2</td>\n",
       "      <td>Weekly</td>\n",
       "      <td>Good</td>\n",
       "      <td>Oceania</td>\n",
       "    </tr>\n",
       "    <tr>\n",
       "      <th>19</th>\n",
       "      <td>EMP0020</td>\n",
       "      <td>59</td>\n",
       "      <td>Male</td>\n",
       "      <td>Software Engineer</td>\n",
       "      <td>Consulting</td>\n",
       "      <td>13</td>\n",
       "      <td>Remote</td>\n",
       "      <td>59</td>\n",
       "      <td>4</td>\n",
       "      <td>3</td>\n",
       "      <td>Medium</td>\n",
       "      <td>Anxiety</td>\n",
       "      <td>No</td>\n",
       "      <td>Decrease</td>\n",
       "      <td>4</td>\n",
       "      <td>Neutral</td>\n",
       "      <td>1</td>\n",
       "      <td>Daily</td>\n",
       "      <td>Average</td>\n",
       "      <td>South America</td>\n",
       "    </tr>\n",
       "  </tbody>\n",
       "</table>\n",
       "</div>"
      ],
      "text/plain": [
       "   Employee_ID  Age             Gender           Job_Role       Industry  \\\n",
       "0      EMP0001   32         Non-binary                 HR     Healthcare   \n",
       "1      EMP0002   40             Female     Data Scientist             IT   \n",
       "2      EMP0003   59         Non-binary  Software Engineer      Education   \n",
       "3      EMP0004   27               Male  Software Engineer        Finance   \n",
       "4      EMP0005   49               Male              Sales     Consulting   \n",
       "5      EMP0006   59         Non-binary              Sales             IT   \n",
       "6      EMP0007   31  Prefer not to say              Sales             IT   \n",
       "7      EMP0008   42         Non-binary     Data Scientist  Manufacturing   \n",
       "8      EMP0009   56  Prefer not to say     Data Scientist     Healthcare   \n",
       "9      EMP0010   30             Female                 HR             IT   \n",
       "10     EMP0011   33         Non-binary  Software Engineer        Finance   \n",
       "11     EMP0012   47             Female          Marketing     Consulting   \n",
       "12     EMP0013   40             Female          Marketing     Consulting   \n",
       "13     EMP0014   51         Non-binary           Designer  Manufacturing   \n",
       "14     EMP0015   36  Prefer not to say    Project Manager         Retail   \n",
       "15     EMP0016   56             Female              Sales     Healthcare   \n",
       "16     EMP0017   33  Prefer not to say                 HR      Education   \n",
       "17     EMP0018   45         Non-binary     Data Scientist     Consulting   \n",
       "18     EMP0019   49         Non-binary  Software Engineer             IT   \n",
       "19     EMP0020   59               Male  Software Engineer     Consulting   \n",
       "\n",
       "    Years_of_Experience Work_Location  Hours_Worked_Per_Week  \\\n",
       "0                    13        Hybrid                     47   \n",
       "1                     3        Remote                     52   \n",
       "2                    22        Hybrid                     46   \n",
       "3                    20        Onsite                     32   \n",
       "4                    32        Onsite                     35   \n",
       "5                    31        Hybrid                     39   \n",
       "6                    24        Remote                     51   \n",
       "7                     6        Onsite                     54   \n",
       "8                     9        Hybrid                     24   \n",
       "9                    28        Hybrid                     57   \n",
       "10                   17        Remote                     48   \n",
       "11                   31        Hybrid                     26   \n",
       "12                    1        Remote                     21   \n",
       "13                    5        Hybrid                     45   \n",
       "14                   23        Remote                     59   \n",
       "15                   13        Remote                     44   \n",
       "16                    3        Onsite                     52   \n",
       "17                   20        Onsite                     37   \n",
       "18                   30        Remote                     36   \n",
       "19                   13        Remote                     59   \n",
       "\n",
       "    Number_of_Virtual_Meetings  Work_Life_Balance_Rating Stress_Level  \\\n",
       "0                            7                         2       Medium   \n",
       "1                            4                         1       Medium   \n",
       "2                           11                         5       Medium   \n",
       "3                            8                         4         High   \n",
       "4                           12                         2         High   \n",
       "5                            3                         4         High   \n",
       "6                            7                         3          Low   \n",
       "7                            7                         3       Medium   \n",
       "8                            4                         2         High   \n",
       "9                            6                         1          Low   \n",
       "10                           3                         3         High   \n",
       "11                          12                         4       Medium   \n",
       "12                           7                         2         High   \n",
       "13                          13                         1          Low   \n",
       "14                          11                         3         High   \n",
       "15                          11                         4          Low   \n",
       "16                           9                         2       Medium   \n",
       "17                           8                         3          Low   \n",
       "18                           6                         1         High   \n",
       "19                           4                         3       Medium   \n",
       "\n",
       "   Mental_Health_Condition Access_to_Mental_Health_Resources  \\\n",
       "0               Depression                                No   \n",
       "1                  Anxiety                                No   \n",
       "2                  Anxiety                                No   \n",
       "3               Depression                               Yes   \n",
       "4                      NaN                               Yes   \n",
       "5                      NaN                                No   \n",
       "6                  Anxiety                               Yes   \n",
       "7               Depression                                No   \n",
       "8                      NaN                               Yes   \n",
       "9               Depression                               Yes   \n",
       "10                     NaN                               Yes   \n",
       "11                     NaN                               Yes   \n",
       "12              Depression                               Yes   \n",
       "13                 Anxiety                                No   \n",
       "14                 Anxiety                               Yes   \n",
       "15                 Anxiety                                No   \n",
       "16                     NaN                                No   \n",
       "17                 Burnout                               Yes   \n",
       "18                 Anxiety                                No   \n",
       "19                 Anxiety                                No   \n",
       "\n",
       "   Productivity_Change  Social_Isolation_Rating Satisfaction_with_Remote_Work  \\\n",
       "0             Decrease                        1                   Unsatisfied   \n",
       "1             Increase                        3                     Satisfied   \n",
       "2            No Change                        4                   Unsatisfied   \n",
       "3             Increase                        3                   Unsatisfied   \n",
       "4             Decrease                        3                   Unsatisfied   \n",
       "5             Increase                        5                   Unsatisfied   \n",
       "6             Decrease                        5                       Neutral   \n",
       "7             Decrease                        5                     Satisfied   \n",
       "8             Decrease                        2                   Unsatisfied   \n",
       "9             Decrease                        2                       Neutral   \n",
       "10            Decrease                        4                     Satisfied   \n",
       "11           No Change                        4                       Neutral   \n",
       "12            Decrease                        2                       Neutral   \n",
       "13            Decrease                        2                     Satisfied   \n",
       "14            Decrease                        5                       Neutral   \n",
       "15           No Change                        5                     Satisfied   \n",
       "16           No Change                        1                     Satisfied   \n",
       "17            Decrease                        5                       Neutral   \n",
       "18           No Change                        3                     Satisfied   \n",
       "19            Decrease                        4                       Neutral   \n",
       "\n",
       "    Company_Support_for_Remote_Work Physical_Activity Sleep_Quality  \\\n",
       "0                                 1            Weekly          Good   \n",
       "1                                 2            Weekly          Good   \n",
       "2                                 5               NaN          Poor   \n",
       "3                                 3               NaN          Poor   \n",
       "4                                 3            Weekly       Average   \n",
       "5                                 1               NaN       Average   \n",
       "6                                 3             Daily          Poor   \n",
       "7                                 4               NaN       Average   \n",
       "8                                 4             Daily          Poor   \n",
       "9                                 1            Weekly          Poor   \n",
       "10                                2            Weekly       Average   \n",
       "11                                3            Weekly          Poor   \n",
       "12                                1            Weekly          Good   \n",
       "13                                5            Weekly          Poor   \n",
       "14                                3            Weekly       Average   \n",
       "15                                4            Weekly       Average   \n",
       "16                                1            Weekly          Good   \n",
       "17                                5            Weekly          Good   \n",
       "18                                2            Weekly          Good   \n",
       "19                                1             Daily       Average   \n",
       "\n",
       "           Region  \n",
       "0          Europe  \n",
       "1            Asia  \n",
       "2   North America  \n",
       "3          Europe  \n",
       "4   North America  \n",
       "5   South America  \n",
       "6            Asia  \n",
       "7   North America  \n",
       "8          Europe  \n",
       "9   North America  \n",
       "10        Oceania  \n",
       "11         Africa  \n",
       "12         Europe  \n",
       "13  North America  \n",
       "14        Oceania  \n",
       "15         Africa  \n",
       "16         Africa  \n",
       "17         Europe  \n",
       "18        Oceania  \n",
       "19  South America  "
      ]
     },
     "execution_count": 98,
     "metadata": {},
     "output_type": "execute_result"
    }
   ],
   "source": [
    "# IMT2200-ProyectoDS\\data\\Impact_of_Remote_Work_on_Mental_Health.csv\n",
    "path = os.path.join('..', 'data', 'Impact_of_Remote_Work_on_Mental_Health.csv')\n",
    "df = abrir_csv(path)\n",
    "df.head(20)"
   ]
  },
  {
   "cell_type": "code",
   "execution_count": 99,
   "id": "863eba0b",
   "metadata": {},
   "outputs": [
    {
     "data": {
      "text/plain": [
       "Index(['Employee_ID', 'Age', 'Gender', 'Job_Role', 'Industry',\n",
       "       'Years_of_Experience', 'Work_Location', 'Hours_Worked_Per_Week',\n",
       "       'Number_of_Virtual_Meetings', 'Work_Life_Balance_Rating',\n",
       "       'Stress_Level', 'Mental_Health_Condition',\n",
       "       'Access_to_Mental_Health_Resources', 'Productivity_Change',\n",
       "       'Social_Isolation_Rating', 'Satisfaction_with_Remote_Work',\n",
       "       'Company_Support_for_Remote_Work', 'Physical_Activity', 'Sleep_Quality',\n",
       "       'Region'],\n",
       "      dtype='object')"
      ]
     },
     "execution_count": 99,
     "metadata": {},
     "output_type": "execute_result"
    }
   ],
   "source": [
    "df.columns"
   ]
  },
  {
   "cell_type": "code",
   "execution_count": 100,
   "id": "2bd1f6fa",
   "metadata": {},
   "outputs": [
    {
     "data": {
      "application/vnd.microsoft.datawrangler.viewer.v0+json": {
       "columns": [
        {
         "name": "index",
         "rawType": "int64",
         "type": "integer"
        },
        {
         "name": "ID_Empleado",
         "rawType": "object",
         "type": "string"
        },
        {
         "name": "Edad",
         "rawType": "int64",
         "type": "integer"
        },
        {
         "name": "Genero",
         "rawType": "object",
         "type": "string"
        },
        {
         "name": "Rol_de_Trabajo",
         "rawType": "object",
         "type": "string"
        },
        {
         "name": "Industria",
         "rawType": "object",
         "type": "string"
        },
        {
         "name": "Años_de_Experiencia",
         "rawType": "int64",
         "type": "integer"
        },
        {
         "name": "Ubicación_de_Trabajo",
         "rawType": "object",
         "type": "string"
        },
        {
         "name": "Horas_Trabajadas_Por_Semana",
         "rawType": "int64",
         "type": "integer"
        },
        {
         "name": "Número_de_Reuniones_Virtuales",
         "rawType": "int64",
         "type": "integer"
        },
        {
         "name": "Calificación_de_Equilibrio_Trabajo_Vida",
         "rawType": "int64",
         "type": "integer"
        },
        {
         "name": "Nivel_de_Estrés",
         "rawType": "object",
         "type": "string"
        },
        {
         "name": "Condición_de_Salud_Mental",
         "rawType": "object",
         "type": "unknown"
        },
        {
         "name": "Acceso_a_Recursos_de_Salud_Mental",
         "rawType": "object",
         "type": "string"
        },
        {
         "name": "Cambio_de_Productividad",
         "rawType": "object",
         "type": "string"
        },
        {
         "name": "Calificación_de_Aislamiento_Social",
         "rawType": "int64",
         "type": "integer"
        },
        {
         "name": "Satisfacción_con_Trabajo_Remoto",
         "rawType": "object",
         "type": "string"
        },
        {
         "name": "Apoyo_de_la_Empresa_para_Trabajo_Remoto",
         "rawType": "int64",
         "type": "integer"
        },
        {
         "name": "Actividad_Física",
         "rawType": "object",
         "type": "unknown"
        },
        {
         "name": "Calidad_del_Sueño",
         "rawType": "object",
         "type": "string"
        },
        {
         "name": "Región",
         "rawType": "object",
         "type": "string"
        }
       ],
       "ref": "d60bcb6b-2063-42b0-a2c0-0ce682c68384",
       "rows": [
        [
         "0",
         "EMP0001",
         "32",
         "Non-binary",
         "HR",
         "Healthcare",
         "13",
         "Hybrid",
         "47",
         "7",
         "2",
         "Medium",
         "Depression",
         "No",
         "Decrease",
         "1",
         "Unsatisfied",
         "1",
         "Weekly",
         "Good",
         "Europe"
        ],
        [
         "1",
         "EMP0002",
         "40",
         "Female",
         "Data Scientist",
         "IT",
         "3",
         "Remote",
         "52",
         "4",
         "1",
         "Medium",
         "Anxiety",
         "No",
         "Increase",
         "3",
         "Satisfied",
         "2",
         "Weekly",
         "Good",
         "Asia"
        ],
        [
         "2",
         "EMP0003",
         "59",
         "Non-binary",
         "Software Engineer",
         "Education",
         "22",
         "Hybrid",
         "46",
         "11",
         "5",
         "Medium",
         "Anxiety",
         "No",
         "No Change",
         "4",
         "Unsatisfied",
         "5",
         null,
         "Poor",
         "North America"
        ],
        [
         "3",
         "EMP0004",
         "27",
         "Male",
         "Software Engineer",
         "Finance",
         "20",
         "Onsite",
         "32",
         "8",
         "4",
         "High",
         "Depression",
         "Yes",
         "Increase",
         "3",
         "Unsatisfied",
         "3",
         null,
         "Poor",
         "Europe"
        ],
        [
         "4",
         "EMP0005",
         "49",
         "Male",
         "Sales",
         "Consulting",
         "32",
         "Onsite",
         "35",
         "12",
         "2",
         "High",
         null,
         "Yes",
         "Decrease",
         "3",
         "Unsatisfied",
         "3",
         "Weekly",
         "Average",
         "North America"
        ],
        [
         "5",
         "EMP0006",
         "59",
         "Non-binary",
         "Sales",
         "IT",
         "31",
         "Hybrid",
         "39",
         "3",
         "4",
         "High",
         null,
         "No",
         "Increase",
         "5",
         "Unsatisfied",
         "1",
         null,
         "Average",
         "South America"
        ],
        [
         "6",
         "EMP0007",
         "31",
         "Prefer not to say",
         "Sales",
         "IT",
         "24",
         "Remote",
         "51",
         "7",
         "3",
         "Low",
         "Anxiety",
         "Yes",
         "Decrease",
         "5",
         "Neutral",
         "3",
         "Daily",
         "Poor",
         "Asia"
        ],
        [
         "7",
         "EMP0008",
         "42",
         "Non-binary",
         "Data Scientist",
         "Manufacturing",
         "6",
         "Onsite",
         "54",
         "7",
         "3",
         "Medium",
         "Depression",
         "No",
         "Decrease",
         "5",
         "Satisfied",
         "4",
         null,
         "Average",
         "North America"
        ],
        [
         "8",
         "EMP0009",
         "56",
         "Prefer not to say",
         "Data Scientist",
         "Healthcare",
         "9",
         "Hybrid",
         "24",
         "4",
         "2",
         "High",
         null,
         "Yes",
         "Decrease",
         "2",
         "Unsatisfied",
         "4",
         "Daily",
         "Poor",
         "Europe"
        ],
        [
         "9",
         "EMP0010",
         "30",
         "Female",
         "HR",
         "IT",
         "28",
         "Hybrid",
         "57",
         "6",
         "1",
         "Low",
         "Depression",
         "Yes",
         "Decrease",
         "2",
         "Neutral",
         "1",
         "Weekly",
         "Poor",
         "North America"
        ],
        [
         "10",
         "EMP0011",
         "33",
         "Non-binary",
         "Software Engineer",
         "Finance",
         "17",
         "Remote",
         "48",
         "3",
         "3",
         "High",
         null,
         "Yes",
         "Decrease",
         "4",
         "Satisfied",
         "2",
         "Weekly",
         "Average",
         "Oceania"
        ],
        [
         "11",
         "EMP0012",
         "47",
         "Female",
         "Marketing",
         "Consulting",
         "31",
         "Hybrid",
         "26",
         "12",
         "4",
         "Medium",
         null,
         "Yes",
         "No Change",
         "4",
         "Neutral",
         "3",
         "Weekly",
         "Poor",
         "Africa"
        ],
        [
         "12",
         "EMP0013",
         "40",
         "Female",
         "Marketing",
         "Consulting",
         "1",
         "Remote",
         "21",
         "7",
         "2",
         "High",
         "Depression",
         "Yes",
         "Decrease",
         "2",
         "Neutral",
         "1",
         "Weekly",
         "Good",
         "Europe"
        ],
        [
         "13",
         "EMP0014",
         "51",
         "Non-binary",
         "Designer",
         "Manufacturing",
         "5",
         "Hybrid",
         "45",
         "13",
         "1",
         "Low",
         "Anxiety",
         "No",
         "Decrease",
         "2",
         "Satisfied",
         "5",
         "Weekly",
         "Poor",
         "North America"
        ],
        [
         "14",
         "EMP0015",
         "36",
         "Prefer not to say",
         "Project Manager",
         "Retail",
         "23",
         "Remote",
         "59",
         "11",
         "3",
         "High",
         "Anxiety",
         "Yes",
         "Decrease",
         "5",
         "Neutral",
         "3",
         "Weekly",
         "Average",
         "Oceania"
        ],
        [
         "15",
         "EMP0016",
         "56",
         "Female",
         "Sales",
         "Healthcare",
         "13",
         "Remote",
         "44",
         "11",
         "4",
         "Low",
         "Anxiety",
         "No",
         "No Change",
         "5",
         "Satisfied",
         "4",
         "Weekly",
         "Average",
         "Africa"
        ],
        [
         "16",
         "EMP0017",
         "33",
         "Prefer not to say",
         "HR",
         "Education",
         "3",
         "Onsite",
         "52",
         "9",
         "2",
         "Medium",
         null,
         "No",
         "No Change",
         "1",
         "Satisfied",
         "1",
         "Weekly",
         "Good",
         "Africa"
        ],
        [
         "17",
         "EMP0018",
         "45",
         "Non-binary",
         "Data Scientist",
         "Consulting",
         "20",
         "Onsite",
         "37",
         "8",
         "3",
         "Low",
         "Burnout",
         "Yes",
         "Decrease",
         "5",
         "Neutral",
         "5",
         "Weekly",
         "Good",
         "Europe"
        ],
        [
         "18",
         "EMP0019",
         "49",
         "Non-binary",
         "Software Engineer",
         "IT",
         "30",
         "Remote",
         "36",
         "6",
         "1",
         "High",
         "Anxiety",
         "No",
         "No Change",
         "3",
         "Satisfied",
         "2",
         "Weekly",
         "Good",
         "Oceania"
        ],
        [
         "19",
         "EMP0020",
         "59",
         "Male",
         "Software Engineer",
         "Consulting",
         "13",
         "Remote",
         "59",
         "4",
         "3",
         "Medium",
         "Anxiety",
         "No",
         "Decrease",
         "4",
         "Neutral",
         "1",
         "Daily",
         "Average",
         "South America"
        ],
        [
         "20",
         "EMP0021",
         "26",
         "Female",
         "Sales",
         "Retail",
         "33",
         "Hybrid",
         "21",
         "1",
         "2",
         "Low",
         "Burnout",
         "No",
         "Increase",
         "2",
         "Satisfied",
         "1",
         "Weekly",
         "Poor",
         "South America"
        ],
        [
         "21",
         "EMP0022",
         "26",
         "Non-binary",
         "Sales",
         "Education",
         "21",
         "Onsite",
         "54",
         "12",
         "3",
         "Medium",
         "Depression",
         "No",
         "Decrease",
         "3",
         "Unsatisfied",
         "4",
         "Daily",
         "Poor",
         "North America"
        ],
        [
         "22",
         "EMP0023",
         "43",
         "Prefer not to say",
         "Sales",
         "Finance",
         "21",
         "Onsite",
         "57",
         "1",
         "3",
         "Low",
         "Depression",
         "Yes",
         "Increase",
         "3",
         "Satisfied",
         "4",
         "Daily",
         "Average",
         "Africa"
        ],
        [
         "23",
         "EMP0024",
         "53",
         "Non-binary",
         "Marketing",
         "Consulting",
         "11",
         "Onsite",
         "22",
         "12",
         "5",
         "Low",
         "Depression",
         "No",
         "No Change",
         "2",
         "Neutral",
         "3",
         "Weekly",
         "Poor",
         "Asia"
        ],
        [
         "24",
         "EMP0025",
         "56",
         "Male",
         "Sales",
         "Finance",
         "6",
         "Remote",
         "54",
         "15",
         "3",
         "Low",
         "Burnout",
         "No",
         "Increase",
         "2",
         "Neutral",
         "4",
         "Daily",
         "Average",
         "North America"
        ],
        [
         "25",
         "EMP0026",
         "49",
         "Male",
         "Project Manager",
         "Healthcare",
         "23",
         "Onsite",
         "21",
         "14",
         "4",
         "High",
         "Burnout",
         "No",
         "No Change",
         "4",
         "Neutral",
         "3",
         null,
         "Good",
         "South America"
        ],
        [
         "26",
         "EMP0027",
         "36",
         "Non-binary",
         "Project Manager",
         "Retail",
         "30",
         "Onsite",
         "24",
         "12",
         "3",
         "High",
         null,
         "No",
         "Decrease",
         "4",
         "Unsatisfied",
         "4",
         null,
         "Poor",
         "North America"
        ],
        [
         "27",
         "EMP0028",
         "53",
         "Female",
         "Project Manager",
         "Retail",
         "31",
         "Onsite",
         "56",
         "4",
         "4",
         "Low",
         "Depression",
         "No",
         "No Change",
         "4",
         "Unsatisfied",
         "4",
         null,
         "Poor",
         "Oceania"
        ],
        [
         "28",
         "EMP0029",
         "47",
         "Prefer not to say",
         "Sales",
         "IT",
         "22",
         "Onsite",
         "33",
         "10",
         "3",
         "High",
         "Depression",
         "Yes",
         "Decrease",
         "4",
         "Satisfied",
         "1",
         "Daily",
         "Poor",
         "Europe"
        ],
        [
         "29",
         "EMP0030",
         "59",
         "Male",
         "Software Engineer",
         "Healthcare",
         "34",
         "Remote",
         "25",
         "15",
         "2",
         "High",
         "Depression",
         "Yes",
         "No Change",
         "3",
         "Satisfied",
         "1",
         "Weekly",
         "Poor",
         "North America"
        ],
        [
         "30",
         "EMP0031",
         "22",
         "Female",
         "Data Scientist",
         "IT",
         "22",
         "Onsite",
         "20",
         "11",
         "1",
         "Low",
         "Anxiety",
         "Yes",
         "No Change",
         "5",
         "Neutral",
         "2",
         "Weekly",
         "Average",
         "Asia"
        ],
        [
         "31",
         "EMP0032",
         "37",
         "Prefer not to say",
         "Marketing",
         "Manufacturing",
         "4",
         "Hybrid",
         "33",
         "14",
         "2",
         "Medium",
         "Depression",
         "No",
         "Decrease",
         "3",
         "Satisfied",
         "5",
         null,
         "Average",
         "North America"
        ],
        [
         "32",
         "EMP0033",
         "45",
         "Prefer not to say",
         "Project Manager",
         "Manufacturing",
         "29",
         "Remote",
         "20",
         "14",
         "2",
         "Medium",
         "Anxiety",
         "Yes",
         "Decrease",
         "5",
         "Satisfied",
         "5",
         "Daily",
         "Good",
         "North America"
        ],
        [
         "33",
         "EMP0034",
         "48",
         "Male",
         "Software Engineer",
         "Healthcare",
         "27",
         "Remote",
         "26",
         "9",
         "3",
         "Medium",
         "Anxiety",
         "Yes",
         "No Change",
         "5",
         "Neutral",
         "4",
         "Daily",
         "Average",
         "North America"
        ],
        [
         "34",
         "EMP0035",
         "36",
         "Male",
         "Designer",
         "IT",
         "24",
         "Hybrid",
         "22",
         "6",
         "4",
         "Medium",
         "Depression",
         "No",
         "No Change",
         "1",
         "Unsatisfied",
         "3",
         "Weekly",
         "Average",
         "Europe"
        ],
        [
         "35",
         "EMP0036",
         "46",
         "Prefer not to say",
         "Sales",
         "Healthcare",
         "28",
         "Hybrid",
         "57",
         "8",
         "4",
         "Low",
         null,
         "Yes",
         "No Change",
         "1",
         "Neutral",
         "5",
         null,
         "Poor",
         "Europe"
        ],
        [
         "36",
         "EMP0037",
         "48",
         "Male",
         "Sales",
         "Finance",
         "10",
         "Onsite",
         "30",
         "12",
         "1",
         "Low",
         "Depression",
         "Yes",
         "Decrease",
         "5",
         "Satisfied",
         "3",
         null,
         "Poor",
         "Asia"
        ],
        [
         "37",
         "EMP0038",
         "31",
         "Female",
         "Designer",
         "Healthcare",
         "18",
         "Remote",
         "47",
         "14",
         "2",
         "Low",
         null,
         "Yes",
         "Increase",
         "2",
         "Satisfied",
         "5",
         "Daily",
         "Good",
         "Asia"
        ],
        [
         "38",
         "EMP0039",
         "24",
         "Non-binary",
         "Sales",
         "IT",
         "21",
         "Onsite",
         "48",
         "12",
         "4",
         "Low",
         "Anxiety",
         "Yes",
         "No Change",
         "3",
         "Neutral",
         "1",
         "Weekly",
         "Average",
         "Africa"
        ],
        [
         "39",
         "EMP0040",
         "49",
         "Male",
         "Marketing",
         "Consulting",
         "20",
         "Hybrid",
         "20",
         "1",
         "3",
         "High",
         null,
         "No",
         "Increase",
         "1",
         "Unsatisfied",
         "5",
         "Weekly",
         "Poor",
         "Asia"
        ],
        [
         "40",
         "EMP0041",
         "30",
         "Non-binary",
         "Data Scientist",
         "IT",
         "22",
         "Remote",
         "44",
         "15",
         "4",
         "High",
         "Burnout",
         "No",
         "Decrease",
         "1",
         "Neutral",
         "5",
         "Daily",
         "Poor",
         "Europe"
        ],
        [
         "41",
         "EMP0042",
         "53",
         "Male",
         "Project Manager",
         "IT",
         "14",
         "Onsite",
         "29",
         "13",
         "2",
         "Low",
         null,
         "No",
         "No Change",
         "1",
         "Unsatisfied",
         "5",
         null,
         "Good",
         "North America"
        ],
        [
         "42",
         "EMP0043",
         "54",
         "Prefer not to say",
         "Project Manager",
         "Finance",
         "26",
         "Remote",
         "58",
         "6",
         "3",
         "High",
         null,
         "Yes",
         "Increase",
         "3",
         "Unsatisfied",
         "3",
         "Weekly",
         "Poor",
         "Europe"
        ],
        [
         "43",
         "EMP0044",
         "54",
         "Female",
         "Designer",
         "Manufacturing",
         "12",
         "Remote",
         "53",
         "12",
         "4",
         "Medium",
         "Depression",
         "Yes",
         "No Change",
         "1",
         "Unsatisfied",
         "3",
         null,
         "Average",
         "Europe"
        ],
        [
         "44",
         "EMP0045",
         "57",
         "Prefer not to say",
         "HR",
         "Retail",
         "13",
         "Remote",
         "23",
         "6",
         "3",
         "High",
         "Anxiety",
         "Yes",
         "No Change",
         "5",
         "Neutral",
         "2",
         "Daily",
         "Good",
         "South America"
        ],
        [
         "45",
         "EMP0046",
         "32",
         "Male",
         "Marketing",
         "Retail",
         "24",
         "Remote",
         "42",
         "8",
         "2",
         "Medium",
         "Burnout",
         "No",
         "No Change",
         "2",
         "Neutral",
         "3",
         "Daily",
         "Poor",
         "North America"
        ],
        [
         "46",
         "EMP0047",
         "33",
         "Male",
         "Data Scientist",
         "Education",
         "33",
         "Remote",
         "35",
         "15",
         "1",
         "Medium",
         "Burnout",
         "Yes",
         "Decrease",
         "1",
         "Unsatisfied",
         "5",
         "Weekly",
         "Good",
         "South America"
        ],
        [
         "47",
         "EMP0048",
         "30",
         "Female",
         "Sales",
         "Consulting",
         "4",
         "Remote",
         "39",
         "2",
         "5",
         "High",
         null,
         "No",
         "Decrease",
         "1",
         "Unsatisfied",
         "4",
         null,
         "Good",
         "Oceania"
        ],
        [
         "48",
         "EMP0049",
         "22",
         "Female",
         "HR",
         "Healthcare",
         "7",
         "Onsite",
         "29",
         "9",
         "4",
         "Low",
         null,
         "No",
         "Increase",
         "2",
         "Neutral",
         "3",
         "Daily",
         "Poor",
         "Africa"
        ],
        [
         "49",
         "EMP0050",
         "35",
         "Male",
         "Project Manager",
         "Retail",
         "11",
         "Onsite",
         "37",
         "3",
         "4",
         "Medium",
         "Burnout",
         "No",
         "No Change",
         "1",
         "Satisfied",
         "3",
         null,
         "Average",
         "Europe"
        ]
       ],
       "shape": {
        "columns": 20,
        "rows": 5000
       }
      },
      "text/html": [
       "<div>\n",
       "<style scoped>\n",
       "    .dataframe tbody tr th:only-of-type {\n",
       "        vertical-align: middle;\n",
       "    }\n",
       "\n",
       "    .dataframe tbody tr th {\n",
       "        vertical-align: top;\n",
       "    }\n",
       "\n",
       "    .dataframe thead th {\n",
       "        text-align: right;\n",
       "    }\n",
       "</style>\n",
       "<table border=\"1\" class=\"dataframe\">\n",
       "  <thead>\n",
       "    <tr style=\"text-align: right;\">\n",
       "      <th></th>\n",
       "      <th>ID_Empleado</th>\n",
       "      <th>Edad</th>\n",
       "      <th>Genero</th>\n",
       "      <th>Rol_de_Trabajo</th>\n",
       "      <th>Industria</th>\n",
       "      <th>Años_de_Experiencia</th>\n",
       "      <th>Ubicación_de_Trabajo</th>\n",
       "      <th>Horas_Trabajadas_Por_Semana</th>\n",
       "      <th>Número_de_Reuniones_Virtuales</th>\n",
       "      <th>Calificación_de_Equilibrio_Trabajo_Vida</th>\n",
       "      <th>Nivel_de_Estrés</th>\n",
       "      <th>Condición_de_Salud_Mental</th>\n",
       "      <th>Acceso_a_Recursos_de_Salud_Mental</th>\n",
       "      <th>Cambio_de_Productividad</th>\n",
       "      <th>Calificación_de_Aislamiento_Social</th>\n",
       "      <th>Satisfacción_con_Trabajo_Remoto</th>\n",
       "      <th>Apoyo_de_la_Empresa_para_Trabajo_Remoto</th>\n",
       "      <th>Actividad_Física</th>\n",
       "      <th>Calidad_del_Sueño</th>\n",
       "      <th>Región</th>\n",
       "    </tr>\n",
       "  </thead>\n",
       "  <tbody>\n",
       "    <tr>\n",
       "      <th>0</th>\n",
       "      <td>EMP0001</td>\n",
       "      <td>32</td>\n",
       "      <td>Non-binary</td>\n",
       "      <td>HR</td>\n",
       "      <td>Healthcare</td>\n",
       "      <td>13</td>\n",
       "      <td>Hybrid</td>\n",
       "      <td>47</td>\n",
       "      <td>7</td>\n",
       "      <td>2</td>\n",
       "      <td>Medium</td>\n",
       "      <td>Depression</td>\n",
       "      <td>No</td>\n",
       "      <td>Decrease</td>\n",
       "      <td>1</td>\n",
       "      <td>Unsatisfied</td>\n",
       "      <td>1</td>\n",
       "      <td>Weekly</td>\n",
       "      <td>Good</td>\n",
       "      <td>Europe</td>\n",
       "    </tr>\n",
       "    <tr>\n",
       "      <th>1</th>\n",
       "      <td>EMP0002</td>\n",
       "      <td>40</td>\n",
       "      <td>Female</td>\n",
       "      <td>Data Scientist</td>\n",
       "      <td>IT</td>\n",
       "      <td>3</td>\n",
       "      <td>Remote</td>\n",
       "      <td>52</td>\n",
       "      <td>4</td>\n",
       "      <td>1</td>\n",
       "      <td>Medium</td>\n",
       "      <td>Anxiety</td>\n",
       "      <td>No</td>\n",
       "      <td>Increase</td>\n",
       "      <td>3</td>\n",
       "      <td>Satisfied</td>\n",
       "      <td>2</td>\n",
       "      <td>Weekly</td>\n",
       "      <td>Good</td>\n",
       "      <td>Asia</td>\n",
       "    </tr>\n",
       "    <tr>\n",
       "      <th>2</th>\n",
       "      <td>EMP0003</td>\n",
       "      <td>59</td>\n",
       "      <td>Non-binary</td>\n",
       "      <td>Software Engineer</td>\n",
       "      <td>Education</td>\n",
       "      <td>22</td>\n",
       "      <td>Hybrid</td>\n",
       "      <td>46</td>\n",
       "      <td>11</td>\n",
       "      <td>5</td>\n",
       "      <td>Medium</td>\n",
       "      <td>Anxiety</td>\n",
       "      <td>No</td>\n",
       "      <td>No Change</td>\n",
       "      <td>4</td>\n",
       "      <td>Unsatisfied</td>\n",
       "      <td>5</td>\n",
       "      <td>NaN</td>\n",
       "      <td>Poor</td>\n",
       "      <td>North America</td>\n",
       "    </tr>\n",
       "    <tr>\n",
       "      <th>3</th>\n",
       "      <td>EMP0004</td>\n",
       "      <td>27</td>\n",
       "      <td>Male</td>\n",
       "      <td>Software Engineer</td>\n",
       "      <td>Finance</td>\n",
       "      <td>20</td>\n",
       "      <td>Onsite</td>\n",
       "      <td>32</td>\n",
       "      <td>8</td>\n",
       "      <td>4</td>\n",
       "      <td>High</td>\n",
       "      <td>Depression</td>\n",
       "      <td>Yes</td>\n",
       "      <td>Increase</td>\n",
       "      <td>3</td>\n",
       "      <td>Unsatisfied</td>\n",
       "      <td>3</td>\n",
       "      <td>NaN</td>\n",
       "      <td>Poor</td>\n",
       "      <td>Europe</td>\n",
       "    </tr>\n",
       "    <tr>\n",
       "      <th>4</th>\n",
       "      <td>EMP0005</td>\n",
       "      <td>49</td>\n",
       "      <td>Male</td>\n",
       "      <td>Sales</td>\n",
       "      <td>Consulting</td>\n",
       "      <td>32</td>\n",
       "      <td>Onsite</td>\n",
       "      <td>35</td>\n",
       "      <td>12</td>\n",
       "      <td>2</td>\n",
       "      <td>High</td>\n",
       "      <td>NaN</td>\n",
       "      <td>Yes</td>\n",
       "      <td>Decrease</td>\n",
       "      <td>3</td>\n",
       "      <td>Unsatisfied</td>\n",
       "      <td>3</td>\n",
       "      <td>Weekly</td>\n",
       "      <td>Average</td>\n",
       "      <td>North America</td>\n",
       "    </tr>\n",
       "    <tr>\n",
       "      <th>...</th>\n",
       "      <td>...</td>\n",
       "      <td>...</td>\n",
       "      <td>...</td>\n",
       "      <td>...</td>\n",
       "      <td>...</td>\n",
       "      <td>...</td>\n",
       "      <td>...</td>\n",
       "      <td>...</td>\n",
       "      <td>...</td>\n",
       "      <td>...</td>\n",
       "      <td>...</td>\n",
       "      <td>...</td>\n",
       "      <td>...</td>\n",
       "      <td>...</td>\n",
       "      <td>...</td>\n",
       "      <td>...</td>\n",
       "      <td>...</td>\n",
       "      <td>...</td>\n",
       "      <td>...</td>\n",
       "      <td>...</td>\n",
       "    </tr>\n",
       "    <tr>\n",
       "      <th>4995</th>\n",
       "      <td>EMP4996</td>\n",
       "      <td>32</td>\n",
       "      <td>Male</td>\n",
       "      <td>Sales</td>\n",
       "      <td>Consulting</td>\n",
       "      <td>4</td>\n",
       "      <td>Onsite</td>\n",
       "      <td>24</td>\n",
       "      <td>2</td>\n",
       "      <td>5</td>\n",
       "      <td>High</td>\n",
       "      <td>Burnout</td>\n",
       "      <td>Yes</td>\n",
       "      <td>Decrease</td>\n",
       "      <td>4</td>\n",
       "      <td>Neutral</td>\n",
       "      <td>1</td>\n",
       "      <td>Weekly</td>\n",
       "      <td>Average</td>\n",
       "      <td>Asia</td>\n",
       "    </tr>\n",
       "    <tr>\n",
       "      <th>4996</th>\n",
       "      <td>EMP4997</td>\n",
       "      <td>39</td>\n",
       "      <td>Female</td>\n",
       "      <td>Sales</td>\n",
       "      <td>Healthcare</td>\n",
       "      <td>27</td>\n",
       "      <td>Onsite</td>\n",
       "      <td>48</td>\n",
       "      <td>15</td>\n",
       "      <td>1</td>\n",
       "      <td>Low</td>\n",
       "      <td>Depression</td>\n",
       "      <td>Yes</td>\n",
       "      <td>Decrease</td>\n",
       "      <td>1</td>\n",
       "      <td>Satisfied</td>\n",
       "      <td>1</td>\n",
       "      <td>NaN</td>\n",
       "      <td>Average</td>\n",
       "      <td>Africa</td>\n",
       "    </tr>\n",
       "    <tr>\n",
       "      <th>4997</th>\n",
       "      <td>EMP4998</td>\n",
       "      <td>42</td>\n",
       "      <td>Female</td>\n",
       "      <td>Sales</td>\n",
       "      <td>Healthcare</td>\n",
       "      <td>21</td>\n",
       "      <td>Hybrid</td>\n",
       "      <td>34</td>\n",
       "      <td>1</td>\n",
       "      <td>4</td>\n",
       "      <td>High</td>\n",
       "      <td>Burnout</td>\n",
       "      <td>No</td>\n",
       "      <td>Increase</td>\n",
       "      <td>3</td>\n",
       "      <td>Satisfied</td>\n",
       "      <td>1</td>\n",
       "      <td>Daily</td>\n",
       "      <td>Poor</td>\n",
       "      <td>Oceania</td>\n",
       "    </tr>\n",
       "    <tr>\n",
       "      <th>4998</th>\n",
       "      <td>EMP4999</td>\n",
       "      <td>27</td>\n",
       "      <td>Female</td>\n",
       "      <td>Sales</td>\n",
       "      <td>Healthcare</td>\n",
       "      <td>26</td>\n",
       "      <td>Remote</td>\n",
       "      <td>58</td>\n",
       "      <td>0</td>\n",
       "      <td>5</td>\n",
       "      <td>Low</td>\n",
       "      <td>NaN</td>\n",
       "      <td>Yes</td>\n",
       "      <td>Increase</td>\n",
       "      <td>3</td>\n",
       "      <td>Unsatisfied</td>\n",
       "      <td>4</td>\n",
       "      <td>Daily</td>\n",
       "      <td>Average</td>\n",
       "      <td>Asia</td>\n",
       "    </tr>\n",
       "    <tr>\n",
       "      <th>4999</th>\n",
       "      <td>EMP5000</td>\n",
       "      <td>29</td>\n",
       "      <td>Male</td>\n",
       "      <td>HR</td>\n",
       "      <td>IT</td>\n",
       "      <td>30</td>\n",
       "      <td>Onsite</td>\n",
       "      <td>20</td>\n",
       "      <td>15</td>\n",
       "      <td>1</td>\n",
       "      <td>Low</td>\n",
       "      <td>Depression</td>\n",
       "      <td>Yes</td>\n",
       "      <td>No Change</td>\n",
       "      <td>3</td>\n",
       "      <td>Unsatisfied</td>\n",
       "      <td>5</td>\n",
       "      <td>NaN</td>\n",
       "      <td>Poor</td>\n",
       "      <td>Asia</td>\n",
       "    </tr>\n",
       "  </tbody>\n",
       "</table>\n",
       "<p>5000 rows × 20 columns</p>\n",
       "</div>"
      ],
      "text/plain": [
       "     ID_Empleado  Edad      Genero     Rol_de_Trabajo   Industria  \\\n",
       "0        EMP0001    32  Non-binary                 HR  Healthcare   \n",
       "1        EMP0002    40      Female     Data Scientist          IT   \n",
       "2        EMP0003    59  Non-binary  Software Engineer   Education   \n",
       "3        EMP0004    27        Male  Software Engineer     Finance   \n",
       "4        EMP0005    49        Male              Sales  Consulting   \n",
       "...          ...   ...         ...                ...         ...   \n",
       "4995     EMP4996    32        Male              Sales  Consulting   \n",
       "4996     EMP4997    39      Female              Sales  Healthcare   \n",
       "4997     EMP4998    42      Female              Sales  Healthcare   \n",
       "4998     EMP4999    27      Female              Sales  Healthcare   \n",
       "4999     EMP5000    29        Male                 HR          IT   \n",
       "\n",
       "      Años_de_Experiencia Ubicación_de_Trabajo  Horas_Trabajadas_Por_Semana  \\\n",
       "0                      13               Hybrid                           47   \n",
       "1                       3               Remote                           52   \n",
       "2                      22               Hybrid                           46   \n",
       "3                      20               Onsite                           32   \n",
       "4                      32               Onsite                           35   \n",
       "...                   ...                  ...                          ...   \n",
       "4995                    4               Onsite                           24   \n",
       "4996                   27               Onsite                           48   \n",
       "4997                   21               Hybrid                           34   \n",
       "4998                   26               Remote                           58   \n",
       "4999                   30               Onsite                           20   \n",
       "\n",
       "      Número_de_Reuniones_Virtuales  Calificación_de_Equilibrio_Trabajo_Vida  \\\n",
       "0                                 7                                        2   \n",
       "1                                 4                                        1   \n",
       "2                                11                                        5   \n",
       "3                                 8                                        4   \n",
       "4                                12                                        2   \n",
       "...                             ...                                      ...   \n",
       "4995                              2                                        5   \n",
       "4996                             15                                        1   \n",
       "4997                              1                                        4   \n",
       "4998                              0                                        5   \n",
       "4999                             15                                        1   \n",
       "\n",
       "     Nivel_de_Estrés Condición_de_Salud_Mental  \\\n",
       "0             Medium                Depression   \n",
       "1             Medium                   Anxiety   \n",
       "2             Medium                   Anxiety   \n",
       "3               High                Depression   \n",
       "4               High                       NaN   \n",
       "...              ...                       ...   \n",
       "4995            High                   Burnout   \n",
       "4996             Low                Depression   \n",
       "4997            High                   Burnout   \n",
       "4998             Low                       NaN   \n",
       "4999             Low                Depression   \n",
       "\n",
       "     Acceso_a_Recursos_de_Salud_Mental Cambio_de_Productividad  \\\n",
       "0                                   No                Decrease   \n",
       "1                                   No                Increase   \n",
       "2                                   No               No Change   \n",
       "3                                  Yes                Increase   \n",
       "4                                  Yes                Decrease   \n",
       "...                                ...                     ...   \n",
       "4995                               Yes                Decrease   \n",
       "4996                               Yes                Decrease   \n",
       "4997                                No                Increase   \n",
       "4998                               Yes                Increase   \n",
       "4999                               Yes               No Change   \n",
       "\n",
       "      Calificación_de_Aislamiento_Social Satisfacción_con_Trabajo_Remoto  \\\n",
       "0                                      1                     Unsatisfied   \n",
       "1                                      3                       Satisfied   \n",
       "2                                      4                     Unsatisfied   \n",
       "3                                      3                     Unsatisfied   \n",
       "4                                      3                     Unsatisfied   \n",
       "...                                  ...                             ...   \n",
       "4995                                   4                         Neutral   \n",
       "4996                                   1                       Satisfied   \n",
       "4997                                   3                       Satisfied   \n",
       "4998                                   3                     Unsatisfied   \n",
       "4999                                   3                     Unsatisfied   \n",
       "\n",
       "      Apoyo_de_la_Empresa_para_Trabajo_Remoto Actividad_Física  \\\n",
       "0                                           1           Weekly   \n",
       "1                                           2           Weekly   \n",
       "2                                           5              NaN   \n",
       "3                                           3              NaN   \n",
       "4                                           3           Weekly   \n",
       "...                                       ...              ...   \n",
       "4995                                        1           Weekly   \n",
       "4996                                        1              NaN   \n",
       "4997                                        1            Daily   \n",
       "4998                                        4            Daily   \n",
       "4999                                        5              NaN   \n",
       "\n",
       "     Calidad_del_Sueño         Región  \n",
       "0                 Good         Europe  \n",
       "1                 Good           Asia  \n",
       "2                 Poor  North America  \n",
       "3                 Poor         Europe  \n",
       "4              Average  North America  \n",
       "...                ...            ...  \n",
       "4995           Average           Asia  \n",
       "4996           Average         Africa  \n",
       "4997              Poor        Oceania  \n",
       "4998           Average           Asia  \n",
       "4999              Poor           Asia  \n",
       "\n",
       "[5000 rows x 20 columns]"
      ]
     },
     "execution_count": 100,
     "metadata": {},
     "output_type": "execute_result"
    }
   ],
   "source": [
    "# traducir columnas a español\n",
    "columnas_traducidas = {\n",
    "    'Employee_ID': 'ID_Empleado',\n",
    "    'Age': 'Edad',\n",
    "    'Gender': 'Genero',\n",
    "    'Job_Role': 'Rol_de_Trabajo',\n",
    "    'Industry': 'Industria',\n",
    "    'Years_of_Experience': 'Años_de_Experiencia',\n",
    "    'Work_Location': 'Ubicación_de_Trabajo',\n",
    "    'Hours_Worked_Per_Week': 'Horas_Trabajadas_Por_Semana',\n",
    "    'Number_of_Virtual_Meetings': 'Número_de_Reuniones_Virtuales',\n",
    "    'Work_Life_Balance_Rating': 'Calificación_de_Equilibrio_Trabajo_Vida',\n",
    "    'Stress_Level': 'Nivel_de_Estrés',\n",
    "    'Mental_Health_Condition': 'Condición_de_Salud_Mental',\n",
    "    'Access_to_Mental_Health_Resources': 'Acceso_a_Recursos_de_Salud_Mental',\n",
    "    'Productivity_Change': 'Cambio_de_Productividad',\n",
    "    'Social_Isolation_Rating': 'Calificación_de_Aislamiento_Social',\n",
    "    'Satisfaction_with_Remote_Work': 'Satisfacción_con_Trabajo_Remoto',\n",
    "    'Company_Support_for_Remote_Work': 'Apoyo_de_la_Empresa_para_Trabajo_Remoto',\n",
    "    'Physical_Activity': 'Actividad_Física',\n",
    "    'Sleep_Quality': 'Calidad_del_Sueño',\n",
    "    'Region': 'Región'\n",
    "}\n",
    "\n",
    "df.rename(columns=columnas_traducidas, inplace=True)\n",
    "df"
   ]
  },
  {
   "cell_type": "code",
   "execution_count": 101,
   "id": "fdd31ffb",
   "metadata": {},
   "outputs": [
    {
     "data": {
      "application/vnd.microsoft.datawrangler.viewer.v0+json": {
       "columns": [
        {
         "name": "index",
         "rawType": "int64",
         "type": "integer"
        },
        {
         "name": "Edad",
         "rawType": "int64",
         "type": "integer"
        },
        {
         "name": "Rol_de_Trabajo",
         "rawType": "object",
         "type": "string"
        },
        {
         "name": "Años_de_Experiencia",
         "rawType": "int64",
         "type": "integer"
        },
        {
         "name": "Ubicación_de_Trabajo",
         "rawType": "object",
         "type": "string"
        },
        {
         "name": "Horas_Trabajadas_Por_Semana",
         "rawType": "int64",
         "type": "integer"
        },
        {
         "name": "Número_de_Reuniones_Virtuales",
         "rawType": "int64",
         "type": "integer"
        },
        {
         "name": "Calificación_de_Equilibrio_Trabajo_Vida",
         "rawType": "int64",
         "type": "integer"
        },
        {
         "name": "Nivel_de_Estrés",
         "rawType": "object",
         "type": "string"
        },
        {
         "name": "Condición_de_Salud_Mental",
         "rawType": "object",
         "type": "unknown"
        },
        {
         "name": "Acceso_a_Recursos_de_Salud_Mental",
         "rawType": "object",
         "type": "string"
        },
        {
         "name": "Cambio_de_Productividad",
         "rawType": "object",
         "type": "string"
        },
        {
         "name": "Calificación_de_Aislamiento_Social",
         "rawType": "int64",
         "type": "integer"
        },
        {
         "name": "Satisfacción_con_Trabajo_Remoto",
         "rawType": "object",
         "type": "string"
        },
        {
         "name": "Apoyo_de_la_Empresa_para_Trabajo_Remoto",
         "rawType": "int64",
         "type": "integer"
        },
        {
         "name": "Actividad_Física",
         "rawType": "object",
         "type": "unknown"
        },
        {
         "name": "Calidad_del_Sueño",
         "rawType": "object",
         "type": "string"
        },
        {
         "name": "Región",
         "rawType": "object",
         "type": "string"
        }
       ],
       "ref": "f957db7e-8c06-4e36-99e0-2e09f66c9f5e",
       "rows": [
        [
         "0",
         "32",
         "HR",
         "13",
         "Hybrid",
         "47",
         "7",
         "2",
         "Medium",
         "Depression",
         "No",
         "Decrease",
         "1",
         "Unsatisfied",
         "1",
         "Weekly",
         "Good",
         "Europe"
        ],
        [
         "1",
         "40",
         "Data Scientist",
         "3",
         "Remote",
         "52",
         "4",
         "1",
         "Medium",
         "Anxiety",
         "No",
         "Increase",
         "3",
         "Satisfied",
         "2",
         "Weekly",
         "Good",
         "Asia"
        ],
        [
         "2",
         "59",
         "Software Engineer",
         "22",
         "Hybrid",
         "46",
         "11",
         "5",
         "Medium",
         "Anxiety",
         "No",
         "No Change",
         "4",
         "Unsatisfied",
         "5",
         null,
         "Poor",
         "North America"
        ],
        [
         "3",
         "27",
         "Software Engineer",
         "20",
         "Onsite",
         "32",
         "8",
         "4",
         "High",
         "Depression",
         "Yes",
         "Increase",
         "3",
         "Unsatisfied",
         "3",
         null,
         "Poor",
         "Europe"
        ],
        [
         "4",
         "49",
         "Sales",
         "32",
         "Onsite",
         "35",
         "12",
         "2",
         "High",
         null,
         "Yes",
         "Decrease",
         "3",
         "Unsatisfied",
         "3",
         "Weekly",
         "Average",
         "North America"
        ],
        [
         "5",
         "59",
         "Sales",
         "31",
         "Hybrid",
         "39",
         "3",
         "4",
         "High",
         null,
         "No",
         "Increase",
         "5",
         "Unsatisfied",
         "1",
         null,
         "Average",
         "South America"
        ],
        [
         "6",
         "31",
         "Sales",
         "24",
         "Remote",
         "51",
         "7",
         "3",
         "Low",
         "Anxiety",
         "Yes",
         "Decrease",
         "5",
         "Neutral",
         "3",
         "Daily",
         "Poor",
         "Asia"
        ],
        [
         "7",
         "42",
         "Data Scientist",
         "6",
         "Onsite",
         "54",
         "7",
         "3",
         "Medium",
         "Depression",
         "No",
         "Decrease",
         "5",
         "Satisfied",
         "4",
         null,
         "Average",
         "North America"
        ],
        [
         "8",
         "56",
         "Data Scientist",
         "9",
         "Hybrid",
         "24",
         "4",
         "2",
         "High",
         null,
         "Yes",
         "Decrease",
         "2",
         "Unsatisfied",
         "4",
         "Daily",
         "Poor",
         "Europe"
        ],
        [
         "9",
         "30",
         "HR",
         "28",
         "Hybrid",
         "57",
         "6",
         "1",
         "Low",
         "Depression",
         "Yes",
         "Decrease",
         "2",
         "Neutral",
         "1",
         "Weekly",
         "Poor",
         "North America"
        ],
        [
         "10",
         "33",
         "Software Engineer",
         "17",
         "Remote",
         "48",
         "3",
         "3",
         "High",
         null,
         "Yes",
         "Decrease",
         "4",
         "Satisfied",
         "2",
         "Weekly",
         "Average",
         "Oceania"
        ],
        [
         "11",
         "47",
         "Marketing",
         "31",
         "Hybrid",
         "26",
         "12",
         "4",
         "Medium",
         null,
         "Yes",
         "No Change",
         "4",
         "Neutral",
         "3",
         "Weekly",
         "Poor",
         "Africa"
        ],
        [
         "12",
         "40",
         "Marketing",
         "1",
         "Remote",
         "21",
         "7",
         "2",
         "High",
         "Depression",
         "Yes",
         "Decrease",
         "2",
         "Neutral",
         "1",
         "Weekly",
         "Good",
         "Europe"
        ],
        [
         "13",
         "51",
         "Designer",
         "5",
         "Hybrid",
         "45",
         "13",
         "1",
         "Low",
         "Anxiety",
         "No",
         "Decrease",
         "2",
         "Satisfied",
         "5",
         "Weekly",
         "Poor",
         "North America"
        ],
        [
         "14",
         "36",
         "Project Manager",
         "23",
         "Remote",
         "59",
         "11",
         "3",
         "High",
         "Anxiety",
         "Yes",
         "Decrease",
         "5",
         "Neutral",
         "3",
         "Weekly",
         "Average",
         "Oceania"
        ],
        [
         "15",
         "56",
         "Sales",
         "13",
         "Remote",
         "44",
         "11",
         "4",
         "Low",
         "Anxiety",
         "No",
         "No Change",
         "5",
         "Satisfied",
         "4",
         "Weekly",
         "Average",
         "Africa"
        ],
        [
         "16",
         "33",
         "HR",
         "3",
         "Onsite",
         "52",
         "9",
         "2",
         "Medium",
         null,
         "No",
         "No Change",
         "1",
         "Satisfied",
         "1",
         "Weekly",
         "Good",
         "Africa"
        ],
        [
         "17",
         "45",
         "Data Scientist",
         "20",
         "Onsite",
         "37",
         "8",
         "3",
         "Low",
         "Burnout",
         "Yes",
         "Decrease",
         "5",
         "Neutral",
         "5",
         "Weekly",
         "Good",
         "Europe"
        ],
        [
         "18",
         "49",
         "Software Engineer",
         "30",
         "Remote",
         "36",
         "6",
         "1",
         "High",
         "Anxiety",
         "No",
         "No Change",
         "3",
         "Satisfied",
         "2",
         "Weekly",
         "Good",
         "Oceania"
        ],
        [
         "19",
         "59",
         "Software Engineer",
         "13",
         "Remote",
         "59",
         "4",
         "3",
         "Medium",
         "Anxiety",
         "No",
         "Decrease",
         "4",
         "Neutral",
         "1",
         "Daily",
         "Average",
         "South America"
        ],
        [
         "20",
         "26",
         "Sales",
         "33",
         "Hybrid",
         "21",
         "1",
         "2",
         "Low",
         "Burnout",
         "No",
         "Increase",
         "2",
         "Satisfied",
         "1",
         "Weekly",
         "Poor",
         "South America"
        ],
        [
         "21",
         "26",
         "Sales",
         "21",
         "Onsite",
         "54",
         "12",
         "3",
         "Medium",
         "Depression",
         "No",
         "Decrease",
         "3",
         "Unsatisfied",
         "4",
         "Daily",
         "Poor",
         "North America"
        ],
        [
         "22",
         "43",
         "Sales",
         "21",
         "Onsite",
         "57",
         "1",
         "3",
         "Low",
         "Depression",
         "Yes",
         "Increase",
         "3",
         "Satisfied",
         "4",
         "Daily",
         "Average",
         "Africa"
        ],
        [
         "23",
         "53",
         "Marketing",
         "11",
         "Onsite",
         "22",
         "12",
         "5",
         "Low",
         "Depression",
         "No",
         "No Change",
         "2",
         "Neutral",
         "3",
         "Weekly",
         "Poor",
         "Asia"
        ],
        [
         "24",
         "56",
         "Sales",
         "6",
         "Remote",
         "54",
         "15",
         "3",
         "Low",
         "Burnout",
         "No",
         "Increase",
         "2",
         "Neutral",
         "4",
         "Daily",
         "Average",
         "North America"
        ],
        [
         "25",
         "49",
         "Project Manager",
         "23",
         "Onsite",
         "21",
         "14",
         "4",
         "High",
         "Burnout",
         "No",
         "No Change",
         "4",
         "Neutral",
         "3",
         null,
         "Good",
         "South America"
        ],
        [
         "26",
         "36",
         "Project Manager",
         "30",
         "Onsite",
         "24",
         "12",
         "3",
         "High",
         null,
         "No",
         "Decrease",
         "4",
         "Unsatisfied",
         "4",
         null,
         "Poor",
         "North America"
        ],
        [
         "27",
         "53",
         "Project Manager",
         "31",
         "Onsite",
         "56",
         "4",
         "4",
         "Low",
         "Depression",
         "No",
         "No Change",
         "4",
         "Unsatisfied",
         "4",
         null,
         "Poor",
         "Oceania"
        ],
        [
         "28",
         "47",
         "Sales",
         "22",
         "Onsite",
         "33",
         "10",
         "3",
         "High",
         "Depression",
         "Yes",
         "Decrease",
         "4",
         "Satisfied",
         "1",
         "Daily",
         "Poor",
         "Europe"
        ],
        [
         "29",
         "59",
         "Software Engineer",
         "34",
         "Remote",
         "25",
         "15",
         "2",
         "High",
         "Depression",
         "Yes",
         "No Change",
         "3",
         "Satisfied",
         "1",
         "Weekly",
         "Poor",
         "North America"
        ],
        [
         "30",
         "22",
         "Data Scientist",
         "22",
         "Onsite",
         "20",
         "11",
         "1",
         "Low",
         "Anxiety",
         "Yes",
         "No Change",
         "5",
         "Neutral",
         "2",
         "Weekly",
         "Average",
         "Asia"
        ],
        [
         "31",
         "37",
         "Marketing",
         "4",
         "Hybrid",
         "33",
         "14",
         "2",
         "Medium",
         "Depression",
         "No",
         "Decrease",
         "3",
         "Satisfied",
         "5",
         null,
         "Average",
         "North America"
        ],
        [
         "32",
         "45",
         "Project Manager",
         "29",
         "Remote",
         "20",
         "14",
         "2",
         "Medium",
         "Anxiety",
         "Yes",
         "Decrease",
         "5",
         "Satisfied",
         "5",
         "Daily",
         "Good",
         "North America"
        ],
        [
         "33",
         "48",
         "Software Engineer",
         "27",
         "Remote",
         "26",
         "9",
         "3",
         "Medium",
         "Anxiety",
         "Yes",
         "No Change",
         "5",
         "Neutral",
         "4",
         "Daily",
         "Average",
         "North America"
        ],
        [
         "34",
         "36",
         "Designer",
         "24",
         "Hybrid",
         "22",
         "6",
         "4",
         "Medium",
         "Depression",
         "No",
         "No Change",
         "1",
         "Unsatisfied",
         "3",
         "Weekly",
         "Average",
         "Europe"
        ],
        [
         "35",
         "46",
         "Sales",
         "28",
         "Hybrid",
         "57",
         "8",
         "4",
         "Low",
         null,
         "Yes",
         "No Change",
         "1",
         "Neutral",
         "5",
         null,
         "Poor",
         "Europe"
        ],
        [
         "36",
         "48",
         "Sales",
         "10",
         "Onsite",
         "30",
         "12",
         "1",
         "Low",
         "Depression",
         "Yes",
         "Decrease",
         "5",
         "Satisfied",
         "3",
         null,
         "Poor",
         "Asia"
        ],
        [
         "37",
         "31",
         "Designer",
         "18",
         "Remote",
         "47",
         "14",
         "2",
         "Low",
         null,
         "Yes",
         "Increase",
         "2",
         "Satisfied",
         "5",
         "Daily",
         "Good",
         "Asia"
        ],
        [
         "38",
         "24",
         "Sales",
         "21",
         "Onsite",
         "48",
         "12",
         "4",
         "Low",
         "Anxiety",
         "Yes",
         "No Change",
         "3",
         "Neutral",
         "1",
         "Weekly",
         "Average",
         "Africa"
        ],
        [
         "39",
         "49",
         "Marketing",
         "20",
         "Hybrid",
         "20",
         "1",
         "3",
         "High",
         null,
         "No",
         "Increase",
         "1",
         "Unsatisfied",
         "5",
         "Weekly",
         "Poor",
         "Asia"
        ],
        [
         "40",
         "30",
         "Data Scientist",
         "22",
         "Remote",
         "44",
         "15",
         "4",
         "High",
         "Burnout",
         "No",
         "Decrease",
         "1",
         "Neutral",
         "5",
         "Daily",
         "Poor",
         "Europe"
        ],
        [
         "41",
         "53",
         "Project Manager",
         "14",
         "Onsite",
         "29",
         "13",
         "2",
         "Low",
         null,
         "No",
         "No Change",
         "1",
         "Unsatisfied",
         "5",
         null,
         "Good",
         "North America"
        ],
        [
         "42",
         "54",
         "Project Manager",
         "26",
         "Remote",
         "58",
         "6",
         "3",
         "High",
         null,
         "Yes",
         "Increase",
         "3",
         "Unsatisfied",
         "3",
         "Weekly",
         "Poor",
         "Europe"
        ],
        [
         "43",
         "54",
         "Designer",
         "12",
         "Remote",
         "53",
         "12",
         "4",
         "Medium",
         "Depression",
         "Yes",
         "No Change",
         "1",
         "Unsatisfied",
         "3",
         null,
         "Average",
         "Europe"
        ],
        [
         "44",
         "57",
         "HR",
         "13",
         "Remote",
         "23",
         "6",
         "3",
         "High",
         "Anxiety",
         "Yes",
         "No Change",
         "5",
         "Neutral",
         "2",
         "Daily",
         "Good",
         "South America"
        ],
        [
         "45",
         "32",
         "Marketing",
         "24",
         "Remote",
         "42",
         "8",
         "2",
         "Medium",
         "Burnout",
         "No",
         "No Change",
         "2",
         "Neutral",
         "3",
         "Daily",
         "Poor",
         "North America"
        ],
        [
         "46",
         "33",
         "Data Scientist",
         "33",
         "Remote",
         "35",
         "15",
         "1",
         "Medium",
         "Burnout",
         "Yes",
         "Decrease",
         "1",
         "Unsatisfied",
         "5",
         "Weekly",
         "Good",
         "South America"
        ],
        [
         "47",
         "30",
         "Sales",
         "4",
         "Remote",
         "39",
         "2",
         "5",
         "High",
         null,
         "No",
         "Decrease",
         "1",
         "Unsatisfied",
         "4",
         null,
         "Good",
         "Oceania"
        ],
        [
         "48",
         "22",
         "HR",
         "7",
         "Onsite",
         "29",
         "9",
         "4",
         "Low",
         null,
         "No",
         "Increase",
         "2",
         "Neutral",
         "3",
         "Daily",
         "Poor",
         "Africa"
        ],
        [
         "49",
         "35",
         "Project Manager",
         "11",
         "Onsite",
         "37",
         "3",
         "4",
         "Medium",
         "Burnout",
         "No",
         "No Change",
         "1",
         "Satisfied",
         "3",
         null,
         "Average",
         "Europe"
        ]
       ],
       "shape": {
        "columns": 17,
        "rows": 5000
       }
      },
      "text/html": [
       "<div>\n",
       "<style scoped>\n",
       "    .dataframe tbody tr th:only-of-type {\n",
       "        vertical-align: middle;\n",
       "    }\n",
       "\n",
       "    .dataframe tbody tr th {\n",
       "        vertical-align: top;\n",
       "    }\n",
       "\n",
       "    .dataframe thead th {\n",
       "        text-align: right;\n",
       "    }\n",
       "</style>\n",
       "<table border=\"1\" class=\"dataframe\">\n",
       "  <thead>\n",
       "    <tr style=\"text-align: right;\">\n",
       "      <th></th>\n",
       "      <th>Edad</th>\n",
       "      <th>Rol_de_Trabajo</th>\n",
       "      <th>Años_de_Experiencia</th>\n",
       "      <th>Ubicación_de_Trabajo</th>\n",
       "      <th>Horas_Trabajadas_Por_Semana</th>\n",
       "      <th>Número_de_Reuniones_Virtuales</th>\n",
       "      <th>Calificación_de_Equilibrio_Trabajo_Vida</th>\n",
       "      <th>Nivel_de_Estrés</th>\n",
       "      <th>Condición_de_Salud_Mental</th>\n",
       "      <th>Acceso_a_Recursos_de_Salud_Mental</th>\n",
       "      <th>Cambio_de_Productividad</th>\n",
       "      <th>Calificación_de_Aislamiento_Social</th>\n",
       "      <th>Satisfacción_con_Trabajo_Remoto</th>\n",
       "      <th>Apoyo_de_la_Empresa_para_Trabajo_Remoto</th>\n",
       "      <th>Actividad_Física</th>\n",
       "      <th>Calidad_del_Sueño</th>\n",
       "      <th>Región</th>\n",
       "    </tr>\n",
       "  </thead>\n",
       "  <tbody>\n",
       "    <tr>\n",
       "      <th>0</th>\n",
       "      <td>32</td>\n",
       "      <td>HR</td>\n",
       "      <td>13</td>\n",
       "      <td>Hybrid</td>\n",
       "      <td>47</td>\n",
       "      <td>7</td>\n",
       "      <td>2</td>\n",
       "      <td>Medium</td>\n",
       "      <td>Depression</td>\n",
       "      <td>No</td>\n",
       "      <td>Decrease</td>\n",
       "      <td>1</td>\n",
       "      <td>Unsatisfied</td>\n",
       "      <td>1</td>\n",
       "      <td>Weekly</td>\n",
       "      <td>Good</td>\n",
       "      <td>Europe</td>\n",
       "    </tr>\n",
       "    <tr>\n",
       "      <th>1</th>\n",
       "      <td>40</td>\n",
       "      <td>Data Scientist</td>\n",
       "      <td>3</td>\n",
       "      <td>Remote</td>\n",
       "      <td>52</td>\n",
       "      <td>4</td>\n",
       "      <td>1</td>\n",
       "      <td>Medium</td>\n",
       "      <td>Anxiety</td>\n",
       "      <td>No</td>\n",
       "      <td>Increase</td>\n",
       "      <td>3</td>\n",
       "      <td>Satisfied</td>\n",
       "      <td>2</td>\n",
       "      <td>Weekly</td>\n",
       "      <td>Good</td>\n",
       "      <td>Asia</td>\n",
       "    </tr>\n",
       "    <tr>\n",
       "      <th>2</th>\n",
       "      <td>59</td>\n",
       "      <td>Software Engineer</td>\n",
       "      <td>22</td>\n",
       "      <td>Hybrid</td>\n",
       "      <td>46</td>\n",
       "      <td>11</td>\n",
       "      <td>5</td>\n",
       "      <td>Medium</td>\n",
       "      <td>Anxiety</td>\n",
       "      <td>No</td>\n",
       "      <td>No Change</td>\n",
       "      <td>4</td>\n",
       "      <td>Unsatisfied</td>\n",
       "      <td>5</td>\n",
       "      <td>NaN</td>\n",
       "      <td>Poor</td>\n",
       "      <td>North America</td>\n",
       "    </tr>\n",
       "    <tr>\n",
       "      <th>3</th>\n",
       "      <td>27</td>\n",
       "      <td>Software Engineer</td>\n",
       "      <td>20</td>\n",
       "      <td>Onsite</td>\n",
       "      <td>32</td>\n",
       "      <td>8</td>\n",
       "      <td>4</td>\n",
       "      <td>High</td>\n",
       "      <td>Depression</td>\n",
       "      <td>Yes</td>\n",
       "      <td>Increase</td>\n",
       "      <td>3</td>\n",
       "      <td>Unsatisfied</td>\n",
       "      <td>3</td>\n",
       "      <td>NaN</td>\n",
       "      <td>Poor</td>\n",
       "      <td>Europe</td>\n",
       "    </tr>\n",
       "    <tr>\n",
       "      <th>4</th>\n",
       "      <td>49</td>\n",
       "      <td>Sales</td>\n",
       "      <td>32</td>\n",
       "      <td>Onsite</td>\n",
       "      <td>35</td>\n",
       "      <td>12</td>\n",
       "      <td>2</td>\n",
       "      <td>High</td>\n",
       "      <td>NaN</td>\n",
       "      <td>Yes</td>\n",
       "      <td>Decrease</td>\n",
       "      <td>3</td>\n",
       "      <td>Unsatisfied</td>\n",
       "      <td>3</td>\n",
       "      <td>Weekly</td>\n",
       "      <td>Average</td>\n",
       "      <td>North America</td>\n",
       "    </tr>\n",
       "    <tr>\n",
       "      <th>...</th>\n",
       "      <td>...</td>\n",
       "      <td>...</td>\n",
       "      <td>...</td>\n",
       "      <td>...</td>\n",
       "      <td>...</td>\n",
       "      <td>...</td>\n",
       "      <td>...</td>\n",
       "      <td>...</td>\n",
       "      <td>...</td>\n",
       "      <td>...</td>\n",
       "      <td>...</td>\n",
       "      <td>...</td>\n",
       "      <td>...</td>\n",
       "      <td>...</td>\n",
       "      <td>...</td>\n",
       "      <td>...</td>\n",
       "      <td>...</td>\n",
       "    </tr>\n",
       "    <tr>\n",
       "      <th>4995</th>\n",
       "      <td>32</td>\n",
       "      <td>Sales</td>\n",
       "      <td>4</td>\n",
       "      <td>Onsite</td>\n",
       "      <td>24</td>\n",
       "      <td>2</td>\n",
       "      <td>5</td>\n",
       "      <td>High</td>\n",
       "      <td>Burnout</td>\n",
       "      <td>Yes</td>\n",
       "      <td>Decrease</td>\n",
       "      <td>4</td>\n",
       "      <td>Neutral</td>\n",
       "      <td>1</td>\n",
       "      <td>Weekly</td>\n",
       "      <td>Average</td>\n",
       "      <td>Asia</td>\n",
       "    </tr>\n",
       "    <tr>\n",
       "      <th>4996</th>\n",
       "      <td>39</td>\n",
       "      <td>Sales</td>\n",
       "      <td>27</td>\n",
       "      <td>Onsite</td>\n",
       "      <td>48</td>\n",
       "      <td>15</td>\n",
       "      <td>1</td>\n",
       "      <td>Low</td>\n",
       "      <td>Depression</td>\n",
       "      <td>Yes</td>\n",
       "      <td>Decrease</td>\n",
       "      <td>1</td>\n",
       "      <td>Satisfied</td>\n",
       "      <td>1</td>\n",
       "      <td>NaN</td>\n",
       "      <td>Average</td>\n",
       "      <td>Africa</td>\n",
       "    </tr>\n",
       "    <tr>\n",
       "      <th>4997</th>\n",
       "      <td>42</td>\n",
       "      <td>Sales</td>\n",
       "      <td>21</td>\n",
       "      <td>Hybrid</td>\n",
       "      <td>34</td>\n",
       "      <td>1</td>\n",
       "      <td>4</td>\n",
       "      <td>High</td>\n",
       "      <td>Burnout</td>\n",
       "      <td>No</td>\n",
       "      <td>Increase</td>\n",
       "      <td>3</td>\n",
       "      <td>Satisfied</td>\n",
       "      <td>1</td>\n",
       "      <td>Daily</td>\n",
       "      <td>Poor</td>\n",
       "      <td>Oceania</td>\n",
       "    </tr>\n",
       "    <tr>\n",
       "      <th>4998</th>\n",
       "      <td>27</td>\n",
       "      <td>Sales</td>\n",
       "      <td>26</td>\n",
       "      <td>Remote</td>\n",
       "      <td>58</td>\n",
       "      <td>0</td>\n",
       "      <td>5</td>\n",
       "      <td>Low</td>\n",
       "      <td>NaN</td>\n",
       "      <td>Yes</td>\n",
       "      <td>Increase</td>\n",
       "      <td>3</td>\n",
       "      <td>Unsatisfied</td>\n",
       "      <td>4</td>\n",
       "      <td>Daily</td>\n",
       "      <td>Average</td>\n",
       "      <td>Asia</td>\n",
       "    </tr>\n",
       "    <tr>\n",
       "      <th>4999</th>\n",
       "      <td>29</td>\n",
       "      <td>HR</td>\n",
       "      <td>30</td>\n",
       "      <td>Onsite</td>\n",
       "      <td>20</td>\n",
       "      <td>15</td>\n",
       "      <td>1</td>\n",
       "      <td>Low</td>\n",
       "      <td>Depression</td>\n",
       "      <td>Yes</td>\n",
       "      <td>No Change</td>\n",
       "      <td>3</td>\n",
       "      <td>Unsatisfied</td>\n",
       "      <td>5</td>\n",
       "      <td>NaN</td>\n",
       "      <td>Poor</td>\n",
       "      <td>Asia</td>\n",
       "    </tr>\n",
       "  </tbody>\n",
       "</table>\n",
       "<p>5000 rows × 17 columns</p>\n",
       "</div>"
      ],
      "text/plain": [
       "      Edad     Rol_de_Trabajo  Años_de_Experiencia Ubicación_de_Trabajo  \\\n",
       "0       32                 HR                   13               Hybrid   \n",
       "1       40     Data Scientist                    3               Remote   \n",
       "2       59  Software Engineer                   22               Hybrid   \n",
       "3       27  Software Engineer                   20               Onsite   \n",
       "4       49              Sales                   32               Onsite   \n",
       "...    ...                ...                  ...                  ...   \n",
       "4995    32              Sales                    4               Onsite   \n",
       "4996    39              Sales                   27               Onsite   \n",
       "4997    42              Sales                   21               Hybrid   \n",
       "4998    27              Sales                   26               Remote   \n",
       "4999    29                 HR                   30               Onsite   \n",
       "\n",
       "      Horas_Trabajadas_Por_Semana  Número_de_Reuniones_Virtuales  \\\n",
       "0                              47                              7   \n",
       "1                              52                              4   \n",
       "2                              46                             11   \n",
       "3                              32                              8   \n",
       "4                              35                             12   \n",
       "...                           ...                            ...   \n",
       "4995                           24                              2   \n",
       "4996                           48                             15   \n",
       "4997                           34                              1   \n",
       "4998                           58                              0   \n",
       "4999                           20                             15   \n",
       "\n",
       "      Calificación_de_Equilibrio_Trabajo_Vida Nivel_de_Estrés  \\\n",
       "0                                           2          Medium   \n",
       "1                                           1          Medium   \n",
       "2                                           5          Medium   \n",
       "3                                           4            High   \n",
       "4                                           2            High   \n",
       "...                                       ...             ...   \n",
       "4995                                        5            High   \n",
       "4996                                        1             Low   \n",
       "4997                                        4            High   \n",
       "4998                                        5             Low   \n",
       "4999                                        1             Low   \n",
       "\n",
       "     Condición_de_Salud_Mental Acceso_a_Recursos_de_Salud_Mental  \\\n",
       "0                   Depression                                No   \n",
       "1                      Anxiety                                No   \n",
       "2                      Anxiety                                No   \n",
       "3                   Depression                               Yes   \n",
       "4                          NaN                               Yes   \n",
       "...                        ...                               ...   \n",
       "4995                   Burnout                               Yes   \n",
       "4996                Depression                               Yes   \n",
       "4997                   Burnout                                No   \n",
       "4998                       NaN                               Yes   \n",
       "4999                Depression                               Yes   \n",
       "\n",
       "     Cambio_de_Productividad  Calificación_de_Aislamiento_Social  \\\n",
       "0                   Decrease                                   1   \n",
       "1                   Increase                                   3   \n",
       "2                  No Change                                   4   \n",
       "3                   Increase                                   3   \n",
       "4                   Decrease                                   3   \n",
       "...                      ...                                 ...   \n",
       "4995                Decrease                                   4   \n",
       "4996                Decrease                                   1   \n",
       "4997                Increase                                   3   \n",
       "4998                Increase                                   3   \n",
       "4999               No Change                                   3   \n",
       "\n",
       "     Satisfacción_con_Trabajo_Remoto  Apoyo_de_la_Empresa_para_Trabajo_Remoto  \\\n",
       "0                        Unsatisfied                                        1   \n",
       "1                          Satisfied                                        2   \n",
       "2                        Unsatisfied                                        5   \n",
       "3                        Unsatisfied                                        3   \n",
       "4                        Unsatisfied                                        3   \n",
       "...                              ...                                      ...   \n",
       "4995                         Neutral                                        1   \n",
       "4996                       Satisfied                                        1   \n",
       "4997                       Satisfied                                        1   \n",
       "4998                     Unsatisfied                                        4   \n",
       "4999                     Unsatisfied                                        5   \n",
       "\n",
       "     Actividad_Física Calidad_del_Sueño         Región  \n",
       "0              Weekly              Good         Europe  \n",
       "1              Weekly              Good           Asia  \n",
       "2                 NaN              Poor  North America  \n",
       "3                 NaN              Poor         Europe  \n",
       "4              Weekly           Average  North America  \n",
       "...               ...               ...            ...  \n",
       "4995           Weekly           Average           Asia  \n",
       "4996              NaN           Average         Africa  \n",
       "4997            Daily              Poor        Oceania  \n",
       "4998            Daily           Average           Asia  \n",
       "4999              NaN              Poor           Asia  \n",
       "\n",
       "[5000 rows x 17 columns]"
      ]
     },
     "execution_count": 101,
     "metadata": {},
     "output_type": "execute_result"
    }
   ],
   "source": [
    "# eliminar columnas irrelevantes\n",
    "df.drop(['ID_Empleado', 'Genero', 'Industria'], axis=1, inplace=True)\n",
    "df.drop_duplicates(inplace=True)\n",
    "df"
   ]
  },
  {
   "cell_type": "code",
   "execution_count": 102,
   "id": "aa893373",
   "metadata": {},
   "outputs": [
    {
     "name": "stdout",
     "output_type": "stream",
     "text": [
      "<class 'pandas.core.frame.DataFrame'>\n",
      "RangeIndex: 5000 entries, 0 to 4999\n",
      "Data columns (total 17 columns):\n",
      " #   Column                                   Non-Null Count  Dtype \n",
      "---  ------                                   --------------  ----- \n",
      " 0   Edad                                     5000 non-null   int64 \n",
      " 1   Rol_de_Trabajo                           5000 non-null   object\n",
      " 2   Años_de_Experiencia                      5000 non-null   int64 \n",
      " 3   Ubicación_de_Trabajo                     5000 non-null   object\n",
      " 4   Horas_Trabajadas_Por_Semana              5000 non-null   int64 \n",
      " 5   Número_de_Reuniones_Virtuales            5000 non-null   int64 \n",
      " 6   Calificación_de_Equilibrio_Trabajo_Vida  5000 non-null   int64 \n",
      " 7   Nivel_de_Estrés                          5000 non-null   object\n",
      " 8   Condición_de_Salud_Mental                3804 non-null   object\n",
      " 9   Acceso_a_Recursos_de_Salud_Mental        5000 non-null   object\n",
      " 10  Cambio_de_Productividad                  5000 non-null   object\n",
      " 11  Calificación_de_Aislamiento_Social       5000 non-null   int64 \n",
      " 12  Satisfacción_con_Trabajo_Remoto          5000 non-null   object\n",
      " 13  Apoyo_de_la_Empresa_para_Trabajo_Remoto  5000 non-null   int64 \n",
      " 14  Actividad_Física                         3371 non-null   object\n",
      " 15  Calidad_del_Sueño                        5000 non-null   object\n",
      " 16  Región                                   5000 non-null   object\n",
      "dtypes: int64(7), object(10)\n",
      "memory usage: 664.2+ KB\n"
     ]
    }
   ],
   "source": [
    "df.info()"
   ]
  },
  {
   "cell_type": "code",
   "execution_count": 103,
   "id": "88ad5ddd",
   "metadata": {},
   "outputs": [
    {
     "data": {
      "application/vnd.microsoft.datawrangler.viewer.v0+json": {
       "columns": [
        {
         "name": "index",
         "rawType": "int64",
         "type": "integer"
        },
        {
         "name": "Edad",
         "rawType": "int64",
         "type": "integer"
        },
        {
         "name": "Rol_de_Trabajo",
         "rawType": "object",
         "type": "string"
        },
        {
         "name": "Años_de_Experiencia",
         "rawType": "int64",
         "type": "integer"
        },
        {
         "name": "Ubicación_de_Trabajo",
         "rawType": "object",
         "type": "string"
        },
        {
         "name": "Horas_Trabajadas_Por_Semana",
         "rawType": "int64",
         "type": "integer"
        },
        {
         "name": "Número_de_Reuniones_Virtuales",
         "rawType": "int64",
         "type": "integer"
        },
        {
         "name": "Calificación_de_Equilibrio_Trabajo_Vida",
         "rawType": "int64",
         "type": "integer"
        },
        {
         "name": "Nivel_de_Estrés",
         "rawType": "object",
         "type": "string"
        },
        {
         "name": "Condición_de_Salud_Mental",
         "rawType": "object",
         "type": "string"
        },
        {
         "name": "Acceso_a_Recursos_de_Salud_Mental",
         "rawType": "object",
         "type": "string"
        },
        {
         "name": "Cambio_de_Productividad",
         "rawType": "object",
         "type": "string"
        },
        {
         "name": "Calificación_de_Aislamiento_Social",
         "rawType": "int64",
         "type": "integer"
        },
        {
         "name": "Satisfacción_con_Trabajo_Remoto",
         "rawType": "object",
         "type": "string"
        },
        {
         "name": "Apoyo_de_la_Empresa_para_Trabajo_Remoto",
         "rawType": "int64",
         "type": "integer"
        },
        {
         "name": "Actividad_Física",
         "rawType": "object",
         "type": "string"
        },
        {
         "name": "Calidad_del_Sueño",
         "rawType": "object",
         "type": "string"
        },
        {
         "name": "Región",
         "rawType": "object",
         "type": "string"
        }
       ],
       "ref": "af72676b-89f0-4c48-8261-8a2ddf6a88e4",
       "rows": [
        [
         "0",
         "32",
         "HR",
         "13",
         "Hybrid",
         "47",
         "7",
         "2",
         "Medium",
         "Depression",
         "No",
         "Decrease",
         "1",
         "Unsatisfied",
         "1",
         "Weekly",
         "Good",
         "Europe"
        ],
        [
         "1",
         "40",
         "Data Scientist",
         "3",
         "Remote",
         "52",
         "4",
         "1",
         "Medium",
         "Anxiety",
         "No",
         "Increase",
         "3",
         "Satisfied",
         "2",
         "Weekly",
         "Good",
         "Asia"
        ],
        [
         "6",
         "31",
         "Sales",
         "24",
         "Remote",
         "51",
         "7",
         "3",
         "Low",
         "Anxiety",
         "Yes",
         "Decrease",
         "5",
         "Neutral",
         "3",
         "Daily",
         "Poor",
         "Asia"
        ],
        [
         "9",
         "30",
         "HR",
         "28",
         "Hybrid",
         "57",
         "6",
         "1",
         "Low",
         "Depression",
         "Yes",
         "Decrease",
         "2",
         "Neutral",
         "1",
         "Weekly",
         "Poor",
         "North America"
        ],
        [
         "12",
         "40",
         "Marketing",
         "1",
         "Remote",
         "21",
         "7",
         "2",
         "High",
         "Depression",
         "Yes",
         "Decrease",
         "2",
         "Neutral",
         "1",
         "Weekly",
         "Good",
         "Europe"
        ],
        [
         "13",
         "51",
         "Designer",
         "5",
         "Hybrid",
         "45",
         "13",
         "1",
         "Low",
         "Anxiety",
         "No",
         "Decrease",
         "2",
         "Satisfied",
         "5",
         "Weekly",
         "Poor",
         "North America"
        ],
        [
         "14",
         "36",
         "Project Manager",
         "23",
         "Remote",
         "59",
         "11",
         "3",
         "High",
         "Anxiety",
         "Yes",
         "Decrease",
         "5",
         "Neutral",
         "3",
         "Weekly",
         "Average",
         "Oceania"
        ],
        [
         "15",
         "56",
         "Sales",
         "13",
         "Remote",
         "44",
         "11",
         "4",
         "Low",
         "Anxiety",
         "No",
         "No Change",
         "5",
         "Satisfied",
         "4",
         "Weekly",
         "Average",
         "Africa"
        ],
        [
         "17",
         "45",
         "Data Scientist",
         "20",
         "Onsite",
         "37",
         "8",
         "3",
         "Low",
         "Burnout",
         "Yes",
         "Decrease",
         "5",
         "Neutral",
         "5",
         "Weekly",
         "Good",
         "Europe"
        ],
        [
         "18",
         "49",
         "Software Engineer",
         "30",
         "Remote",
         "36",
         "6",
         "1",
         "High",
         "Anxiety",
         "No",
         "No Change",
         "3",
         "Satisfied",
         "2",
         "Weekly",
         "Good",
         "Oceania"
        ],
        [
         "19",
         "59",
         "Software Engineer",
         "13",
         "Remote",
         "59",
         "4",
         "3",
         "Medium",
         "Anxiety",
         "No",
         "Decrease",
         "4",
         "Neutral",
         "1",
         "Daily",
         "Average",
         "South America"
        ],
        [
         "20",
         "26",
         "Sales",
         "33",
         "Hybrid",
         "21",
         "1",
         "2",
         "Low",
         "Burnout",
         "No",
         "Increase",
         "2",
         "Satisfied",
         "1",
         "Weekly",
         "Poor",
         "South America"
        ],
        [
         "21",
         "26",
         "Sales",
         "21",
         "Onsite",
         "54",
         "12",
         "3",
         "Medium",
         "Depression",
         "No",
         "Decrease",
         "3",
         "Unsatisfied",
         "4",
         "Daily",
         "Poor",
         "North America"
        ],
        [
         "22",
         "43",
         "Sales",
         "21",
         "Onsite",
         "57",
         "1",
         "3",
         "Low",
         "Depression",
         "Yes",
         "Increase",
         "3",
         "Satisfied",
         "4",
         "Daily",
         "Average",
         "Africa"
        ],
        [
         "23",
         "53",
         "Marketing",
         "11",
         "Onsite",
         "22",
         "12",
         "5",
         "Low",
         "Depression",
         "No",
         "No Change",
         "2",
         "Neutral",
         "3",
         "Weekly",
         "Poor",
         "Asia"
        ],
        [
         "24",
         "56",
         "Sales",
         "6",
         "Remote",
         "54",
         "15",
         "3",
         "Low",
         "Burnout",
         "No",
         "Increase",
         "2",
         "Neutral",
         "4",
         "Daily",
         "Average",
         "North America"
        ],
        [
         "28",
         "47",
         "Sales",
         "22",
         "Onsite",
         "33",
         "10",
         "3",
         "High",
         "Depression",
         "Yes",
         "Decrease",
         "4",
         "Satisfied",
         "1",
         "Daily",
         "Poor",
         "Europe"
        ],
        [
         "29",
         "59",
         "Software Engineer",
         "34",
         "Remote",
         "25",
         "15",
         "2",
         "High",
         "Depression",
         "Yes",
         "No Change",
         "3",
         "Satisfied",
         "1",
         "Weekly",
         "Poor",
         "North America"
        ],
        [
         "30",
         "22",
         "Data Scientist",
         "22",
         "Onsite",
         "20",
         "11",
         "1",
         "Low",
         "Anxiety",
         "Yes",
         "No Change",
         "5",
         "Neutral",
         "2",
         "Weekly",
         "Average",
         "Asia"
        ],
        [
         "32",
         "45",
         "Project Manager",
         "29",
         "Remote",
         "20",
         "14",
         "2",
         "Medium",
         "Anxiety",
         "Yes",
         "Decrease",
         "5",
         "Satisfied",
         "5",
         "Daily",
         "Good",
         "North America"
        ],
        [
         "33",
         "48",
         "Software Engineer",
         "27",
         "Remote",
         "26",
         "9",
         "3",
         "Medium",
         "Anxiety",
         "Yes",
         "No Change",
         "5",
         "Neutral",
         "4",
         "Daily",
         "Average",
         "North America"
        ],
        [
         "34",
         "36",
         "Designer",
         "24",
         "Hybrid",
         "22",
         "6",
         "4",
         "Medium",
         "Depression",
         "No",
         "No Change",
         "1",
         "Unsatisfied",
         "3",
         "Weekly",
         "Average",
         "Europe"
        ],
        [
         "38",
         "24",
         "Sales",
         "21",
         "Onsite",
         "48",
         "12",
         "4",
         "Low",
         "Anxiety",
         "Yes",
         "No Change",
         "3",
         "Neutral",
         "1",
         "Weekly",
         "Average",
         "Africa"
        ],
        [
         "40",
         "30",
         "Data Scientist",
         "22",
         "Remote",
         "44",
         "15",
         "4",
         "High",
         "Burnout",
         "No",
         "Decrease",
         "1",
         "Neutral",
         "5",
         "Daily",
         "Poor",
         "Europe"
        ],
        [
         "44",
         "57",
         "HR",
         "13",
         "Remote",
         "23",
         "6",
         "3",
         "High",
         "Anxiety",
         "Yes",
         "No Change",
         "5",
         "Neutral",
         "2",
         "Daily",
         "Good",
         "South America"
        ],
        [
         "45",
         "32",
         "Marketing",
         "24",
         "Remote",
         "42",
         "8",
         "2",
         "Medium",
         "Burnout",
         "No",
         "No Change",
         "2",
         "Neutral",
         "3",
         "Daily",
         "Poor",
         "North America"
        ],
        [
         "46",
         "33",
         "Data Scientist",
         "33",
         "Remote",
         "35",
         "15",
         "1",
         "Medium",
         "Burnout",
         "Yes",
         "Decrease",
         "1",
         "Unsatisfied",
         "5",
         "Weekly",
         "Good",
         "South America"
        ],
        [
         "50",
         "26",
         "HR",
         "34",
         "Onsite",
         "28",
         "10",
         "4",
         "High",
         "Anxiety",
         "Yes",
         "Decrease",
         "5",
         "Satisfied",
         "4",
         "Daily",
         "Good",
         "Europe"
        ],
        [
         "54",
         "26",
         "Software Engineer",
         "5",
         "Hybrid",
         "55",
         "6",
         "1",
         "Medium",
         "Burnout",
         "Yes",
         "Decrease",
         "4",
         "Satisfied",
         "1",
         "Daily",
         "Poor",
         "Asia"
        ],
        [
         "55",
         "30",
         "Project Manager",
         "8",
         "Hybrid",
         "47",
         "12",
         "3",
         "Low",
         "Anxiety",
         "No",
         "Increase",
         "3",
         "Neutral",
         "5",
         "Daily",
         "Good",
         "Africa"
        ],
        [
         "60",
         "25",
         "Sales",
         "4",
         "Hybrid",
         "33",
         "14",
         "4",
         "Medium",
         "Depression",
         "Yes",
         "No Change",
         "1",
         "Unsatisfied",
         "2",
         "Daily",
         "Good",
         "Europe"
        ],
        [
         "61",
         "33",
         "Sales",
         "14",
         "Remote",
         "30",
         "15",
         "2",
         "Medium",
         "Depression",
         "Yes",
         "Increase",
         "5",
         "Unsatisfied",
         "5",
         "Daily",
         "Good",
         "North America"
        ],
        [
         "65",
         "56",
         "HR",
         "9",
         "Remote",
         "31",
         "3",
         "4",
         "Medium",
         "Anxiety",
         "Yes",
         "Increase",
         "4",
         "Satisfied",
         "4",
         "Weekly",
         "Poor",
         "Europe"
        ],
        [
         "66",
         "45",
         "Software Engineer",
         "6",
         "Hybrid",
         "46",
         "3",
         "1",
         "Medium",
         "Burnout",
         "No",
         "Increase",
         "3",
         "Satisfied",
         "2",
         "Daily",
         "Good",
         "Oceania"
        ],
        [
         "68",
         "32",
         "Designer",
         "23",
         "Onsite",
         "51",
         "8",
         "2",
         "High",
         "Anxiety",
         "Yes",
         "Decrease",
         "3",
         "Neutral",
         "1",
         "Daily",
         "Average",
         "South America"
        ],
        [
         "70",
         "43",
         "Marketing",
         "23",
         "Onsite",
         "39",
         "4",
         "4",
         "Medium",
         "Anxiety",
         "No",
         "Increase",
         "4",
         "Satisfied",
         "1",
         "Weekly",
         "Average",
         "North America"
        ],
        [
         "71",
         "50",
         "Designer",
         "25",
         "Remote",
         "29",
         "13",
         "1",
         "Medium",
         "Depression",
         "Yes",
         "No Change",
         "2",
         "Neutral",
         "2",
         "Weekly",
         "Average",
         "Oceania"
        ],
        [
         "72",
         "28",
         "Designer",
         "15",
         "Onsite",
         "30",
         "14",
         "5",
         "High",
         "Burnout",
         "Yes",
         "No Change",
         "2",
         "Unsatisfied",
         "1",
         "Weekly",
         "Good",
         "Africa"
        ],
        [
         "74",
         "38",
         "Project Manager",
         "35",
         "Onsite",
         "57",
         "10",
         "2",
         "Medium",
         "Burnout",
         "No",
         "No Change",
         "3",
         "Neutral",
         "3",
         "Weekly",
         "Poor",
         "Africa"
        ],
        [
         "76",
         "31",
         "HR",
         "4",
         "Onsite",
         "55",
         "8",
         "4",
         "High",
         "Depression",
         "No",
         "No Change",
         "1",
         "Unsatisfied",
         "2",
         "Weekly",
         "Good",
         "Europe"
        ],
        [
         "77",
         "28",
         "Marketing",
         "25",
         "Remote",
         "37",
         "10",
         "5",
         "Medium",
         "Anxiety",
         "Yes",
         "No Change",
         "1",
         "Satisfied",
         "1",
         "Daily",
         "Average",
         "South America"
        ],
        [
         "78",
         "29",
         "Data Scientist",
         "15",
         "Remote",
         "51",
         "5",
         "2",
         "High",
         "Burnout",
         "Yes",
         "Increase",
         "2",
         "Neutral",
         "1",
         "Daily",
         "Average",
         "South America"
        ],
        [
         "79",
         "27",
         "Project Manager",
         "21",
         "Hybrid",
         "21",
         "7",
         "5",
         "Low",
         "Burnout",
         "No",
         "No Change",
         "4",
         "Unsatisfied",
         "3",
         "Weekly",
         "Average",
         "Asia"
        ],
        [
         "81",
         "42",
         "Software Engineer",
         "33",
         "Onsite",
         "44",
         "9",
         "4",
         "High",
         "Depression",
         "Yes",
         "Increase",
         "3",
         "Neutral",
         "2",
         "Daily",
         "Poor",
         "South America"
        ],
        [
         "82",
         "58",
         "HR",
         "32",
         "Hybrid",
         "26",
         "10",
         "3",
         "High",
         "Depression",
         "Yes",
         "Increase",
         "5",
         "Unsatisfied",
         "2",
         "Weekly",
         "Good",
         "North America"
        ],
        [
         "85",
         "50",
         "Designer",
         "20",
         "Hybrid",
         "44",
         "8",
         "4",
         "Low",
         "Burnout",
         "No",
         "No Change",
         "2",
         "Unsatisfied",
         "4",
         "Daily",
         "Poor",
         "Asia"
        ],
        [
         "86",
         "55",
         "Project Manager",
         "10",
         "Onsite",
         "27",
         "0",
         "1",
         "Low",
         "Anxiety",
         "No",
         "Decrease",
         "1",
         "Satisfied",
         "1",
         "Weekly",
         "Poor",
         "North America"
        ],
        [
         "89",
         "53",
         "Marketing",
         "23",
         "Hybrid",
         "38",
         "4",
         "4",
         "Low",
         "Depression",
         "Yes",
         "Increase",
         "5",
         "Unsatisfied",
         "4",
         "Daily",
         "Poor",
         "Oceania"
        ],
        [
         "90",
         "57",
         "Data Scientist",
         "2",
         "Onsite",
         "57",
         "4",
         "4",
         "Medium",
         "Depression",
         "No",
         "No Change",
         "4",
         "Unsatisfied",
         "2",
         "Weekly",
         "Average",
         "Africa"
        ],
        [
         "91",
         "22",
         "Software Engineer",
         "9",
         "Onsite",
         "60",
         "3",
         "1",
         "High",
         "Burnout",
         "No",
         "Decrease",
         "3",
         "Satisfied",
         "5",
         "Weekly",
         "Good",
         "South America"
        ]
       ],
       "shape": {
        "columns": 17,
        "rows": 2577
       }
      },
      "text/html": [
       "<div>\n",
       "<style scoped>\n",
       "    .dataframe tbody tr th:only-of-type {\n",
       "        vertical-align: middle;\n",
       "    }\n",
       "\n",
       "    .dataframe tbody tr th {\n",
       "        vertical-align: top;\n",
       "    }\n",
       "\n",
       "    .dataframe thead th {\n",
       "        text-align: right;\n",
       "    }\n",
       "</style>\n",
       "<table border=\"1\" class=\"dataframe\">\n",
       "  <thead>\n",
       "    <tr style=\"text-align: right;\">\n",
       "      <th></th>\n",
       "      <th>Edad</th>\n",
       "      <th>Rol_de_Trabajo</th>\n",
       "      <th>Años_de_Experiencia</th>\n",
       "      <th>Ubicación_de_Trabajo</th>\n",
       "      <th>Horas_Trabajadas_Por_Semana</th>\n",
       "      <th>Número_de_Reuniones_Virtuales</th>\n",
       "      <th>Calificación_de_Equilibrio_Trabajo_Vida</th>\n",
       "      <th>Nivel_de_Estrés</th>\n",
       "      <th>Condición_de_Salud_Mental</th>\n",
       "      <th>Acceso_a_Recursos_de_Salud_Mental</th>\n",
       "      <th>Cambio_de_Productividad</th>\n",
       "      <th>Calificación_de_Aislamiento_Social</th>\n",
       "      <th>Satisfacción_con_Trabajo_Remoto</th>\n",
       "      <th>Apoyo_de_la_Empresa_para_Trabajo_Remoto</th>\n",
       "      <th>Actividad_Física</th>\n",
       "      <th>Calidad_del_Sueño</th>\n",
       "      <th>Región</th>\n",
       "    </tr>\n",
       "  </thead>\n",
       "  <tbody>\n",
       "    <tr>\n",
       "      <th>0</th>\n",
       "      <td>32</td>\n",
       "      <td>HR</td>\n",
       "      <td>13</td>\n",
       "      <td>Hybrid</td>\n",
       "      <td>47</td>\n",
       "      <td>7</td>\n",
       "      <td>2</td>\n",
       "      <td>Medium</td>\n",
       "      <td>Depression</td>\n",
       "      <td>No</td>\n",
       "      <td>Decrease</td>\n",
       "      <td>1</td>\n",
       "      <td>Unsatisfied</td>\n",
       "      <td>1</td>\n",
       "      <td>Weekly</td>\n",
       "      <td>Good</td>\n",
       "      <td>Europe</td>\n",
       "    </tr>\n",
       "    <tr>\n",
       "      <th>1</th>\n",
       "      <td>40</td>\n",
       "      <td>Data Scientist</td>\n",
       "      <td>3</td>\n",
       "      <td>Remote</td>\n",
       "      <td>52</td>\n",
       "      <td>4</td>\n",
       "      <td>1</td>\n",
       "      <td>Medium</td>\n",
       "      <td>Anxiety</td>\n",
       "      <td>No</td>\n",
       "      <td>Increase</td>\n",
       "      <td>3</td>\n",
       "      <td>Satisfied</td>\n",
       "      <td>2</td>\n",
       "      <td>Weekly</td>\n",
       "      <td>Good</td>\n",
       "      <td>Asia</td>\n",
       "    </tr>\n",
       "    <tr>\n",
       "      <th>6</th>\n",
       "      <td>31</td>\n",
       "      <td>Sales</td>\n",
       "      <td>24</td>\n",
       "      <td>Remote</td>\n",
       "      <td>51</td>\n",
       "      <td>7</td>\n",
       "      <td>3</td>\n",
       "      <td>Low</td>\n",
       "      <td>Anxiety</td>\n",
       "      <td>Yes</td>\n",
       "      <td>Decrease</td>\n",
       "      <td>5</td>\n",
       "      <td>Neutral</td>\n",
       "      <td>3</td>\n",
       "      <td>Daily</td>\n",
       "      <td>Poor</td>\n",
       "      <td>Asia</td>\n",
       "    </tr>\n",
       "    <tr>\n",
       "      <th>9</th>\n",
       "      <td>30</td>\n",
       "      <td>HR</td>\n",
       "      <td>28</td>\n",
       "      <td>Hybrid</td>\n",
       "      <td>57</td>\n",
       "      <td>6</td>\n",
       "      <td>1</td>\n",
       "      <td>Low</td>\n",
       "      <td>Depression</td>\n",
       "      <td>Yes</td>\n",
       "      <td>Decrease</td>\n",
       "      <td>2</td>\n",
       "      <td>Neutral</td>\n",
       "      <td>1</td>\n",
       "      <td>Weekly</td>\n",
       "      <td>Poor</td>\n",
       "      <td>North America</td>\n",
       "    </tr>\n",
       "    <tr>\n",
       "      <th>12</th>\n",
       "      <td>40</td>\n",
       "      <td>Marketing</td>\n",
       "      <td>1</td>\n",
       "      <td>Remote</td>\n",
       "      <td>21</td>\n",
       "      <td>7</td>\n",
       "      <td>2</td>\n",
       "      <td>High</td>\n",
       "      <td>Depression</td>\n",
       "      <td>Yes</td>\n",
       "      <td>Decrease</td>\n",
       "      <td>2</td>\n",
       "      <td>Neutral</td>\n",
       "      <td>1</td>\n",
       "      <td>Weekly</td>\n",
       "      <td>Good</td>\n",
       "      <td>Europe</td>\n",
       "    </tr>\n",
       "    <tr>\n",
       "      <th>...</th>\n",
       "      <td>...</td>\n",
       "      <td>...</td>\n",
       "      <td>...</td>\n",
       "      <td>...</td>\n",
       "      <td>...</td>\n",
       "      <td>...</td>\n",
       "      <td>...</td>\n",
       "      <td>...</td>\n",
       "      <td>...</td>\n",
       "      <td>...</td>\n",
       "      <td>...</td>\n",
       "      <td>...</td>\n",
       "      <td>...</td>\n",
       "      <td>...</td>\n",
       "      <td>...</td>\n",
       "      <td>...</td>\n",
       "      <td>...</td>\n",
       "    </tr>\n",
       "    <tr>\n",
       "      <th>4991</th>\n",
       "      <td>60</td>\n",
       "      <td>Data Scientist</td>\n",
       "      <td>9</td>\n",
       "      <td>Hybrid</td>\n",
       "      <td>57</td>\n",
       "      <td>4</td>\n",
       "      <td>2</td>\n",
       "      <td>Low</td>\n",
       "      <td>Burnout</td>\n",
       "      <td>Yes</td>\n",
       "      <td>Increase</td>\n",
       "      <td>4</td>\n",
       "      <td>Satisfied</td>\n",
       "      <td>5</td>\n",
       "      <td>Weekly</td>\n",
       "      <td>Average</td>\n",
       "      <td>Oceania</td>\n",
       "    </tr>\n",
       "    <tr>\n",
       "      <th>4992</th>\n",
       "      <td>55</td>\n",
       "      <td>Project Manager</td>\n",
       "      <td>21</td>\n",
       "      <td>Hybrid</td>\n",
       "      <td>45</td>\n",
       "      <td>7</td>\n",
       "      <td>2</td>\n",
       "      <td>High</td>\n",
       "      <td>Anxiety</td>\n",
       "      <td>No</td>\n",
       "      <td>No Change</td>\n",
       "      <td>2</td>\n",
       "      <td>Satisfied</td>\n",
       "      <td>3</td>\n",
       "      <td>Daily</td>\n",
       "      <td>Poor</td>\n",
       "      <td>Africa</td>\n",
       "    </tr>\n",
       "    <tr>\n",
       "      <th>4994</th>\n",
       "      <td>40</td>\n",
       "      <td>Marketing</td>\n",
       "      <td>17</td>\n",
       "      <td>Hybrid</td>\n",
       "      <td>52</td>\n",
       "      <td>1</td>\n",
       "      <td>2</td>\n",
       "      <td>Medium</td>\n",
       "      <td>Burnout</td>\n",
       "      <td>Yes</td>\n",
       "      <td>Increase</td>\n",
       "      <td>3</td>\n",
       "      <td>Neutral</td>\n",
       "      <td>5</td>\n",
       "      <td>Daily</td>\n",
       "      <td>Good</td>\n",
       "      <td>Oceania</td>\n",
       "    </tr>\n",
       "    <tr>\n",
       "      <th>4995</th>\n",
       "      <td>32</td>\n",
       "      <td>Sales</td>\n",
       "      <td>4</td>\n",
       "      <td>Onsite</td>\n",
       "      <td>24</td>\n",
       "      <td>2</td>\n",
       "      <td>5</td>\n",
       "      <td>High</td>\n",
       "      <td>Burnout</td>\n",
       "      <td>Yes</td>\n",
       "      <td>Decrease</td>\n",
       "      <td>4</td>\n",
       "      <td>Neutral</td>\n",
       "      <td>1</td>\n",
       "      <td>Weekly</td>\n",
       "      <td>Average</td>\n",
       "      <td>Asia</td>\n",
       "    </tr>\n",
       "    <tr>\n",
       "      <th>4997</th>\n",
       "      <td>42</td>\n",
       "      <td>Sales</td>\n",
       "      <td>21</td>\n",
       "      <td>Hybrid</td>\n",
       "      <td>34</td>\n",
       "      <td>1</td>\n",
       "      <td>4</td>\n",
       "      <td>High</td>\n",
       "      <td>Burnout</td>\n",
       "      <td>No</td>\n",
       "      <td>Increase</td>\n",
       "      <td>3</td>\n",
       "      <td>Satisfied</td>\n",
       "      <td>1</td>\n",
       "      <td>Daily</td>\n",
       "      <td>Poor</td>\n",
       "      <td>Oceania</td>\n",
       "    </tr>\n",
       "  </tbody>\n",
       "</table>\n",
       "<p>2577 rows × 17 columns</p>\n",
       "</div>"
      ],
      "text/plain": [
       "      Edad   Rol_de_Trabajo  Años_de_Experiencia Ubicación_de_Trabajo  \\\n",
       "0       32               HR                   13               Hybrid   \n",
       "1       40   Data Scientist                    3               Remote   \n",
       "6       31            Sales                   24               Remote   \n",
       "9       30               HR                   28               Hybrid   \n",
       "12      40        Marketing                    1               Remote   \n",
       "...    ...              ...                  ...                  ...   \n",
       "4991    60   Data Scientist                    9               Hybrid   \n",
       "4992    55  Project Manager                   21               Hybrid   \n",
       "4994    40        Marketing                   17               Hybrid   \n",
       "4995    32            Sales                    4               Onsite   \n",
       "4997    42            Sales                   21               Hybrid   \n",
       "\n",
       "      Horas_Trabajadas_Por_Semana  Número_de_Reuniones_Virtuales  \\\n",
       "0                              47                              7   \n",
       "1                              52                              4   \n",
       "6                              51                              7   \n",
       "9                              57                              6   \n",
       "12                             21                              7   \n",
       "...                           ...                            ...   \n",
       "4991                           57                              4   \n",
       "4992                           45                              7   \n",
       "4994                           52                              1   \n",
       "4995                           24                              2   \n",
       "4997                           34                              1   \n",
       "\n",
       "      Calificación_de_Equilibrio_Trabajo_Vida Nivel_de_Estrés  \\\n",
       "0                                           2          Medium   \n",
       "1                                           1          Medium   \n",
       "6                                           3             Low   \n",
       "9                                           1             Low   \n",
       "12                                          2            High   \n",
       "...                                       ...             ...   \n",
       "4991                                        2             Low   \n",
       "4992                                        2            High   \n",
       "4994                                        2          Medium   \n",
       "4995                                        5            High   \n",
       "4997                                        4            High   \n",
       "\n",
       "     Condición_de_Salud_Mental Acceso_a_Recursos_de_Salud_Mental  \\\n",
       "0                   Depression                                No   \n",
       "1                      Anxiety                                No   \n",
       "6                      Anxiety                               Yes   \n",
       "9                   Depression                               Yes   \n",
       "12                  Depression                               Yes   \n",
       "...                        ...                               ...   \n",
       "4991                   Burnout                               Yes   \n",
       "4992                   Anxiety                                No   \n",
       "4994                   Burnout                               Yes   \n",
       "4995                   Burnout                               Yes   \n",
       "4997                   Burnout                                No   \n",
       "\n",
       "     Cambio_de_Productividad  Calificación_de_Aislamiento_Social  \\\n",
       "0                   Decrease                                   1   \n",
       "1                   Increase                                   3   \n",
       "6                   Decrease                                   5   \n",
       "9                   Decrease                                   2   \n",
       "12                  Decrease                                   2   \n",
       "...                      ...                                 ...   \n",
       "4991                Increase                                   4   \n",
       "4992               No Change                                   2   \n",
       "4994                Increase                                   3   \n",
       "4995                Decrease                                   4   \n",
       "4997                Increase                                   3   \n",
       "\n",
       "     Satisfacción_con_Trabajo_Remoto  Apoyo_de_la_Empresa_para_Trabajo_Remoto  \\\n",
       "0                        Unsatisfied                                        1   \n",
       "1                          Satisfied                                        2   \n",
       "6                            Neutral                                        3   \n",
       "9                            Neutral                                        1   \n",
       "12                           Neutral                                        1   \n",
       "...                              ...                                      ...   \n",
       "4991                       Satisfied                                        5   \n",
       "4992                       Satisfied                                        3   \n",
       "4994                         Neutral                                        5   \n",
       "4995                         Neutral                                        1   \n",
       "4997                       Satisfied                                        1   \n",
       "\n",
       "     Actividad_Física Calidad_del_Sueño         Región  \n",
       "0              Weekly              Good         Europe  \n",
       "1              Weekly              Good           Asia  \n",
       "6               Daily              Poor           Asia  \n",
       "9              Weekly              Poor  North America  \n",
       "12             Weekly              Good         Europe  \n",
       "...               ...               ...            ...  \n",
       "4991           Weekly           Average        Oceania  \n",
       "4992            Daily              Poor         Africa  \n",
       "4994            Daily              Good        Oceania  \n",
       "4995           Weekly           Average           Asia  \n",
       "4997            Daily              Poor        Oceania  \n",
       "\n",
       "[2577 rows x 17 columns]"
      ]
     },
     "execution_count": 103,
     "metadata": {},
     "output_type": "execute_result"
    }
   ],
   "source": [
    "# eliminas filas con valores nulos\n",
    "df.dropna(inplace=True)\n",
    "df"
   ]
  },
  {
   "cell_type": "markdown",
   "id": "46e62de6",
   "metadata": {},
   "source": [
    "# Cómo influye en la modalidad de trabajo (remoto o presencial) en la salud mental de los trabajadores y cómo se relaciona esta con su nivel de productividad?"
   ]
  },
  {
   "cell_type": "code",
   "execution_count": 104,
   "id": "3ad3ba4d",
   "metadata": {},
   "outputs": [
    {
     "data": {
      "application/vnd.microsoft.datawrangler.viewer.v0+json": {
       "columns": [
        {
         "name": "index",
         "rawType": "int64",
         "type": "integer"
        },
        {
         "name": "Edad",
         "rawType": "int64",
         "type": "integer"
        },
        {
         "name": "Rol_de_Trabajo",
         "rawType": "object",
         "type": "string"
        },
        {
         "name": "Años_de_Experiencia",
         "rawType": "int64",
         "type": "integer"
        },
        {
         "name": "Ubicación_de_Trabajo",
         "rawType": "object",
         "type": "string"
        },
        {
         "name": "Horas_Trabajadas_Por_Semana",
         "rawType": "int64",
         "type": "integer"
        },
        {
         "name": "Número_de_Reuniones_Virtuales",
         "rawType": "int64",
         "type": "integer"
        },
        {
         "name": "Calificación_de_Equilibrio_Trabajo_Vida",
         "rawType": "int64",
         "type": "integer"
        },
        {
         "name": "Nivel_de_Estrés",
         "rawType": "object",
         "type": "string"
        },
        {
         "name": "Condición_de_Salud_Mental",
         "rawType": "object",
         "type": "string"
        },
        {
         "name": "Acceso_a_Recursos_de_Salud_Mental",
         "rawType": "object",
         "type": "string"
        },
        {
         "name": "Cambio_de_Productividad",
         "rawType": "object",
         "type": "string"
        },
        {
         "name": "Calificación_de_Aislamiento_Social",
         "rawType": "int64",
         "type": "integer"
        },
        {
         "name": "Satisfacción_con_Trabajo_Remoto",
         "rawType": "object",
         "type": "string"
        },
        {
         "name": "Apoyo_de_la_Empresa_para_Trabajo_Remoto",
         "rawType": "int64",
         "type": "integer"
        },
        {
         "name": "Actividad_Física",
         "rawType": "object",
         "type": "string"
        },
        {
         "name": "Calidad_del_Sueño",
         "rawType": "object",
         "type": "string"
        },
        {
         "name": "Región",
         "rawType": "object",
         "type": "string"
        }
       ],
       "ref": "d9c43fe2-8d29-4617-ad60-0dd58830255e",
       "rows": [
        [
         "0",
         "32",
         "HR",
         "13",
         "Hybrid",
         "47",
         "7",
         "2",
         "Medium",
         "Depression",
         "No",
         "Decrease",
         "1",
         "Unsatisfied",
         "1",
         "Weekly",
         "Good",
         "Europe"
        ],
        [
         "1",
         "40",
         "Data Scientist",
         "3",
         "Remote",
         "52",
         "4",
         "1",
         "Medium",
         "Anxiety",
         "No",
         "Increase",
         "3",
         "Satisfied",
         "2",
         "Weekly",
         "Good",
         "Asia"
        ],
        [
         "6",
         "31",
         "Sales",
         "24",
         "Remote",
         "51",
         "7",
         "3",
         "Low",
         "Anxiety",
         "Yes",
         "Decrease",
         "5",
         "Neutral",
         "3",
         "Daily",
         "Poor",
         "Asia"
        ],
        [
         "9",
         "30",
         "HR",
         "28",
         "Hybrid",
         "57",
         "6",
         "1",
         "Low",
         "Depression",
         "Yes",
         "Decrease",
         "2",
         "Neutral",
         "1",
         "Weekly",
         "Poor",
         "North America"
        ],
        [
         "12",
         "40",
         "Marketing",
         "1",
         "Remote",
         "21",
         "7",
         "2",
         "High",
         "Depression",
         "Yes",
         "Decrease",
         "2",
         "Neutral",
         "1",
         "Weekly",
         "Good",
         "Europe"
        ],
        [
         "13",
         "51",
         "Designer",
         "5",
         "Hybrid",
         "45",
         "13",
         "1",
         "Low",
         "Anxiety",
         "No",
         "Decrease",
         "2",
         "Satisfied",
         "5",
         "Weekly",
         "Poor",
         "North America"
        ],
        [
         "14",
         "36",
         "Project Manager",
         "23",
         "Remote",
         "59",
         "11",
         "3",
         "High",
         "Anxiety",
         "Yes",
         "Decrease",
         "5",
         "Neutral",
         "3",
         "Weekly",
         "Average",
         "Oceania"
        ],
        [
         "15",
         "56",
         "Sales",
         "13",
         "Remote",
         "44",
         "11",
         "4",
         "Low",
         "Anxiety",
         "No",
         "No Change",
         "5",
         "Satisfied",
         "4",
         "Weekly",
         "Average",
         "Africa"
        ],
        [
         "17",
         "45",
         "Data Scientist",
         "20",
         "Onsite",
         "37",
         "8",
         "3",
         "Low",
         "Burnout",
         "Yes",
         "Decrease",
         "5",
         "Neutral",
         "5",
         "Weekly",
         "Good",
         "Europe"
        ],
        [
         "18",
         "49",
         "Software Engineer",
         "30",
         "Remote",
         "36",
         "6",
         "1",
         "High",
         "Anxiety",
         "No",
         "No Change",
         "3",
         "Satisfied",
         "2",
         "Weekly",
         "Good",
         "Oceania"
        ]
       ],
       "shape": {
        "columns": 17,
        "rows": 10
       }
      },
      "text/html": [
       "<div>\n",
       "<style scoped>\n",
       "    .dataframe tbody tr th:only-of-type {\n",
       "        vertical-align: middle;\n",
       "    }\n",
       "\n",
       "    .dataframe tbody tr th {\n",
       "        vertical-align: top;\n",
       "    }\n",
       "\n",
       "    .dataframe thead th {\n",
       "        text-align: right;\n",
       "    }\n",
       "</style>\n",
       "<table border=\"1\" class=\"dataframe\">\n",
       "  <thead>\n",
       "    <tr style=\"text-align: right;\">\n",
       "      <th></th>\n",
       "      <th>Edad</th>\n",
       "      <th>Rol_de_Trabajo</th>\n",
       "      <th>Años_de_Experiencia</th>\n",
       "      <th>Ubicación_de_Trabajo</th>\n",
       "      <th>Horas_Trabajadas_Por_Semana</th>\n",
       "      <th>Número_de_Reuniones_Virtuales</th>\n",
       "      <th>Calificación_de_Equilibrio_Trabajo_Vida</th>\n",
       "      <th>Nivel_de_Estrés</th>\n",
       "      <th>Condición_de_Salud_Mental</th>\n",
       "      <th>Acceso_a_Recursos_de_Salud_Mental</th>\n",
       "      <th>Cambio_de_Productividad</th>\n",
       "      <th>Calificación_de_Aislamiento_Social</th>\n",
       "      <th>Satisfacción_con_Trabajo_Remoto</th>\n",
       "      <th>Apoyo_de_la_Empresa_para_Trabajo_Remoto</th>\n",
       "      <th>Actividad_Física</th>\n",
       "      <th>Calidad_del_Sueño</th>\n",
       "      <th>Región</th>\n",
       "    </tr>\n",
       "  </thead>\n",
       "  <tbody>\n",
       "    <tr>\n",
       "      <th>0</th>\n",
       "      <td>32</td>\n",
       "      <td>HR</td>\n",
       "      <td>13</td>\n",
       "      <td>Hybrid</td>\n",
       "      <td>47</td>\n",
       "      <td>7</td>\n",
       "      <td>2</td>\n",
       "      <td>Medium</td>\n",
       "      <td>Depression</td>\n",
       "      <td>No</td>\n",
       "      <td>Decrease</td>\n",
       "      <td>1</td>\n",
       "      <td>Unsatisfied</td>\n",
       "      <td>1</td>\n",
       "      <td>Weekly</td>\n",
       "      <td>Good</td>\n",
       "      <td>Europe</td>\n",
       "    </tr>\n",
       "    <tr>\n",
       "      <th>1</th>\n",
       "      <td>40</td>\n",
       "      <td>Data Scientist</td>\n",
       "      <td>3</td>\n",
       "      <td>Remote</td>\n",
       "      <td>52</td>\n",
       "      <td>4</td>\n",
       "      <td>1</td>\n",
       "      <td>Medium</td>\n",
       "      <td>Anxiety</td>\n",
       "      <td>No</td>\n",
       "      <td>Increase</td>\n",
       "      <td>3</td>\n",
       "      <td>Satisfied</td>\n",
       "      <td>2</td>\n",
       "      <td>Weekly</td>\n",
       "      <td>Good</td>\n",
       "      <td>Asia</td>\n",
       "    </tr>\n",
       "    <tr>\n",
       "      <th>6</th>\n",
       "      <td>31</td>\n",
       "      <td>Sales</td>\n",
       "      <td>24</td>\n",
       "      <td>Remote</td>\n",
       "      <td>51</td>\n",
       "      <td>7</td>\n",
       "      <td>3</td>\n",
       "      <td>Low</td>\n",
       "      <td>Anxiety</td>\n",
       "      <td>Yes</td>\n",
       "      <td>Decrease</td>\n",
       "      <td>5</td>\n",
       "      <td>Neutral</td>\n",
       "      <td>3</td>\n",
       "      <td>Daily</td>\n",
       "      <td>Poor</td>\n",
       "      <td>Asia</td>\n",
       "    </tr>\n",
       "    <tr>\n",
       "      <th>9</th>\n",
       "      <td>30</td>\n",
       "      <td>HR</td>\n",
       "      <td>28</td>\n",
       "      <td>Hybrid</td>\n",
       "      <td>57</td>\n",
       "      <td>6</td>\n",
       "      <td>1</td>\n",
       "      <td>Low</td>\n",
       "      <td>Depression</td>\n",
       "      <td>Yes</td>\n",
       "      <td>Decrease</td>\n",
       "      <td>2</td>\n",
       "      <td>Neutral</td>\n",
       "      <td>1</td>\n",
       "      <td>Weekly</td>\n",
       "      <td>Poor</td>\n",
       "      <td>North America</td>\n",
       "    </tr>\n",
       "    <tr>\n",
       "      <th>12</th>\n",
       "      <td>40</td>\n",
       "      <td>Marketing</td>\n",
       "      <td>1</td>\n",
       "      <td>Remote</td>\n",
       "      <td>21</td>\n",
       "      <td>7</td>\n",
       "      <td>2</td>\n",
       "      <td>High</td>\n",
       "      <td>Depression</td>\n",
       "      <td>Yes</td>\n",
       "      <td>Decrease</td>\n",
       "      <td>2</td>\n",
       "      <td>Neutral</td>\n",
       "      <td>1</td>\n",
       "      <td>Weekly</td>\n",
       "      <td>Good</td>\n",
       "      <td>Europe</td>\n",
       "    </tr>\n",
       "    <tr>\n",
       "      <th>13</th>\n",
       "      <td>51</td>\n",
       "      <td>Designer</td>\n",
       "      <td>5</td>\n",
       "      <td>Hybrid</td>\n",
       "      <td>45</td>\n",
       "      <td>13</td>\n",
       "      <td>1</td>\n",
       "      <td>Low</td>\n",
       "      <td>Anxiety</td>\n",
       "      <td>No</td>\n",
       "      <td>Decrease</td>\n",
       "      <td>2</td>\n",
       "      <td>Satisfied</td>\n",
       "      <td>5</td>\n",
       "      <td>Weekly</td>\n",
       "      <td>Poor</td>\n",
       "      <td>North America</td>\n",
       "    </tr>\n",
       "    <tr>\n",
       "      <th>14</th>\n",
       "      <td>36</td>\n",
       "      <td>Project Manager</td>\n",
       "      <td>23</td>\n",
       "      <td>Remote</td>\n",
       "      <td>59</td>\n",
       "      <td>11</td>\n",
       "      <td>3</td>\n",
       "      <td>High</td>\n",
       "      <td>Anxiety</td>\n",
       "      <td>Yes</td>\n",
       "      <td>Decrease</td>\n",
       "      <td>5</td>\n",
       "      <td>Neutral</td>\n",
       "      <td>3</td>\n",
       "      <td>Weekly</td>\n",
       "      <td>Average</td>\n",
       "      <td>Oceania</td>\n",
       "    </tr>\n",
       "    <tr>\n",
       "      <th>15</th>\n",
       "      <td>56</td>\n",
       "      <td>Sales</td>\n",
       "      <td>13</td>\n",
       "      <td>Remote</td>\n",
       "      <td>44</td>\n",
       "      <td>11</td>\n",
       "      <td>4</td>\n",
       "      <td>Low</td>\n",
       "      <td>Anxiety</td>\n",
       "      <td>No</td>\n",
       "      <td>No Change</td>\n",
       "      <td>5</td>\n",
       "      <td>Satisfied</td>\n",
       "      <td>4</td>\n",
       "      <td>Weekly</td>\n",
       "      <td>Average</td>\n",
       "      <td>Africa</td>\n",
       "    </tr>\n",
       "    <tr>\n",
       "      <th>17</th>\n",
       "      <td>45</td>\n",
       "      <td>Data Scientist</td>\n",
       "      <td>20</td>\n",
       "      <td>Onsite</td>\n",
       "      <td>37</td>\n",
       "      <td>8</td>\n",
       "      <td>3</td>\n",
       "      <td>Low</td>\n",
       "      <td>Burnout</td>\n",
       "      <td>Yes</td>\n",
       "      <td>Decrease</td>\n",
       "      <td>5</td>\n",
       "      <td>Neutral</td>\n",
       "      <td>5</td>\n",
       "      <td>Weekly</td>\n",
       "      <td>Good</td>\n",
       "      <td>Europe</td>\n",
       "    </tr>\n",
       "    <tr>\n",
       "      <th>18</th>\n",
       "      <td>49</td>\n",
       "      <td>Software Engineer</td>\n",
       "      <td>30</td>\n",
       "      <td>Remote</td>\n",
       "      <td>36</td>\n",
       "      <td>6</td>\n",
       "      <td>1</td>\n",
       "      <td>High</td>\n",
       "      <td>Anxiety</td>\n",
       "      <td>No</td>\n",
       "      <td>No Change</td>\n",
       "      <td>3</td>\n",
       "      <td>Satisfied</td>\n",
       "      <td>2</td>\n",
       "      <td>Weekly</td>\n",
       "      <td>Good</td>\n",
       "      <td>Oceania</td>\n",
       "    </tr>\n",
       "  </tbody>\n",
       "</table>\n",
       "</div>"
      ],
      "text/plain": [
       "    Edad     Rol_de_Trabajo  Años_de_Experiencia Ubicación_de_Trabajo  \\\n",
       "0     32                 HR                   13               Hybrid   \n",
       "1     40     Data Scientist                    3               Remote   \n",
       "6     31              Sales                   24               Remote   \n",
       "9     30                 HR                   28               Hybrid   \n",
       "12    40          Marketing                    1               Remote   \n",
       "13    51           Designer                    5               Hybrid   \n",
       "14    36    Project Manager                   23               Remote   \n",
       "15    56              Sales                   13               Remote   \n",
       "17    45     Data Scientist                   20               Onsite   \n",
       "18    49  Software Engineer                   30               Remote   \n",
       "\n",
       "    Horas_Trabajadas_Por_Semana  Número_de_Reuniones_Virtuales  \\\n",
       "0                            47                              7   \n",
       "1                            52                              4   \n",
       "6                            51                              7   \n",
       "9                            57                              6   \n",
       "12                           21                              7   \n",
       "13                           45                             13   \n",
       "14                           59                             11   \n",
       "15                           44                             11   \n",
       "17                           37                              8   \n",
       "18                           36                              6   \n",
       "\n",
       "    Calificación_de_Equilibrio_Trabajo_Vida Nivel_de_Estrés  \\\n",
       "0                                         2          Medium   \n",
       "1                                         1          Medium   \n",
       "6                                         3             Low   \n",
       "9                                         1             Low   \n",
       "12                                        2            High   \n",
       "13                                        1             Low   \n",
       "14                                        3            High   \n",
       "15                                        4             Low   \n",
       "17                                        3             Low   \n",
       "18                                        1            High   \n",
       "\n",
       "   Condición_de_Salud_Mental Acceso_a_Recursos_de_Salud_Mental  \\\n",
       "0                 Depression                                No   \n",
       "1                    Anxiety                                No   \n",
       "6                    Anxiety                               Yes   \n",
       "9                 Depression                               Yes   \n",
       "12                Depression                               Yes   \n",
       "13                   Anxiety                                No   \n",
       "14                   Anxiety                               Yes   \n",
       "15                   Anxiety                                No   \n",
       "17                   Burnout                               Yes   \n",
       "18                   Anxiety                                No   \n",
       "\n",
       "   Cambio_de_Productividad  Calificación_de_Aislamiento_Social  \\\n",
       "0                 Decrease                                   1   \n",
       "1                 Increase                                   3   \n",
       "6                 Decrease                                   5   \n",
       "9                 Decrease                                   2   \n",
       "12                Decrease                                   2   \n",
       "13                Decrease                                   2   \n",
       "14                Decrease                                   5   \n",
       "15               No Change                                   5   \n",
       "17                Decrease                                   5   \n",
       "18               No Change                                   3   \n",
       "\n",
       "   Satisfacción_con_Trabajo_Remoto  Apoyo_de_la_Empresa_para_Trabajo_Remoto  \\\n",
       "0                      Unsatisfied                                        1   \n",
       "1                        Satisfied                                        2   \n",
       "6                          Neutral                                        3   \n",
       "9                          Neutral                                        1   \n",
       "12                         Neutral                                        1   \n",
       "13                       Satisfied                                        5   \n",
       "14                         Neutral                                        3   \n",
       "15                       Satisfied                                        4   \n",
       "17                         Neutral                                        5   \n",
       "18                       Satisfied                                        2   \n",
       "\n",
       "   Actividad_Física Calidad_del_Sueño         Región  \n",
       "0            Weekly              Good         Europe  \n",
       "1            Weekly              Good           Asia  \n",
       "6             Daily              Poor           Asia  \n",
       "9            Weekly              Poor  North America  \n",
       "12           Weekly              Good         Europe  \n",
       "13           Weekly              Poor  North America  \n",
       "14           Weekly           Average        Oceania  \n",
       "15           Weekly           Average         Africa  \n",
       "17           Weekly              Good         Europe  \n",
       "18           Weekly              Good        Oceania  "
      ]
     },
     "execution_count": 104,
     "metadata": {},
     "output_type": "execute_result"
    }
   ],
   "source": [
    "df.head(10)\n"
   ]
  },
  {
   "cell_type": "code",
   "execution_count": 105,
   "id": "d188ae1b",
   "metadata": {},
   "outputs": [
    {
     "data": {
      "application/vnd.microsoft.datawrangler.viewer.v0+json": {
       "columns": [
        {
         "name": "Ubicación_de_Trabajo",
         "rawType": "object",
         "type": "string"
        },
        {
         "name": "Bajo",
         "rawType": "int64",
         "type": "integer"
        },
        {
         "name": "Medio",
         "rawType": "int64",
         "type": "integer"
        },
        {
         "name": "Alto",
         "rawType": "int64",
         "type": "integer"
        }
       ],
       "ref": "ba9be283-6b02-470f-b7a1-b7ebf5e7ed98",
       "rows": [
        [
         "Híbrido",
         "275",
         "279",
         "282"
        ],
        [
         "Presencial",
         "288",
         "278",
         "282"
        ],
        [
         "Remoto",
         "284",
         "305",
         "304"
        ]
       ],
       "shape": {
        "columns": 3,
        "rows": 3
       }
      },
      "text/html": [
       "<div>\n",
       "<style scoped>\n",
       "    .dataframe tbody tr th:only-of-type {\n",
       "        vertical-align: middle;\n",
       "    }\n",
       "\n",
       "    .dataframe tbody tr th {\n",
       "        vertical-align: top;\n",
       "    }\n",
       "\n",
       "    .dataframe thead th {\n",
       "        text-align: right;\n",
       "    }\n",
       "</style>\n",
       "<table border=\"1\" class=\"dataframe\">\n",
       "  <thead>\n",
       "    <tr style=\"text-align: right;\">\n",
       "      <th>Nivel_de_Estrés</th>\n",
       "      <th>Bajo</th>\n",
       "      <th>Medio</th>\n",
       "      <th>Alto</th>\n",
       "    </tr>\n",
       "    <tr>\n",
       "      <th>Ubicación_de_Trabajo</th>\n",
       "      <th></th>\n",
       "      <th></th>\n",
       "      <th></th>\n",
       "    </tr>\n",
       "  </thead>\n",
       "  <tbody>\n",
       "    <tr>\n",
       "      <th>Híbrido</th>\n",
       "      <td>275</td>\n",
       "      <td>279</td>\n",
       "      <td>282</td>\n",
       "    </tr>\n",
       "    <tr>\n",
       "      <th>Presencial</th>\n",
       "      <td>288</td>\n",
       "      <td>278</td>\n",
       "      <td>282</td>\n",
       "    </tr>\n",
       "    <tr>\n",
       "      <th>Remoto</th>\n",
       "      <td>284</td>\n",
       "      <td>305</td>\n",
       "      <td>304</td>\n",
       "    </tr>\n",
       "  </tbody>\n",
       "</table>\n",
       "</div>"
      ],
      "text/plain": [
       "Nivel_de_Estrés       Bajo  Medio  Alto\n",
       "Ubicación_de_Trabajo                   \n",
       "Híbrido                275    279   282\n",
       "Presencial             288    278   282\n",
       "Remoto                 284    305   304"
      ]
     },
     "execution_count": 105,
     "metadata": {},
     "output_type": "execute_result"
    }
   ],
   "source": [
    "# estrés por modalidad de trabajo\n",
    "tabla_estres = (\n",
    "    df.groupby(['Ubicación_de_Trabajo', 'Nivel_de_Estrés'])\n",
    "      .size()                      \n",
    "      .unstack(fill_value=0)       \n",
    ")\n",
    "\n",
    "tabla_estres.index = tabla_estres.index.str.replace('Remote', 'Remoto')\n",
    "tabla_estres.index = tabla_estres.index.str.replace('Hybrid', 'Híbrido')\n",
    "tabla_estres.index = tabla_estres.index.str.replace('Onsite', 'Presencial')\n",
    "\n",
    "tabla_estres = tabla_estres.rename(columns={\n",
    "    'High': 'Alto',\n",
    "    'Medium': 'Medio',\n",
    "    'Low': 'Bajo'\n",
    "})\n",
    "\n",
    "# como reubicar las columnas de bajo medio a alto \n",
    "tabla_estres = tabla_estres[['Bajo', 'Medio', 'Alto']]\n",
    "tabla_estres\n"
   ]
  },
  {
   "cell_type": "code",
   "execution_count": 106,
   "id": "337030a0",
   "metadata": {},
   "outputs": [
    {
     "data": {
      "application/vnd.microsoft.datawrangler.viewer.v0+json": {
       "columns": [
        {
         "name": "Ubicación_de_Trabajo",
         "rawType": "object",
         "type": "string"
        },
        {
         "name": "Bajo",
         "rawType": "int64",
         "type": "integer"
        },
        {
         "name": "Medio",
         "rawType": "int64",
         "type": "integer"
        },
        {
         "name": "Alto",
         "rawType": "int64",
         "type": "integer"
        }
       ],
       "ref": "4ac1abe5-9dbc-4a2a-a3b7-8e977eea9b50",
       "rows": [
        [
         "Presencial",
         "288",
         "278",
         "282"
        ],
        [
         "Híbrido",
         "275",
         "279",
         "282"
        ],
        [
         "Remoto",
         "284",
         "305",
         "304"
        ]
       ],
       "shape": {
        "columns": 3,
        "rows": 3
       }
      },
      "text/html": [
       "<div>\n",
       "<style scoped>\n",
       "    .dataframe tbody tr th:only-of-type {\n",
       "        vertical-align: middle;\n",
       "    }\n",
       "\n",
       "    .dataframe tbody tr th {\n",
       "        vertical-align: top;\n",
       "    }\n",
       "\n",
       "    .dataframe thead th {\n",
       "        text-align: right;\n",
       "    }\n",
       "</style>\n",
       "<table border=\"1\" class=\"dataframe\">\n",
       "  <thead>\n",
       "    <tr style=\"text-align: right;\">\n",
       "      <th>Nivel_de_Estrés</th>\n",
       "      <th>Bajo</th>\n",
       "      <th>Medio</th>\n",
       "      <th>Alto</th>\n",
       "    </tr>\n",
       "    <tr>\n",
       "      <th>Ubicación_de_Trabajo</th>\n",
       "      <th></th>\n",
       "      <th></th>\n",
       "      <th></th>\n",
       "    </tr>\n",
       "  </thead>\n",
       "  <tbody>\n",
       "    <tr>\n",
       "      <th>Presencial</th>\n",
       "      <td>288</td>\n",
       "      <td>278</td>\n",
       "      <td>282</td>\n",
       "    </tr>\n",
       "    <tr>\n",
       "      <th>Híbrido</th>\n",
       "      <td>275</td>\n",
       "      <td>279</td>\n",
       "      <td>282</td>\n",
       "    </tr>\n",
       "    <tr>\n",
       "      <th>Remoto</th>\n",
       "      <td>284</td>\n",
       "      <td>305</td>\n",
       "      <td>304</td>\n",
       "    </tr>\n",
       "  </tbody>\n",
       "</table>\n",
       "</div>"
      ],
      "text/plain": [
       "Nivel_de_Estrés       Bajo  Medio  Alto\n",
       "Ubicación_de_Trabajo                   \n",
       "Presencial             288    278   282\n",
       "Híbrido                275    279   282\n",
       "Remoto                 284    305   304"
      ]
     },
     "execution_count": 106,
     "metadata": {},
     "output_type": "execute_result"
    }
   ],
   "source": [
    "# cambiar el orden de las filas tal que sea presencial, híbrido, remoto\n",
    "tabla_estres = tabla_estres.reindex(['Presencial', 'Híbrido', 'Remoto'])\n",
    "tabla_estres"
   ]
  },
  {
   "cell_type": "code",
   "execution_count": 107,
   "id": "d65f0cf0",
   "metadata": {},
   "outputs": [
    {
     "data": {
      "application/vnd.microsoft.datawrangler.viewer.v0+json": {
       "columns": [
        {
         "name": "Nivel_de_Estrés",
         "rawType": "object",
         "type": "string"
        },
        {
         "name": "0",
         "rawType": "int64",
         "type": "integer"
        }
       ],
       "ref": "6df051f5-778e-444c-a610-4014e7d35c27",
       "rows": [
        [
         "Bajo",
         "275"
        ],
        [
         "Medio",
         "278"
        ],
        [
         "Alto",
         "282"
        ]
       ],
       "shape": {
        "columns": 1,
        "rows": 3
       }
      },
      "text/plain": [
       "Nivel_de_Estrés\n",
       "Bajo     275\n",
       "Medio    278\n",
       "Alto     282\n",
       "dtype: int64"
      ]
     },
     "execution_count": 107,
     "metadata": {},
     "output_type": "execute_result"
    }
   ],
   "source": [
    "tabla_estres.min()"
   ]
  },
  {
   "cell_type": "code",
   "execution_count": 108,
   "id": "fe33835a",
   "metadata": {},
   "outputs": [
    {
     "data": {
      "application/vnd.microsoft.datawrangler.viewer.v0+json": {
       "columns": [
        {
         "name": "Nivel_de_Estrés",
         "rawType": "object",
         "type": "string"
        },
        {
         "name": "0",
         "rawType": "int64",
         "type": "integer"
        }
       ],
       "ref": "f6f13b14-eb7d-41a4-afa8-508c11181473",
       "rows": [
        [
         "Bajo",
         "288"
        ],
        [
         "Medio",
         "305"
        ],
        [
         "Alto",
         "304"
        ]
       ],
       "shape": {
        "columns": 1,
        "rows": 3
       }
      },
      "text/plain": [
       "Nivel_de_Estrés\n",
       "Bajo     288\n",
       "Medio    305\n",
       "Alto     304\n",
       "dtype: int64"
      ]
     },
     "execution_count": 108,
     "metadata": {},
     "output_type": "execute_result"
    }
   ],
   "source": [
    "tabla_estres.max()"
   ]
  },
  {
   "cell_type": "code",
   "execution_count": 109,
   "id": "d7195549",
   "metadata": {},
   "outputs": [
    {
     "data": {
      "text/plain": [
       "<bound method DataFrame.value_counts of Nivel_de_Estrés       Bajo  Medio  Alto\n",
       "Ubicación_de_Trabajo                   \n",
       "Presencial             288    278   282\n",
       "Híbrido                275    279   282\n",
       "Remoto                 284    305   304>"
      ]
     },
     "execution_count": 109,
     "metadata": {},
     "output_type": "execute_result"
    }
   ],
   "source": [
    "tabla_estres.value_counts"
   ]
  },
  {
   "cell_type": "markdown",
   "id": "e1cabc36",
   "metadata": {},
   "source": [
    "Dado que la mínima cantidad de personas contadas en este dataset dado la tabla de estres es 275, los gráficos que se desean visualizar comenzarán desde el 200 para poder visualizar la diferencia."
   ]
  },
  {
   "cell_type": "code",
   "execution_count": 110,
   "id": "7b7e0046",
   "metadata": {},
   "outputs": [
    {
     "data": {
      "application/vnd.plotly.v1+json": {
       "config": {
        "plotlyServerURL": "https://plot.ly"
       },
       "data": [
        {
         "coloraxis": "coloraxis",
         "hovertemplate": "Nivel de Estrés: %{x}<br>Modalidad de Trabajo: %{y}<br>Cantidad de Personas: %{z}<extra></extra>",
         "name": "0",
         "texttemplate": "%{z}",
         "type": "heatmap",
         "x": [
          "Bajo",
          "Medio",
          "Alto"
         ],
         "xaxis": "x",
         "y": [
          "Presencial",
          "Híbrido",
          "Remoto"
         ],
         "yaxis": "y",
         "z": {
          "bdata": "IAEWARoBEwEXARoBHAExATAB",
          "dtype": "i2",
          "shape": "3, 3"
         }
        }
       ],
       "layout": {
        "coloraxis": {
         "colorbar": {
          "title": {
           "text": "Cantidad de Personas"
          }
         },
         "colorscale": [
          [
           0,
           "rgb(255,255,204)"
          ],
          [
           0.125,
           "rgb(255,237,160)"
          ],
          [
           0.25,
           "rgb(254,217,118)"
          ],
          [
           0.375,
           "rgb(254,178,76)"
          ],
          [
           0.5,
           "rgb(253,141,60)"
          ],
          [
           0.625,
           "rgb(252,78,42)"
          ],
          [
           0.75,
           "rgb(227,26,28)"
          ],
          [
           0.875,
           "rgb(189,0,38)"
          ],
          [
           1,
           "rgb(128,0,38)"
          ]
         ]
        },
        "height": 700,
        "template": {
         "data": {
          "bar": [
           {
            "error_x": {
             "color": "#2a3f5f"
            },
            "error_y": {
             "color": "#2a3f5f"
            },
            "marker": {
             "line": {
              "color": "#E5ECF6",
              "width": 0.5
             },
             "pattern": {
              "fillmode": "overlay",
              "size": 10,
              "solidity": 0.2
             }
            },
            "type": "bar"
           }
          ],
          "barpolar": [
           {
            "marker": {
             "line": {
              "color": "#E5ECF6",
              "width": 0.5
             },
             "pattern": {
              "fillmode": "overlay",
              "size": 10,
              "solidity": 0.2
             }
            },
            "type": "barpolar"
           }
          ],
          "carpet": [
           {
            "aaxis": {
             "endlinecolor": "#2a3f5f",
             "gridcolor": "white",
             "linecolor": "white",
             "minorgridcolor": "white",
             "startlinecolor": "#2a3f5f"
            },
            "baxis": {
             "endlinecolor": "#2a3f5f",
             "gridcolor": "white",
             "linecolor": "white",
             "minorgridcolor": "white",
             "startlinecolor": "#2a3f5f"
            },
            "type": "carpet"
           }
          ],
          "choropleth": [
           {
            "colorbar": {
             "outlinewidth": 0,
             "ticks": ""
            },
            "type": "choropleth"
           }
          ],
          "contour": [
           {
            "colorbar": {
             "outlinewidth": 0,
             "ticks": ""
            },
            "colorscale": [
             [
              0,
              "#0d0887"
             ],
             [
              0.1111111111111111,
              "#46039f"
             ],
             [
              0.2222222222222222,
              "#7201a8"
             ],
             [
              0.3333333333333333,
              "#9c179e"
             ],
             [
              0.4444444444444444,
              "#bd3786"
             ],
             [
              0.5555555555555556,
              "#d8576b"
             ],
             [
              0.6666666666666666,
              "#ed7953"
             ],
             [
              0.7777777777777778,
              "#fb9f3a"
             ],
             [
              0.8888888888888888,
              "#fdca26"
             ],
             [
              1,
              "#f0f921"
             ]
            ],
            "type": "contour"
           }
          ],
          "contourcarpet": [
           {
            "colorbar": {
             "outlinewidth": 0,
             "ticks": ""
            },
            "type": "contourcarpet"
           }
          ],
          "heatmap": [
           {
            "colorbar": {
             "outlinewidth": 0,
             "ticks": ""
            },
            "colorscale": [
             [
              0,
              "#0d0887"
             ],
             [
              0.1111111111111111,
              "#46039f"
             ],
             [
              0.2222222222222222,
              "#7201a8"
             ],
             [
              0.3333333333333333,
              "#9c179e"
             ],
             [
              0.4444444444444444,
              "#bd3786"
             ],
             [
              0.5555555555555556,
              "#d8576b"
             ],
             [
              0.6666666666666666,
              "#ed7953"
             ],
             [
              0.7777777777777778,
              "#fb9f3a"
             ],
             [
              0.8888888888888888,
              "#fdca26"
             ],
             [
              1,
              "#f0f921"
             ]
            ],
            "type": "heatmap"
           }
          ],
          "histogram": [
           {
            "marker": {
             "pattern": {
              "fillmode": "overlay",
              "size": 10,
              "solidity": 0.2
             }
            },
            "type": "histogram"
           }
          ],
          "histogram2d": [
           {
            "colorbar": {
             "outlinewidth": 0,
             "ticks": ""
            },
            "colorscale": [
             [
              0,
              "#0d0887"
             ],
             [
              0.1111111111111111,
              "#46039f"
             ],
             [
              0.2222222222222222,
              "#7201a8"
             ],
             [
              0.3333333333333333,
              "#9c179e"
             ],
             [
              0.4444444444444444,
              "#bd3786"
             ],
             [
              0.5555555555555556,
              "#d8576b"
             ],
             [
              0.6666666666666666,
              "#ed7953"
             ],
             [
              0.7777777777777778,
              "#fb9f3a"
             ],
             [
              0.8888888888888888,
              "#fdca26"
             ],
             [
              1,
              "#f0f921"
             ]
            ],
            "type": "histogram2d"
           }
          ],
          "histogram2dcontour": [
           {
            "colorbar": {
             "outlinewidth": 0,
             "ticks": ""
            },
            "colorscale": [
             [
              0,
              "#0d0887"
             ],
             [
              0.1111111111111111,
              "#46039f"
             ],
             [
              0.2222222222222222,
              "#7201a8"
             ],
             [
              0.3333333333333333,
              "#9c179e"
             ],
             [
              0.4444444444444444,
              "#bd3786"
             ],
             [
              0.5555555555555556,
              "#d8576b"
             ],
             [
              0.6666666666666666,
              "#ed7953"
             ],
             [
              0.7777777777777778,
              "#fb9f3a"
             ],
             [
              0.8888888888888888,
              "#fdca26"
             ],
             [
              1,
              "#f0f921"
             ]
            ],
            "type": "histogram2dcontour"
           }
          ],
          "mesh3d": [
           {
            "colorbar": {
             "outlinewidth": 0,
             "ticks": ""
            },
            "type": "mesh3d"
           }
          ],
          "parcoords": [
           {
            "line": {
             "colorbar": {
              "outlinewidth": 0,
              "ticks": ""
             }
            },
            "type": "parcoords"
           }
          ],
          "pie": [
           {
            "automargin": true,
            "type": "pie"
           }
          ],
          "scatter": [
           {
            "fillpattern": {
             "fillmode": "overlay",
             "size": 10,
             "solidity": 0.2
            },
            "type": "scatter"
           }
          ],
          "scatter3d": [
           {
            "line": {
             "colorbar": {
              "outlinewidth": 0,
              "ticks": ""
             }
            },
            "marker": {
             "colorbar": {
              "outlinewidth": 0,
              "ticks": ""
             }
            },
            "type": "scatter3d"
           }
          ],
          "scattercarpet": [
           {
            "marker": {
             "colorbar": {
              "outlinewidth": 0,
              "ticks": ""
             }
            },
            "type": "scattercarpet"
           }
          ],
          "scattergeo": [
           {
            "marker": {
             "colorbar": {
              "outlinewidth": 0,
              "ticks": ""
             }
            },
            "type": "scattergeo"
           }
          ],
          "scattergl": [
           {
            "marker": {
             "colorbar": {
              "outlinewidth": 0,
              "ticks": ""
             }
            },
            "type": "scattergl"
           }
          ],
          "scattermap": [
           {
            "marker": {
             "colorbar": {
              "outlinewidth": 0,
              "ticks": ""
             }
            },
            "type": "scattermap"
           }
          ],
          "scattermapbox": [
           {
            "marker": {
             "colorbar": {
              "outlinewidth": 0,
              "ticks": ""
             }
            },
            "type": "scattermapbox"
           }
          ],
          "scatterpolar": [
           {
            "marker": {
             "colorbar": {
              "outlinewidth": 0,
              "ticks": ""
             }
            },
            "type": "scatterpolar"
           }
          ],
          "scatterpolargl": [
           {
            "marker": {
             "colorbar": {
              "outlinewidth": 0,
              "ticks": ""
             }
            },
            "type": "scatterpolargl"
           }
          ],
          "scatterternary": [
           {
            "marker": {
             "colorbar": {
              "outlinewidth": 0,
              "ticks": ""
             }
            },
            "type": "scatterternary"
           }
          ],
          "surface": [
           {
            "colorbar": {
             "outlinewidth": 0,
             "ticks": ""
            },
            "colorscale": [
             [
              0,
              "#0d0887"
             ],
             [
              0.1111111111111111,
              "#46039f"
             ],
             [
              0.2222222222222222,
              "#7201a8"
             ],
             [
              0.3333333333333333,
              "#9c179e"
             ],
             [
              0.4444444444444444,
              "#bd3786"
             ],
             [
              0.5555555555555556,
              "#d8576b"
             ],
             [
              0.6666666666666666,
              "#ed7953"
             ],
             [
              0.7777777777777778,
              "#fb9f3a"
             ],
             [
              0.8888888888888888,
              "#fdca26"
             ],
             [
              1,
              "#f0f921"
             ]
            ],
            "type": "surface"
           }
          ],
          "table": [
           {
            "cells": {
             "fill": {
              "color": "#EBF0F8"
             },
             "line": {
              "color": "white"
             }
            },
            "header": {
             "fill": {
              "color": "#C8D4E3"
             },
             "line": {
              "color": "white"
             }
            },
            "type": "table"
           }
          ]
         },
         "layout": {
          "annotationdefaults": {
           "arrowcolor": "#2a3f5f",
           "arrowhead": 0,
           "arrowwidth": 1
          },
          "autotypenumbers": "strict",
          "coloraxis": {
           "colorbar": {
            "outlinewidth": 0,
            "ticks": ""
           }
          },
          "colorscale": {
           "diverging": [
            [
             0,
             "#8e0152"
            ],
            [
             0.1,
             "#c51b7d"
            ],
            [
             0.2,
             "#de77ae"
            ],
            [
             0.3,
             "#f1b6da"
            ],
            [
             0.4,
             "#fde0ef"
            ],
            [
             0.5,
             "#f7f7f7"
            ],
            [
             0.6,
             "#e6f5d0"
            ],
            [
             0.7,
             "#b8e186"
            ],
            [
             0.8,
             "#7fbc41"
            ],
            [
             0.9,
             "#4d9221"
            ],
            [
             1,
             "#276419"
            ]
           ],
           "sequential": [
            [
             0,
             "#0d0887"
            ],
            [
             0.1111111111111111,
             "#46039f"
            ],
            [
             0.2222222222222222,
             "#7201a8"
            ],
            [
             0.3333333333333333,
             "#9c179e"
            ],
            [
             0.4444444444444444,
             "#bd3786"
            ],
            [
             0.5555555555555556,
             "#d8576b"
            ],
            [
             0.6666666666666666,
             "#ed7953"
            ],
            [
             0.7777777777777778,
             "#fb9f3a"
            ],
            [
             0.8888888888888888,
             "#fdca26"
            ],
            [
             1,
             "#f0f921"
            ]
           ],
           "sequentialminus": [
            [
             0,
             "#0d0887"
            ],
            [
             0.1111111111111111,
             "#46039f"
            ],
            [
             0.2222222222222222,
             "#7201a8"
            ],
            [
             0.3333333333333333,
             "#9c179e"
            ],
            [
             0.4444444444444444,
             "#bd3786"
            ],
            [
             0.5555555555555556,
             "#d8576b"
            ],
            [
             0.6666666666666666,
             "#ed7953"
            ],
            [
             0.7777777777777778,
             "#fb9f3a"
            ],
            [
             0.8888888888888888,
             "#fdca26"
            ],
            [
             1,
             "#f0f921"
            ]
           ]
          },
          "colorway": [
           "#636efa",
           "#EF553B",
           "#00cc96",
           "#ab63fa",
           "#FFA15A",
           "#19d3f3",
           "#FF6692",
           "#B6E880",
           "#FF97FF",
           "#FECB52"
          ],
          "font": {
           "color": "#2a3f5f"
          },
          "geo": {
           "bgcolor": "white",
           "lakecolor": "white",
           "landcolor": "#E5ECF6",
           "showlakes": true,
           "showland": true,
           "subunitcolor": "white"
          },
          "hoverlabel": {
           "align": "left"
          },
          "hovermode": "closest",
          "mapbox": {
           "style": "light"
          },
          "paper_bgcolor": "white",
          "plot_bgcolor": "#E5ECF6",
          "polar": {
           "angularaxis": {
            "gridcolor": "white",
            "linecolor": "white",
            "ticks": ""
           },
           "bgcolor": "#E5ECF6",
           "radialaxis": {
            "gridcolor": "white",
            "linecolor": "white",
            "ticks": ""
           }
          },
          "scene": {
           "xaxis": {
            "backgroundcolor": "#E5ECF6",
            "gridcolor": "white",
            "gridwidth": 2,
            "linecolor": "white",
            "showbackground": true,
            "ticks": "",
            "zerolinecolor": "white"
           },
           "yaxis": {
            "backgroundcolor": "#E5ECF6",
            "gridcolor": "white",
            "gridwidth": 2,
            "linecolor": "white",
            "showbackground": true,
            "ticks": "",
            "zerolinecolor": "white"
           },
           "zaxis": {
            "backgroundcolor": "#E5ECF6",
            "gridcolor": "white",
            "gridwidth": 2,
            "linecolor": "white",
            "showbackground": true,
            "ticks": "",
            "zerolinecolor": "white"
           }
          },
          "shapedefaults": {
           "line": {
            "color": "#2a3f5f"
           }
          },
          "ternary": {
           "aaxis": {
            "gridcolor": "white",
            "linecolor": "white",
            "ticks": ""
           },
           "baxis": {
            "gridcolor": "white",
            "linecolor": "white",
            "ticks": ""
           },
           "bgcolor": "#E5ECF6",
           "caxis": {
            "gridcolor": "white",
            "linecolor": "white",
            "ticks": ""
           }
          },
          "title": {
           "x": 0.05
          },
          "xaxis": {
           "automargin": true,
           "gridcolor": "white",
           "linecolor": "white",
           "ticks": "",
           "title": {
            "standoff": 15
           },
           "zerolinecolor": "white",
           "zerolinewidth": 2
          },
          "yaxis": {
           "automargin": true,
           "gridcolor": "white",
           "linecolor": "white",
           "ticks": "",
           "title": {
            "standoff": 15
           },
           "zerolinecolor": "white",
           "zerolinewidth": 2
          }
         }
        },
        "title": {
         "font": {
          "size": 20
         },
         "text": "Niveles de Estrés por Modalidad de Trabajo"
        },
        "width": 900,
        "xaxis": {
         "anchor": "y",
         "constrain": "domain",
         "domain": [
          0,
          1
         ],
         "scaleanchor": "y",
         "title": {
          "text": "Nivel de Estrés"
         }
        },
        "yaxis": {
         "anchor": "x",
         "autorange": "reversed",
         "constrain": "domain",
         "domain": [
          0,
          1
         ],
         "title": {
          "text": "Modalidad de Trabajo"
         }
        }
       }
      }
     },
     "metadata": {},
     "output_type": "display_data"
    }
   ],
   "source": [
    "fig = px.imshow(\n",
    "    tabla_estres,\n",
    "    text_auto=True,\n",
    "    color_continuous_scale='YlOrRd',\n",
    "    labels=dict(x=\"Nivel de Estrés\", y=\"Modalidad de Trabajo\", color=\"Cantidad de Personas\"),\n",
    "    title=\"Niveles de Estrés por Modalidad de Trabajo\"\n",
    ")\n",
    "fig.update_layout(\n",
    "    width=900,\n",
    "    height=700,\n",
    "    title_font_size=20\n",
    ")\n",
    "fig.show()"
   ]
  },
  {
   "cell_type": "markdown",
   "id": "6ed39255",
   "metadata": {},
   "source": [
    "Los trabajadores remotos tienen más estrés medio (305 personas, color rojo oscuro) y alto (304 personas). Los números son muy similares entre modalidades, por eso es difícil ver diferencias reales."
   ]
  },
  {
   "cell_type": "code",
   "execution_count": 111,
   "id": "2f95bedb",
   "metadata": {},
   "outputs": [
    {
     "data": {
      "image/png": "[encoded data removed]",
      "text/plain": [
       "<Figure size 1500x800 with 3 Axes>"
      ]
     },
     "metadata": {},
     "output_type": "display_data"
    }
   ],
   "source": [
    "fig, axes = plt.subplots(1, 3, figsize=(15, 8))\n",
    "niveles_estres = ['Alto', 'Medio', 'Bajo']\n",
    "\n",
    "# Recorrer cada nivel de estrés y crear un gráfico para cada uno\n",
    "for i, nivel in enumerate(niveles_estres):\n",
    "    grafico_actual = axes[i]\n",
    "    datos_nivel = tabla_estres[nivel]\n",
    "    colores = [\"#ff006f\", \"#b700ff\", \"#0051ff\"]\n",
    "    color_actual = colores[i]\n",
    "    \n",
    "    barras = grafico_actual.bar(datos_nivel.index, datos_nivel.values, color=color_actual, width=0.6) #.bar funcion matplotlib\n",
    "    # datos_nivel.index = nombres modalidades [Híbrido, Presencial, Remoto] \n",
    "    # datos_nivel.values = cantidades [282, 282, 304]\n",
    "    \n",
    "    grafico_actual.set_title(f'Estrés {nivel}', fontsize=15, pad=10, fontweight='bold')\n",
    "    grafico_actual.set_ylabel('Cantidad de Personas', fontsize=14, labelpad=10)\n",
    "    \n",
    "    valor_maximo = tabla_estres.values.max()\n",
    "    grafico_actual.set_ylim(200, valor_maximo + 25)  #scala al máximo+20\n",
    "    grafico_actual.tick_params(axis='x', rotation=25, labelsize=14, pad=5)\n",
    "    \n",
    "    #número encima de cada barra\n",
    "    for barra in barras:\n",
    "        altura_barra = barra.get_height()\n",
    "        posicion_x = barra.get_x() + barra.get_width()/2 #centro de la barra\n",
    "        posicion_y = altura_barra + 3\n",
    "        \n",
    "        # escribir el número en esa posición\n",
    "        grafico_actual.text(posicion_x, posicion_y, f'{int(altura_barra)}', \n",
    "                          ha='center', va='bottom', fontsize=11)\n",
    "\n",
    "plt.suptitle('Niveles de Estrés por Modalidad de Trabajo', fontsize=18)\n",
    "plt.tight_layout(pad=2, w_pad=6)\n",
    "plt.show()"
   ]
  },
  {
   "cell_type": "code",
   "execution_count": 112,
   "id": "ff4a6bb2",
   "metadata": {},
   "outputs": [
    {
     "data": {
      "text/plain": [
       "Index(['Bajo', 'Medio', 'Alto'], dtype='object', name='Nivel_de_Estrés')"
      ]
     },
     "execution_count": 112,
     "metadata": {},
     "output_type": "execute_result"
    }
   ],
   "source": [
    "tabla_estres.columns"
   ]
  },
  {
   "cell_type": "code",
   "execution_count": 113,
   "id": "3679f1f2",
   "metadata": {},
   "outputs": [
    {
     "data": {
      "text/plain": [
       "Index(['Ubicación_de_Trabajo', 'Bajo', 'Medio', 'Alto'], dtype='object', name='Nivel_de_Estrés')"
      ]
     },
     "execution_count": 113,
     "metadata": {},
     "output_type": "execute_result"
    }
   ],
   "source": [
    "tabla_estres.reset_index().columns"
   ]
  },
  {
   "cell_type": "code",
   "execution_count": null,
   "id": "f8cd5258",
   "metadata": {},
   "outputs": [
    {
     "data": {
      "application/vnd.plotly.v1+json": {
       "config": {
        "plotlyServerURL": "https://plot.ly"
       },
       "data": [
        {
         "alignmentgroup": "True",
         "hovertemplate": "Ubicación_de_Trabajo=Presencial<br>Nivel de estrés=%{x}<br>Cantidad de Personas=%{text}<extra></extra>",
         "legendgroup": "Presencial",
         "marker": {
          "color": "#0051ff",
          "pattern": {
           "shape": ""
          }
         },
         "name": "Presencial",
         "offsetgroup": "Presencial",
         "orientation": "v",
         "showlegend": true,
         "text": {
          "bdata": "AAAAAAAAckAAAAAAAGBxQAAAAAAAoHFA",
          "dtype": "f8"
         },
         "textfont": {
          "size": 20
         },
         "textposition": "outside",
         "texttemplate": "%{y:6s}",
         "type": "bar",
         "x": [
          "Bajo",
          "Medio",
          "Alto"
         ],
         "xaxis": "x",
         "y": {
          "bdata": "IAEWARoB",
          "dtype": "i2"
         },
         "yaxis": "y"
        },
        {
         "alignmentgroup": "True",
         "hovertemplate": "Ubicación_de_Trabajo=Híbrido<br>Nivel de estrés=%{x}<br>Cantidad de Personas=%{text}<extra></extra>",
         "legendgroup": "Híbrido",
         "marker": {
          "color": "#b700ff",
          "pattern": {
           "shape": ""
          }
         },
         "name": "Híbrido",
         "offsetgroup": "Híbrido",
         "orientation": "v",
         "showlegend": true,
         "text": {
          "bdata": "AAAAAAAwcUAAAAAAAHBxQAAAAAAAoHFA",
          "dtype": "f8"
         },
         "textfont": {
          "size": 20
         },
         "textposition": "outside",
         "texttemplate": "%{y:6s}",
         "type": "bar",
         "x": [
          "Bajo",
          "Medio",
          "Alto"
         ],
         "xaxis": "x",
         "y": {
          "bdata": "EwEXARoB",
          "dtype": "i2"
         },
         "yaxis": "y"
        },
        {
         "alignmentgroup": "True",
         "hovertemplate": "Ubicación_de_Trabajo=Remoto<br>Nivel de estrés=%{x}<br>Cantidad de Personas=%{text}<extra></extra>",
         "legendgroup": "Remoto",
         "marker": {
          "color": "#ff006f",
          "pattern": {
           "shape": ""
          }
         },
         "name": "Remoto",
         "offsetgroup": "Remoto",
         "orientation": "v",
         "showlegend": true,
         "text": {
          "bdata": "AAAAAADAcUAAAAAAABBzQAAAAAAAAHNA",
          "dtype": "f8"
         },
         "textfont": {
          "size": 20
         },
         "textposition": "outside",
         "texttemplate": "%{y:6s}",
         "type": "bar",
         "x": [
          "Bajo",
          "Medio",
          "Alto"
         ],
         "xaxis": "x",
         "y": {
          "bdata": "HAExATAB",
          "dtype": "i2"
         },
         "yaxis": "y"
        }
       ],
       "layout": {
        "barmode": "group",
        "height": 600,
        "legend": {
         "font": {
          "size": 18
         },
         "title": {
          "font": {
           "size": 20
          },
          "text": "Modalidad de Trabajo"
         },
         "tracegroupgap": 0
        },
        "template": {
         "data": {
          "bar": [
           {
            "error_x": {
             "color": "#2a3f5f"
            },
            "error_y": {
             "color": "#2a3f5f"
            },
            "marker": {
             "line": {
              "color": "#E5ECF6",
              "width": 0.5
             },
             "pattern": {
              "fillmode": "overlay",
              "size": 10,
              "solidity": 0.2
             }
            },
            "type": "bar"
           }
          ],
          "barpolar": [
           {
            "marker": {
             "line": {
              "color": "#E5ECF6",
              "width": 0.5
             },
             "pattern": {
              "fillmode": "overlay",
              "size": 10,
              "solidity": 0.2
             }
            },
            "type": "barpolar"
           }
          ],
          "carpet": [
           {
            "aaxis": {
             "endlinecolor": "#2a3f5f",
             "gridcolor": "white",
             "linecolor": "white",
             "minorgridcolor": "white",
             "startlinecolor": "#2a3f5f"
            },
            "baxis": {
             "endlinecolor": "#2a3f5f",
             "gridcolor": "white",
             "linecolor": "white",
             "minorgridcolor": "white",
             "startlinecolor": "#2a3f5f"
            },
            "type": "carpet"
           }
          ],
          "choropleth": [
           {
            "colorbar": {
             "outlinewidth": 0,
             "ticks": ""
            },
            "type": "choropleth"
           }
          ],
          "contour": [
           {
            "colorbar": {
             "outlinewidth": 0,
             "ticks": ""
            },
            "colorscale": [
             [
              0,
              "#0d0887"
             ],
             [
              0.1111111111111111,
              "#46039f"
             ],
             [
              0.2222222222222222,
              "#7201a8"
             ],
             [
              0.3333333333333333,
              "#9c179e"
             ],
             [
              0.4444444444444444,
              "#bd3786"
             ],
             [
              0.5555555555555556,
              "#d8576b"
             ],
             [
              0.6666666666666666,
              "#ed7953"
             ],
             [
              0.7777777777777778,
              "#fb9f3a"
             ],
             [
              0.8888888888888888,
              "#fdca26"
             ],
             [
              1,
              "#f0f921"
             ]
            ],
            "type": "contour"
           }
          ],
          "contourcarpet": [
           {
            "colorbar": {
             "outlinewidth": 0,
             "ticks": ""
            },
            "type": "contourcarpet"
           }
          ],
          "heatmap": [
           {
            "colorbar": {
             "outlinewidth": 0,
             "ticks": ""
            },
            "colorscale": [
             [
              0,
              "#0d0887"
             ],
             [
              0.1111111111111111,
              "#46039f"
             ],
             [
              0.2222222222222222,
              "#7201a8"
             ],
             [
              0.3333333333333333,
              "#9c179e"
             ],
             [
              0.4444444444444444,
              "#bd3786"
             ],
             [
              0.5555555555555556,
              "#d8576b"
             ],
             [
              0.6666666666666666,
              "#ed7953"
             ],
             [
              0.7777777777777778,
              "#fb9f3a"
             ],
             [
              0.8888888888888888,
              "#fdca26"
             ],
             [
              1,
              "#f0f921"
             ]
            ],
            "type": "heatmap"
           }
          ],
          "histogram": [
           {
            "marker": {
             "pattern": {
              "fillmode": "overlay",
              "size": 10,
              "solidity": 0.2
             }
            },
            "type": "histogram"
           }
          ],
          "histogram2d": [
           {
            "colorbar": {
             "outlinewidth": 0,
             "ticks": ""
            },
            "colorscale": [
             [
              0,
              "#0d0887"
             ],
             [
              0.1111111111111111,
              "#46039f"
             ],
             [
              0.2222222222222222,
              "#7201a8"
             ],
             [
              0.3333333333333333,
              "#9c179e"
             ],
             [
              0.4444444444444444,
              "#bd3786"
             ],
             [
              0.5555555555555556,
              "#d8576b"
             ],
             [
              0.6666666666666666,
              "#ed7953"
             ],
             [
              0.7777777777777778,
              "#fb9f3a"
             ],
             [
              0.8888888888888888,
              "#fdca26"
             ],
             [
              1,
              "#f0f921"
             ]
            ],
            "type": "histogram2d"
           }
          ],
          "histogram2dcontour": [
           {
            "colorbar": {
             "outlinewidth": 0,
             "ticks": ""
            },
            "colorscale": [
             [
              0,
              "#0d0887"
             ],
             [
              0.1111111111111111,
              "#46039f"
             ],
             [
              0.2222222222222222,
              "#7201a8"
             ],
             [
              0.3333333333333333,
              "#9c179e"
             ],
             [
              0.4444444444444444,
              "#bd3786"
             ],
             [
              0.5555555555555556,
              "#d8576b"
             ],
             [
              0.6666666666666666,
              "#ed7953"
             ],
             [
              0.7777777777777778,
              "#fb9f3a"
             ],
             [
              0.8888888888888888,
              "#fdca26"
             ],
             [
              1,
              "#f0f921"
             ]
            ],
            "type": "histogram2dcontour"
           }
          ],
          "mesh3d": [
           {
            "colorbar": {
             "outlinewidth": 0,
             "ticks": ""
            },
            "type": "mesh3d"
           }
          ],
          "parcoords": [
           {
            "line": {
             "colorbar": {
              "outlinewidth": 0,
              "ticks": ""
             }
            },
            "type": "parcoords"
           }
          ],
          "pie": [
           {
            "automargin": true,
            "type": "pie"
           }
          ],
          "scatter": [
           {
            "fillpattern": {
             "fillmode": "overlay",
             "size": 10,
             "solidity": 0.2
            },
            "type": "scatter"
           }
          ],
          "scatter3d": [
           {
            "line": {
             "colorbar": {
              "outlinewidth": 0,
              "ticks": ""
             }
            },
            "marker": {
             "colorbar": {
              "outlinewidth": 0,
              "ticks": ""
             }
            },
            "type": "scatter3d"
           }
          ],
          "scattercarpet": [
           {
            "marker": {
             "colorbar": {
              "outlinewidth": 0,
              "ticks": ""
             }
            },
            "type": "scattercarpet"
           }
          ],
          "scattergeo": [
           {
            "marker": {
             "colorbar": {
              "outlinewidth": 0,
              "ticks": ""
             }
            },
            "type": "scattergeo"
           }
          ],
          "scattergl": [
           {
            "marker": {
             "colorbar": {
              "outlinewidth": 0,
              "ticks": ""
             }
            },
            "type": "scattergl"
           }
          ],
          "scattermap": [
           {
            "marker": {
             "colorbar": {
              "outlinewidth": 0,
              "ticks": ""
             }
            },
            "type": "scattermap"
           }
          ],
          "scattermapbox": [
           {
            "marker": {
             "colorbar": {
              "outlinewidth": 0,
              "ticks": ""
             }
            },
            "type": "scattermapbox"
           }
          ],
          "scatterpolar": [
           {
            "marker": {
             "colorbar": {
              "outlinewidth": 0,
              "ticks": ""
             }
            },
            "type": "scatterpolar"
           }
          ],
          "scatterpolargl": [
           {
            "marker": {
             "colorbar": {
              "outlinewidth": 0,
              "ticks": ""
             }
            },
            "type": "scatterpolargl"
           }
          ],
          "scatterternary": [
           {
            "marker": {
             "colorbar": {
              "outlinewidth": 0,
              "ticks": ""
             }
            },
            "type": "scatterternary"
           }
          ],
          "surface": [
           {
            "colorbar": {
             "outlinewidth": 0,
             "ticks": ""
            },
            "colorscale": [
             [
              0,
              "#0d0887"
             ],
             [
              0.1111111111111111,
              "#46039f"
             ],
             [
              0.2222222222222222,
              "#7201a8"
             ],
             [
              0.3333333333333333,
              "#9c179e"
             ],
             [
              0.4444444444444444,
              "#bd3786"
             ],
             [
              0.5555555555555556,
              "#d8576b"
             ],
             [
              0.6666666666666666,
              "#ed7953"
             ],
             [
              0.7777777777777778,
              "#fb9f3a"
             ],
             [
              0.8888888888888888,
              "#fdca26"
             ],
             [
              1,
              "#f0f921"
             ]
            ],
            "type": "surface"
           }
          ],
          "table": [
           {
            "cells": {
             "fill": {
              "color": "#EBF0F8"
             },
             "line": {
              "color": "white"
             }
            },
            "header": {
             "fill": {
              "color": "#C8D4E3"
             },
             "line": {
              "color": "white"
             }
            },
            "type": "table"
           }
          ]
         },
         "layout": {
          "annotationdefaults": {
           "arrowcolor": "#2a3f5f",
           "arrowhead": 0,
           "arrowwidth": 1
          },
          "autotypenumbers": "strict",
          "coloraxis": {
           "colorbar": {
            "outlinewidth": 0,
            "ticks": ""
           }
          },
          "colorscale": {
           "diverging": [
            [
             0,
             "#8e0152"
            ],
            [
             0.1,
             "#c51b7d"
            ],
            [
             0.2,
             "#de77ae"
            ],
            [
             0.3,
             "#f1b6da"
            ],
            [
             0.4,
             "#fde0ef"
            ],
            [
             0.5,
             "#f7f7f7"
            ],
            [
             0.6,
             "#e6f5d0"
            ],
            [
             0.7,
             "#b8e186"
            ],
            [
             0.8,
             "#7fbc41"
            ],
            [
             0.9,
             "#4d9221"
            ],
            [
             1,
             "#276419"
            ]
           ],
           "sequential": [
            [
             0,
             "#0d0887"
            ],
            [
             0.1111111111111111,
             "#46039f"
            ],
            [
             0.2222222222222222,
             "#7201a8"
            ],
            [
             0.3333333333333333,
             "#9c179e"
            ],
            [
             0.4444444444444444,
             "#bd3786"
            ],
            [
             0.5555555555555556,
             "#d8576b"
            ],
            [
             0.6666666666666666,
             "#ed7953"
            ],
            [
             0.7777777777777778,
             "#fb9f3a"
            ],
            [
             0.8888888888888888,
             "#fdca26"
            ],
            [
             1,
             "#f0f921"
            ]
           ],
           "sequentialminus": [
            [
             0,
             "#0d0887"
            ],
            [
             0.1111111111111111,
             "#46039f"
            ],
            [
             0.2222222222222222,
             "#7201a8"
            ],
            [
             0.3333333333333333,
             "#9c179e"
            ],
            [
             0.4444444444444444,
             "#bd3786"
            ],
            [
             0.5555555555555556,
             "#d8576b"
            ],
            [
             0.6666666666666666,
             "#ed7953"
            ],
            [
             0.7777777777777778,
             "#fb9f3a"
            ],
            [
             0.8888888888888888,
             "#fdca26"
            ],
            [
             1,
             "#f0f921"
            ]
           ]
          },
          "colorway": [
           "#636efa",
           "#EF553B",
           "#00cc96",
           "#ab63fa",
           "#FFA15A",
           "#19d3f3",
           "#FF6692",
           "#B6E880",
           "#FF97FF",
           "#FECB52"
          ],
          "font": {
           "color": "#2a3f5f"
          },
          "geo": {
           "bgcolor": "white",
           "lakecolor": "white",
           "landcolor": "#E5ECF6",
           "showlakes": true,
           "showland": true,
           "subunitcolor": "white"
          },
          "hoverlabel": {
           "align": "left"
          },
          "hovermode": "closest",
          "mapbox": {
           "style": "light"
          },
          "paper_bgcolor": "white",
          "plot_bgcolor": "#E5ECF6",
          "polar": {
           "angularaxis": {
            "gridcolor": "white",
            "linecolor": "white",
            "ticks": ""
           },
           "bgcolor": "#E5ECF6",
           "radialaxis": {
            "gridcolor": "white",
            "linecolor": "white",
            "ticks": ""
           }
          },
          "scene": {
           "xaxis": {
            "backgroundcolor": "#E5ECF6",
            "gridcolor": "white",
            "gridwidth": 2,
            "linecolor": "white",
            "showbackground": true,
            "ticks": "",
            "zerolinecolor": "white"
           },
           "yaxis": {
            "backgroundcolor": "#E5ECF6",
            "gridcolor": "white",
            "gridwidth": 2,
            "linecolor": "white",
            "showbackground": true,
            "ticks": "",
            "zerolinecolor": "white"
           },
           "zaxis": {
            "backgroundcolor": "#E5ECF6",
            "gridcolor": "white",
            "gridwidth": 2,
            "linecolor": "white",
            "showbackground": true,
            "ticks": "",
            "zerolinecolor": "white"
           }
          },
          "shapedefaults": {
           "line": {
            "color": "#2a3f5f"
           }
          },
          "ternary": {
           "aaxis": {
            "gridcolor": "white",
            "linecolor": "white",
            "ticks": ""
           },
           "baxis": {
            "gridcolor": "white",
            "linecolor": "white",
            "ticks": ""
           },
           "bgcolor": "#E5ECF6",
           "caxis": {
            "gridcolor": "white",
            "linecolor": "white",
            "ticks": ""
           }
          },
          "title": {
           "x": 0.05
          },
          "xaxis": {
           "automargin": true,
           "gridcolor": "white",
           "linecolor": "white",
           "ticks": "",
           "title": {
            "standoff": 15
           },
           "zerolinecolor": "white",
           "zerolinewidth": 2
          },
          "yaxis": {
           "automargin": true,
           "gridcolor": "white",
           "linecolor": "white",
           "ticks": "",
           "title": {
            "standoff": 15
           },
           "zerolinecolor": "white",
           "zerolinewidth": 2
          }
         }
        },
        "title": {
         "font": {
          "color": "black",
          "size": 30
         },
         "text": "Niveles de Estrés por Modalidad de Trabajo",
         "x": 0.34,
         "xanchor": "center"
        },
        "width": 1100,
        "xaxis": {
         "anchor": "y",
         "domain": [
          0,
          1
         ],
         "tickfont": {
          "size": 18
         },
         "title": {
          "font": {
           "color": "black",
           "size": 22
          },
          "text": "Nivel de Estrés"
         }
        },
        "yaxis": {
         "anchor": "x",
         "domain": [
          0,
          1
         ],
         "range": [
          0,
          350
         ],
         "tickfont": {
          "size": 18
         },
         "title": {
          "font": {
           "color": "black",
           "size": 22
          },
          "text": "Cantidad de Personas"
         }
        }
       }
      }
     },
     "metadata": {},
     "output_type": "display_data"
    }
   ],
   "source": [
    "tabla_long = tabla_estres.reset_index().melt(\n",
    "    id_vars='Ubicación_de_Trabajo',   \n",
    "    value_vars=['Bajo','Medio','Alto'],\n",
    "    var_name='Nivel de estrés',\n",
    "    value_name='Cantidad de Personas'\n",
    ")\n",
    "\n",
    "fig = px.bar(\n",
    "    tabla_long, \n",
    "    x='Nivel de estrés', \n",
    "    y='Cantidad de Personas',\n",
    "    text_auto='6s',\n",
    "    color='Ubicación_de_Trabajo',\n",
    "    barmode='group',        \n",
    "    color_discrete_sequence=[\"#0051ff\", \"#b700ff\", \"#ff006f\"],\n",
    "    text='Cantidad de Personas',\n",
    "    title=\"Niveles de Estrés por Modalidad de Trabajo\",\n",
    "    width=1100,  \n",
    "    height=600\n",
    ")\n",
    "\n",
    "fig.update_yaxes(range=[0, 350])\n",
    "fig.update_traces(textposition='outside', textfont_size=20 )\n",
    "fig.update_layout(\n",
    "    title=dict(\n",
    "        text=\"Niveles de Estrés por Modalidad de Trabajo\",\n",
    "        font=dict(size=30, color=\"black\"),   # tamaño y color del título\n",
    "        x=0.34,                               # centrar título\n",
    "        xanchor='center'\n",
    "    ),\n",
    "    xaxis=dict(\n",
    "        title=dict(\n",
    "            text=\"Nivel de Estrés\",\n",
    "            font=dict(size=22, color=\"black\")   # título eje X\n",
    "        ),\n",
    "        tickfont=dict(size=18)   # tamaño etiquetas eje X\n",
    "    ),\n",
    "    yaxis=dict(\n",
    "        title=dict(\n",
    "            text=\"Cantidad de Personas\",\n",
    "            font=dict(size=22, color=\"black\")   # título eje Y\n",
    "        ),\n",
    "        tickfont=dict(size=18)   # tamaño etiquetas eje Y\n",
    "    ),\n",
    "    legend=dict(\n",
    "        title=dict(text=\"Modalidad de Trabajo\", font=dict(size=20)),\n",
    "        font=dict(size=18)  # tamaño de las etiquetas de la leyenda\n",
    "    )\n",
    ")\n",
    "\n",
    "fig.show()\n"
   ]
  },
  {
   "cell_type": "code",
   "execution_count": 137,
   "id": "8f9feff2",
   "metadata": {},
   "outputs": [
    {
     "data": {
      "application/vnd.plotly.v1+json": {
       "config": {
        "plotlyServerURL": "https://plot.ly"
       },
       "data": [
        {
         "marker": {
          "color": "#0051ff"
         },
         "text": {
          "bdata": "AAAAAAAAckAAAAAAADBxQAAAAAAAwHFA",
          "dtype": "f8"
         },
         "textposition": "outside",
         "type": "bar",
         "x": [
          "Presencial",
          "Híbrido",
          "Remoto"
         ],
         "xaxis": "x",
         "y": {
          "bdata": "IAETARwB",
          "dtype": "i2"
         },
         "yaxis": "y"
        },
        {
         "marker": {
          "color": "#b700ff"
         },
         "text": {
          "bdata": "AAAAAABgcUAAAAAAAHBxQAAAAAAAEHNA",
          "dtype": "f8"
         },
         "textposition": "outside",
         "type": "bar",
         "x": [
          "Presencial",
          "Híbrido",
          "Remoto"
         ],
         "xaxis": "x2",
         "y": {
          "bdata": "FgEXATEB",
          "dtype": "i2"
         },
         "yaxis": "y2"
        },
        {
         "marker": {
          "color": "#ff006f"
         },
         "text": {
          "bdata": "AAAAAACgcUAAAAAAAKBxQAAAAAAAAHNA",
          "dtype": "f8"
         },
         "textposition": "outside",
         "type": "bar",
         "x": [
          "Presencial",
          "Híbrido",
          "Remoto"
         ],
         "xaxis": "x3",
         "y": {
          "bdata": "GgEaATAB",
          "dtype": "i2"
         },
         "yaxis": "y3"
        }
       ],
       "layout": {
        "annotations": [
         {
          "font": {
           "color": "black",
           "size": 20
          },
          "showarrow": false,
          "text": "Estrés Bajo",
          "x": 0.14444444444444446,
          "xanchor": "center",
          "xref": "paper",
          "y": 1,
          "yanchor": "bottom",
          "yref": "paper"
         },
         {
          "font": {
           "color": "black",
           "size": 20
          },
          "showarrow": false,
          "text": "Estrés Medio",
          "x": 0.5,
          "xanchor": "center",
          "xref": "paper",
          "y": 1,
          "yanchor": "bottom",
          "yref": "paper"
         },
         {
          "font": {
           "color": "black",
           "size": 20
          },
          "showarrow": false,
          "text": "Estrés Alto",
          "x": 0.8555555555555556,
          "xanchor": "center",
          "xref": "paper",
          "y": 1,
          "yanchor": "bottom",
          "yref": "paper"
         }
        ],
        "font": {
         "color": "black",
         "size": 16
        },
        "height": 700,
        "showlegend": false,
        "template": {
         "data": {
          "bar": [
           {
            "error_x": {
             "color": "#2a3f5f"
            },
            "error_y": {
             "color": "#2a3f5f"
            },
            "marker": {
             "line": {
              "color": "#E5ECF6",
              "width": 0.5
             },
             "pattern": {
              "fillmode": "overlay",
              "size": 10,
              "solidity": 0.2
             }
            },
            "type": "bar"
           }
          ],
          "barpolar": [
           {
            "marker": {
             "line": {
              "color": "#E5ECF6",
              "width": 0.5
             },
             "pattern": {
              "fillmode": "overlay",
              "size": 10,
              "solidity": 0.2
             }
            },
            "type": "barpolar"
           }
          ],
          "carpet": [
           {
            "aaxis": {
             "endlinecolor": "#2a3f5f",
             "gridcolor": "white",
             "linecolor": "white",
             "minorgridcolor": "white",
             "startlinecolor": "#2a3f5f"
            },
            "baxis": {
             "endlinecolor": "#2a3f5f",
             "gridcolor": "white",
             "linecolor": "white",
             "minorgridcolor": "white",
             "startlinecolor": "#2a3f5f"
            },
            "type": "carpet"
           }
          ],
          "choropleth": [
           {
            "colorbar": {
             "outlinewidth": 0,
             "ticks": ""
            },
            "type": "choropleth"
           }
          ],
          "contour": [
           {
            "colorbar": {
             "outlinewidth": 0,
             "ticks": ""
            },
            "colorscale": [
             [
              0,
              "#0d0887"
             ],
             [
              0.1111111111111111,
              "#46039f"
             ],
             [
              0.2222222222222222,
              "#7201a8"
             ],
             [
              0.3333333333333333,
              "#9c179e"
             ],
             [
              0.4444444444444444,
              "#bd3786"
             ],
             [
              0.5555555555555556,
              "#d8576b"
             ],
             [
              0.6666666666666666,
              "#ed7953"
             ],
             [
              0.7777777777777778,
              "#fb9f3a"
             ],
             [
              0.8888888888888888,
              "#fdca26"
             ],
             [
              1,
              "#f0f921"
             ]
            ],
            "type": "contour"
           }
          ],
          "contourcarpet": [
           {
            "colorbar": {
             "outlinewidth": 0,
             "ticks": ""
            },
            "type": "contourcarpet"
           }
          ],
          "heatmap": [
           {
            "colorbar": {
             "outlinewidth": 0,
             "ticks": ""
            },
            "colorscale": [
             [
              0,
              "#0d0887"
             ],
             [
              0.1111111111111111,
              "#46039f"
             ],
             [
              0.2222222222222222,
              "#7201a8"
             ],
             [
              0.3333333333333333,
              "#9c179e"
             ],
             [
              0.4444444444444444,
              "#bd3786"
             ],
             [
              0.5555555555555556,
              "#d8576b"
             ],
             [
              0.6666666666666666,
              "#ed7953"
             ],
             [
              0.7777777777777778,
              "#fb9f3a"
             ],
             [
              0.8888888888888888,
              "#fdca26"
             ],
             [
              1,
              "#f0f921"
             ]
            ],
            "type": "heatmap"
           }
          ],
          "histogram": [
           {
            "marker": {
             "pattern": {
              "fillmode": "overlay",
              "size": 10,
              "solidity": 0.2
             }
            },
            "type": "histogram"
           }
          ],
          "histogram2d": [
           {
            "colorbar": {
             "outlinewidth": 0,
             "ticks": ""
            },
            "colorscale": [
             [
              0,
              "#0d0887"
             ],
             [
              0.1111111111111111,
              "#46039f"
             ],
             [
              0.2222222222222222,
              "#7201a8"
             ],
             [
              0.3333333333333333,
              "#9c179e"
             ],
             [
              0.4444444444444444,
              "#bd3786"
             ],
             [
              0.5555555555555556,
              "#d8576b"
             ],
             [
              0.6666666666666666,
              "#ed7953"
             ],
             [
              0.7777777777777778,
              "#fb9f3a"
             ],
             [
              0.8888888888888888,
              "#fdca26"
             ],
             [
              1,
              "#f0f921"
             ]
            ],
            "type": "histogram2d"
           }
          ],
          "histogram2dcontour": [
           {
            "colorbar": {
             "outlinewidth": 0,
             "ticks": ""
            },
            "colorscale": [
             [
              0,
              "#0d0887"
             ],
             [
              0.1111111111111111,
              "#46039f"
             ],
             [
              0.2222222222222222,
              "#7201a8"
             ],
             [
              0.3333333333333333,
              "#9c179e"
             ],
             [
              0.4444444444444444,
              "#bd3786"
             ],
             [
              0.5555555555555556,
              "#d8576b"
             ],
             [
              0.6666666666666666,
              "#ed7953"
             ],
             [
              0.7777777777777778,
              "#fb9f3a"
             ],
             [
              0.8888888888888888,
              "#fdca26"
             ],
             [
              1,
              "#f0f921"
             ]
            ],
            "type": "histogram2dcontour"
           }
          ],
          "mesh3d": [
           {
            "colorbar": {
             "outlinewidth": 0,
             "ticks": ""
            },
            "type": "mesh3d"
           }
          ],
          "parcoords": [
           {
            "line": {
             "colorbar": {
              "outlinewidth": 0,
              "ticks": ""
             }
            },
            "type": "parcoords"
           }
          ],
          "pie": [
           {
            "automargin": true,
            "type": "pie"
           }
          ],
          "scatter": [
           {
            "fillpattern": {
             "fillmode": "overlay",
             "size": 10,
             "solidity": 0.2
            },
            "type": "scatter"
           }
          ],
          "scatter3d": [
           {
            "line": {
             "colorbar": {
              "outlinewidth": 0,
              "ticks": ""
             }
            },
            "marker": {
             "colorbar": {
              "outlinewidth": 0,
              "ticks": ""
             }
            },
            "type": "scatter3d"
           }
          ],
          "scattercarpet": [
           {
            "marker": {
             "colorbar": {
              "outlinewidth": 0,
              "ticks": ""
             }
            },
            "type": "scattercarpet"
           }
          ],
          "scattergeo": [
           {
            "marker": {
             "colorbar": {
              "outlinewidth": 0,
              "ticks": ""
             }
            },
            "type": "scattergeo"
           }
          ],
          "scattergl": [
           {
            "marker": {
             "colorbar": {
              "outlinewidth": 0,
              "ticks": ""
             }
            },
            "type": "scattergl"
           }
          ],
          "scattermap": [
           {
            "marker": {
             "colorbar": {
              "outlinewidth": 0,
              "ticks": ""
             }
            },
            "type": "scattermap"
           }
          ],
          "scattermapbox": [
           {
            "marker": {
             "colorbar": {
              "outlinewidth": 0,
              "ticks": ""
             }
            },
            "type": "scattermapbox"
           }
          ],
          "scatterpolar": [
           {
            "marker": {
             "colorbar": {
              "outlinewidth": 0,
              "ticks": ""
             }
            },
            "type": "scatterpolar"
           }
          ],
          "scatterpolargl": [
           {
            "marker": {
             "colorbar": {
              "outlinewidth": 0,
              "ticks": ""
             }
            },
            "type": "scatterpolargl"
           }
          ],
          "scatterternary": [
           {
            "marker": {
             "colorbar": {
              "outlinewidth": 0,
              "ticks": ""
             }
            },
            "type": "scatterternary"
           }
          ],
          "surface": [
           {
            "colorbar": {
             "outlinewidth": 0,
             "ticks": ""
            },
            "colorscale": [
             [
              0,
              "#0d0887"
             ],
             [
              0.1111111111111111,
              "#46039f"
             ],
             [
              0.2222222222222222,
              "#7201a8"
             ],
             [
              0.3333333333333333,
              "#9c179e"
             ],
             [
              0.4444444444444444,
              "#bd3786"
             ],
             [
              0.5555555555555556,
              "#d8576b"
             ],
             [
              0.6666666666666666,
              "#ed7953"
             ],
             [
              0.7777777777777778,
              "#fb9f3a"
             ],
             [
              0.8888888888888888,
              "#fdca26"
             ],
             [
              1,
              "#f0f921"
             ]
            ],
            "type": "surface"
           }
          ],
          "table": [
           {
            "cells": {
             "fill": {
              "color": "#EBF0F8"
             },
             "line": {
              "color": "white"
             }
            },
            "header": {
             "fill": {
              "color": "#C8D4E3"
             },
             "line": {
              "color": "white"
             }
            },
            "type": "table"
           }
          ]
         },
         "layout": {
          "annotationdefaults": {
           "arrowcolor": "#2a3f5f",
           "arrowhead": 0,
           "arrowwidth": 1
          },
          "autotypenumbers": "strict",
          "coloraxis": {
           "colorbar": {
            "outlinewidth": 0,
            "ticks": ""
           }
          },
          "colorscale": {
           "diverging": [
            [
             0,
             "#8e0152"
            ],
            [
             0.1,
             "#c51b7d"
            ],
            [
             0.2,
             "#de77ae"
            ],
            [
             0.3,
             "#f1b6da"
            ],
            [
             0.4,
             "#fde0ef"
            ],
            [
             0.5,
             "#f7f7f7"
            ],
            [
             0.6,
             "#e6f5d0"
            ],
            [
             0.7,
             "#b8e186"
            ],
            [
             0.8,
             "#7fbc41"
            ],
            [
             0.9,
             "#4d9221"
            ],
            [
             1,
             "#276419"
            ]
           ],
           "sequential": [
            [
             0,
             "#0d0887"
            ],
            [
             0.1111111111111111,
             "#46039f"
            ],
            [
             0.2222222222222222,
             "#7201a8"
            ],
            [
             0.3333333333333333,
             "#9c179e"
            ],
            [
             0.4444444444444444,
             "#bd3786"
            ],
            [
             0.5555555555555556,
             "#d8576b"
            ],
            [
             0.6666666666666666,
             "#ed7953"
            ],
            [
             0.7777777777777778,
             "#fb9f3a"
            ],
            [
             0.8888888888888888,
             "#fdca26"
            ],
            [
             1,
             "#f0f921"
            ]
           ],
           "sequentialminus": [
            [
             0,
             "#0d0887"
            ],
            [
             0.1111111111111111,
             "#46039f"
            ],
            [
             0.2222222222222222,
             "#7201a8"
            ],
            [
             0.3333333333333333,
             "#9c179e"
            ],
            [
             0.4444444444444444,
             "#bd3786"
            ],
            [
             0.5555555555555556,
             "#d8576b"
            ],
            [
             0.6666666666666666,
             "#ed7953"
            ],
            [
             0.7777777777777778,
             "#fb9f3a"
            ],
            [
             0.8888888888888888,
             "#fdca26"
            ],
            [
             1,
             "#f0f921"
            ]
           ]
          },
          "colorway": [
           "#636efa",
           "#EF553B",
           "#00cc96",
           "#ab63fa",
           "#FFA15A",
           "#19d3f3",
           "#FF6692",
           "#B6E880",
           "#FF97FF",
           "#FECB52"
          ],
          "font": {
           "color": "#2a3f5f"
          },
          "geo": {
           "bgcolor": "white",
           "lakecolor": "white",
           "landcolor": "#E5ECF6",
           "showlakes": true,
           "showland": true,
           "subunitcolor": "white"
          },
          "hoverlabel": {
           "align": "left"
          },
          "hovermode": "closest",
          "mapbox": {
           "style": "light"
          },
          "paper_bgcolor": "white",
          "plot_bgcolor": "#E5ECF6",
          "polar": {
           "angularaxis": {
            "gridcolor": "white",
            "linecolor": "white",
            "ticks": ""
           },
           "bgcolor": "#E5ECF6",
           "radialaxis": {
            "gridcolor": "white",
            "linecolor": "white",
            "ticks": ""
           }
          },
          "scene": {
           "xaxis": {
            "backgroundcolor": "#E5ECF6",
            "gridcolor": "white",
            "gridwidth": 2,
            "linecolor": "white",
            "showbackground": true,
            "ticks": "",
            "zerolinecolor": "white"
           },
           "yaxis": {
            "backgroundcolor": "#E5ECF6",
            "gridcolor": "white",
            "gridwidth": 2,
            "linecolor": "white",
            "showbackground": true,
            "ticks": "",
            "zerolinecolor": "white"
           },
           "zaxis": {
            "backgroundcolor": "#E5ECF6",
            "gridcolor": "white",
            "gridwidth": 2,
            "linecolor": "white",
            "showbackground": true,
            "ticks": "",
            "zerolinecolor": "white"
           }
          },
          "shapedefaults": {
           "line": {
            "color": "#2a3f5f"
           }
          },
          "ternary": {
           "aaxis": {
            "gridcolor": "white",
            "linecolor": "white",
            "ticks": ""
           },
           "baxis": {
            "gridcolor": "white",
            "linecolor": "white",
            "ticks": ""
           },
           "bgcolor": "#E5ECF6",
           "caxis": {
            "gridcolor": "white",
            "linecolor": "white",
            "ticks": ""
           }
          },
          "title": {
           "x": 0.05
          },
          "xaxis": {
           "automargin": true,
           "gridcolor": "white",
           "linecolor": "white",
           "ticks": "",
           "title": {
            "standoff": 15
           },
           "zerolinecolor": "white",
           "zerolinewidth": 2
          },
          "yaxis": {
           "automargin": true,
           "gridcolor": "white",
           "linecolor": "white",
           "ticks": "",
           "title": {
            "standoff": 15
           },
           "zerolinecolor": "white",
           "zerolinewidth": 2
          }
         }
        },
        "title": {
         "font": {
          "color": "black",
          "size": 26
         },
         "text": "Niveles de Estrés por Modalidad de Trabajo",
         "x": 0.5,
         "xanchor": "center"
        },
        "width": 1200,
        "xaxis": {
         "anchor": "y",
         "domain": [
          0,
          0.2888888888888889
         ]
        },
        "xaxis2": {
         "anchor": "y2",
         "domain": [
          0.35555555555555557,
          0.6444444444444445
         ]
        },
        "xaxis3": {
         "anchor": "y3",
         "domain": [
          0.7111111111111111,
          1
         ]
        },
        "yaxis": {
         "anchor": "x",
         "domain": [
          0,
          1
         ],
         "range": [
          0,
          350
         ],
         "tickfont": {
          "size": 14
         },
         "title": {
          "font": {
           "color": "black",
           "size": 18
          },
          "text": "Cantidad de Personas"
         }
        },
        "yaxis2": {
         "anchor": "x2",
         "domain": [
          0,
          1
         ],
         "range": [
          0,
          350
         ],
         "tickfont": {
          "size": 14
         },
         "title": {
          "font": {
           "color": "black",
           "size": 18
          },
          "text": "Cantidad de Personas"
         }
        },
        "yaxis3": {
         "anchor": "x3",
         "domain": [
          0,
          1
         ],
         "range": [
          0,
          350
         ],
         "tickfont": {
          "size": 14
         },
         "title": {
          "font": {
           "color": "black",
           "size": 18
          },
          "text": "Cantidad de Personas"
         }
        }
       }
      }
     },
     "metadata": {},
     "output_type": "display_data"
    }
   ],
   "source": [
    "niveles_estres = ['Bajo', 'Medio', 'Alto']\n",
    "colores = [\"#0051ff\", \"#b700ff\", \"#ff006f\"]\n",
    "\n",
    "fig = make_subplots(rows=1, cols=3, subplot_titles=[f\"Estrés {n}\" for n in niveles_estres])\n",
    "\n",
    "# Recorrer niveles y añadir barras en su respectivo subplot\n",
    "for i, nivel in enumerate(niveles_estres):\n",
    "    datos_nivel = tabla_estres[nivel]  # valores por modalidad\n",
    "    fig.add_trace(\n",
    "        go.Bar(\n",
    "            x=datos_nivel.index,         # modalidades\n",
    "            y=datos_nivel.values,        # cantidades\n",
    "            marker_color=colores[i],\n",
    "            text=datos_nivel.values,\n",
    "            textposition=\"outside\",\n",
    "        ),\n",
    "        row=1, col=i+1\n",
    "    )\n",
    "    \n",
    "    fig.update_yaxes(\n",
    "    title=dict(text=\"Cantidad de Personas\", font=dict(size=18, color=\"black\")),\n",
    "    tickfont=dict(size=14),\n",
    "    row=1, col=i+1\n",
    "    )\n",
    "\n",
    "for anno in fig['layout']['annotations']:\n",
    "    anno['font'] = dict(size=20, color=\"black\")\n",
    "\n",
    "fig.update_layout(\n",
    "    title=dict(\n",
    "        text=\"Niveles de Estrés por Modalidad de Trabajo\",\n",
    "        font=dict(size=26, color=\"black\"),\n",
    "        x=0.5, xanchor=\"center\"\n",
    "    ),\n",
    "    height=700,\n",
    "    width=1200,\n",
    "    showlegend=False,\n",
    "    font=dict(size=16, color=\"black\")\n",
    ")\n",
    "\n",
    "fig.update_yaxes(range=[0, 350])\n",
    "\n",
    "fig.show()\n"
   ]
  }
 ],
 "metadata": {
  "kernelspec": {
   "display_name": "Python 3",
   "language": "python",
   "name": "python3"
  },
  "language_info": {
   "codemirror_mode": {
    "name": "ipython",
    "version": 3
   },
   "file_extension": ".py",
   "mimetype": "text/x-python",
   "name": "python",
   "nbconvert_exporter": "python",
   "pygments_lexer": "ipython3",
   "version": "3.13.7"
  }
 },
 "nbformat": 4,
 "nbformat_minor": 5
}
