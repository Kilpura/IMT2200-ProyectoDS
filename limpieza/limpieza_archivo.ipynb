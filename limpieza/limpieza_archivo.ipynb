{
 "cells": [
  {
   "cell_type": "code",
   "execution_count": 21,
   "id": "fb265388",
   "metadata": {},
   "outputs": [],
   "source": [
    "import pandas as pd\n",
    "import numpy as np\n",
    "import matplotlib.pyplot as plt\n",
    "import os \n",
    "import seaborn as sns\n",
    "\n"
   ]
  },
  {
   "cell_type": "code",
   "execution_count": 29,
   "id": "db9365e5",
   "metadata": {},
   "outputs": [
    {
     "data": {
      "text/html": [
       "<div>\n",
       "<style scoped>\n",
       "    .dataframe tbody tr th:only-of-type {\n",
       "        vertical-align: middle;\n",
       "    }\n",
       "\n",
       "    .dataframe tbody tr th {\n",
       "        vertical-align: top;\n",
       "    }\n",
       "\n",
       "    .dataframe thead th {\n",
       "        text-align: right;\n",
       "    }\n",
       "</style>\n",
       "<table border=\"1\" class=\"dataframe\">\n",
       "  <thead>\n",
       "    <tr style=\"text-align: right;\">\n",
       "      <th></th>\n",
       "      <th>Employee_ID</th>\n",
       "      <th>Employment_Type</th>\n",
       "      <th>Hours_Worked_Per_Week</th>\n",
       "      <th>Productivity_Score</th>\n",
       "      <th>Well_Being_Score</th>\n",
       "    </tr>\n",
       "  </thead>\n",
       "  <tbody>\n",
       "    <tr>\n",
       "      <th>0</th>\n",
       "      <td>1</td>\n",
       "      <td>Remote</td>\n",
       "      <td>29</td>\n",
       "      <td>75</td>\n",
       "      <td>78</td>\n",
       "    </tr>\n",
       "    <tr>\n",
       "      <th>1</th>\n",
       "      <td>2</td>\n",
       "      <td>In-Office</td>\n",
       "      <td>45</td>\n",
       "      <td>49</td>\n",
       "      <td>47</td>\n",
       "    </tr>\n",
       "    <tr>\n",
       "      <th>2</th>\n",
       "      <td>3</td>\n",
       "      <td>Remote</td>\n",
       "      <td>34</td>\n",
       "      <td>74</td>\n",
       "      <td>89</td>\n",
       "    </tr>\n",
       "    <tr>\n",
       "      <th>3</th>\n",
       "      <td>4</td>\n",
       "      <td>Remote</td>\n",
       "      <td>25</td>\n",
       "      <td>81</td>\n",
       "      <td>84</td>\n",
       "    </tr>\n",
       "    <tr>\n",
       "      <th>4</th>\n",
       "      <td>5</td>\n",
       "      <td>Remote</td>\n",
       "      <td>50</td>\n",
       "      <td>70</td>\n",
       "      <td>74</td>\n",
       "    </tr>\n",
       "    <tr>\n",
       "      <th>...</th>\n",
       "      <td>...</td>\n",
       "      <td>...</td>\n",
       "      <td>...</td>\n",
       "      <td>...</td>\n",
       "      <td>...</td>\n",
       "    </tr>\n",
       "    <tr>\n",
       "      <th>995</th>\n",
       "      <td>996</td>\n",
       "      <td>Remote</td>\n",
       "      <td>33</td>\n",
       "      <td>88</td>\n",
       "      <td>82</td>\n",
       "    </tr>\n",
       "    <tr>\n",
       "      <th>996</th>\n",
       "      <td>997</td>\n",
       "      <td>Remote</td>\n",
       "      <td>33</td>\n",
       "      <td>88</td>\n",
       "      <td>73</td>\n",
       "    </tr>\n",
       "    <tr>\n",
       "      <th>997</th>\n",
       "      <td>998</td>\n",
       "      <td>In-Office</td>\n",
       "      <td>45</td>\n",
       "      <td>74</td>\n",
       "      <td>61</td>\n",
       "    </tr>\n",
       "    <tr>\n",
       "      <th>998</th>\n",
       "      <td>999</td>\n",
       "      <td>In-Office</td>\n",
       "      <td>57</td>\n",
       "      <td>50</td>\n",
       "      <td>52</td>\n",
       "    </tr>\n",
       "    <tr>\n",
       "      <th>999</th>\n",
       "      <td>1000</td>\n",
       "      <td>Remote</td>\n",
       "      <td>34</td>\n",
       "      <td>80</td>\n",
       "      <td>82</td>\n",
       "    </tr>\n",
       "  </tbody>\n",
       "</table>\n",
       "<p>1000 rows × 5 columns</p>\n",
       "</div>"
      ],
      "text/plain": [
       "     Employee_ID Employment_Type  Hours_Worked_Per_Week  Productivity_Score  \\\n",
       "0              1          Remote                     29                  75   \n",
       "1              2       In-Office                     45                  49   \n",
       "2              3          Remote                     34                  74   \n",
       "3              4          Remote                     25                  81   \n",
       "4              5          Remote                     50                  70   \n",
       "..           ...             ...                    ...                 ...   \n",
       "995          996          Remote                     33                  88   \n",
       "996          997          Remote                     33                  88   \n",
       "997          998       In-Office                     45                  74   \n",
       "998          999       In-Office                     57                  50   \n",
       "999         1000          Remote                     34                  80   \n",
       "\n",
       "     Well_Being_Score  \n",
       "0                  78  \n",
       "1                  47  \n",
       "2                  89  \n",
       "3                  84  \n",
       "4                  74  \n",
       "..                ...  \n",
       "995                82  \n",
       "996                73  \n",
       "997                61  \n",
       "998                52  \n",
       "999                82  \n",
       "\n",
       "[1000 rows x 5 columns]"
      ]
     },
     "execution_count": 29,
     "metadata": {},
     "output_type": "execute_result"
    }
   ],
   "source": [
    "#ruta\n",
    "ruta = os.path.join(\"..\", \"data\", \"remote_work_productivity.csv\")\n",
    "\n",
    "# cargar CSV\n",
    "df = pd.read_csv(ruta)\n",
    "\n",
    "# mostrar el data frame\n",
    "df\n"
   ]
  },
  {
   "cell_type": "code",
   "execution_count": 30,
   "id": "c4a7ffd9",
   "metadata": {},
   "outputs": [
    {
     "name": "stdout",
     "output_type": "stream",
     "text": [
      "<class 'pandas.core.frame.DataFrame'>\n",
      "RangeIndex: 1000 entries, 0 to 999\n",
      "Data columns (total 5 columns):\n",
      " #   Column                 Non-Null Count  Dtype \n",
      "---  ------                 --------------  ----- \n",
      " 0   Employee_ID            1000 non-null   int64 \n",
      " 1   Employment_Type        1000 non-null   object\n",
      " 2   Hours_Worked_Per_Week  1000 non-null   int64 \n",
      " 3   Productivity_Score     1000 non-null   int64 \n",
      " 4   Well_Being_Score       1000 non-null   int64 \n",
      "dtypes: int64(4), object(1)\n",
      "memory usage: 39.2+ KB\n"
     ]
    }
   ],
   "source": [
    "df.info()"
   ]
  },
  {
   "cell_type": "code",
   "execution_count": 31,
   "id": "6f442c02",
   "metadata": {},
   "outputs": [
    {
     "data": {
      "text/html": [
       "<div>\n",
       "<style scoped>\n",
       "    .dataframe tbody tr th:only-of-type {\n",
       "        vertical-align: middle;\n",
       "    }\n",
       "\n",
       "    .dataframe tbody tr th {\n",
       "        vertical-align: top;\n",
       "    }\n",
       "\n",
       "    .dataframe thead th {\n",
       "        text-align: right;\n",
       "    }\n",
       "</style>\n",
       "<table border=\"1\" class=\"dataframe\">\n",
       "  <thead>\n",
       "    <tr style=\"text-align: right;\">\n",
       "      <th></th>\n",
       "      <th>Employee_ID</th>\n",
       "      <th>Hours_Worked_Per_Week</th>\n",
       "      <th>Productivity_Score</th>\n",
       "      <th>Well_Being_Score</th>\n",
       "    </tr>\n",
       "  </thead>\n",
       "  <tbody>\n",
       "    <tr>\n",
       "      <th>count</th>\n",
       "      <td>1000.000000</td>\n",
       "      <td>1000.000000</td>\n",
       "      <td>1000.000000</td>\n",
       "      <td>1000.000000</td>\n",
       "    </tr>\n",
       "    <tr>\n",
       "      <th>mean</th>\n",
       "      <td>500.500000</td>\n",
       "      <td>39.720000</td>\n",
       "      <td>68.602000</td>\n",
       "      <td>63.975000</td>\n",
       "    </tr>\n",
       "    <tr>\n",
       "      <th>std</th>\n",
       "      <td>288.819436</td>\n",
       "      <td>8.042779</td>\n",
       "      <td>12.235494</td>\n",
       "      <td>13.870572</td>\n",
       "    </tr>\n",
       "    <tr>\n",
       "      <th>min</th>\n",
       "      <td>1.000000</td>\n",
       "      <td>16.000000</td>\n",
       "      <td>33.000000</td>\n",
       "      <td>14.000000</td>\n",
       "    </tr>\n",
       "    <tr>\n",
       "      <th>25%</th>\n",
       "      <td>250.750000</td>\n",
       "      <td>34.750000</td>\n",
       "      <td>60.000000</td>\n",
       "      <td>56.000000</td>\n",
       "    </tr>\n",
       "    <tr>\n",
       "      <th>50%</th>\n",
       "      <td>500.500000</td>\n",
       "      <td>40.000000</td>\n",
       "      <td>68.000000</td>\n",
       "      <td>65.000000</td>\n",
       "    </tr>\n",
       "    <tr>\n",
       "      <th>75%</th>\n",
       "      <td>750.250000</td>\n",
       "      <td>45.000000</td>\n",
       "      <td>76.000000</td>\n",
       "      <td>73.000000</td>\n",
       "    </tr>\n",
       "    <tr>\n",
       "      <th>max</th>\n",
       "      <td>1000.000000</td>\n",
       "      <td>64.000000</td>\n",
       "      <td>112.000000</td>\n",
       "      <td>104.000000</td>\n",
       "    </tr>\n",
       "  </tbody>\n",
       "</table>\n",
       "</div>"
      ],
      "text/plain": [
       "       Employee_ID  Hours_Worked_Per_Week  Productivity_Score  \\\n",
       "count  1000.000000            1000.000000         1000.000000   \n",
       "mean    500.500000              39.720000           68.602000   \n",
       "std     288.819436               8.042779           12.235494   \n",
       "min       1.000000              16.000000           33.000000   \n",
       "25%     250.750000              34.750000           60.000000   \n",
       "50%     500.500000              40.000000           68.000000   \n",
       "75%     750.250000              45.000000           76.000000   \n",
       "max    1000.000000              64.000000          112.000000   \n",
       "\n",
       "       Well_Being_Score  \n",
       "count       1000.000000  \n",
       "mean          63.975000  \n",
       "std           13.870572  \n",
       "min           14.000000  \n",
       "25%           56.000000  \n",
       "50%           65.000000  \n",
       "75%           73.000000  \n",
       "max          104.000000  "
      ]
     },
     "metadata": {},
     "output_type": "display_data"
    }
   ],
   "source": [
    "display(df.describe())"
   ]
  },
  {
   "cell_type": "code",
   "execution_count": 32,
   "id": "41a69cce",
   "metadata": {},
   "outputs": [
    {
     "data": {
      "text/html": [
       "<div>\n",
       "<style scoped>\n",
       "    .dataframe tbody tr th:only-of-type {\n",
       "        vertical-align: middle;\n",
       "    }\n",
       "\n",
       "    .dataframe tbody tr th {\n",
       "        vertical-align: top;\n",
       "    }\n",
       "\n",
       "    .dataframe thead th {\n",
       "        text-align: right;\n",
       "    }\n",
       "</style>\n",
       "<table border=\"1\" class=\"dataframe\">\n",
       "  <thead>\n",
       "    <tr style=\"text-align: right;\">\n",
       "      <th></th>\n",
       "      <th>ID trabajador</th>\n",
       "      <th>Modalidad</th>\n",
       "      <th>Horas trabajadas por semana</th>\n",
       "      <th>Productividad</th>\n",
       "      <th>Bienestar</th>\n",
       "    </tr>\n",
       "  </thead>\n",
       "  <tbody>\n",
       "    <tr>\n",
       "      <th>0</th>\n",
       "      <td>1</td>\n",
       "      <td>Remote</td>\n",
       "      <td>29</td>\n",
       "      <td>75</td>\n",
       "      <td>78</td>\n",
       "    </tr>\n",
       "    <tr>\n",
       "      <th>1</th>\n",
       "      <td>2</td>\n",
       "      <td>In-Office</td>\n",
       "      <td>45</td>\n",
       "      <td>49</td>\n",
       "      <td>47</td>\n",
       "    </tr>\n",
       "    <tr>\n",
       "      <th>2</th>\n",
       "      <td>3</td>\n",
       "      <td>Remote</td>\n",
       "      <td>34</td>\n",
       "      <td>74</td>\n",
       "      <td>89</td>\n",
       "    </tr>\n",
       "    <tr>\n",
       "      <th>3</th>\n",
       "      <td>4</td>\n",
       "      <td>Remote</td>\n",
       "      <td>25</td>\n",
       "      <td>81</td>\n",
       "      <td>84</td>\n",
       "    </tr>\n",
       "    <tr>\n",
       "      <th>4</th>\n",
       "      <td>5</td>\n",
       "      <td>Remote</td>\n",
       "      <td>50</td>\n",
       "      <td>70</td>\n",
       "      <td>74</td>\n",
       "    </tr>\n",
       "  </tbody>\n",
       "</table>\n",
       "</div>"
      ],
      "text/plain": [
       "   ID trabajador  Modalidad  Horas trabajadas por semana  Productividad  \\\n",
       "0              1     Remote                           29             75   \n",
       "1              2  In-Office                           45             49   \n",
       "2              3     Remote                           34             74   \n",
       "3              4     Remote                           25             81   \n",
       "4              5     Remote                           50             70   \n",
       "\n",
       "   Bienestar  \n",
       "0         78  \n",
       "1         47  \n",
       "2         89  \n",
       "3         84  \n",
       "4         74  "
      ]
     },
     "execution_count": 32,
     "metadata": {},
     "output_type": "execute_result"
    }
   ],
   "source": [
    "#renombramos las columnas\n",
    "df = df.rename(columns={\n",
    "    \"Employee_ID\": \"ID trabajador\",\n",
    "    \"Employment_Type\": \"Modalidad\",      # remoto o presencial\n",
    "    \"Hours_Worked_Per_Week\": \"Horas trabajadas por semana\",   \n",
    "    \"Productivity_Score\": \"Productividad\",      # remoto o presencial\n",
    "    \"Well_Being_Score\": \"Bienestar\",     # remoto o presencial,\n",
    "})\n",
    "df.head()"
   ]
  },
  {
   "cell_type": "code",
   "execution_count": 33,
   "id": "e5d70f6f",
   "metadata": {},
   "outputs": [
    {
     "name": "stdout",
     "output_type": "stream",
     "text": [
      "Duplicados: 0\n",
      "Valores nulos por columna:\n",
      "ID trabajador                  0\n",
      "Modalidad                      0\n",
      "Horas trabajadas por semana    0\n",
      "Productividad                  0\n",
      "Bienestar                      0\n",
      "dtype: int64\n"
     ]
    }
   ],
   "source": [
    "# REVISAMOS SI HAY DUPLICADOS\n",
    "print(\"Duplicados:\", df.duplicated().sum())\n",
    "\n",
    "#ELIMINAR DUPLICADOS SI HAY\n",
    "df = df.drop_duplicates()\n",
    "\n",
    "# REVISAMOS SI HAY VALORES NULOS\n",
    "print(\"Valores nulos por columna:\")\n",
    "print(df.isnull().sum())\n"
   ]
  },
  {
   "cell_type": "code",
   "execution_count": 34,
   "id": "1ba4241a",
   "metadata": {},
   "outputs": [
    {
     "name": "stdout",
     "output_type": "stream",
     "text": [
      "33 112\n",
      "14 104\n"
     ]
    },
    {
     "data": {
      "text/html": [
       "<div>\n",
       "<style scoped>\n",
       "    .dataframe tbody tr th:only-of-type {\n",
       "        vertical-align: middle;\n",
       "    }\n",
       "\n",
       "    .dataframe tbody tr th {\n",
       "        vertical-align: top;\n",
       "    }\n",
       "\n",
       "    .dataframe thead th {\n",
       "        text-align: right;\n",
       "    }\n",
       "</style>\n",
       "<table border=\"1\" class=\"dataframe\">\n",
       "  <thead>\n",
       "    <tr style=\"text-align: right;\">\n",
       "      <th></th>\n",
       "      <th>Productividad</th>\n",
       "      <th>Bienestar</th>\n",
       "    </tr>\n",
       "  </thead>\n",
       "  <tbody>\n",
       "    <tr>\n",
       "      <th>count</th>\n",
       "      <td>1000.000000</td>\n",
       "      <td>1000.000000</td>\n",
       "    </tr>\n",
       "    <tr>\n",
       "      <th>mean</th>\n",
       "      <td>68.602000</td>\n",
       "      <td>63.975000</td>\n",
       "    </tr>\n",
       "    <tr>\n",
       "      <th>std</th>\n",
       "      <td>12.235494</td>\n",
       "      <td>13.870572</td>\n",
       "    </tr>\n",
       "    <tr>\n",
       "      <th>min</th>\n",
       "      <td>33.000000</td>\n",
       "      <td>14.000000</td>\n",
       "    </tr>\n",
       "    <tr>\n",
       "      <th>25%</th>\n",
       "      <td>60.000000</td>\n",
       "      <td>56.000000</td>\n",
       "    </tr>\n",
       "    <tr>\n",
       "      <th>50%</th>\n",
       "      <td>68.000000</td>\n",
       "      <td>65.000000</td>\n",
       "    </tr>\n",
       "    <tr>\n",
       "      <th>75%</th>\n",
       "      <td>76.000000</td>\n",
       "      <td>73.000000</td>\n",
       "    </tr>\n",
       "    <tr>\n",
       "      <th>max</th>\n",
       "      <td>112.000000</td>\n",
       "      <td>104.000000</td>\n",
       "    </tr>\n",
       "  </tbody>\n",
       "</table>\n",
       "</div>"
      ],
      "text/plain": [
       "       Productividad    Bienestar\n",
       "count    1000.000000  1000.000000\n",
       "mean       68.602000    63.975000\n",
       "std        12.235494    13.870572\n",
       "min        33.000000    14.000000\n",
       "25%        60.000000    56.000000\n",
       "50%        68.000000    65.000000\n",
       "75%        76.000000    73.000000\n",
       "max       112.000000   104.000000"
      ]
     },
     "execution_count": 34,
     "metadata": {},
     "output_type": "execute_result"
    }
   ],
   "source": [
    "#revisamos los rangos de las columnas de productividad y bienestar\n",
    "print(df[\"Productividad\"].min(), df[\"Productividad\"].max())\n",
    "print(df[\"Bienestar\"].min(), df[\"Bienestar\"].max())\n",
    "df[[\"Productividad\", \"Bienestar\"]].describe()\n",
    "\n",
    "#asi sabemos el rango de la escala\n"
   ]
  },
  {
   "cell_type": "code",
   "execution_count": 35,
   "id": "d80174c2",
   "metadata": {},
   "outputs": [],
   "source": [
    "#dejemos la escala de 1 a 100, eliminando valores fuera de rango \n",
    "df = df[(df[\"Productividad\"] >= 1) & (df[\"Productividad\"] <= 100)]\n",
    "df = df[(df[\"Bienestar\"] >= 1) & (df[\"Bienestar\"] <= 100)]"
   ]
  },
  {
   "cell_type": "code",
   "execution_count": 38,
   "id": "5cd028c7",
   "metadata": {},
   "outputs": [
    {
     "data": {
      "text/plain": [
       "count           985\n",
       "unique            2\n",
       "top       In-Office\n",
       "freq            509\n",
       "Name: Modalidad, dtype: object"
      ]
     },
     "execution_count": 38,
     "metadata": {},
     "output_type": "execute_result"
    }
   ],
   "source": [
    "df[\"Modalidad\"].describe()\n",
    "#NOTAMOS QUE solo tenemos remoto y presencial, no hay hibrido "
   ]
  },
  {
   "cell_type": "code",
   "execution_count": null,
   "id": "fc5ade47",
   "metadata": {},
   "outputs": [
    {
     "name": "stdout",
     "output_type": "stream",
     "text": [
      "   ID trabajador Modalidad  Horas trabajadas por semana  Productividad  \\\n",
      "0              1    Remote                           29             75   \n",
      "2              3    Remote                           34             74   \n",
      "3              4    Remote                           25             81   \n",
      "4              5    Remote                           50             70   \n",
      "6              7    Remote                           38             44   \n",
      "\n",
      "   Bienestar  \n",
      "0         78  \n",
      "2         89  \n",
      "3         84  \n",
      "4         74  \n",
      "6         76  \n",
      "    ID trabajador  Modalidad  Horas trabajadas por semana  Productividad  \\\n",
      "1               2  In-Office                           45             49   \n",
      "5               6  In-Office                           48             66   \n",
      "9              10  In-Office                           40             59   \n",
      "14             15  In-Office                           47             76   \n",
      "16             17  In-Office                           58             73   \n",
      "\n",
      "    Bienestar  \n",
      "1          47  \n",
      "5          58  \n",
      "9          57  \n",
      "14         66  \n",
      "16         68  \n"
     ]
    }
   ],
   "source": [
    "#creamos dataframes seprados para cada modalidad\n",
    "df_remoto = df[df[\"Modalidad\"] == \"Remote\"]\n",
    "df_presencial = df[df[\"Modalidad\"] == \"In-Office\"]\n"
   ]
  },
  {
   "cell_type": "code",
   "execution_count": 42,
   "id": "32d57477",
   "metadata": {},
   "outputs": [
    {
     "data": {
      "image/png": "[encoded data removed]",
      "text/plain": [
       "<Figure size 640x480 with 1 Axes>"
      ]
     },
     "metadata": {},
     "output_type": "display_data"
    },
    {
     "data": {
      "image/png": "[encoded data removed]",
      "text/plain": [
       "<Figure size 640x480 with 1 Axes>"
      ]
     },
     "metadata": {},
     "output_type": "display_data"
    }
   ],
   "source": [
    "\n",
    "sns.boxplot(x=\"Modalidad\", y=\"Productividad\", data=df)\n",
    "plt.title(\"Comparación de Productividad\")\n",
    "plt.show()\n",
    "\n",
    "sns.boxplot(x=\"Modalidad\", y=\"Bienestar\", data=df)\n",
    "plt.title(\"Comparación de Bienestar\")\n",
    "plt.show()\n"
   ]
  },
  {
   "cell_type": "code",
   "execution_count": 45,
   "id": "1c954958",
   "metadata": {},
   "outputs": [
    {
     "name": "stdout",
     "output_type": "stream",
     "text": [
      "           Horas trabajadas por semana  Bienestar  Productividad\n",
      "Modalidad                                                       \n",
      "In-Office                    44.430255  58.583497      63.789784\n",
      "Remote                       34.827731  69.577731      72.707983\n"
     ]
    }
   ],
   "source": [
    "#calculemos los promedios de horas de trabajo, productividad y bienestar por modalidad\n",
    "promedios = df.groupby(\"Modalidad\")[[\"Horas trabajadas por semana\", \"Bienestar\",\"Productividad\"]].mean()\n",
    "print(promedios)\n",
    "\n"
   ]
  },
  {
   "cell_type": "code",
   "execution_count": 46,
   "id": "9c6f517c",
   "metadata": {},
   "outputs": [
    {
     "data": {
      "image/png": "[encoded data removed]",
      "text/plain": [
       "<Figure size 1000x600 with 1 Axes>"
      ]
     },
     "metadata": {},
     "output_type": "display_data"
    }
   ],
   "source": [
    "#creamos graficos para comparar mejor \n",
    "promedios.plot(kind='bar', figsize=(10, 6))\n",
    "plt.title('Promedios por Modalidad de Trabajo')\n",
    "plt.ylabel('Promedio')\n",
    "plt.xticks(rotation=0)\n",
    "plt.legend(title='Métricas')\n",
    "plt.show()"
   ]
  },
  {
   "cell_type": "code",
   "execution_count": null,
   "id": "5bbf3d60",
   "metadata": {},
   "outputs": [],
   "source": [
    "#guardemos el dataframe limpio \n",
    "ruta_salida = os.path.join(\"..\", \"data\", \"remote_work_productivity_cleaned.csv\")\n",
    "df.to_csv(ruta_salida, index=False)\n",
    "\n",
    "\n"
   ]
  }
 ],
 "metadata": {
  "kernelspec": {
   "display_name": "Python 3",
   "language": "python",
   "name": "python3"
  },
  "language_info": {
   "codemirror_mode": {
    "name": "ipython",
    "version": 3
   },
   "file_extension": ".py",
   "mimetype": "text/x-python",
   "name": "python",
   "nbconvert_exporter": "python",
   "pygments_lexer": "ipython3",
   "version": "3.12.5"
  }
 },
 "nbformat": 4,
 "nbformat_minor": 5
}
