{
 "cells": [
  {
   "cell_type": "markdown",
   "id": "d4f979a6",
   "metadata": {},
   "source": []
  },
  {
   "cell_type": "markdown",
   "id": "0e256214",
   "metadata": {},
   "source": []
  },
  {
   "cell_type": "markdown",
   "id": "6d4c388c",
   "metadata": {},
   "source": []
  },
  {
   "cell_type": "markdown",
   "id": "b80400d8",
   "metadata": {},
   "source": [
    "# 3. Datos: Recolección, Preparación y Transformación\n",
    "\n",
    "## 3.1 Origen y Estructura de los Datos (Subtítulo)"
   ]
  },
  {
   "cell_type": "markdown",
   "id": "92b694e5",
   "metadata": {},
   "source": [
    "Los datos utilizados provienen de la plataforma Kaggle y se centran en el impacto del teletrabajo en la salud mental y la productividad. Se seleccionaron cuatro datasets principales de los cinco disponibles, ya que uno de ellos (\"remote_worker_productivity_1000.csv\") fue excluido porque no compara datos entre precencial y remoto entonces no se puede sacar concluciones de este"
   ]
  },
  {
   "cell_type": "markdown",
   "id": "dd913bed",
   "metadata": {},
   "source": [
    "| Archivo | Fuente (Kaggle URL) |\n",
    "| :--- | :--- |\n",
    "| **`Mental Health Of Remote Workers.csv`** |[https://www.kaggle.com/datasets/abhishekjaiswal4896/mental-health-of-remote-workers](https://www.kaggle.com/datasets/abhishekjaiswal4896/mental-health-of-remote-workers) |\n",
    "| **`Impact_of_Remote_Work_on_Mental_Health.csv`** | [https://www.kaggle.com/datasets/waqi786/remote-work-and-mental-health](https://www.kaggle.com/datasets/waqi786/remote-work-and-mental-health) |\n",
    "| **`remote_work_productivity.csv`** | [https://www.kaggle.com/datasets/mrsimple07/remote-work-productivity](https://www.kaggle.com/datasets/mrsimple07/remote-work-productivity) |\n",
    "| **`remote_worker_productivity_1000.csv`** |[https://www.kaggle.com/datasets/ziya07/remote-worker-productivity-dataset](https://www.kaggle.com/datasets/ziya07/remote-worker-productivity-dataset) |\n",
    "| **`Remote Work Of Health Impact Survey June 2025.csv`** |[https://www.kaggle.com/datasets/kshitijsaini121/remote-work-of-health-impact-survey-june-2025/data](https://www.kaggle.com/datasets/kshitijsaini121/remote-work-of-health-impact-survey-june-2025/data) |"
   ]
  },
  {
   "cell_type": "code",
   "execution_count": 49,
   "id": "0ed4c806",
   "metadata": {},
   "outputs": [],
   "source": [
    "import pandas as pd\n",
    "import os\n",
    "import matplotlib.pyplot as plt\n",
    "import seaborn as sns\n",
    "import numpy as np\n",
    "import plotly.express as px\n",
    "import plotly.graph_objects as go\n",
    "from plotly.subplots import make_subplots"
   ]
  },
  {
   "cell_type": "markdown",
   "id": "744568ca",
   "metadata": {},
   "source": [
    "Lectura y creacion de dataframes"
   ]
  },
  {
   "cell_type": "code",
   "execution_count": 50,
   "id": "0aa090b5",
   "metadata": {},
   "outputs": [],
   "source": [
    "#Lectura y crecion de df\n",
    "path = os.path.join('..', 'data', 'mental_health_remote_workers.csv')\n",
    "df_mental = pd.read_csv(path)\n",
    "\n",
    "path = os.path.join('..', 'data', 'Impact_of_Remote_Work_on_Mental_Health.csv')\n",
    "df_impact = pd.read_csv(path)\n",
    "\n",
    "ruta = os.path.join(\"..\", \"data\", \"Remote Work Of Health Impact Survey June 2025.csv\")\n",
    "df_survey = pd.read_csv(ruta, delimiter = \",\")\n",
    "\n",
    "ruta = os.path.join(\"..\", \"data\", \"remote_work_productivity.csv\")\n",
    "df_productivity = pd.read_csv(ruta)\n"
   ]
  },
  {
   "cell_type": "markdown",
   "id": "7749803a",
   "metadata": {},
   "source": [
    "Cambio de nombre de columnas a español"
   ]
  },
  {
   "cell_type": "code",
   "execution_count": 51,
   "id": "f6453396",
   "metadata": {},
   "outputs": [],
   "source": [
    "columna_survey = {\n",
    "    \"Survey_Date\": \"Fecha_encuesta\",\n",
    "    \"Age\": \"Edad\",\n",
    "    \"Gender\": \"Genero\",\n",
    "    \"Region\": \"Region\",\n",
    "    \"Industry\": \"Industria\",\n",
    "    \"Job_Role\": \"Cargo\",\n",
    "    \"Work_Arrangement\": \"Ubicacion_de_Trabajo\",\n",
    "    \"Hours_Per_Week\": \"Horas_Trabajadas_Por_Semana\",\n",
    "    \"Mental_Health_Status\": \"Condicion_de_Salud_Mental\",\n",
    "    \"Burnout_Level\": \"Nivel_de_Estres\",\n",
    "    \"Work_Life_Balance_Score\": \"Calificacion_de_Equilibrio_Trabajo_Vida\",\n",
    "    \"Physical_Health_Issues\": \"Problemas_salud_fisica\",\n",
    "    \"Social_Isolation_Score\": \"Calificacion_de_Aislamiento_Social\",\n",
    "    \"Salary_Range\": \"Rango_salarial\",\n",
    "}\n",
    "\n",
    "columnas_impact = {\n",
    "    'Employee_ID': 'ID_Empleado',\n",
    "    'Age': 'Edad',\n",
    "    'Gender': 'Genero',\n",
    "    'Job_Role': 'Rol_de_Trabajo',\n",
    "    'Industry': 'Industria',\n",
    "    'Years_of_Experience': 'Años_de_Experiencia',\n",
    "    'Work_Location': 'Ubicacion_de_Trabajo',\n",
    "    'Hours_Worked_Per_Week': 'Horas_Trabajadas_Por_Semana',\n",
    "    'Number_of_Virtual_Meetings': 'Numero_de_Reuniones_Virtuales',\n",
    "    'Work_Life_Balance_Rating': 'Calificacion_de_Equilibrio_Trabajo_Vida',\n",
    "    'Stress_Level': 'Nivel_de_Estres',\n",
    "    'Mental_Health_Condition': 'Condicion_de_Salud_Mental',\n",
    "    'Access_to_Mental_Health_Resources': 'Acceso_a_Recursos_de_Salud_Mental',\n",
    "    'Productivity_Change': 'Cambio_de_Productividad',\n",
    "    'Social_Isolation_Rating': 'Calificacion_de_Aislamiento_Social',\n",
    "    'Satisfaction_with_Remote_Work': 'Satisfaccion_con_Trabajo_Remoto',\n",
    "    'Company_Support_for_Remote_Work': 'Apoyo_de_la_Empresa_para_Trabajo_Remoto',\n",
    "    'Physical_Activity': 'Actividad_Fisica',\n",
    "    'Sleep_Quality': 'Calidad_del_Sueño',\n",
    "    'Region': 'Region'\n",
    "}\n",
    "\n",
    "columnas_mental = {\n",
    "    'Employee_ID': 'ID_Empleado',\n",
    "    'Name': 'Nombre',\n",
    "    'Age': 'Edad',\n",
    "    'Gender': 'Genero',\n",
    "    'Country': 'Pais',\n",
    "    'Job_Role': 'Rol_de_Trabajo',\n",
    "    'Experience_Years': 'Años_de_Experiencia',\n",
    "    'Work_Mode': 'Ubicacion_de_Trabajo',\n",
    "    'Hours_Worked_Per_Week': 'Horas_Trabajadas_Por_Semana',\n",
    "    'Productivity_Score': 'Puntaje_de_Productividad',\n",
    "    'Mental_Health_Status': 'Estado_de_Salud_Mental',\n",
    "    'Burnout_Score': 'Puntaje_de_Agobio',\n",
    "    'Sleep_Hours_Per_Day': 'Horas_de_Sueño_Por_Dia',\n",
    "    'Exercise_Frequency': 'Frecuencia_de_Ejercicio',\n",
    "    'Work_Life_Balance_Rating': 'Calificacion_de_Equilibrio_Trabajo_Vida',\n",
    "    'Has_Access_To_Therapist': 'Acceso_a_Terapeuta',\n",
    "    'Willing_To_Return_Onsite': 'Disposicion_a_Regresar_Presencialmente',\n",
    "    'Remote_Setup_Satisfaction': 'Satisfaccion_con_Configuracion_Remota',\n",
    "    'Internet_Issues_Frequency': 'Frecuencia_de_Problemas_de_Internet',\n",
    "    'Team_Communication_Effectiveness': 'Eficacia_en_Comunicacion_del_Equipo'\n",
    "}\n",
    "\n",
    "df_productivity = df_productivity.rename(columns={\n",
    "    \"Employee_ID\": \"ID trabajador\",\n",
    "    \"Employment_Type\": \"Ubicacion_de_Trabajo\",\n",
    "    \"Hours_Worked_Per_Week\": \"Horas_Trabajadas_Por_Semana\",   \n",
    "    \"Productivity_Score\": \"Productividad\",\n",
    "    \"Well_Being_Score\": \"Bienestar\",\n",
    "})\n",
    "\n",
    "df_mental.rename(columns=columnas_mental, inplace=True)\n",
    "df_survey = df_survey.rename(columns={k: v for k, v in columna_survey.items() if k in df_survey.columns})\n",
    "df_impact.rename(columns=columnas_impact, inplace=True)"
   ]
  },
  {
   "cell_type": "markdown",
   "id": "8747234a",
   "metadata": {},
   "source": [
    "Eliminacion de columnas"
   ]
  },
  {
   "cell_type": "code",
   "execution_count": null,
   "id": "000e0068",
   "metadata": {},
   "outputs": [],
   "source": [
    "#### survey\n",
    "\n",
    "df_survey.drop(['Fecha_encuesta','Edad','Industria' , 'Cargo' , 'Genero','Region', \"Problemas_salud_fisica\", \"Rango_salarial\"], axis=1, inplace=True)\n",
    "#eliminamos la fecha ya que no es importante ante la comparacion de trabajo remoto y precencial encuanto a desempeño y salud mental, al igual que las otras columnas\n",
    "\n"
   ]
  },
  {
   "cell_type": "code",
   "execution_count": null,
   "id": "44d8169c",
   "metadata": {},
   "outputs": [],
   "source": [
    "#### mental\n",
    "columnas_a_eliminar = [\n",
    "    'Pais',\n",
    "    'Edad',\n",
    "    'Genero',\n",
    "    'Frecuencia_de_Problemas_de_Internet',\n",
    "    'Eficacia_en_Comunicacion_del_Equipo',\n",
    "    'Rol_de_Trabajo',\n",
    "    'Frecuencia_de_Ejercicio',\n",
    "    'Años_de_Experiencia',\n",
    "    'Acceso_a_Terapeuta',\t\n",
    "    'Disposicion_a_Regresar_Presencialmente',\n",
    "    'Satisfaccion_con_Configuracion_Remota'\n",
    "]\n",
    "df_mental = df_mental.drop(columns=columnas_a_eliminar)\n"
   ]
  },
  {
   "cell_type": "code",
   "execution_count": null,
   "id": "3f8ff23b",
   "metadata": {},
   "outputs": [],
   "source": [
    "#### impact\n",
    "df_impact.drop(['ID_Empleado', 'Genero', 'Industria'], axis=1, inplace=True)\n",
    "df_impact.drop_duplicates(inplace=True)"
   ]
  },
  {
   "cell_type": "markdown",
   "id": "c43cb1f6",
   "metadata": {},
   "source": [
    "revision de columnas"
   ]
  },
  {
   "cell_type": "code",
   "execution_count": 58,
   "id": "fa243fd9",
   "metadata": {},
   "outputs": [
    {
     "name": "stdout",
     "output_type": "stream",
     "text": [
      "Duplicados: 0\n",
      "Valores nulos por columna:\n",
      "ID trabajador                  0\n",
      "Ubicacion_de_Trabajo           0\n",
      "Horas_Trabajadas_Por_Semana    0\n",
      "Productividad                  0\n",
      "Bienestar                      0\n",
      "dtype: int64\n"
     ]
    }
   ],
   "source": [
    "# REVISAMOS SI HAY DUPLICADOS\n",
    "print(\"Duplicados:\", df_productivity.duplicated().sum())\n",
    "\n",
    "#ELIMINAR DUPLICADOS SI HAY\n",
    "df_productivity = df_productivity.drop_duplicates()\n",
    "\n",
    "# REVISAMOS SI HAY VALORES NULOS\n",
    "print(\"Valores nulos por columna:\")\n",
    "print(df_productivity.isnull().sum())\n"
   ]
  },
  {
   "cell_type": "code",
   "execution_count": 59,
   "id": "72941c2f",
   "metadata": {},
   "outputs": [
    {
     "name": "stdout",
     "output_type": "stream",
     "text": [
      "Duplicados: 0\n",
      "Valores nulos por columna:\n",
      "ID_Empleado                                0\n",
      "Nombre                                     0\n",
      "Ubicacion_de_Trabajo                       0\n",
      "Horas_Trabajadas_Por_Semana                0\n",
      "Puntaje_de_Productividad                   0\n",
      "Estado_de_Salud_Mental                     0\n",
      "Puntaje_de_Agobio                          0\n",
      "Horas_de_Sueño_Por_Dia                     0\n",
      "Calificacion_de_Equilibrio_Trabajo_Vida    0\n",
      "dtype: int64\n"
     ]
    }
   ],
   "source": [
    "print(\"Duplicados:\", df_mental.duplicated().sum())\n",
    "\n",
    "#ELIMINAR DUPLICADOS SI HAY\n",
    "df_mental = df_mental.drop_duplicates()\n",
    "\n",
    "# REVISAMOS SI HAY VALORES NULOS\n",
    "print(\"Valores nulos por columna:\")\n",
    "print(df_mental.isnull().sum())"
   ]
  },
  {
   "cell_type": "code",
   "execution_count": null,
   "id": "7ea3774f",
   "metadata": {},
   "outputs": [
    {
     "name": "stdout",
     "output_type": "stream",
     "text": [
      "Duplicados: 214\n",
      "Valores nulos por columna:\n",
      "Ubicacion_de_Trabajo                         0\n",
      "Horas_Trabajadas_Por_Semana                  0\n",
      "Condicion_de_Salud_Mental                  707\n",
      "Nivel_de_Estres                              0\n",
      "Calificacion_de_Equilibrio_Trabajo_Vida      0\n",
      "Calificacion_de_Aislamiento_Social           0\n",
      "dtype: int64\n"
     ]
    }
   ],
   "source": [
    "print(\"Duplicados:\", df_survey.duplicated().sum())\n",
    "\n",
    "#ELIMINAR DUPLICADOS SI HAY\n",
    "#df_survey = df_survey.drop_duplicates()\n",
    "\n",
    "# REVISAMOS SI HAY VALORES NULOS\n",
    "print(\"Valores nulos por columna:\")\n",
    "print(df_survey.isnull().sum())"
   ]
  },
  {
   "cell_type": "code",
   "execution_count": 61,
   "id": "ead07d51",
   "metadata": {},
   "outputs": [
    {
     "data": {
      "text/html": [
       "<div>\n",
       "<style scoped>\n",
       "    .dataframe tbody tr th:only-of-type {\n",
       "        vertical-align: middle;\n",
       "    }\n",
       "\n",
       "    .dataframe tbody tr th {\n",
       "        vertical-align: top;\n",
       "    }\n",
       "\n",
       "    .dataframe thead th {\n",
       "        text-align: right;\n",
       "    }\n",
       "</style>\n",
       "<table border=\"1\" class=\"dataframe\">\n",
       "  <thead>\n",
       "    <tr style=\"text-align: right;\">\n",
       "      <th></th>\n",
       "      <th>Ubicacion_de_Trabajo</th>\n",
       "      <th>Horas_Trabajadas_Por_Semana</th>\n",
       "      <th>Condicion_de_Salud_Mental</th>\n",
       "      <th>Nivel_de_Estres</th>\n",
       "      <th>Calificacion_de_Equilibrio_Trabajo_Vida</th>\n",
       "      <th>Calificacion_de_Aislamiento_Social</th>\n",
       "    </tr>\n",
       "  </thead>\n",
       "  <tbody>\n",
       "  </tbody>\n",
       "</table>\n",
       "</div>"
      ],
      "text/plain": [
       "Empty DataFrame\n",
       "Columns: [Ubicacion_de_Trabajo, Horas_Trabajadas_Por_Semana, Condicion_de_Salud_Mental, Nivel_de_Estres, Calificacion_de_Equilibrio_Trabajo_Vida, Calificacion_de_Aislamiento_Social]\n",
       "Index: []"
      ]
     },
     "execution_count": 61,
     "metadata": {},
     "output_type": "execute_result"
    }
   ],
   "source": [
    "df_survey[df_survey.duplicated(keep=False)]"
   ]
  },
  {
   "cell_type": "code",
   "execution_count": null,
   "id": "d97032f3",
   "metadata": {},
   "outputs": [],
   "source": []
  }
 ],
 "metadata": {
  "kernelspec": {
   "display_name": "Python 3",
   "language": "python",
   "name": "python3"
  },
  "language_info": {
   "codemirror_mode": {
    "name": "ipython",
    "version": 3
   },
   "file_extension": ".py",
   "mimetype": "text/x-python",
   "name": "python",
   "nbconvert_exporter": "python",
   "pygments_lexer": "ipython3",
   "version": "3.12.0"
  }
 },
 "nbformat": 4,
 "nbformat_minor": 5
}
